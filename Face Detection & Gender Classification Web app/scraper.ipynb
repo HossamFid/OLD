{
 "cells": [
  {
   "cell_type": "code",
   "execution_count": 2,
   "id": "25b98af8",
   "metadata": {},
   "outputs": [],
   "source": [
    "# Commented every line, for solid understanding.\n",
    "\n",
    "# import required modules\n",
    "import requests # for get requests\n",
    "from bs4 import BeautifulSoup as bs # for scraping\n",
    "import os # for creating dirs & writing files,\n",
    "\n",
    "\n",
    "Image = 'men' # the required image\n",
    "url = 'https://unsplash.com/search/photos/' + Image # the unsplash api for searching a required image\n",
    "x = 0 # set the var x to 0\n",
    "filePath = 'images/' + Image # file path for the directory\n",
    "\n",
    "# download page for parsing\n",
    "page = requests.get(url) # get the url \n",
    "soup = bs(page.text, 'html.parser') # parse it with beautifulSoup, imported as bs, store it in soup var\n",
    "\n",
    "# locate all elements with image tag\n",
    "image_tags = soup.findAll('img') \n",
    "\n",
    "# create directory for required images\n",
    "if not os.path.exists(filePath): # if the dir doesn't exist\n",
    "    os.makedirs(filePath) # create the dir\n",
    "\n",
    "# move to new directory\n",
    "os.chdir(filePath)\n",
    "\n",
    "# writing images in the created folder\n",
    "for image in image_tags: # for each image in the image_tags array,\n",
    "    try: # go thru this loop\n",
    "        url = image['src'] # set the url variable to the src of the image tags\n",
    "        response = requests.get(url) # go to the url and store it in the response var\n",
    "        if response.status_code == 200: # if the status code === 200\n",
    "            with open(Image + '-' + str(x) + '.jpg', 'wb') as f: # open the image as the mentioned file format, (w for writing, and b for binary)\n",
    "                # as the format is jpg, it needs to be saved as a binary file\n",
    "                # here \"f\" is just a variable assignment\n",
    "                f.write(requests.get(url).content) # get the content of the url and write/save in the created dir\n",
    "                f.close() # stop writing/saving the image\n",
    "                x += 1 # increment x by 1\n",
    "    except: # on excpetion (i.e, status code !== 200, or other errors)\n",
    "        pass # repeat the loop again"
   ]
  },
  {
   "cell_type": "code",
   "execution_count": null,
   "id": "24802986",
   "metadata": {},
   "outputs": [],
   "source": []
  }
 ],
 "metadata": {
  "hide_input": false,
  "kernelspec": {
   "display_name": "Python 3",
   "language": "python",
   "name": "python3"
  },
  "language_info": {
   "codemirror_mode": {
    "name": "ipython",
    "version": 3
   },
   "file_extension": ".py",
   "mimetype": "text/x-python",
   "name": "python",
   "nbconvert_exporter": "python",
   "pygments_lexer": "ipython3",
   "version": "3.9.1"
  }
 },
 "nbformat": 4,
 "nbformat_minor": 5
}
