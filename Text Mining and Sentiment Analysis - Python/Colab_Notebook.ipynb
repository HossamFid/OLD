{
  "nbformat": 4,
  "nbformat_minor": 0,
  "metadata": {
    "colab": {
      "name": "Colab Notebook.ipynb",
      "provenance": [],
      "collapsed_sections": [
        "DHH-1YKcIuRW",
        "0LKMid597qjL",
        "7URUz-xz9otD"
      ],
      "toc_visible": true
    },
    "kernelspec": {
      "name": "python387jvsc74a57bd0acf59f75cb9e70e1ca1c95d85d91fc5c10f6db84a836b13dab680cfa3d83cbbb",
      "display_name": "Python 3.8.7 64-bit"
    }
  },
  "cells": [
    {
      "cell_type": "markdown",
      "metadata": {
        "id": "hXML2GuPHxvg"
      },
      "source": [
        "<img src='https://drive.google.com/uc?export=view&id=1-PExlpxdip_2t7wN9Ru8Sn_jTTxj3MlA' width=100px>\n",
        "\n",
        "<h1>Applied Text Mining and Sentiment Analysis with Python</h1>\n",
        "\n",
        "Welcome! \n",
        "\n",
        "In this course we will discover different applications that can be made of text mining. We are going to use this knowledge to focus on a particular NLP application ... that may be a little less known: Sentiment Analysis! \n",
        "\n",
        "So, if you're ready. Let's go!\n",
        "\n",
        "**PS**: don't hesitate to visit **www.AIOutsider.com** for more content!\n",
        "\n",
        "**PS2**: sometimes, the runtime of Colab might expire. If you see an error, always make sure all the code in previous cells has run correctly. \n",
        "\n"
      ]
    },
    {
      "cell_type": "markdown",
      "metadata": {
        "id": "_H4YR66DPimn"
      },
      "source": [
        "\n",
        "<img src='https://drive.google.com/uc?export=view&id=1GYj-wj-so8jQ9-VDz1ayehgVh39Jmd4H' width=650px>\n",
        "\n",
        "# `Section 1` Dataset Overview\n"
      ]
    },
    {
      "cell_type": "markdown",
      "metadata": {
        "id": "VV1N5kiacX1Z"
      },
      "source": [
        "\r\n",
        "In this section, we are going to have a look at the dataset that we will use all along the course.\r\n",
        "\r\n",
        "***Note***: for optimal course follow-up, you will need a Google Account with the Google Drive functionnality. If you don't have a Google Account, you can create a new one (it's totally *free*) or simply download the dataset ressource and manually upload it to the current session. \r\n",
        "\r\n",
        "If you prefer not to use any Google apps for this course, it's totally fine ... You can simply download this notebook together with the dataset and use them with your favourite IDE (Pycharm / Spyder / Jupyter Notebook / ...)! No constraint here 🙃\r\n",
        "\r\n",
        "... In any case, enjoy!"
      ]
    },
    {
      "cell_type": "markdown",
      "metadata": {
        "id": "k0pwA66BACFH"
      },
      "source": [
        "<img src='https://drive.google.com/uc?export=view&id=1GYj-wj-so8jQ9-VDz1ayehgVh39Jmd4H' width=250px>\r\n",
        "\r\n",
        "## **1.1** Connect to Google Drive\r\n"
      ]
    },
    {
      "cell_type": "markdown",
      "metadata": {
        "id": "NIOIlGVUUm-n"
      },
      "source": [
        "* Initiate the connection with Google Drive"
      ]
    },
    {
      "cell_type": "code",
      "metadata": {
        "id": "cZhLkmUkO59g"
      },
      "source": [
        "# Import PyDrive and associated libraries\n",
        "# This only needs to be done once per notebook\n",
        "#from pydrive.auth import GoogleAuth\n",
        "#from pydrive.drive import GoogleDrive\n",
        "#from google.colab import auth\n",
        "#from oauth2client.client import GoogleCredentials\n",
        "\n",
        "# Authenticate and create the PyDrive client\n",
        "# This only needs to be done once per notebook\n",
        "#auth.authenticate_user()\n",
        "#gauth = GoogleAuth()\n",
        "#gauth.credentials = GoogleCredentials.get_application_default()\n",
        "#drive = GoogleDrive(gauth)"
      ],
      "execution_count": 95,
      "outputs": []
    },
    {
      "cell_type": "markdown",
      "metadata": {
        "id": "SESTuTU_T8WO"
      },
      "source": [
        "* Specify the Google Drive file ID"
      ]
    },
    {
      "cell_type": "code",
      "metadata": {
        "id": "Rxz1za_qBYRt"
      },
      "source": [
        "# Download a file based on its file ID.\n",
        "\n",
        "# A file ID looks like: laggVyWshwcyP6kEI-y_W3P8D26sz\n",
        "#file_id = 'YOUR_FILE_ID' # Check your own ID in GDrive\n",
        "#downloaded = drive.CreateFile({'id': file_id})\n",
        "\n",
        "# Save file in Colab memory\n",
        "#downloaded.GetContentFile('tweet_data.csv')  "
      ],
      "execution_count": 96,
      "outputs": []
    },
    {
      "cell_type": "markdown",
      "metadata": {
        "id": "i8IZvvYyA9sr"
      },
      "source": [
        "<img src='https://drive.google.com/uc?export=view&id=1GYj-wj-so8jQ9-VDz1ayehgVh39Jmd4H' width=250px>\r\n",
        "\r\n",
        "## **1.2** Load and analyze Dataset"
      ]
    },
    {
      "cell_type": "markdown",
      "metadata": {
        "id": "P1SvV_1MAXMq"
      },
      "source": [
        "Very useful packages for Data Analysis. Don't hesitate to visit any of those sites in case you don't get what we are doing.\n",
        "*   `Pandas`: https://pandas.pydata.org/docs/\n",
        "*   `Numpy`: https://numpy.org/doc/\n",
        "\n",
        "\n",
        "\n"
      ]
    },
    {
      "cell_type": "code",
      "metadata": {
        "id": "-K4rZaHvkJhd"
      },
      "source": [
        "import pandas as pd\n",
        "import numpy as np"
      ],
      "execution_count": 97,
      "outputs": []
    },
    {
      "cell_type": "markdown",
      "metadata": {
        "id": "rmpTLrUWAqFI"
      },
      "source": [
        "* Read Dataframe stored in Google Drive under `.csv` format"
      ]
    },
    {
      "cell_type": "code",
      "metadata": {
        "id": "BMVYdAbhkSEv"
      },
      "source": [
        "df = pd.read_csv('tweet_data.csv')"
      ],
      "execution_count": 98,
      "outputs": []
    },
    {
      "cell_type": "markdown",
      "metadata": {
        "id": "nxeev34FBIJH"
      },
      "source": [
        "* Use the `sample` method to look at some random tweets present in our dataset"
      ]
    },
    {
      "cell_type": "code",
      "metadata": {
        "id": "X_ePfKnQkiHh"
      },
      "source": [
        "df.sample(5)\n",
        "# df.sample(n=5)"
      ],
      "execution_count": 99,
      "outputs": [
        {
          "output_type": "execute_result",
          "data": {
            "text/plain": [
              "           textID                                         tweet_text sentiment\n",
              "3507   1961607941                     @celticfish this is a travesty  negative\n",
              "12012  1695163528  @julienviet Propellerheads has been on my hard...  positive\n",
              "879    1957407698                   @siskack what?? can't believe it  negative\n",
              "17276  1753401437   @sanjana_58 I also like 'Aasman ke paar shaayad'  positive\n",
              "11943  1695107915  @MarkIsMusing  - I always appreciate your &quo...  positive"
            ],
            "text/html": "<div>\n<style scoped>\n    .dataframe tbody tr th:only-of-type {\n        vertical-align: middle;\n    }\n\n    .dataframe tbody tr th {\n        vertical-align: top;\n    }\n\n    .dataframe thead th {\n        text-align: right;\n    }\n</style>\n<table border=\"1\" class=\"dataframe\">\n  <thead>\n    <tr style=\"text-align: right;\">\n      <th></th>\n      <th>textID</th>\n      <th>tweet_text</th>\n      <th>sentiment</th>\n    </tr>\n  </thead>\n  <tbody>\n    <tr>\n      <th>3507</th>\n      <td>1961607941</td>\n      <td>@celticfish this is a travesty</td>\n      <td>negative</td>\n    </tr>\n    <tr>\n      <th>12012</th>\n      <td>1695163528</td>\n      <td>@julienviet Propellerheads has been on my hard...</td>\n      <td>positive</td>\n    </tr>\n    <tr>\n      <th>879</th>\n      <td>1957407698</td>\n      <td>@siskack what?? can't believe it</td>\n      <td>negative</td>\n    </tr>\n    <tr>\n      <th>17276</th>\n      <td>1753401437</td>\n      <td>@sanjana_58 I also like 'Aasman ke paar shaayad'</td>\n      <td>positive</td>\n    </tr>\n    <tr>\n      <th>11943</th>\n      <td>1695107915</td>\n      <td>@MarkIsMusing  - I always appreciate your &amp;quo...</td>\n      <td>positive</td>\n    </tr>\n  </tbody>\n</table>\n</div>"
          },
          "metadata": {},
          "execution_count": 99
        }
      ]
    },
    {
      "cell_type": "markdown",
      "metadata": {
        "id": "BKPIS_XzCCkO"
      },
      "source": [
        "* Check how many tweets there are in total"
      ]
    },
    {
      "cell_type": "code",
      "metadata": {
        "id": "-d8KD2RCzBMv"
      },
      "source": [
        "print(\"Number of tweets: {}\".format(len(df)))\n",
        "#df.shape \n",
        "#len(df)"
      ],
      "execution_count": 100,
      "outputs": [
        {
          "output_type": "stream",
          "name": "stdout",
          "text": [
            "Number of tweets: 18727\n"
          ]
        }
      ]
    },
    {
      "cell_type": "markdown",
      "metadata": {
        "id": "US5Uqnn4V1RT"
      },
      "source": [
        "* Print a tweet and its sentiment based on a tweet ID"
      ]
    },
    {
      "cell_type": "code",
      "metadata": {
        "id": "UeDUPoASy8Bh"
      },
      "source": [
        "tweet_id = 4879\n",
        "tweet = df.iloc[tweet_id]\n",
        "print(tweet)\n"
      ],
      "execution_count": 101,
      "outputs": [
        {
          "output_type": "stream",
          "name": "stdout",
          "text": [
            "textID                                               1962864572\ntweet_text    Bad Day. History Test Tommorrow. And I want to...\nsentiment                                              negative\nName: 4879, dtype: object\n"
          ]
        }
      ]
    },
    {
      "cell_type": "code",
      "execution_count": 102,
      "metadata": {},
      "outputs": [
        {
          "output_type": "execute_result",
          "data": {
            "text/plain": [
              "tweet_text    @BeanJuce thanks, feeling good and off to New ...\n",
              "sentiment                                              positive\n",
              "Name: 17153, dtype: object"
            ]
          },
          "metadata": {},
          "execution_count": 102
        }
      ],
      "source": [
        "import random \n",
        "tweet_id = random.randint(0,len(df))\n",
        "tweet = df.iloc[tweet_id]\n",
        "tweet[['tweet_text','sentiment']]"
      ]
    },
    {
      "cell_type": "code",
      "metadata": {
        "id": "nKuB8wZ4ftXE"
      },
      "source": [
        "print(\"Tweet: {}\".format(tweet['tweet_text']))\n",
        "print(\"Tweet sentiment: {}\".format(tweet['sentiment']))"
      ],
      "execution_count": 103,
      "outputs": [
        {
          "output_type": "stream",
          "name": "stdout",
          "text": [
            "Tweet: @BeanJuce thanks, feeling good and off to New Forest later\nTweet sentiment: positive\n"
          ]
        }
      ]
    },
    {
      "cell_type": "markdown",
      "metadata": {
        "id": "k2QDfi2dWWFK"
      },
      "source": [
        "<img src='https://drive.google.com/uc?export=view&id=1GYj-wj-so8jQ9-VDz1ayehgVh39Jmd4H' width=250px>\r\n",
        "\r\n",
        "## **1.3** Dataset Visualization"
      ]
    },
    {
      "cell_type": "markdown",
      "metadata": {
        "id": "QDpxKjeZQcKE"
      },
      "source": [
        "### <img src='https://drive.google.com/uc?export=view&id=1aAdtCrMe6SORoGAGtjOVM0UIxDFH9Thq' width=50px> **1.3.1** Matplotlib</h4>"
      ]
    },
    {
      "cell_type": "markdown",
      "metadata": {
        "id": "2DPCRFyGCuMc"
      },
      "source": [
        "* Import the `pyplot` module from the matplotlib package "
      ]
    },
    {
      "cell_type": "code",
      "metadata": {
        "id": "Fb79SIovB06O"
      },
      "source": [
        "import matplotlib.pyplot as plt"
      ],
      "execution_count": 104,
      "outputs": []
    },
    {
      "cell_type": "markdown",
      "metadata": {
        "id": "-sMh0LQRV_Da"
      },
      "source": [
        "* `pyplot` helps understanding and representing how tweets are distributed over the dataset"
      ]
    },
    {
      "cell_type": "code",
      "metadata": {
        "id": "ya7k2TcylAbp"
      },
      "source": [
        "pos_neg = df['sentiment'].value_counts()\n",
        "plt.pie(pos_neg, labels=pos_neg.index, autopct='%1.1f%%', startangle=140,shadow=True)\n",
        "plt.show()\n",
        "#df['sentiment'].value_counts()\n",
        "#plt.pie(post_neg , lables =pos_neg.index ,autopct='%1.1f%%', startangle=50,shadow=False)"
      ],
      "execution_count": 105,
      "outputs": [
        {
          "output_type": "display_data",
          "data": {
            "text/plain": "<Figure size 432x288 with 1 Axes>",
            "image/svg+xml": "<?xml version=\"1.0\" encoding=\"utf-8\" standalone=\"no\"?>\r\n<!DOCTYPE svg PUBLIC \"-//W3C//DTD SVG 1.1//EN\"\r\n  \"http://www.w3.org/Graphics/SVG/1.1/DTD/svg11.dtd\">\r\n<!-- Created with matplotlib (https://matplotlib.org/) -->\r\n<svg height=\"231.84pt\" version=\"1.1\" viewBox=\"0 0 231.84 231.84\" width=\"231.84pt\" xmlns=\"http://www.w3.org/2000/svg\" xmlns:xlink=\"http://www.w3.org/1999/xlink\">\r\n <metadata>\r\n  <rdf:RDF xmlns:cc=\"http://creativecommons.org/ns#\" xmlns:dc=\"http://purl.org/dc/elements/1.1/\" xmlns:rdf=\"http://www.w3.org/1999/02/22-rdf-syntax-ns#\">\r\n   <cc:Work>\r\n    <dc:type rdf:resource=\"http://purl.org/dc/dcmitype/StillImage\"/>\r\n    <dc:date>2021-05-08T00:47:15.904173</dc:date>\r\n    <dc:format>image/svg+xml</dc:format>\r\n    <dc:creator>\r\n     <cc:Agent>\r\n      <dc:title>Matplotlib v3.3.4, https://matplotlib.org/</dc:title>\r\n     </cc:Agent>\r\n    </dc:creator>\r\n   </cc:Work>\r\n  </rdf:RDF>\r\n </metadata>\r\n <defs>\r\n  <style type=\"text/css\">*{stroke-linecap:butt;stroke-linejoin:round;}</style>\r\n </defs>\r\n <g id=\"figure_1\">\r\n  <g id=\"patch_1\">\r\n   <path d=\"M 0 231.84 \r\nL 231.84 231.84 \r\nL 231.84 0 \r\nL 0 0 \r\nz\r\n\" style=\"fill:none;\"/>\r\n  </g>\r\n  <g id=\"axes_1\">\r\n   <g id=\"patch_2\">\r\n    <path d=\"M 47.552999 61.752425 \r\nC 39.790153 71.003824 34.038596 81.771455 30.665615 93.367711 \r\nC 27.292635 104.963968 26.371589 117.13664 27.961296 129.108398 \r\nC 29.551002 141.080156 33.616886 152.590624 39.899305 162.904759 \r\nC 46.181724 173.218893 54.544041 182.11237 64.45225 189.017264 \r\nC 74.360458 195.922159 85.599063 200.688294 97.450381 203.011312 \r\nC 109.3017 205.33433 121.507975 205.163706 133.289732 202.510336 \r\nC 145.071489 199.856967 156.172483 194.778561 165.88382 187.599417 \r\nC 175.595156 180.420274 183.705622 171.296535 189.697294 160.810828 \r\nL 114.18048 117.65952 \r\nL 47.552999 61.752425 \r\nz\r\n\" style=\"fill:#092436;opacity:0.5;stroke:#092436;stroke-linejoin:miter;\"/>\r\n   </g>\r\n   <g id=\"patch_3\">\r\n    <path d=\"M 189.697294 160.810828 \r\nC 200.470802 141.956683 203.802269 119.734816 199.031296 98.550268 \r\nC 194.260324 77.365719 181.724468 58.717332 163.90871 46.301776 \r\nC 146.092952 33.886219 124.257788 28.581915 102.731602 31.440336 \r\nC 81.205415 34.298756 61.511221 45.117663 47.552999 61.752425 \r\nL 114.18048 117.65952 \r\nL 189.697294 160.810828 \r\nz\r\n\" style=\"fill:#4c2604;opacity:0.5;stroke:#4c2604;stroke-linejoin:miter;\"/>\r\n   </g>\r\n   <g id=\"patch_4\">\r\n    <path d=\"M 49.292519 60.012905 \r\nC 41.529673 69.264304 35.778116 80.031935 32.405135 91.628191 \r\nC 29.032155 103.224448 28.111109 115.39712 29.700816 127.368878 \r\nC 31.290522 139.340636 35.356406 150.851104 41.638825 161.165239 \r\nC 47.921244 171.479373 56.283561 180.37285 66.19177 187.277744 \r\nC 76.099978 194.182639 87.338583 198.948774 99.189901 201.271792 \r\nC 111.04122 203.59481 123.247495 203.424186 135.029252 200.770816 \r\nC 146.811009 198.117447 157.912003 193.039041 167.62334 185.859897 \r\nC 177.334676 178.680754 185.445142 169.557015 191.436814 159.071308 \r\nL 115.92 115.92 \r\nL 49.292519 60.012905 \r\nz\r\n\" style=\"fill:#1f77b4;\"/>\r\n   </g>\r\n   <g id=\"patch_5\">\r\n    <path d=\"M 191.436814 159.071308 \r\nC 202.210322 140.217163 205.541789 117.995296 200.770816 96.810748 \r\nC 195.999844 75.626199 183.463988 56.977812 165.64823 44.562256 \r\nC 147.832472 32.146699 125.997308 26.842395 104.471122 29.700816 \r\nC 82.944935 32.559236 63.250741 43.378143 49.292519 60.012905 \r\nL 115.92 115.92 \r\nL 191.436814 159.071308 \r\nz\r\n\" style=\"fill:#ff7f0e;\"/>\r\n   </g>\r\n   <g id=\"matplotlib.axis_1\"/>\r\n   <g id=\"matplotlib.axis_2\"/>\r\n   <g id=\"text_1\">\r\n    <!-- positive -->\r\n    <g transform=\"translate(21.993947 197.172894)scale(0.1 -0.1)\">\r\n     <defs>\r\n      <path d=\"M 18.109375 8.203125 \r\nL 18.109375 -20.796875 \r\nL 9.078125 -20.796875 \r\nL 9.078125 54.6875 \r\nL 18.109375 54.6875 \r\nL 18.109375 46.390625 \r\nQ 20.953125 51.265625 25.265625 53.625 \r\nQ 29.59375 56 35.59375 56 \r\nQ 45.5625 56 51.78125 48.09375 \r\nQ 58.015625 40.1875 58.015625 27.296875 \r\nQ 58.015625 14.40625 51.78125 6.484375 \r\nQ 45.5625 -1.421875 35.59375 -1.421875 \r\nQ 29.59375 -1.421875 25.265625 0.953125 \r\nQ 20.953125 3.328125 18.109375 8.203125 \r\nz\r\nM 48.6875 27.296875 \r\nQ 48.6875 37.203125 44.609375 42.84375 \r\nQ 40.53125 48.484375 33.40625 48.484375 \r\nQ 26.265625 48.484375 22.1875 42.84375 \r\nQ 18.109375 37.203125 18.109375 27.296875 \r\nQ 18.109375 17.390625 22.1875 11.75 \r\nQ 26.265625 6.109375 33.40625 6.109375 \r\nQ 40.53125 6.109375 44.609375 11.75 \r\nQ 48.6875 17.390625 48.6875 27.296875 \r\nz\r\n\" id=\"DejaVuSans-112\"/>\r\n      <path d=\"M 30.609375 48.390625 \r\nQ 23.390625 48.390625 19.1875 42.75 \r\nQ 14.984375 37.109375 14.984375 27.296875 \r\nQ 14.984375 17.484375 19.15625 11.84375 \r\nQ 23.34375 6.203125 30.609375 6.203125 \r\nQ 37.796875 6.203125 41.984375 11.859375 \r\nQ 46.1875 17.53125 46.1875 27.296875 \r\nQ 46.1875 37.015625 41.984375 42.703125 \r\nQ 37.796875 48.390625 30.609375 48.390625 \r\nz\r\nM 30.609375 56 \r\nQ 42.328125 56 49.015625 48.375 \r\nQ 55.71875 40.765625 55.71875 27.296875 \r\nQ 55.71875 13.875 49.015625 6.21875 \r\nQ 42.328125 -1.421875 30.609375 -1.421875 \r\nQ 18.84375 -1.421875 12.171875 6.21875 \r\nQ 5.515625 13.875 5.515625 27.296875 \r\nQ 5.515625 40.765625 12.171875 48.375 \r\nQ 18.84375 56 30.609375 56 \r\nz\r\n\" id=\"DejaVuSans-111\"/>\r\n      <path d=\"M 44.28125 53.078125 \r\nL 44.28125 44.578125 \r\nQ 40.484375 46.53125 36.375 47.5 \r\nQ 32.28125 48.484375 27.875 48.484375 \r\nQ 21.1875 48.484375 17.84375 46.4375 \r\nQ 14.5 44.390625 14.5 40.28125 \r\nQ 14.5 37.15625 16.890625 35.375 \r\nQ 19.28125 33.59375 26.515625 31.984375 \r\nL 29.59375 31.296875 \r\nQ 39.15625 29.25 43.1875 25.515625 \r\nQ 47.21875 21.78125 47.21875 15.09375 \r\nQ 47.21875 7.46875 41.1875 3.015625 \r\nQ 35.15625 -1.421875 24.609375 -1.421875 \r\nQ 20.21875 -1.421875 15.453125 -0.5625 \r\nQ 10.6875 0.296875 5.421875 2 \r\nL 5.421875 11.28125 \r\nQ 10.40625 8.6875 15.234375 7.390625 \r\nQ 20.0625 6.109375 24.8125 6.109375 \r\nQ 31.15625 6.109375 34.5625 8.28125 \r\nQ 37.984375 10.453125 37.984375 14.40625 \r\nQ 37.984375 18.0625 35.515625 20.015625 \r\nQ 33.0625 21.96875 24.703125 23.78125 \r\nL 21.578125 24.515625 \r\nQ 13.234375 26.265625 9.515625 29.90625 \r\nQ 5.8125 33.546875 5.8125 39.890625 \r\nQ 5.8125 47.609375 11.28125 51.796875 \r\nQ 16.75 56 26.8125 56 \r\nQ 31.78125 56 36.171875 55.265625 \r\nQ 40.578125 54.546875 44.28125 53.078125 \r\nz\r\n\" id=\"DejaVuSans-115\"/>\r\n      <path d=\"M 9.421875 54.6875 \r\nL 18.40625 54.6875 \r\nL 18.40625 0 \r\nL 9.421875 0 \r\nz\r\nM 9.421875 75.984375 \r\nL 18.40625 75.984375 \r\nL 18.40625 64.59375 \r\nL 9.421875 64.59375 \r\nz\r\n\" id=\"DejaVuSans-105\"/>\r\n      <path d=\"M 18.3125 70.21875 \r\nL 18.3125 54.6875 \r\nL 36.8125 54.6875 \r\nL 36.8125 47.703125 \r\nL 18.3125 47.703125 \r\nL 18.3125 18.015625 \r\nQ 18.3125 11.328125 20.140625 9.421875 \r\nQ 21.96875 7.515625 27.59375 7.515625 \r\nL 36.8125 7.515625 \r\nL 36.8125 0 \r\nL 27.59375 0 \r\nQ 17.1875 0 13.234375 3.875 \r\nQ 9.28125 7.765625 9.28125 18.015625 \r\nL 9.28125 47.703125 \r\nL 2.6875 47.703125 \r\nL 2.6875 54.6875 \r\nL 9.28125 54.6875 \r\nL 9.28125 70.21875 \r\nz\r\n\" id=\"DejaVuSans-116\"/>\r\n      <path d=\"M 2.984375 54.6875 \r\nL 12.5 54.6875 \r\nL 29.59375 8.796875 \r\nL 46.6875 54.6875 \r\nL 56.203125 54.6875 \r\nL 35.6875 0 \r\nL 23.484375 0 \r\nz\r\n\" id=\"DejaVuSans-118\"/>\r\n      <path d=\"M 56.203125 29.59375 \r\nL 56.203125 25.203125 \r\nL 14.890625 25.203125 \r\nQ 15.484375 15.921875 20.484375 11.0625 \r\nQ 25.484375 6.203125 34.421875 6.203125 \r\nQ 39.59375 6.203125 44.453125 7.46875 \r\nQ 49.3125 8.734375 54.109375 11.28125 \r\nL 54.109375 2.78125 \r\nQ 49.265625 0.734375 44.1875 -0.34375 \r\nQ 39.109375 -1.421875 33.890625 -1.421875 \r\nQ 20.796875 -1.421875 13.15625 6.1875 \r\nQ 5.515625 13.8125 5.515625 26.8125 \r\nQ 5.515625 40.234375 12.765625 48.109375 \r\nQ 20.015625 56 32.328125 56 \r\nQ 43.359375 56 49.78125 48.890625 \r\nQ 56.203125 41.796875 56.203125 29.59375 \r\nz\r\nM 47.21875 32.234375 \r\nQ 47.125 39.59375 43.09375 43.984375 \r\nQ 39.0625 48.390625 32.421875 48.390625 \r\nQ 24.90625 48.390625 20.390625 44.140625 \r\nQ 15.875 39.890625 15.1875 32.171875 \r\nz\r\n\" id=\"DejaVuSans-101\"/>\r\n     </defs>\r\n     <use xlink:href=\"#DejaVuSans-112\"/>\r\n     <use x=\"63.476562\" xlink:href=\"#DejaVuSans-111\"/>\r\n     <use x=\"124.658203\" xlink:href=\"#DejaVuSans-115\"/>\r\n     <use x=\"176.757812\" xlink:href=\"#DejaVuSans-105\"/>\r\n     <use x=\"204.541016\" xlink:href=\"#DejaVuSans-116\"/>\r\n     <use x=\"243.75\" xlink:href=\"#DejaVuSans-105\"/>\r\n     <use x=\"271.533203\" xlink:href=\"#DejaVuSans-118\"/>\r\n     <use x=\"330.712891\" xlink:href=\"#DejaVuSans-101\"/>\r\n    </g>\r\n   </g>\r\n   <g id=\"text_2\">\r\n    <!-- 52.8% -->\r\n    <g transform=\"translate(70.199468 161.494022)scale(0.1 -0.1)\">\r\n     <defs>\r\n      <path d=\"M 10.796875 72.90625 \r\nL 49.515625 72.90625 \r\nL 49.515625 64.59375 \r\nL 19.828125 64.59375 \r\nL 19.828125 46.734375 \r\nQ 21.96875 47.46875 24.109375 47.828125 \r\nQ 26.265625 48.1875 28.421875 48.1875 \r\nQ 40.625 48.1875 47.75 41.5 \r\nQ 54.890625 34.8125 54.890625 23.390625 \r\nQ 54.890625 11.625 47.5625 5.09375 \r\nQ 40.234375 -1.421875 26.90625 -1.421875 \r\nQ 22.3125 -1.421875 17.546875 -0.640625 \r\nQ 12.796875 0.140625 7.71875 1.703125 \r\nL 7.71875 11.625 \r\nQ 12.109375 9.234375 16.796875 8.0625 \r\nQ 21.484375 6.890625 26.703125 6.890625 \r\nQ 35.15625 6.890625 40.078125 11.328125 \r\nQ 45.015625 15.765625 45.015625 23.390625 \r\nQ 45.015625 31 40.078125 35.4375 \r\nQ 35.15625 39.890625 26.703125 39.890625 \r\nQ 22.75 39.890625 18.8125 39.015625 \r\nQ 14.890625 38.140625 10.796875 36.28125 \r\nz\r\n\" id=\"DejaVuSans-53\"/>\r\n      <path d=\"M 19.1875 8.296875 \r\nL 53.609375 8.296875 \r\nL 53.609375 0 \r\nL 7.328125 0 \r\nL 7.328125 8.296875 \r\nQ 12.9375 14.109375 22.625 23.890625 \r\nQ 32.328125 33.6875 34.8125 36.53125 \r\nQ 39.546875 41.84375 41.421875 45.53125 \r\nQ 43.3125 49.21875 43.3125 52.78125 \r\nQ 43.3125 58.59375 39.234375 62.25 \r\nQ 35.15625 65.921875 28.609375 65.921875 \r\nQ 23.96875 65.921875 18.8125 64.3125 \r\nQ 13.671875 62.703125 7.8125 59.421875 \r\nL 7.8125 69.390625 \r\nQ 13.765625 71.78125 18.9375 73 \r\nQ 24.125 74.21875 28.421875 74.21875 \r\nQ 39.75 74.21875 46.484375 68.546875 \r\nQ 53.21875 62.890625 53.21875 53.421875 \r\nQ 53.21875 48.921875 51.53125 44.890625 \r\nQ 49.859375 40.875 45.40625 35.40625 \r\nQ 44.1875 33.984375 37.640625 27.21875 \r\nQ 31.109375 20.453125 19.1875 8.296875 \r\nz\r\n\" id=\"DejaVuSans-50\"/>\r\n      <path d=\"M 10.6875 12.40625 \r\nL 21 12.40625 \r\nL 21 0 \r\nL 10.6875 0 \r\nz\r\n\" id=\"DejaVuSans-46\"/>\r\n      <path d=\"M 31.78125 34.625 \r\nQ 24.75 34.625 20.71875 30.859375 \r\nQ 16.703125 27.09375 16.703125 20.515625 \r\nQ 16.703125 13.921875 20.71875 10.15625 \r\nQ 24.75 6.390625 31.78125 6.390625 \r\nQ 38.8125 6.390625 42.859375 10.171875 \r\nQ 46.921875 13.96875 46.921875 20.515625 \r\nQ 46.921875 27.09375 42.890625 30.859375 \r\nQ 38.875 34.625 31.78125 34.625 \r\nz\r\nM 21.921875 38.8125 \r\nQ 15.578125 40.375 12.03125 44.71875 \r\nQ 8.5 49.078125 8.5 55.328125 \r\nQ 8.5 64.0625 14.71875 69.140625 \r\nQ 20.953125 74.21875 31.78125 74.21875 \r\nQ 42.671875 74.21875 48.875 69.140625 \r\nQ 55.078125 64.0625 55.078125 55.328125 \r\nQ 55.078125 49.078125 51.53125 44.71875 \r\nQ 48 40.375 41.703125 38.8125 \r\nQ 48.828125 37.15625 52.796875 32.3125 \r\nQ 56.78125 27.484375 56.78125 20.515625 \r\nQ 56.78125 9.90625 50.3125 4.234375 \r\nQ 43.84375 -1.421875 31.78125 -1.421875 \r\nQ 19.734375 -1.421875 13.25 4.234375 \r\nQ 6.78125 9.90625 6.78125 20.515625 \r\nQ 6.78125 27.484375 10.78125 32.3125 \r\nQ 14.796875 37.15625 21.921875 38.8125 \r\nz\r\nM 18.3125 54.390625 \r\nQ 18.3125 48.734375 21.84375 45.5625 \r\nQ 25.390625 42.390625 31.78125 42.390625 \r\nQ 38.140625 42.390625 41.71875 45.5625 \r\nQ 45.3125 48.734375 45.3125 54.390625 \r\nQ 45.3125 60.0625 41.71875 63.234375 \r\nQ 38.140625 66.40625 31.78125 66.40625 \r\nQ 25.390625 66.40625 21.84375 63.234375 \r\nQ 18.3125 60.0625 18.3125 54.390625 \r\nz\r\n\" id=\"DejaVuSans-56\"/>\r\n      <path d=\"M 72.703125 32.078125 \r\nQ 68.453125 32.078125 66.03125 28.46875 \r\nQ 63.625 24.859375 63.625 18.40625 \r\nQ 63.625 12.0625 66.03125 8.421875 \r\nQ 68.453125 4.78125 72.703125 4.78125 \r\nQ 76.859375 4.78125 79.265625 8.421875 \r\nQ 81.6875 12.0625 81.6875 18.40625 \r\nQ 81.6875 24.8125 79.265625 28.4375 \r\nQ 76.859375 32.078125 72.703125 32.078125 \r\nz\r\nM 72.703125 38.28125 \r\nQ 80.421875 38.28125 84.953125 32.90625 \r\nQ 89.5 27.546875 89.5 18.40625 \r\nQ 89.5 9.28125 84.9375 3.921875 \r\nQ 80.375 -1.421875 72.703125 -1.421875 \r\nQ 64.890625 -1.421875 60.34375 3.921875 \r\nQ 55.8125 9.28125 55.8125 18.40625 \r\nQ 55.8125 27.59375 60.375 32.9375 \r\nQ 64.9375 38.28125 72.703125 38.28125 \r\nz\r\nM 22.3125 68.015625 \r\nQ 18.109375 68.015625 15.6875 64.375 \r\nQ 13.28125 60.75 13.28125 54.390625 \r\nQ 13.28125 47.953125 15.671875 44.328125 \r\nQ 18.0625 40.71875 22.3125 40.71875 \r\nQ 26.5625 40.71875 28.96875 44.328125 \r\nQ 31.390625 47.953125 31.390625 54.390625 \r\nQ 31.390625 60.6875 28.953125 64.34375 \r\nQ 26.515625 68.015625 22.3125 68.015625 \r\nz\r\nM 66.40625 74.21875 \r\nL 74.21875 74.21875 \r\nL 28.609375 -1.421875 \r\nL 20.796875 -1.421875 \r\nz\r\nM 22.3125 74.21875 \r\nQ 30.03125 74.21875 34.609375 68.875 \r\nQ 39.203125 63.53125 39.203125 54.390625 \r\nQ 39.203125 45.171875 34.640625 39.84375 \r\nQ 30.078125 34.515625 22.3125 34.515625 \r\nQ 14.546875 34.515625 10.03125 39.859375 \r\nQ 5.515625 45.21875 5.515625 54.390625 \r\nQ 5.515625 63.484375 10.046875 68.84375 \r\nQ 14.59375 74.21875 22.3125 74.21875 \r\nz\r\n\" id=\"DejaVuSans-37\"/>\r\n     </defs>\r\n     <use xlink:href=\"#DejaVuSans-53\"/>\r\n     <use x=\"63.623047\" xlink:href=\"#DejaVuSans-50\"/>\r\n     <use x=\"127.246094\" xlink:href=\"#DejaVuSans-46\"/>\r\n     <use x=\"159.033203\" xlink:href=\"#DejaVuSans-56\"/>\r\n     <use x=\"222.65625\" xlink:href=\"#DejaVuSans-37\"/>\r\n    </g>\r\n   </g>\r\n   <g id=\"text_3\">\r\n    <!-- negative -->\r\n    <g transform=\"translate(170.621053 40.185856)scale(0.1 -0.1)\">\r\n     <defs>\r\n      <path d=\"M 54.890625 33.015625 \r\nL 54.890625 0 \r\nL 45.90625 0 \r\nL 45.90625 32.71875 \r\nQ 45.90625 40.484375 42.875 44.328125 \r\nQ 39.84375 48.1875 33.796875 48.1875 \r\nQ 26.515625 48.1875 22.3125 43.546875 \r\nQ 18.109375 38.921875 18.109375 30.90625 \r\nL 18.109375 0 \r\nL 9.078125 0 \r\nL 9.078125 54.6875 \r\nL 18.109375 54.6875 \r\nL 18.109375 46.1875 \r\nQ 21.34375 51.125 25.703125 53.5625 \r\nQ 30.078125 56 35.796875 56 \r\nQ 45.21875 56 50.046875 50.171875 \r\nQ 54.890625 44.34375 54.890625 33.015625 \r\nz\r\n\" id=\"DejaVuSans-110\"/>\r\n      <path d=\"M 45.40625 27.984375 \r\nQ 45.40625 37.75 41.375 43.109375 \r\nQ 37.359375 48.484375 30.078125 48.484375 \r\nQ 22.859375 48.484375 18.828125 43.109375 \r\nQ 14.796875 37.75 14.796875 27.984375 \r\nQ 14.796875 18.265625 18.828125 12.890625 \r\nQ 22.859375 7.515625 30.078125 7.515625 \r\nQ 37.359375 7.515625 41.375 12.890625 \r\nQ 45.40625 18.265625 45.40625 27.984375 \r\nz\r\nM 54.390625 6.78125 \r\nQ 54.390625 -7.171875 48.1875 -13.984375 \r\nQ 42 -20.796875 29.203125 -20.796875 \r\nQ 24.46875 -20.796875 20.265625 -20.09375 \r\nQ 16.0625 -19.390625 12.109375 -17.921875 \r\nL 12.109375 -9.1875 \r\nQ 16.0625 -11.328125 19.921875 -12.34375 \r\nQ 23.78125 -13.375 27.78125 -13.375 \r\nQ 36.625 -13.375 41.015625 -8.765625 \r\nQ 45.40625 -4.15625 45.40625 5.171875 \r\nL 45.40625 9.625 \r\nQ 42.625 4.78125 38.28125 2.390625 \r\nQ 33.9375 0 27.875 0 \r\nQ 17.828125 0 11.671875 7.65625 \r\nQ 5.515625 15.328125 5.515625 27.984375 \r\nQ 5.515625 40.671875 11.671875 48.328125 \r\nQ 17.828125 56 27.875 56 \r\nQ 33.9375 56 38.28125 53.609375 \r\nQ 42.625 51.21875 45.40625 46.390625 \r\nL 45.40625 54.6875 \r\nL 54.390625 54.6875 \r\nz\r\n\" id=\"DejaVuSans-103\"/>\r\n      <path d=\"M 34.28125 27.484375 \r\nQ 23.390625 27.484375 19.1875 25 \r\nQ 14.984375 22.515625 14.984375 16.5 \r\nQ 14.984375 11.71875 18.140625 8.90625 \r\nQ 21.296875 6.109375 26.703125 6.109375 \r\nQ 34.1875 6.109375 38.703125 11.40625 \r\nQ 43.21875 16.703125 43.21875 25.484375 \r\nL 43.21875 27.484375 \r\nz\r\nM 52.203125 31.203125 \r\nL 52.203125 0 \r\nL 43.21875 0 \r\nL 43.21875 8.296875 \r\nQ 40.140625 3.328125 35.546875 0.953125 \r\nQ 30.953125 -1.421875 24.3125 -1.421875 \r\nQ 15.921875 -1.421875 10.953125 3.296875 \r\nQ 6 8.015625 6 15.921875 \r\nQ 6 25.140625 12.171875 29.828125 \r\nQ 18.359375 34.515625 30.609375 34.515625 \r\nL 43.21875 34.515625 \r\nL 43.21875 35.40625 \r\nQ 43.21875 41.609375 39.140625 45 \r\nQ 35.0625 48.390625 27.6875 48.390625 \r\nQ 23 48.390625 18.546875 47.265625 \r\nQ 14.109375 46.140625 10.015625 43.890625 \r\nL 10.015625 52.203125 \r\nQ 14.9375 54.109375 19.578125 55.046875 \r\nQ 24.21875 56 28.609375 56 \r\nQ 40.484375 56 46.34375 49.84375 \r\nQ 52.203125 43.703125 52.203125 31.203125 \r\nz\r\n\" id=\"DejaVuSans-97\"/>\r\n     </defs>\r\n     <use xlink:href=\"#DejaVuSans-110\"/>\r\n     <use x=\"63.378906\" xlink:href=\"#DejaVuSans-101\"/>\r\n     <use x=\"124.902344\" xlink:href=\"#DejaVuSans-103\"/>\r\n     <use x=\"188.378906\" xlink:href=\"#DejaVuSans-97\"/>\r\n     <use x=\"249.658203\" xlink:href=\"#DejaVuSans-116\"/>\r\n     <use x=\"288.867188\" xlink:href=\"#DejaVuSans-105\"/>\r\n     <use x=\"316.650391\" xlink:href=\"#DejaVuSans-118\"/>\r\n     <use x=\"375.830078\" xlink:href=\"#DejaVuSans-101\"/>\r\n    </g>\r\n   </g>\r\n   <g id=\"text_4\">\r\n    <!-- 47.2% -->\r\n    <g transform=\"translate(129.873344 75.864728)scale(0.1 -0.1)\">\r\n     <defs>\r\n      <path d=\"M 37.796875 64.3125 \r\nL 12.890625 25.390625 \r\nL 37.796875 25.390625 \r\nz\r\nM 35.203125 72.90625 \r\nL 47.609375 72.90625 \r\nL 47.609375 25.390625 \r\nL 58.015625 25.390625 \r\nL 58.015625 17.1875 \r\nL 47.609375 17.1875 \r\nL 47.609375 0 \r\nL 37.796875 0 \r\nL 37.796875 17.1875 \r\nL 4.890625 17.1875 \r\nL 4.890625 26.703125 \r\nz\r\n\" id=\"DejaVuSans-52\"/>\r\n      <path d=\"M 8.203125 72.90625 \r\nL 55.078125 72.90625 \r\nL 55.078125 68.703125 \r\nL 28.609375 0 \r\nL 18.3125 0 \r\nL 43.21875 64.59375 \r\nL 8.203125 64.59375 \r\nz\r\n\" id=\"DejaVuSans-55\"/>\r\n     </defs>\r\n     <use xlink:href=\"#DejaVuSans-52\"/>\r\n     <use x=\"63.623047\" xlink:href=\"#DejaVuSans-55\"/>\r\n     <use x=\"127.246094\" xlink:href=\"#DejaVuSans-46\"/>\r\n     <use x=\"159.033203\" xlink:href=\"#DejaVuSans-50\"/>\r\n     <use x=\"222.65625\" xlink:href=\"#DejaVuSans-37\"/>\r\n    </g>\r\n   </g>\r\n  </g>\r\n </g>\r\n</svg>\r\n",
            "image/png": "[encoded data removed]"
          },
          "metadata": {}
        }
      ]
    },
    {
      "cell_type": "markdown",
      "metadata": {
        "id": "xFvGFDbFRZGK"
      },
      "source": [
        "* Print the count of positive and negative tweets"
      ]
    },
    {
      "cell_type": "code",
      "metadata": {
        "id": "MlwWqCohC87z"
      },
      "source": [
        "print(\"Number of + tweets: {}\".format(df[df[\"sentiment\"]==\"positive\"].count()[0]))\n",
        "print(\"Number of - tweets: {}\".format(df[df[\"sentiment\"]==\"negative\"].count()[0]))\n"
      ],
      "execution_count": 106,
      "outputs": [
        {
          "output_type": "stream",
          "name": "stdout",
          "text": [
            "Number of + tweets: 9897\nNumber of - tweets: 8830\n"
          ]
        }
      ]
    },
    {
      "cell_type": "code",
      "execution_count": 107,
      "metadata": {},
      "outputs": [
        {
          "output_type": "execute_result",
          "data": {
            "text/plain": [
              "          sentiment\n",
              "positive       9897\n",
              "negative       8830"
            ],
            "text/html": "<div>\n<style scoped>\n    .dataframe tbody tr th:only-of-type {\n        vertical-align: middle;\n    }\n\n    .dataframe tbody tr th {\n        vertical-align: top;\n    }\n\n    .dataframe thead th {\n        text-align: right;\n    }\n</style>\n<table border=\"1\" class=\"dataframe\">\n  <thead>\n    <tr style=\"text-align: right;\">\n      <th></th>\n      <th>sentiment</th>\n    </tr>\n  </thead>\n  <tbody>\n    <tr>\n      <th>positive</th>\n      <td>9897</td>\n    </tr>\n    <tr>\n      <th>negative</th>\n      <td>8830</td>\n    </tr>\n  </tbody>\n</table>\n</div>"
          },
          "metadata": {},
          "execution_count": 107
        }
      ],
      "source": [
        "df['sentiment'].value_counts().to_frame()"
      ]
    },
    {
      "cell_type": "code",
      "execution_count": 108,
      "metadata": {},
      "outputs": [
        {
          "output_type": "execute_result",
          "data": {
            "text/plain": [
              "9897"
            ]
          },
          "metadata": {},
          "execution_count": 108
        }
      ],
      "source": [
        "df[df['sentiment'] == 'positive'].count()[0]"
      ]
    },
    {
      "cell_type": "markdown",
      "metadata": {
        "id": "jcXAMS4bQjGM"
      },
      "source": [
        "### <img src='https://drive.google.com/uc?export=view&id=1aAdtCrMe6SORoGAGtjOVM0UIxDFH9Thq' width=50px> **1.3.2** Wordclouds"
      ]
    },
    {
      "cell_type": "markdown",
      "metadata": {
        "id": "vTIV2ElsBhZk"
      },
      "source": [
        "* The `Wordclouds` package is very useful to get a quick overview of most recurrent words in the text corpus"
      ]
    },
    {
      "cell_type": "code",
      "metadata": {
        "id": "LiME9k4uBxix"
      },
      "source": [
        "#!pip install wordcloud\n",
        "from wordcloud import WordCloud"
      ],
      "execution_count": 109,
      "outputs": []
    },
    {
      "cell_type": "markdown",
      "metadata": {
        "id": "Stf9-UtnNloU"
      },
      "source": [
        "* What are the words most often present in positive tweets?"
      ]
    },
    {
      "cell_type": "code",
      "metadata": {
        "id": "fW3YNWHwwYdP"
      },
      "source": [
        "pos_tweets = df[df['sentiment'] == 'positive']\n",
        "text = \" \".join(word.lower() for word in pos_tweets['tweet_text'])\n",
        "cloud = WordCloud().generate(text)\n",
        "plt.imshow(cloud,interpolation=\"bilinear\")\n",
        "plt.axis('off')\n",
        "plt.show()\n"
      ],
      "execution_count": 110,
      "outputs": [
        {
          "output_type": "display_data",
          "data": {
            "text/plain": "<Figure size 432x288 with 1 Axes>",
            "image/svg+xml": "<?xml version=\"1.0\" encoding=\"utf-8\" standalone=\"no\"?>\r\n<!DOCTYPE svg PUBLIC \"-//W3C//DTD SVG 1.1//EN\"\r\n  \"http://www.w3.org/Graphics/SVG/1.1/DTD/svg11.dtd\">\r\n<!-- Created with matplotlib (https://matplotlib.org/) -->\r\n<svg height=\"181.8pt\" version=\"1.1\" viewBox=\"0 0 349.2 181.8\" width=\"349.2pt\" xmlns=\"http://www.w3.org/2000/svg\" xmlns:xlink=\"http://www.w3.org/1999/xlink\">\r\n <metadata>\r\n  <rdf:RDF xmlns:cc=\"http://creativecommons.org/ns#\" xmlns:dc=\"http://purl.org/dc/elements/1.1/\" xmlns:rdf=\"http://www.w3.org/1999/02/22-rdf-syntax-ns#\">\r\n   <cc:Work>\r\n    <dc:type rdf:resource=\"http://purl.org/dc/dcmitype/StillImage\"/>\r\n    <dc:date>2021-05-08T00:47:17.791823</dc:date>\r\n    <dc:format>image/svg+xml</dc:format>\r\n    <dc:creator>\r\n     <cc:Agent>\r\n      <dc:title>Matplotlib v3.3.4, https://matplotlib.org/</dc:title>\r\n     </cc:Agent>\r\n    </dc:creator>\r\n   </cc:Work>\r\n  </rdf:RDF>\r\n </metadata>\r\n <defs>\r\n  <style type=\"text/css\">*{stroke-linecap:butt;stroke-linejoin:round;}</style>\r\n </defs>\r\n <g id=\"figure_1\">\r\n  <g id=\"patch_1\">\r\n   <path d=\"M 0 181.8 \r\nL 349.2 181.8 \r\nL 349.2 0 \r\nL 0 0 \r\nz\r\n\" style=\"fill:none;\"/>\r\n  </g>\r\n  <g id=\"axes_1\">\r\n   <g clip-path=\"url(#pbf5b4c3e62)\">\r\n    <image height=\"168\" id=\"image239a865237\" transform=\"scale(1 -1)translate(0 -168)\" width=\"335\" x=\"7.2\" xlink:href=\"data:image/png;base64,\r\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\" y=\"-6.6\"/>\r\n   </g>\r\n  </g>\r\n </g>\r\n <defs>\r\n  <clipPath id=\"pbf5b4c3e62\">\r\n   <rect height=\"167.4\" width=\"334.8\" x=\"7.2\" y=\"7.2\"/>\r\n  </clipPath>\r\n </defs>\r\n</svg>\r\n",
            "image/png": "[encoded data removed]"
          },
          "metadata": {
            "needs_background": "light"
          }
        }
      ]
    },
    {
      "cell_type": "markdown",
      "metadata": {
        "id": "K7FsFmH6NqWy"
      },
      "source": [
        "* ... and in negative tweets?"
      ]
    },
    {
      "cell_type": "code",
      "metadata": {
        "id": "MbHSPX8jE2Jk"
      },
      "source": [
        "neg_tweets = df[df['sentiment'] == 'negative']\n",
        "text = \" \".join(word.lower() for word in neg_tweets['tweet_text'])\n",
        "cloud = WordCloud().generate(text)\n",
        "plt.imshow(cloud , interpolation='bilinear')\n",
        "plt.axis('off')\n",
        "plt.show()"
      ],
      "execution_count": 111,
      "outputs": [
        {
          "output_type": "display_data",
          "data": {
            "text/plain": "<Figure size 432x288 with 1 Axes>",
            "image/svg+xml": "<?xml version=\"1.0\" encoding=\"utf-8\" standalone=\"no\"?>\r\n<!DOCTYPE svg PUBLIC \"-//W3C//DTD SVG 1.1//EN\"\r\n  \"http://www.w3.org/Graphics/SVG/1.1/DTD/svg11.dtd\">\r\n<!-- Created with matplotlib (https://matplotlib.org/) -->\r\n<svg height=\"181.8pt\" version=\"1.1\" viewBox=\"0 0 349.2 181.8\" width=\"349.2pt\" xmlns=\"http://www.w3.org/2000/svg\" xmlns:xlink=\"http://www.w3.org/1999/xlink\">\r\n <metadata>\r\n  <rdf:RDF xmlns:cc=\"http://creativecommons.org/ns#\" xmlns:dc=\"http://purl.org/dc/elements/1.1/\" xmlns:rdf=\"http://www.w3.org/1999/02/22-rdf-syntax-ns#\">\r\n   <cc:Work>\r\n    <dc:type rdf:resource=\"http://purl.org/dc/dcmitype/StillImage\"/>\r\n    <dc:date>2021-05-08T00:47:18.838067</dc:date>\r\n    <dc:format>image/svg+xml</dc:format>\r\n    <dc:creator>\r\n     <cc:Agent>\r\n      <dc:title>Matplotlib v3.3.4, https://matplotlib.org/</dc:title>\r\n     </cc:Agent>\r\n    </dc:creator>\r\n   </cc:Work>\r\n  </rdf:RDF>\r\n </metadata>\r\n <defs>\r\n  <style type=\"text/css\">*{stroke-linecap:butt;stroke-linejoin:round;}</style>\r\n </defs>\r\n <g id=\"figure_1\">\r\n  <g id=\"patch_1\">\r\n   <path d=\"M 0 181.8 \r\nL 349.2 181.8 \r\nL 349.2 0 \r\nL 0 0 \r\nz\r\n\" style=\"fill:none;\"/>\r\n  </g>\r\n  <g id=\"axes_1\">\r\n   <g clip-path=\"url(#ped3f8981c0)\">\r\n    <image height=\"168\" id=\"imagee484209c23\" transform=\"scale(1 -1)translate(0 -168)\" width=\"335\" x=\"7.2\" xlink:href=\"data:image/png;base64,\r\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\" y=\"-6.6\"/>\r\n   </g>\r\n  </g>\r\n </g>\r\n <defs>\r\n  <clipPath id=\"ped3f8981c0\">\r\n   <rect height=\"167.4\" width=\"334.8\" x=\"7.2\" y=\"7.2\"/>\r\n  </clipPath>\r\n </defs>\r\n</svg>\r\n",
            "image/png": "[encoded data removed]"
          },
          "metadata": {
            "needs_background": "light"
          }
        }
      ]
    },
    {
      "cell_type": "markdown",
      "metadata": {
        "id": "RlYJCg2vSuA_"
      },
      "source": [
        "That's it for this section! \r\n",
        "\r\n",
        "See you in `Section 2` where we will talk about Text Normalization and get our hands dirty with some real tweets!\r\n",
        "\r\n",
        "\r\n",
        "<img src='https://drive.google.com/uc?export=view&id=1-PExlpxdip_2t7wN9Ru8Sn_jTTxj3MlA' width=100px>"
      ]
    },
    {
      "cell_type": "markdown",
      "metadata": {
        "id": "WIFAbVfhMvKS"
      },
      "source": [
        "<img src='https://drive.google.com/uc?export=view&id=1GYj-wj-so8jQ9-VDz1ayehgVh39Jmd4H' width=650px>\n",
        "\n",
        "# `SECTION 2` Text Normalization"
      ]
    },
    {
      "cell_type": "markdown",
      "metadata": {
        "id": "56HdmPCjMjls"
      },
      "source": [
        "As this section relies quite a lot on `REGEX`, you might want to have a look at the following website: https://regexr.com/"
      ]
    },
    {
      "cell_type": "markdown",
      "metadata": {
        "id": "8D9TW-jHaDMY"
      },
      "source": [
        "* Import `regex` package"
      ]
    },
    {
      "cell_type": "code",
      "metadata": {
        "id": "qefx0Ad1RFHy"
      },
      "source": [
        "import re"
      ],
      "execution_count": 112,
      "outputs": []
    },
    {
      "cell_type": "markdown",
      "metadata": {
        "id": "TKiiuRQpdxjm"
      },
      "source": [
        "<img src='https://drive.google.com/uc?export=view&id=1GYj-wj-so8jQ9-VDz1ayehgVh39Jmd4H' width=250px>\r\n",
        "\r\n",
        "## **2.1** Twitter features"
      ]
    },
    {
      "cell_type": "markdown",
      "metadata": {
        "id": "Z1N3d1u49GUt"
      },
      "source": [
        "* Example of a *random* tweet that can be found on Twitter"
      ]
    },
    {
      "cell_type": "code",
      "metadata": {
        "id": "O8qaWEnedWB1"
      },
      "source": [
        "tweet = \"RT @AIOutsider I love this! 👍 https://AIOutsider.com #NLP #Fun\"\n"
      ],
      "execution_count": 113,
      "outputs": []
    },
    {
      "cell_type": "markdown",
      "metadata": {
        "id": "NaKqk-_gFQQN"
      },
      "source": [
        "### <img src='https://drive.google.com/uc?export=view&id=1aAdtCrMe6SORoGAGtjOVM0UIxDFH9Thq' width=50px> **2.1.1** RT Tag"
      ]
    },
    {
      "cell_type": "markdown",
      "metadata": {
        "id": "DHH-1YKcIuRW"
      },
      "source": [
        "#### Need a hint?"
      ]
    },
    {
      "cell_type": "markdown",
      "metadata": {
        "id": "2ZVeoDQK6kvr"
      },
      "source": [
        "* `R` : match \"R\" character\r\n",
        "* `T` : match \"T\" character\r\n",
        "* `\\s` : match any whitespace character\r\n",
        "* `+` : match one or more of the preceding tokens"
      ]
    },
    {
      "cell_type": "markdown",
      "metadata": {
        "id": "uMrR3STEfdrA"
      },
      "source": [
        "#### Handle the RT Tag"
      ]
    },
    {
      "cell_type": "markdown",
      "metadata": {
        "id": "c5R1W_qw3AZs"
      },
      "source": [
        "* Replace occurences of `RT` with a default value"
      ]
    },
    {
      "cell_type": "code",
      "metadata": {
        "id": "RMe1sJQZWBon"
      },
      "source": [
        "def replace_retweet(tweet, default_replace=''):\n",
        "    tweet = re.sub('RT\\s+', default_replace, tweet)\n",
        "    return tweet \n",
        "\"\"\" def rt_replace(tweet , replace=''):\n",
        "    tweet = re.sub('RT\\s+', replace, tweet)\n",
        "    return tweet \"\"\""
      ],
      "execution_count": 114,
      "outputs": [
        {
          "output_type": "execute_result",
          "data": {
            "text/plain": [
              "\" def rt_replace(tweet , replace=''):\\n    tweet = re.sub('RT\\\\s+', replace, tweet)\\n    return tweet \""
            ]
          },
          "metadata": {},
          "execution_count": 114
        }
      ]
    },
    {
      "cell_type": "code",
      "metadata": {
        "id": "AIFwuvPQI5L4"
      },
      "source": [
        "print(\"Processed tweet: {}\".format(replace_retweet(tweet)))\n",
        "tweet\n",
        "\n"
      ],
      "execution_count": 115,
      "outputs": [
        {
          "output_type": "stream",
          "name": "stdout",
          "text": [
            "Processed tweet: @AIOutsider I love this! 👍 https://AIOutsider.com #NLP #Fun\n"
          ]
        },
        {
          "output_type": "execute_result",
          "data": {
            "text/plain": [
              "'RT @AIOutsider I love this! 👍 https://AIOutsider.com #NLP #Fun'"
            ]
          },
          "metadata": {},
          "execution_count": 115
        }
      ]
    },
    {
      "cell_type": "markdown",
      "metadata": {
        "id": "uY48gGm2fgtV"
      },
      "source": [
        "### <img src='https://drive.google.com/uc?export=view&id=1aAdtCrMe6SORoGAGtjOVM0UIxDFH9Thq' width=50px> **2.1.2** @User Tag"
      ]
    },
    {
      "cell_type": "markdown",
      "metadata": {
        "id": "0LKMid597qjL"
      },
      "source": [
        "#### Need a hint?\r\n",
        "\r\n",
        "\r\n"
      ]
    },
    {
      "cell_type": "markdown",
      "metadata": {
        "id": "Uc0j6Mfw8Tcw"
      },
      "source": [
        "* `\\B` : match any position that is not a word boundary\r\n",
        "* `@` : match \"@\" character\r\n",
        "* `\\w` : match any word character \r\n",
        "* `+` : match one or more of the preceding tokens"
      ]
    },
    {
      "cell_type": "markdown",
      "metadata": {
        "id": "Yjn3WP56Dc-O"
      },
      "source": [
        "#### Handle the User Tag"
      ]
    },
    {
      "cell_type": "markdown",
      "metadata": {
        "id": "2DMdteLL3Sq-"
      },
      "source": [
        "* Replace `@_Someone_` with a default user tag"
      ]
    },
    {
      "cell_type": "code",
      "metadata": {
        "id": "ODnCCX1ueIwO"
      },
      "source": [
        "def replace_user(tweet , defualt_replace='twitter_user'):\n",
        "    tweet = re.sub('\\B@\\w+',defualt_replace,tweet)\n",
        "    return tweet\n",
        "\"\"\" def replce_user(tweet , default_replace='twitter_user'):\n",
        "    tweet = re.sub('\\B@\\w+')\n",
        "    return tweet \"\"\""
      ],
      "execution_count": 116,
      "outputs": [
        {
          "output_type": "execute_result",
          "data": {
            "text/plain": [
              "\" def replce_user(tweet , default_replace='twitter_user'):\\n    tweet = re.sub('\\\\B@\\\\w+')\\n    return tweet \""
            ]
          },
          "metadata": {},
          "execution_count": 116
        }
      ]
    },
    {
      "cell_type": "code",
      "metadata": {
        "id": "wgSircywI8fG"
      },
      "source": [
        "print(\"Processed tweet: {}\".format(replace_user(tweet)))"
      ],
      "execution_count": 117,
      "outputs": [
        {
          "output_type": "stream",
          "name": "stdout",
          "text": [
            "Processed tweet: RT twitter_user I love this! 👍 https://AIOutsider.com #NLP #Fun\n"
          ]
        }
      ]
    },
    {
      "cell_type": "markdown",
      "metadata": {
        "id": "QsbZqz2Cn1dB"
      },
      "source": [
        "### <img src='https://drive.google.com/uc?export=view&id=1aAdtCrMe6SORoGAGtjOVM0UIxDFH9Thq' width=50px> **2.1.3** Emojis"
      ]
    },
    {
      "cell_type": "markdown",
      "metadata": {
        "id": "xE5IZIx5Gkx4"
      },
      "source": [
        "* Install the `emoji` package"
      ]
    },
    {
      "cell_type": "code",
      "metadata": {
        "id": "PDtbHjDiiaw7"
      },
      "source": [
        "#pip install emoji --upgrade"
      ],
      "execution_count": 118,
      "outputs": []
    },
    {
      "cell_type": "markdown",
      "metadata": {
        "id": "MTSClFfP3iXm"
      },
      "source": [
        "* Import the installed package"
      ]
    },
    {
      "cell_type": "code",
      "metadata": {
        "id": "T8Ctx6FUiVyc"
      },
      "source": [
        "import emoji"
      ],
      "execution_count": 119,
      "outputs": []
    },
    {
      "cell_type": "markdown",
      "metadata": {
        "id": "6pZp0rcEGtH8"
      },
      "source": [
        "* Replace emojis with a meaningful text"
      ]
    },
    {
      "cell_type": "code",
      "metadata": {
        "id": "hqHXnwRZn2Ey"
      },
      "source": [
        "def demojize(tweet):\n",
        "    tweet = emoji.demojize(tweet)\n",
        "    return tweet \n",
        "\"\"\" def emojize(tweet):\n",
        "    tweet = emoji.emojize(tweet)\n",
        "    return(tweet) \"\"\""
      ],
      "execution_count": 120,
      "outputs": [
        {
          "output_type": "execute_result",
          "data": {
            "text/plain": [
              "' def emojize(tweet):\\n    tweet = emoji.emojize(tweet)\\n    return(tweet) '"
            ]
          },
          "metadata": {},
          "execution_count": 120
        }
      ]
    },
    {
      "cell_type": "code",
      "metadata": {
        "id": "NeuCWELwx2bb"
      },
      "source": [
        "print(\"Processed tweet: {}\".format(demojize(tweet)))\n",
        "tweet\n",
        "\n"
      ],
      "execution_count": 121,
      "outputs": [
        {
          "output_type": "stream",
          "name": "stdout",
          "text": [
            "Processed tweet: RT @AIOutsider I love this! :thumbs_up: https://AIOutsider.com #NLP #Fun\n"
          ]
        },
        {
          "output_type": "execute_result",
          "data": {
            "text/plain": [
              "'RT @AIOutsider I love this! 👍 https://AIOutsider.com #NLP #Fun'"
            ]
          },
          "metadata": {},
          "execution_count": 121
        }
      ]
    },
    {
      "cell_type": "markdown",
      "metadata": {
        "id": "oSYc3ax5fk5m"
      },
      "source": [
        "### <img src='https://drive.google.com/uc?export=view&id=1aAdtCrMe6SORoGAGtjOVM0UIxDFH9Thq' width=50px> **2.1.4** URL"
      ]
    },
    {
      "cell_type": "markdown",
      "metadata": {
        "id": "7URUz-xz9otD"
      },
      "source": [
        "#### Need a hint?"
      ]
    },
    {
      "cell_type": "markdown",
      "metadata": {
        "id": "MKaWmYHL4bmw"
      },
      "source": [
        "* `(http|https)` : capturing group matching either http or https\r\n",
        "* `:` : match the \":\" character\r\n",
        "* `\\/` : match the \"/\" charachter\r\n",
        "* `\\S` : match any character that is not whitespace\r\n",
        "* `+` : match one or more of the preceding tokens"
      ]
    },
    {
      "cell_type": "markdown",
      "metadata": {
        "id": "1Y1_YIxt5z3d"
      },
      "source": [
        "#### Handle the URL"
      ]
    },
    {
      "cell_type": "markdown",
      "metadata": {
        "id": "gp8E1W-e4QDT"
      },
      "source": [
        "* Replace occurences of `http://` or `https://` with a default value"
      ]
    },
    {
      "cell_type": "code",
      "metadata": {
        "id": "0Vq3d5VcfdCc"
      },
      "source": [
        "def replace_url(tweet , default_replace=''):\n",
        "    tweet = re.sub('(http|https):\\/\\/\\S+', default_replace,tweet)\n",
        "    return tweet\n",
        "\n",
        "def repalce_url(tweet ,defualt_replace = ''):\n",
        "    tweet = re.sub('(http|https):\\/\\/S+', defualt_replace,tweet)\n",
        "    return tweet"
      ],
      "execution_count": 122,
      "outputs": []
    },
    {
      "cell_type": "code",
      "metadata": {
        "id": "YN2c4pJIy8pX"
      },
      "source": [
        "print(\"Processed tweet: {}\".format(replace_url(tweet)))"
      ],
      "execution_count": 123,
      "outputs": [
        {
          "output_type": "stream",
          "name": "stdout",
          "text": [
            "Processed tweet: RT @AIOutsider I love this! 👍  #NLP #Fun\n"
          ]
        }
      ]
    },
    {
      "cell_type": "markdown",
      "metadata": {
        "id": "piKIdmGCimZ1"
      },
      "source": [
        "### <img src='https://drive.google.com/uc?export=view&id=1aAdtCrMe6SORoGAGtjOVM0UIxDFH9Thq' width=50px> **2.1.5** Hashtags"
      ]
    },
    {
      "cell_type": "markdown",
      "metadata": {
        "id": "yePSPCRy4WWk"
      },
      "source": [
        "* Replace occurences of `#_something_` with a default value"
      ]
    },
    {
      "cell_type": "code",
      "metadata": {
        "id": "yI76Ve3lg3WZ"
      },
      "source": [
        "def replace_hashtag(tweet , default_replace=''):\n",
        "    tweet = re.sub('#+', default_replace, tweet)\n",
        "    return tweet"
      ],
      "execution_count": 124,
      "outputs": []
    },
    {
      "cell_type": "code",
      "metadata": {
        "id": "1xlMKyD4y-Xg"
      },
      "source": [
        "print(\"Processed tweet: {}\".format(replace_hashtag(tweet)))"
      ],
      "execution_count": 125,
      "outputs": [
        {
          "output_type": "stream",
          "name": "stdout",
          "text": [
            "Processed tweet: RT @AIOutsider I love this! 👍 https://AIOutsider.com NLP Fun\n"
          ]
        }
      ]
    },
    {
      "cell_type": "markdown",
      "metadata": {
        "id": "77D-JqISVFvi"
      },
      "source": [
        "<img src='https://drive.google.com/uc?export=view&id=1GYj-wj-so8jQ9-VDz1ayehgVh39Jmd4H' width=250px>\n",
        "\n",
        "## **2.2** Word Features\n",
        "\n",
        "Let's now have a look at some other features that are not really Twitter-dependant"
      ]
    },
    {
      "cell_type": "code",
      "metadata": {
        "id": "xw18TAaFhOMH"
      },
      "source": [
        "tweet = \"LOOOOOOOOK at this ... I'd like it so much!\""
      ],
      "execution_count": 126,
      "outputs": []
    },
    {
      "cell_type": "markdown",
      "metadata": {
        "id": "VmN1OTYBi8r3"
      },
      "source": [
        "### <img src='https://drive.google.com/uc?export=view&id=1aAdtCrMe6SORoGAGtjOVM0UIxDFH9Thq' width=50px> **2.2.1** Remove upper capitalization"
      ]
    },
    {
      "cell_type": "markdown",
      "metadata": {
        "id": "noY_ATKH4hcz"
      },
      "source": [
        "* Lower case each letter in a specific tweet"
      ]
    },
    {
      "cell_type": "code",
      "metadata": {
        "id": "NXCITDNeQtnE"
      },
      "source": [
        "def to_lowercase(tweet):\n",
        "    tweet= tweet.lower()\n",
        "    return tweet"
      ],
      "execution_count": 127,
      "outputs": []
    },
    {
      "cell_type": "code",
      "metadata": {
        "id": "-Roo8SHo23vw"
      },
      "source": [
        "print(\"Processed tweet: {}\".format(to_lowercase(tweet)))"
      ],
      "execution_count": 128,
      "outputs": [
        {
          "output_type": "stream",
          "name": "stdout",
          "text": [
            "Processed tweet: looooooook at this ... i'd like it so much!\n"
          ]
        }
      ]
    },
    {
      "cell_type": "markdown",
      "metadata": {
        "id": "fNlZxI4ZS-dX"
      },
      "source": [
        "### <img src='https://drive.google.com/uc?export=view&id=1aAdtCrMe6SORoGAGtjOVM0UIxDFH9Thq' width=50px> **2.2.2** Word repetition"
      ]
    },
    {
      "cell_type": "markdown",
      "metadata": {
        "id": "sKkeEGaX4m40"
      },
      "source": [
        "* Replace word repetition with a single occurence (\"oooooo\" becomes \"oo\")"
      ]
    },
    {
      "cell_type": "code",
      "metadata": {
        "id": "USLuHaaiS9xm"
      },
      "source": [
        "# \\1 first group \n",
        "\"\"\" def word_repetition(tweet):\n",
        "    tweet = re.sub(r'(.)\\1+', r'\\1\\1', tweet)\n",
        "    return tweet\n",
        " \"\"\"\n",
        "import re \n",
        "def word_repetition(tweet):\n",
        "    tweet = re.sub(r'(.)\\1+',r'\\1\\1',tweet)\n",
        "    return tweet"
      ],
      "execution_count": 129,
      "outputs": []
    },
    {
      "cell_type": "code",
      "metadata": {
        "id": "CkWh38hH5qyY"
      },
      "source": [
        "print(\"Processed tweet: {}\".format(word_repetition(tweet)))"
      ],
      "execution_count": 130,
      "outputs": [
        {
          "output_type": "stream",
          "name": "stdout",
          "text": [
            "Processed tweet: LOOK at this .. I'd like it so much!\n"
          ]
        }
      ]
    },
    {
      "cell_type": "markdown",
      "metadata": {
        "id": "Qli_4tnBpcr4"
      },
      "source": [
        "### <img src='https://drive.google.com/uc?export=view&id=1aAdtCrMe6SORoGAGtjOVM0UIxDFH9Thq' width=50px> **2.2.3** Punctuation repetition"
      ]
    },
    {
      "cell_type": "markdown",
      "metadata": {
        "id": "vQN36n3w4wNA"
      },
      "source": [
        "* Replace punctuation repetition with a single occurence (\"!!!!!\" becomes \"!\")"
      ]
    },
    {
      "cell_type": "code",
      "metadata": {
        "id": "w_awIiJ_ngo7"
      },
      "source": [
        "# positive look ahead\n",
        "def punct_repetition(tweet,default_replace = ''):\n",
        "    tweet = re.sub(r'[\\!\\?\\.]+(?=[\\!\\?\\.])', default_replace,tweet )\n",
        "    return tweet\n",
        "# before checking the [\\!\\?\\.]+ pattern we check if we have single pattern \n",
        "# match ! , ?  or . if it followed by regex [\\!\\?\\.]+"
      ],
      "execution_count": 131,
      "outputs": []
    },
    {
      "cell_type": "code",
      "metadata": {
        "id": "jfRfogEe5str"
      },
      "source": [
        "print(\"Processed tweet: {}\".format(punct_repetition(tweet)))"
      ],
      "execution_count": 132,
      "outputs": [
        {
          "output_type": "stream",
          "name": "stdout",
          "text": [
            "Processed tweet: LOOOOOOOOK at this . I'd like it so much!\n"
          ]
        }
      ]
    },
    {
      "cell_type": "markdown",
      "metadata": {
        "id": "mpwgMqIxi6G9"
      },
      "source": [
        "### <img src='https://drive.google.com/uc?export=view&id=1aAdtCrMe6SORoGAGtjOVM0UIxDFH9Thq' width=50px> **2.2.4** Word contraction"
      ]
    },
    {
      "cell_type": "markdown",
      "metadata": {
        "id": "Adsu8A-TGFT5"
      },
      "source": [
        "* Install the `contractions` package"
      ]
    },
    {
      "cell_type": "code",
      "metadata": {
        "id": "wO2Gle7Ey360"
      },
      "source": [
        "pip install contractions"
      ],
      "execution_count": 133,
      "outputs": [
        {
          "output_type": "stream",
          "name": "stdout",
          "text": [
            "Requirement already satisfied: contractions in c:\\users\\s10y01r\\appdata\\local\\programs\\python\\python38\\lib\\site-packages (0.0.48)\nRequirement already satisfied: textsearch>=0.0.21 in c:\\users\\s10y01r\\appdata\\local\\programs\\python\\python38\\lib\\site-packages (from contractions) (0.0.21)\nRequirement already satisfied: pyahocorasick in c:\\users\\s10y01r\\appdata\\local\\programs\\python\\python38\\lib\\site-packages (from textsearch>=0.0.21->contractions) (1.4.2)\nRequirement already satisfied: anyascii in c:\\users\\s10y01r\\appdata\\local\\programs\\python\\python38\\lib\\site-packages (from textsearch>=0.0.21->contractions) (0.2.0)\nNote: you may need to restart the kernel to use updated packages.\n"
          ]
        }
      ]
    },
    {
      "cell_type": "markdown",
      "metadata": {
        "id": "EOPWYcd146Rl"
      },
      "source": [
        "* Import the installed package"
      ]
    },
    {
      "cell_type": "code",
      "metadata": {
        "id": "UdkPTEZryzJC"
      },
      "source": [
        "import contractions"
      ],
      "execution_count": 134,
      "outputs": []
    },
    {
      "cell_type": "markdown",
      "metadata": {
        "id": "tDGBT323GE1v"
      },
      "source": [
        "* Use `contractions_dict` to list most common contractions"
      ]
    },
    {
      "cell_type": "code",
      "metadata": {
        "id": "4DwhVxKs1QL_"
      },
      "source": [
        "#print(contractions.contractions_dict)"
      ],
      "execution_count": 135,
      "outputs": []
    },
    {
      "cell_type": "markdown",
      "metadata": {
        "id": "7lho1c8I5D2B"
      },
      "source": [
        "* Create a `_fix_contractions` function used to replace contractions with their extended forms by using the contractions dictionnary"
      ]
    },
    {
      "cell_type": "code",
      "metadata": {
        "id": "A1xj5UXbVspq"
      },
      "source": [
        "def _fix_contractions(tweet):\n",
        "    for key, value in contractions.contractions_dict.items():\n",
        "        tweet = tweet.replace(key,value)\n",
        "    return tweet"
      ],
      "execution_count": 136,
      "outputs": []
    },
    {
      "cell_type": "code",
      "metadata": {
        "id": "2MDFOXKTccRV"
      },
      "source": [
        "print(\"Processed tweet: {}\".format(_fix_contractions(tweet)))"
      ],
      "execution_count": 137,
      "outputs": [
        {
          "output_type": "stream",
          "name": "stdout",
          "text": [
            "Processed tweet: LOOOOOOOOK at this ... I would like it so much!\n"
          ]
        }
      ]
    },
    {
      "cell_type": "markdown",
      "metadata": {
        "id": "GQijW6z65IzJ"
      },
      "source": [
        "* Create a `_fix_contractions` function used to replace contractions with their extended forms by using the contractions package"
      ]
    },
    {
      "cell_type": "code",
      "metadata": {
        "id": "MP6atIK-VsNw"
      },
      "source": [
        "def fix_contractions (tweet):\n",
        "    tweet= contractions.fix(tweet)\n",
        "    return tweet"
      ],
      "execution_count": 138,
      "outputs": []
    },
    {
      "cell_type": "code",
      "metadata": {
        "id": "MqQ60KaMc0CS"
      },
      "source": [
        "print(\"Processed tweet: {}\".format(fix_contractions(tweet)))"
      ],
      "execution_count": 139,
      "outputs": [
        {
          "output_type": "stream",
          "name": "stdout",
          "text": [
            "Processed tweet: LOOOOOOOOK at this ... I would like it so much!\n"
          ]
        }
      ]
    },
    {
      "cell_type": "markdown",
      "metadata": {
        "id": "V7Qnxa-_2q6x"
      },
      "source": [
        "<img src='https://drive.google.com/uc?export=view&id=1GYj-wj-so8jQ9-VDz1ayehgVh39Jmd4H' width=250px>\r\n",
        "\r\n",
        "## **2.3** Tokenization"
      ]
    },
    {
      "cell_type": "markdown",
      "metadata": {
        "id": "eECnMHD_89wz"
      },
      "source": [
        "More information about NLTK? Head over to: https://www.nltk.org\r\n",
        "\r\n",
        "* Install the `NLTK` package"
      ]
    },
    {
      "cell_type": "code",
      "metadata": {
        "id": "SnKD-MkZ2kNd"
      },
      "source": [
        "pip install nltk"
      ],
      "execution_count": 140,
      "outputs": [
        {
          "output_type": "stream",
          "name": "stdout",
          "text": [
            "Requirement already satisfied: nltk in c:\\users\\s10y01r\\appdata\\local\\programs\\python\\python38\\lib\\site-packages (3.6.2)\nRequirement already satisfied: click in c:\\users\\s10y01r\\appdata\\local\\programs\\python\\python38\\lib\\site-packages (from nltk) (7.1.2)\nRequirement already satisfied: joblib in c:\\users\\s10y01r\\appdata\\local\\programs\\python\\python38\\lib\\site-packages (from nltk) (1.0.1)\nRequirement already satisfied: tqdm in c:\\users\\s10y01r\\appdata\\local\\programs\\python\\python38\\lib\\site-packages (from nltk) (4.60.0)\nRequirement already satisfied: regex in c:\\users\\s10y01r\\appdata\\local\\programs\\python\\python38\\lib\\site-packages (from nltk) (2021.4.4)\nNote: you may need to restart the kernel to use updated packages.\n"
          ]
        }
      ]
    },
    {
      "cell_type": "markdown",
      "metadata": {
        "id": "v8KTZgynDSTg"
      },
      "source": [
        "### <img src='https://drive.google.com/uc?export=view&id=1aAdtCrMe6SORoGAGtjOVM0UIxDFH9Thq' width=50px> **2.3.1** Easy Tokenization"
      ]
    },
    {
      "cell_type": "markdown",
      "metadata": {
        "id": "mO_sTCV19KA5"
      },
      "source": [
        "* Import `NLTK`\r\n",
        "* Import the `word_tokenize` module from NLTK \r\n",
        "* Download the `Punkt` tokenizer model from NLTK"
      ]
    },
    {
      "cell_type": "code",
      "metadata": {
        "id": "-6SVKvVP4NDL"
      },
      "source": [
        "import nltk\n",
        "from nltk.tokenize import word_tokenize\n",
        "nltk.download('punkt')"
      ],
      "execution_count": 141,
      "outputs": [
        {
          "output_type": "stream",
          "name": "stderr",
          "text": [
            "[nltk_data] Downloading package punkt to\n[nltk_data]     C:\\Users\\S10y01r\\AppData\\Roaming\\nltk_data...\n[nltk_data]   Package punkt is already up-to-date!\n"
          ]
        },
        {
          "output_type": "execute_result",
          "data": {
            "text/plain": [
              "True"
            ]
          },
          "metadata": {},
          "execution_count": 141
        }
      ]
    },
    {
      "cell_type": "markdown",
      "metadata": {
        "id": "YCtkPkWIEXdl"
      },
      "source": [
        "* Simple tweet to be tokenized"
      ]
    },
    {
      "cell_type": "code",
      "metadata": {
        "id": "hJLYCxJztrXo"
      },
      "source": [
        "tweet = \"These are 5 different words!\"\n",
        "#tokenization expceptions puncituation , stop words and numbers "
      ],
      "execution_count": 142,
      "outputs": []
    },
    {
      "cell_type": "markdown",
      "metadata": {
        "id": "zo0nDxqUDy6s"
      },
      "source": [
        "* Create a `tokenize()` function that takes a tweet as input and returns a list of tokens"
      ]
    },
    {
      "cell_type": "code",
      "metadata": {
        "id": "MthNx7ou4OnW"
      },
      "source": [
        "def tokenize(tweet):\n",
        "    tweet = word_tokenize(tweet)\n",
        "    return tweet\n",
        "\"\"\" def tokenize(tweet):\n",
        "    tweet = word_tokenize(tweet)\n",
        "    return tweet \"\"\""
      ],
      "execution_count": 143,
      "outputs": [
        {
          "output_type": "execute_result",
          "data": {
            "text/plain": [
              "' def tokenize(tweet):\\n    tweet = word_tokenize(tweet)\\n    return tweet '"
            ]
          },
          "metadata": {},
          "execution_count": 143
        }
      ]
    },
    {
      "cell_type": "markdown",
      "metadata": {
        "id": "DoiTPGFNDqAf"
      },
      "source": [
        "* Use the `tokenize()` function to print the tokenized version of a tweet"
      ]
    },
    {
      "cell_type": "code",
      "metadata": {
        "id": "oPdJeqcRCYT2"
      },
      "source": [
        "print(type(tokenize(tweet)))\n",
        "print(\"Tweet tokens: {}\".format(tokenize(tweet)))"
      ],
      "execution_count": 144,
      "outputs": [
        {
          "output_type": "stream",
          "name": "stdout",
          "text": [
            "<class 'list'>\nTweet tokens: ['These', 'are', '5', 'different', 'words', '!']\n"
          ]
        }
      ]
    },
    {
      "cell_type": "markdown",
      "metadata": {
        "id": "s3Ha_2Dtjl6X"
      },
      "source": [
        "That's it for the easy method! You will now see there is more you can do about it."
      ]
    },
    {
      "cell_type": "markdown",
      "metadata": {
        "id": "Z8KrFT2jDaVj"
      },
      "source": [
        "### <img src='https://drive.google.com/uc?export=view&id=1aAdtCrMe6SORoGAGtjOVM0UIxDFH9Thq' width=50px> **2.3.2** Custom Tokenization"
      ]
    },
    {
      "cell_type": "markdown",
      "metadata": {
        "id": "SLPhIt14FfVc"
      },
      "source": [
        "* Import the `string` package "
      ]
    },
    {
      "cell_type": "code",
      "metadata": {
        "id": "baAGSohY5PcV"
      },
      "source": [
        "import string"
      ],
      "execution_count": 145,
      "outputs": []
    },
    {
      "cell_type": "markdown",
      "metadata": {
        "id": "iTwnZoFYTrpN"
      },
      "source": [
        "* Retrieve english punctuation signs by using the `string` package"
      ]
    },
    {
      "cell_type": "code",
      "metadata": {
        "id": "Yc6naeSUkNs8"
      },
      "source": [
        "print(string.punctuation)"
      ],
      "execution_count": 146,
      "outputs": [
        {
          "output_type": "stream",
          "name": "stdout",
          "text": [
            "!\"#$%&'()*+,-./:;<=>?@[\\]^_`{|}~\n"
          ]
        }
      ]
    },
    {
      "cell_type": "markdown",
      "metadata": {
        "id": "07KM4_kdUFsP"
      },
      "source": [
        "* Import the `stopwords` module from NLTK\r\n",
        "* Download `stopwords` data from NLTK"
      ]
    },
    {
      "cell_type": "code",
      "metadata": {
        "id": "2MBBQJDeQSi4"
      },
      "source": [
        "from nltk.corpus import stopwords\n",
        "nltk.download('stopwords')"
      ],
      "execution_count": 147,
      "outputs": [
        {
          "output_type": "stream",
          "name": "stderr",
          "text": [
            "[nltk_data] Downloading package stopwords to\n[nltk_data]     C:\\Users\\S10y01r\\AppData\\Roaming\\nltk_data...\n[nltk_data]   Package stopwords is already up-to-date!\n"
          ]
        },
        {
          "output_type": "execute_result",
          "data": {
            "text/plain": [
              "True"
            ]
          },
          "metadata": {},
          "execution_count": 147
        }
      ]
    },
    {
      "cell_type": "markdown",
      "metadata": {
        "id": "MXQ8YUNj5-B1"
      },
      "source": [
        "* Create a set of english stopwords"
      ]
    },
    {
      "cell_type": "code",
      "metadata": {
        "id": "NZXqXrG42qMk"
      },
      "source": [
        "stop_words = set(stopwords.words('english'))\n",
        "print(stop_words)\n",
        "#stop_words = set(stopwords.words('english'))\n",
        "#print(string.punctuation)"
      ],
      "execution_count": 148,
      "outputs": [
        {
          "output_type": "stream",
          "name": "stdout",
          "text": [
            "{'him', 'ma', 'wasn', 'own', 'o', 'needn', 'be', 'won', 'his', 'been', 'about', 'over', 'under', 'for', 'yourself', 'who', 'll', 'couldn', 'didn', 'a', 'during', 'having', 'do', 'until', 'because', 'then', 'ours', 'ourselves', 'he', 'or', 'hasn', 'your', \"don't\", 'an', \"weren't\", 'is', 'same', 'with', 'above', \"mustn't\", 'it', 'd', 'before', 'from', 'himself', \"hadn't\", 'whom', \"mightn't\", 'just', 'my', 'out', 'there', 'themselves', \"shan't\", 'against', 'yours', \"you've\", \"you're\", 'their', 'most', 'mightn', 'this', 'both', 'on', 'below', 'its', 'we', 'while', 'each', 'these', 'if', 'how', \"wouldn't\", \"should've\", 'too', \"shouldn't\", 'did', 'through', \"you'll\", 'any', 'wouldn', 'so', \"it's\", 'in', 'our', 'nor', 'between', 'am', 'where', 'not', 't', 'and', 'm', 'why', 'other', \"didn't\", 'they', 'haven', 's', \"you'd\", \"that'll\", 'hers', 'mustn', 'yourselves', 'are', \"doesn't\", 'had', 'isn', 'as', 'shouldn', 'shan', 've', 'those', 'should', 'some', 'will', 'itself', 'was', 'weren', 'her', 'has', \"hasn't\", \"isn't\", 'down', 'when', \"wasn't\", 'at', 'into', 'me', \"couldn't\", \"haven't\", \"won't\", 'few', 'don', 'ain', 'doing', 'such', 'being', 'were', 'you', 'myself', 'only', 'which', \"aren't\", 'the', 'by', 'i', 'y', 'she', 'of', 'here', 'what', 'all', 'than', 'now', 'again', 'but', 're', 'no', 'aren', 'off', 'very', 'them', 'after', 'that', 'theirs', 'have', 'hadn', 'once', 'herself', 'doesn', 'up', 'can', \"needn't\", 'further', 'more', 'to', \"she's\", 'does'}\n"
          ]
        }
      ]
    },
    {
      "cell_type": "markdown",
      "metadata": {
        "id": "t9G7T6Wg6A5F"
      },
      "source": [
        "* Remove some stopwords from the set"
      ]
    },
    {
      "cell_type": "code",
      "metadata": {
        "id": "Kcgpw29wmec4"
      },
      "source": [
        "stop_words.discard('not')\n",
        "if 'not' in stop_words:\n",
        "    print(stop_words)\n",
        "else :\n",
        "    print('not found')"
      ],
      "execution_count": 149,
      "outputs": [
        {
          "output_type": "stream",
          "name": "stdout",
          "text": [
            "not found\n"
          ]
        }
      ]
    },
    {
      "cell_type": "markdown",
      "metadata": {
        "id": "b4LLuBGH6Dy5"
      },
      "source": [
        "* Create a `custom_tokenize` function"
      ]
    },
    {
      "cell_type": "code",
      "metadata": {
        "id": "b6cZbaTB5Yr7"
      },
      "source": [
        "def custom_tokenize(tweet , keep_punct=False ,\n",
        "                            keep_alnum=False ,\n",
        "                            keep_stop=False ):\n",
        "    token_list = word_tokenize(tweet)\n",
        "\n",
        "    if not keep_punct :\n",
        "        token_list = [token for token in token_list\n",
        "                  if token not in string.punctuation]\n",
        "    if not keep_alnum:\n",
        "        token_list = [token for token in token_list if token.isalpha()]\n",
        "    if not keep_stop:\n",
        "        stop_words = set(stopwords.words('english'))\n",
        "        stop_words.discard('not')\n",
        "        token_list = [token for token in token_list \n",
        "                        if token not  in stop_words]\n",
        "    \n",
        "    return token_list\n",
        "# punc , alnum , stop \n",
        "\"\"\" def custom_tokenize(tweeet , keep_punct=False,\n",
        "                            keep_alnum=False,\n",
        "                            keep_stop= False ):\n",
        "    word_list = word_tokenize(tweet)\n",
        "    if not keep_punct:\n",
        "        word_list = [token for token in word_list\n",
        "                    if token not in string.punctuation]\n",
        "    if not keep_alnum:\n",
        "        word_list = [token for token in word_list \n",
        "                    if toekn.isalpha()]\n",
        "    if not keep_stop:\n",
        "        stop_words = set(stopwords.words('english'))\n",
        "        stop_words.discard('not')\n",
        "        word_list = [token for token in word_list \n",
        "                    if not in stop_words]\n",
        "    return word_list \"\"\""
      ],
      "execution_count": 150,
      "outputs": [
        {
          "output_type": "execute_result",
          "data": {
            "text/plain": [
              "\" def custom_tokenize(tweeet , keep_punct=False,\\n                            keep_alnum=False,\\n                            keep_stop= False ):\\n    word_list = word_tokenize(tweet)\\n    if not keep_punct:\\n        word_list = [token for token in word_list\\n                    if token not in string.punctuation]\\n    if not keep_alnum:\\n        word_list = [token for token in word_list \\n                    if toekn.isalpha()]\\n    if not keep_stop:\\n        stop_words = set(stopwords.words('english'))\\n        stop_words.discard('not')\\n        word_list = [token for token in word_list \\n                    if not in stop_words]\\n    return word_list \""
            ]
          },
          "metadata": {},
          "execution_count": 150
        }
      ]
    },
    {
      "cell_type": "markdown",
      "metadata": {
        "id": "_z5OuuxY6L9b"
      },
      "source": [
        "* Test the function with a particular tweet"
      ]
    },
    {
      "cell_type": "code",
      "metadata": {
        "id": "6LDWcJ99E6Z2"
      },
      "source": [
        "tweet = \"these are 5 different words!\""
      ],
      "execution_count": 151,
      "outputs": []
    },
    {
      "cell_type": "code",
      "metadata": {
        "id": "gXyaftGrEvkC"
      },
      "source": [
        "print(\"Tweet tokens: {}\".format(custom_tokenize(tweet, \n",
        "                                                keep_punct=True, \n",
        "                                                keep_alnum=True, \n",
        "                                                keep_stop=True)))\n",
        "print(\"Tweet tokens: {}\".format(custom_tokenize(tweet, keep_stop=True)))\n",
        "print(\"Tweet tokens: {}\".format(custom_tokenize(tweet, keep_alnum=True)))"
      ],
      "execution_count": 152,
      "outputs": [
        {
          "output_type": "stream",
          "name": "stdout",
          "text": [
            "Tweet tokens: ['these', 'are', '5', 'different', 'words', '!']\nTweet tokens: ['these', 'are', 'different', 'words']\nTweet tokens: ['5', 'different', 'words']\n"
          ]
        }
      ]
    },
    {
      "cell_type": "markdown",
      "metadata": {
        "id": "DIY4CKCcTyEo"
      },
      "source": [
        "<img src='https://drive.google.com/uc?export=view&id=1GYj-wj-so8jQ9-VDz1ayehgVh39Jmd4H' width=250px>\r\n",
        "\r\n",
        "## **2.4** Stemming"
      ]
    },
    {
      "cell_type": "markdown",
      "metadata": {
        "id": "OoizpNg82nK_"
      },
      "source": [
        "More information about `NLTK.stem`? Head over to: https://www.nltk.org/api/nltk.stem.html\r\n",
        "\r\n",
        "* Import different libraries and modules used for stemming"
      ]
    },
    {
      "cell_type": "code",
      "metadata": {
        "id": "5oaU_cd_Wz0u"
      },
      "source": [
        "from nltk.stem import PorterStemmer\n",
        "from nltk.stem import LancasterStemmer    # more aggressive\n",
        "from nltk.stem.snowball import SnowballStemmer"
      ],
      "execution_count": 153,
      "outputs": []
    },
    {
      "cell_type": "markdown",
      "metadata": {
        "id": "lb9Joc083a2i"
      },
      "source": [
        "* List of tokens to stem (remember that we stem tokens and not entire sentences)"
      ]
    },
    {
      "cell_type": "code",
      "metadata": {
        "id": "sTraXL0yy1Up"
      },
      "source": [
        "tokens = [\"manager\", \"management\", \"managing\"]"
      ],
      "execution_count": 154,
      "outputs": []
    },
    {
      "cell_type": "markdown",
      "metadata": {
        "id": "v35wUbss5fnI"
      },
      "source": [
        "* Stemmers can be defined by directly using NLTK"
      ]
    },
    {
      "cell_type": "code",
      "metadata": {
        "id": "o8QDL-05tMj5"
      },
      "source": [
        "porter_stemmer = PorterStemmer()\n",
        "lancaster_stemmer = LancasterStemmer()\n",
        "snowball_stemmer = SnowballStemmer('english')\n",
        "\"\"\" porter_stemmer = PorterStemmer()\n",
        "snow_ball = SnowballStemmer('english') \"\"\"\n",
        "\n",
        "\"\"\" def stemming(tokens, stemmer):\n",
        "    stem = []\n",
        "    for token in tokens :\n",
        "        stem.append(stemmer.stem(token))\n",
        "    \n",
        "    return stem \"\"\""
      ],
      "execution_count": 155,
      "outputs": [
        {
          "output_type": "execute_result",
          "data": {
            "text/plain": [
              "' def stemming(tokens, stemmer):\\n    stem = []\\n    for token in tokens :\\n        stem.append(stemmer.stem(token))\\n    \\n    return stem '"
            ]
          },
          "metadata": {},
          "execution_count": 155
        }
      ]
    },
    {
      "cell_type": "markdown",
      "metadata": {
        "id": "_5j_BLPU5ptp"
      },
      "source": [
        "* Create a `stem_tokens` function that takes the list of tokens as input and returns a list of stemmed tokens"
      ]
    },
    {
      "cell_type": "code",
      "metadata": {
        "id": "CetNdOeRTyjj"
      },
      "source": [
        "def stem_tokens(tokens, stemmer):\n",
        "  token_list = []\n",
        "  for token in tokens:\n",
        "    token_list.append(stemmer.stem(token))\n",
        "  return token_list"
      ],
      "execution_count": 156,
      "outputs": []
    },
    {
      "cell_type": "markdown",
      "metadata": {
        "id": "swSFzfQI6PQ3"
      },
      "source": [
        "* Print the different results and compare the stemmed tokens"
      ]
    },
    {
      "cell_type": "code",
      "metadata": {
        "id": "YDZqSc43tKjI"
      },
      "source": [
        "print(\"Porter stems: {}\".format(stem_tokens(tokens, porter_stemmer)))\n",
        "print(\"Lancaster stems: {}\".format(stem_tokens(tokens, lancaster_stemmer)))\n",
        "print(\"Snowball stems: {}\".format(stem_tokens(tokens, snowball_stemmer)))"
      ],
      "execution_count": 157,
      "outputs": [
        {
          "output_type": "stream",
          "name": "stdout",
          "text": [
            "Porter stems: ['manag', 'manag', 'manag']\nLancaster stems: ['man', 'man', 'man']\nSnowball stems: ['manag', 'manag', 'manag']\n"
          ]
        }
      ]
    },
    {
      "cell_type": "markdown",
      "metadata": {
        "id": "H102rFNu6VzW"
      },
      "source": [
        "* Check over-stemming and under-stemming"
      ]
    },
    {
      "cell_type": "code",
      "metadata": {
        "id": "Y9beBm8O0Gpp"
      },
      "source": [
        "tokens = [\"international\", \"companies\", \"had\", \"interns\"]"
      ],
      "execution_count": 158,
      "outputs": []
    },
    {
      "cell_type": "code",
      "metadata": {
        "id": "pGGhCVph1VDp"
      },
      "source": [
        "print(\"Porter stems: {}\".format(stem_tokens(tokens, porter_stemmer)))\n",
        "print(\"Lancaster stems: {}\".format(stem_tokens(tokens, lancaster_stemmer)))\n",
        "print(\"Snowball stems: {}\".format(stem_tokens(tokens, snowball_stemmer)))"
      ],
      "execution_count": 159,
      "outputs": [
        {
          "output_type": "stream",
          "name": "stdout",
          "text": [
            "Porter stems: ['intern', 'compani', 'had', 'intern']\nLancaster stems: ['intern', 'company', 'had', 'intern']\nSnowball stems: ['intern', 'compani', 'had', 'intern']\n"
          ]
        }
      ]
    },
    {
      "cell_type": "markdown",
      "metadata": {
        "id": "62AsuQu6UIEn"
      },
      "source": [
        "<img src='https://drive.google.com/uc?export=view&id=1GYj-wj-so8jQ9-VDz1ayehgVh39Jmd4H' width=250px>\n",
        "\n",
        "## **2.5** Lemmatization"
      ]
    },
    {
      "cell_type": "markdown",
      "metadata": {
        "id": "Xk8rZjBEzcaI"
      },
      "source": [
        "More information about WordNet? Head over to https://wordnet.princeton.edu/\r\n",
        "\r\n",
        "* Import different libraries and modules used for lemmatization"
      ]
    },
    {
      "cell_type": "code",
      "metadata": {
        "id": "lUdQlhSQUL7T"
      },
      "source": [
        "from nltk.stem import WordNetLemmatizer\n",
        "from nltk.corpus import wordnet       # thousands of words in more than 200 languages \n",
        "nltk.download('wordnet')"
      ],
      "execution_count": 160,
      "outputs": [
        {
          "output_type": "stream",
          "name": "stderr",
          "text": [
            "[nltk_data] Downloading package wordnet to\n[nltk_data]     C:\\Users\\S10y01r\\AppData\\Roaming\\nltk_data...\n[nltk_data]   Package wordnet is already up-to-date!\n"
          ]
        },
        {
          "output_type": "execute_result",
          "data": {
            "text/plain": [
              "True"
            ]
          },
          "metadata": {},
          "execution_count": 160
        }
      ]
    },
    {
      "cell_type": "markdown",
      "metadata": {
        "id": "QgJuRIZf7yWQ"
      },
      "source": [
        "* List of tokens to lemmatize (remember that we lemmatize tokens and not entire sentences)"
      ]
    },
    {
      "cell_type": "code",
      "metadata": {
        "id": "kljxJlz0yJ8H"
      },
      "source": [
        "tokens = [\"international\", \"companies\", \"had\", \"interns\"]"
      ],
      "execution_count": 161,
      "outputs": []
    },
    {
      "cell_type": "markdown",
      "metadata": {
        "id": "uQjP0xoH2NcZ"
      },
      "source": [
        "* Part of Speech (POS) tagging"
      ]
    },
    {
      "cell_type": "code",
      "metadata": {
        "id": "oWHJMdHH18le"
      },
      "source": [
        "word_type = {\"international\": wordnet.ADJ,     # along with associated word with its grammatical form  we need to lemmatization be able to bring back the correct form of the word\n",
        "             \"companies\": wordnet.NOUN, \n",
        "             \"had\": wordnet.VERB, \n",
        "             \"interns\": wordnet.NOUN\n",
        "             }"
      ],
      "execution_count": 162,
      "outputs": []
    },
    {
      "cell_type": "markdown",
      "metadata": {
        "id": "e30o3j5N72sw"
      },
      "source": [
        "* Create the lemmatizer by using the `WordNet` module"
      ]
    },
    {
      "cell_type": "code",
      "metadata": {
        "id": "J-AAGLN4UWTO"
      },
      "source": [
        "lemmatizer = WordNetLemmatizer()"
      ],
      "execution_count": 163,
      "outputs": []
    },
    {
      "cell_type": "markdown",
      "metadata": {
        "id": "y9pDpdOo78jH"
      },
      "source": [
        "* Create a `lemmatize_tokens` function that takes the list of tokens as input and returns a list of lemmatized tokens"
      ]
    },
    {
      "cell_type": "code",
      "metadata": {
        "id": "D6Kiw9xOZE-F"
      },
      "source": [
        "def lemmatize_tokens(tokens, word_type, lemmatizer):\n",
        "  token_list = []\n",
        "  for token in tokens:\n",
        "    token_list.append(lemmatizer.lemmatize(token, word_type[token]))\n",
        "  return token_list\n",
        "\n",
        "\"\"\" def lemmatize(tokens , lemmatizer, word_type):\n",
        "  tokens_list = []\n",
        "  for token in tokens :\n",
        "    tokens.append(lemmatizer.lemmatize(token, word_type[token]))\n",
        "  return token_list \"\"\""
      ],
      "execution_count": 164,
      "outputs": [
        {
          "output_type": "execute_result",
          "data": {
            "text/plain": [
              "' def lemmatize(tokens , lemmatizer, word_type):\\n  tokens_list = []\\n  for token in tokens :\\n    tokens.append(lemmatizer.lemmatize(token, word_type[token]))\\n  return token_list '"
            ]
          },
          "metadata": {},
          "execution_count": 164
        }
      ]
    },
    {
      "cell_type": "code",
      "metadata": {
        "id": "2nnvMrk_UYZ1"
      },
      "source": [
        "print(\"Tweet lemma: {}\".format(\n",
        "    lemmatize_tokens(tokens, word_type, lemmatizer)))"
      ],
      "execution_count": 165,
      "outputs": [
        {
          "output_type": "stream",
          "name": "stdout",
          "text": [
            "Tweet lemma: ['international', 'company', 'have', 'intern']\n"
          ]
        }
      ]
    },
    {
      "cell_type": "markdown",
      "metadata": {
        "id": "DTervSXj3zkF"
      },
      "source": [
        "<img src='https://drive.google.com/uc?export=view&id=1GYj-wj-so8jQ9-VDz1ayehgVh39Jmd4H' width=250px>\r\n",
        "\r\n",
        "## **2.6** Putting it all together"
      ]
    },
    {
      "cell_type": "markdown",
      "metadata": {
        "id": "Ag9YSiUE8I03"
      },
      "source": [
        "* Long and complex tweet to be processed"
      ]
    },
    {
      "cell_type": "code",
      "metadata": {
        "id": "COBX24hLZiZn"
      },
      "source": [
        "complex_tweet = r\"\"\"RT @AIOutsider : he looooook, \n",
        "THis is a big and complex TWeet!!! 👍 ... \n",
        "We'd be glad if you couldn't normalize it! \n",
        "Check https://t.co/7777 and LET ME KNOW!!! #NLP #Fun\"\"\""
      ],
      "execution_count": 166,
      "outputs": []
    },
    {
      "cell_type": "markdown",
      "metadata": {
        "id": "7pRABF3t8MO0"
      },
      "source": [
        "* Create a custom `process_tweet` function that can be used to process tweets end-to-end\r\n",
        "* **Note**: this function will be used as a base for the following sections, so be careful!"
      ]
    },
    {
      "cell_type": "code",
      "metadata": {
        "id": "iiQofxMv37Ik"
      },
      "source": [
        "def process_tweet(tweet, verbose=False):\n",
        "  if verbose: print(\"Initial tweet: {}\".format(tweet))\n",
        "\n",
        "  ## Twitter Features\n",
        "  tweet = replace_retweet(tweet) # replace retweet\n",
        "  tweet = replace_user(tweet, \"\") # replace user tag\n",
        "  tweet = replace_url(tweet) # replace url\n",
        "  tweet = replace_hashtag(tweet) # replace hashtag\n",
        "  if verbose: print(\"Post Twitter processing tweet: {}\".format(tweet))\n",
        "\n",
        "  ## Word Features\n",
        "  tweet = to_lowercase(tweet) # lower case\n",
        "  tweet = fix_contractions(tweet) # replace contractions\n",
        "  tweet = punct_repetition(tweet) # replace punctuation repetition\n",
        "  tweet = word_repetition(tweet) # replace word repetition\n",
        "  tweet = demojize(tweet) # replace emojis\n",
        "  if verbose: print(\"Post Word processing tweet: {}\".format(tweet))\n",
        "\n",
        "  ## Tokenization & Stemming\n",
        "  tokens = custom_tokenize(tweet, keep_alnum=False, keep_stop=False) # tokenize\n",
        "  stemmer = SnowballStemmer(\"english\") # define stemmer\n",
        "  stem = stem_tokens(tokens, stemmer) # stem tokens\n",
        "\n",
        "  return stem"
      ],
      "execution_count": 167,
      "outputs": []
    },
    {
      "cell_type": "markdown",
      "metadata": {
        "id": "SKBv4elc81PC"
      },
      "source": [
        "* Test your `process_tweet` function!"
      ]
    },
    {
      "cell_type": "code",
      "metadata": {
        "id": "_Xb146QF4uhj"
      },
      "source": [
        "print(process_tweet(complex_tweet, verbose=True))"
      ],
      "execution_count": 168,
      "outputs": [
        {
          "output_type": "stream",
          "name": "stdout",
          "text": [
            "Initial tweet: RT @AIOutsider : he looooook, \nTHis is a big and complex TWeet!!! 👍 ... \nWe'd be glad if you couldn't normalize it! \nCheck https://t.co/7777 and LET ME KNOW!!! #NLP #Fun\nPost Twitter processing tweet:  : he looooook, \nTHis is a big and complex TWeet!!! 👍 ... \nWe'd be glad if you couldn't normalize it! \nCheck  and LET ME KNOW!!! NLP Fun\nPost Word processing tweet:  : he look, \nthis is a big and complex tweet! :thumbs_up: . \nwe would be glad if you could not normalize it! \ncheck  and let me know! nlp fun\n['look', 'big', 'complex', 'tweet', 'would', 'glad', 'could', 'not', 'normal', 'check', 'let', 'know', 'nlp', 'fun']\n"
          ]
        }
      ]
    },
    {
      "cell_type": "markdown",
      "metadata": {
        "id": "Hy48UzeYHFoP"
      },
      "source": [
        "* Look at some more examples! \n",
        "* **Note:** it's totally possible you encounter some strange tweet processing (happens if the original tweet is initially strangely written) "
      ]
    },
    {
      "cell_type": "code",
      "metadata": {
        "id": "26lxJnf2K7zd"
      },
      "source": [
        "import random"
      ],
      "execution_count": 169,
      "outputs": []
    },
    {
      "cell_type": "code",
      "metadata": {
        "id": "XBa0HUtM4x0n"
      },
      "source": [
        "for i in range(5):\n",
        "  tweet_id = random.randint(0,len(df))\n",
        "  tweet = df.iloc[tweet_id][\"tweet_text\"]\n",
        "  print(process_tweet(tweet, verbose=True))\n",
        "  print(\"\\n\")\n",
        "\n"
      ],
      "execution_count": 170,
      "outputs": [
        {
          "output_type": "stream",
          "name": "stdout",
          "text": [
            "Initial tweet: @nicole_honey thank you  i have a business exam tomorrow too :/\nPost Twitter processing tweet:  thank you  i have a business exam tomorrow too :/\nPost Word processing tweet:  thank you  i have a business exam tomorrow too :/\n['thank', 'busi', 'exam', 'tomorrow']\n\n\nInitial tweet: feelin depressed ,, i miss you soo damn fcking much besties  ..i wish i wouldnt have left yt\nPost Twitter processing tweet: feelin depressed ,, i miss you soo damn fcking much besties  ..i wish i wouldnt have left yt\nPost Word processing tweet: feelin depressed ,, i miss you soo damn fcking much besties  .i wish i would not have left yt\n['feelin', 'depress', 'miss', 'soo', 'damn', 'fcking', 'much', 'besti', 'wish', 'would', 'not', 'left', 'yt']\n\n\nInitial tweet: Oh good God crampsss...\nPost Twitter processing tweet: Oh good God crampsss...\nPost Word processing tweet: oh good god crampss.\n['oh', 'good', 'god', 'crampss']\n\n\nInitial tweet: Which would be a lot easier to get if plane tickets to AZ didnt raise $80 in price\nPost Twitter processing tweet: Which would be a lot easier to get if plane tickets to AZ didnt raise $80 in price\nPost Word processing tweet: which would be a lot easier to get if plane tickets to az did not raise $80 in price\n['would', 'lot', 'easier', 'get', 'plane', 'ticket', 'az', 'not', 'rais', 'price']\n\n\nInitial tweet: @DonniesCupcake i bet they will be great bags! Can't wait!\nPost Twitter processing tweet:  i bet they will be great bags! Can't wait!\nPost Word processing tweet:  i bet they will be great bags! can not wait!\n['bet', 'great', 'bag', 'not', 'wait']\n\n\n"
          ]
        }
      ]
    },
    {
      "cell_type": "markdown",
      "metadata": {
        "id": "haxwoF1IM1f1"
      },
      "source": [
        "That's it for this section! \r\n",
        "\r\n",
        "See you in `Section 3` where we will talk about Text Representation and get close to predicting real tweet sentiment!\r\n",
        "\r\n",
        "\r\n",
        "<img src='https://drive.google.com/uc?export=view&id=1-PExlpxdip_2t7wN9Ru8Sn_jTTxj3MlA' width=100px>"
      ]
    },
    {
      "cell_type": "markdown",
      "metadata": {
        "id": "V1ScK4-f_cJB"
      },
      "source": [
        "<img src='https://drive.google.com/uc?export=view&id=1GYj-wj-so8jQ9-VDz1ayehgVh39Jmd4H' width=650px>\n",
        "\n",
        "# `Section 3` Text Representation </h2>"
      ]
    },
    {
      "cell_type": "markdown",
      "metadata": {
        "id": "dgEa9cqUzoEK"
      },
      "source": [
        "<img src='https://drive.google.com/uc?export=view&id=1GYj-wj-so8jQ9-VDz1ayehgVh39Jmd4H' width=250px>\r\n",
        "\r\n",
        "## **3.1** Processing Tweets"
      ]
    },
    {
      "cell_type": "markdown",
      "metadata": {
        "id": "oIz-oZSEqJB7"
      },
      "source": [
        "* Install the `Scikit-Learn` package which is very useful for a lot of different ML tasks. \r\n",
        "* **Note:** make sure it is installed and up-to-date (once installed/updated, you might be asked to reload Colab). "
      ]
    },
    {
      "cell_type": "code",
      "metadata": {
        "id": "T1oZA6AjqC3X"
      },
      "source": [
        "pip install -U scikit-learn "
      ],
      "execution_count": 171,
      "outputs": [
        {
          "output_type": "stream",
          "name": "stdout",
          "text": [
            "Requirement already satisfied: scikit-learn in c:\\users\\s10y01r\\appdata\\local\\programs\\python\\python38\\lib\\site-packages (0.24.1)\n",
            "Collecting scikit-learn\n",
            "  Downloading scikit_learn-0.24.2-cp38-cp38-win_amd64.whl (6.9 MB)\n",
            "Requirement already satisfied: threadpoolctl>=2.0.0 in c:\\users\\s10y01r\\appdata\\local\\programs\\python\\python38\\lib\\site-packages (from scikit-learn) (2.1.0)\n",
            "Requirement already satisfied: scipy>=0.19.1 in c:\\users\\s10y01r\\appdata\\local\\programs\\python\\python38\\lib\\site-packages (from scikit-learn) (1.6.1)\n",
            "Requirement already satisfied: numpy>=1.13.3 in c:\\users\\s10y01r\\appdata\\local\\programs\\python\\python38\\lib\\site-packages (from scikit-learn) (1.19.5)\n",
            "Requirement already satisfied: joblib>=0.11 in c:\\users\\s10y01r\\appdata\\local\\programs\\python\\python38\\lib\\site-packages (from scikit-learn) (1.0.1)\n",
            "Installing collected packages: scikit-learn\n",
            "  Attempting uninstall: scikit-learn\n",
            "    Found existing installation: scikit-learn 0.24.1\n",
            "    Uninstalling scikit-learn-0.24.1:\n",
            "      Successfully uninstalled scikit-learn-0.24.1\n",
            "Note: you may need to restart the kernel to use updated packages.\n",
            "ERROR: Could not install packages due to an OSError: [WinError 5] Access is denied: 'C:\\\\Users\\\\S10y01r\\\\AppData\\\\Local\\\\Programs\\\\Python\\\\Python38\\\\Lib\\\\site-packages\\\\~klearn\\\\.libs\\\\vcomp140.dll'\n",
            "Consider using the `--user` option or check the permissions.\n",
            "\n"
          ]
        }
      ]
    },
    {
      "cell_type": "markdown",
      "metadata": {
        "id": "MjvFLUXi_Ukv"
      },
      "source": [
        "* Apply `process_tweet` function created in section 2 to the entire DataFrame\r\n",
        "* Convert sentiment to 1 for \"positive\" and 0 for \"negative\" sentiment"
      ]
    },
    {
      "cell_type": "code",
      "metadata": {
        "id": "B0_4R6tNqcAg"
      },
      "source": [
        "df['tokens'] = df['tweet_text'].apply(process_tweet)\n",
        "df['tweet_sentiment'] = df['sentiment'].apply(lambda x : 1 if x == 'positive' else 0)"
      ],
      "execution_count": 172,
      "outputs": []
    },
    {
      "cell_type": "markdown",
      "metadata": {
        "id": "6YHtN5xwqiGM"
      },
      "source": [
        "* Convert DataFrame to two lists: one for the tweet tokens (X) and one for the tweet sentiment (y)\r\n",
        "\r\n",
        "\r\n",
        "\r\n",
        "\r\n",
        "\r\n"
      ]
    },
    {
      "cell_type": "code",
      "metadata": {
        "id": "ru_1XwdIqgXH"
      },
      "source": [
        "X= df['tokens'].to_list()\n",
        "y = df['tweet_sentiment'].to_list()"
      ],
      "execution_count": 173,
      "outputs": []
    },
    {
      "cell_type": "code",
      "metadata": {
        "id": "dm6k_K81i1cG",
        "tags": []
      },
      "source": [
        "print(X[:20])\n",
        "print(y[:20])"
      ],
      "execution_count": 210,
      "outputs": [
        {
          "output_type": "stream",
          "name": "stdout",
          "text": [
            "[['layin', 'n', 'bed', 'headach', 'call'], ['funer', 'friday'], ['want', 'hang', 'friend', 'soon'], ['not', 'go', 'prom', 'bc', 'bf', 'not', 'like', 'friend'], ['hmm'], ['charlen', 'love', 'miss'], ['i', 'sorri', 'least', 'friday'], ['choke', 'retain'], ['ugh', 'beat', 'stupid', 'song', 'get', 'next', 'rude'], ['watch', 'hill', 'london', 'realis', 'tourtur', 'week', 'week', 'late', 'watch', 'itonlinelol'], ['sleepi', 'not', 'even', 'late', 'fail'], ['ladi', 'gaga', 'tweet', 'not', 'impress', 'video', 'leak', 'know'], ['convinc', 'alway', 'want', 'signal', 'give', 'think', 'lost', 'anoth', 'friend'], ['way', 'home', 'n', 'deal', 'w', 'underag', 'girl', 'drink', 'gin', 'da', 'bus', 'talk', 'bout', 'feel', 'old'], ['i', 'sorri', 'peopl', 'rude', 'isaac', 'get', 'manner', 'know', 'better', 'lewd'], ['damm', 'server', 'still', 'need', 'hit', 'koxper', 'pass'], ['fudg', 'bs', 'whole', 'paper', 'tire', 'ugh', 'hate', 'school', 'time', 'sleep'], ['hate', 'cancer', 'hate', 'hate', 'hate'], ['annoy', 'start', 'type', 'comput', 'middl', 'night'], ['not', 'sleep']]\n[0, 0, 1, 0, 0, 0, 0, 0, 0, 0, 0, 0, 0, 0, 0, 0, 0, 0, 0, 0]\n"
          ]
        }
      ]
    },
    {
      "cell_type": "markdown",
      "metadata": {
        "id": "wgcJewZTobFk"
      },
      "source": [
        "<img src='https://drive.google.com/uc?export=view&id=1GYj-wj-so8jQ9-VDz1ayehgVh39Jmd4H' width=250px>\r\n",
        "\r\n",
        "## **3.2** Positive/Negative Frequency"
      ]
    },
    {
      "cell_type": "markdown",
      "metadata": {
        "id": "gBpw9KYPHcz5"
      },
      "source": [
        "* Corpus of tweet tokens used for the first method"
      ]
    },
    {
      "cell_type": "code",
      "metadata": {
        "id": "VygUsA2VbNQv"
      },
      "source": [
        "corpus = [[\"i\", \"love\", \"nlp\"],\n",
        "          [\"i\", \"miss\", \"you\"],\n",
        "          [\"i\", \"love\", \"you\"],\n",
        "          [\"you\", \"are\", \"happy\", \"to\", \"learn\"],\n",
        "          [\"i\", \"lost\", \"my\", \"computer\"],\n",
        "          [\"i\", \"am\", \"so\", \"sad\"]]\n",
        "\n",
        "sentiment = [1, 0, 1, 1, 0, 0]"
      ],
      "execution_count": 175,
      "outputs": []
    },
    {
      "cell_type": "markdown",
      "metadata": {
        "id": "nLdGueKbv9o9"
      },
      "source": [
        "\r\n",
        "* Create a `build_freqs` function used to build a dictionnary with the word and sentiment as index and the count of occurence as value\r\n",
        "\r\n",
        "\r\n",
        "<table style=\"width:100%\">\r\n",
        "  <tr>\r\n",
        "    <th>Word</th>\r\n",
        "    <th>Positive</th>\r\n",
        "    <th>Negative</th>\r\n",
        "  </tr>\r\n",
        "  <tr>\r\n",
        "    <td>love</td>\r\n",
        "    <td>dict[(love, 1)]</td>\r\n",
        "    <td>dict[(love, 0)]</td>\r\n",
        "  </tr>\r\n",
        "  <tr>\r\n",
        "    <td>lost</td>\r\n",
        "    <td>dict[(lost, 1)]</td>\r\n",
        "    <td>dict[(lost, 0)]</td>\r\n",
        "  </tr>\r\n",
        "  <tr>\r\n",
        "    <td>happy</td>\r\n",
        "    <td>dict[(happy, 1)]</td>\r\n",
        "    <td>dict[(happy, 0)]</td>\r\n",
        "  </tr>\r\n",
        "</table>\r\n"
      ]
    },
    {
      "cell_type": "code",
      "metadata": {
        "id": "PSSP3EFyp9Nr"
      },
      "source": [
        "def build_freqs(tweet_list, sentiment_list):\n",
        "  freqs = {}\n",
        "  for tweet, sentiment in zip(tweet_list, sentiment_list):\n",
        "    for word in tweet:\n",
        "      pair = (word, sentiment)\n",
        "      if pair in freqs:\n",
        "        freqs[pair] += 1\n",
        "      else:\n",
        "        freqs[pair] = 1\n",
        "  return freqs"
      ],
      "execution_count": 176,
      "outputs": []
    },
    {
      "cell_type": "markdown",
      "metadata": {
        "id": "dpMlVUPPx136"
      },
      "source": [
        "* Build the frequency dictionnary on the corpus by using the function"
      ]
    },
    {
      "cell_type": "code",
      "metadata": {
        "id": "S58DffMwi5vN"
      },
      "source": [
        "freqs = build_freqs(corpus,sentiment)"
      ],
      "execution_count": 177,
      "outputs": []
    },
    {
      "cell_type": "code",
      "metadata": {
        "id": "Pb0BvLORtJql"
      },
      "source": [
        "print(freqs)"
      ],
      "execution_count": 178,
      "outputs": [
        {
          "output_type": "stream",
          "name": "stdout",
          "text": [
            "{('i', 1): 2, ('love', 1): 2, ('nlp', 1): 1, ('i', 0): 3, ('miss', 0): 1, ('you', 0): 1, ('you', 1): 2, ('are', 1): 1, ('happy', 1): 1, ('to', 1): 1, ('learn', 1): 1, ('lost', 0): 1, ('my', 0): 1, ('computer', 0): 1, ('am', 0): 1, ('so', 0): 1, ('sad', 0): 1}\n"
          ]
        }
      ]
    },
    {
      "cell_type": "markdown",
      "metadata": {
        "id": "64pK3pBlx_Hn"
      },
      "source": [
        "* Build the frequency dictionnary on the entire dataset by using the function"
      ]
    },
    {
      "cell_type": "code",
      "metadata": {
        "id": "6vnVv4TOi63Y"
      },
      "source": [
        "freqs_all = build_freqs(X,y)"
      ],
      "execution_count": 179,
      "outputs": []
    },
    {
      "cell_type": "code",
      "metadata": {
        "id": "mvafc_1fsktr"
      },
      "source": [
        "print(\"Frequency of word 'love' in + tweets: {}\".format(freqs_all[(\"love\", 1)]))\n",
        "print(\"Frequency of word 'love' in - tweets: {}\".format(freqs_all[(\"love\", 0)]))"
      ],
      "execution_count": 180,
      "outputs": [
        {
          "output_type": "stream",
          "name": "stdout",
          "text": [
            "Frequency of word 'love' in + tweets: 1358\nFrequency of word 'love' in - tweets: 67\n"
          ]
        }
      ]
    },
    {
      "cell_type": "markdown",
      "metadata": {
        "id": "KosMwShRyUTW"
      },
      "source": [
        "* Create a `tweet_to_freqs` function used to convert tweets to a 2-d array by using the frequency dictionnary"
      ]
    },
    {
      "cell_type": "code",
      "metadata": {
        "id": "6QoyYL6wtTBP"
      },
      "source": [
        "def tweet_to_freq(tweet, freqs):\n",
        "  x = np.zeros((2,))\n",
        "  for word in tweet:\n",
        "    if (word, 1) in freqs:\n",
        "      x[0] += freqs[(word, 1)]\n",
        "    if (word, 0) in freqs:\n",
        "      x[1] += freqs[(word, 0)]\n",
        "  return x"
      ],
      "execution_count": 181,
      "outputs": []
    },
    {
      "cell_type": "markdown",
      "metadata": {
        "id": "jjGynFT_JOKY"
      },
      "source": [
        "* Print the 2-d vector by using the `tweet_to_freqs` function and the *corpus* dictionnary"
      ]
    },
    {
      "cell_type": "code",
      "metadata": {
        "id": "2Nrowt5T0ZQl"
      },
      "source": [
        "print(tweet_to_freq([\"i\", \"love\", \"nlp\"], freqs))"
      ],
      "execution_count": 182,
      "outputs": [
        {
          "output_type": "stream",
          "name": "stdout",
          "text": [
            "[5. 3.]\n"
          ]
        }
      ]
    },
    {
      "cell_type": "markdown",
      "metadata": {
        "id": "o0csoh9UJWgP"
      },
      "source": [
        "* Print the 2-d vector by using the `tweet_to_freqs` function and the *dataset* dictionnary"
      ]
    },
    {
      "cell_type": "code",
      "metadata": {
        "id": "PTmNWLcD2QGn"
      },
      "source": [
        "print(tweet_to_freq([\"i\", \"love\", \"nlp\"], freqs_all))"
      ],
      "execution_count": 183,
      "outputs": [
        {
          "output_type": "stream",
          "name": "stdout",
          "text": [
            "[2528. 1739.]\n"
          ]
        }
      ]
    },
    {
      "cell_type": "markdown",
      "metadata": {
        "id": "WsLNWRrh2XQ9"
      },
      "source": [
        "* Plot word vectors in a chart and see where they locate"
      ]
    },
    {
      "cell_type": "code",
      "metadata": {
        "id": "JL3E5vRrxJrZ"
      },
      "source": [
        "fig, ax = plt.subplots(figsize = (8, 8))\n",
        "\n",
        "word1 = \"happi\"\n",
        "word2 = \"sad\"\n",
        "\n",
        "def word_features(word, freqs):\n",
        "  x = np.zeros((2,))\n",
        "  if (word, 1) in freqs:\n",
        "    x[0] = np.log(freqs[(word, 1)] + 1)\n",
        "  if (word, 0) in freqs:\n",
        "    x[1] = np.log(freqs[(word, 0)] + 1)\n",
        "  return x\n",
        "\n",
        "x_axis = [word_features(word, freqs_all)[0] for word in [word1, word2]]\n",
        "y_axis = [word_features(word, freqs_all)[1] for word in [word1, word2]]\n",
        "\n",
        "ax.scatter(x_axis, y_axis)  \n",
        "\n",
        "plt.xlabel(\"Log Positive count\")\n",
        "plt.ylabel(\"Log Negative count\")\n",
        "\n",
        "ax.plot([0, 9], [0, 9], color = 'red')\n",
        "plt.text(x_axis[0], y_axis[0], word1)\n",
        "plt.text(x_axis[1], y_axis[1], word2)\n",
        "plt.show()"
      ],
      "execution_count": 184,
      "outputs": [
        {
          "output_type": "display_data",
          "data": {
            "text/plain": "<Figure size 576x576 with 1 Axes>",
            "image/svg+xml": "<?xml version=\"1.0\" encoding=\"utf-8\" standalone=\"no\"?>\r\n<!DOCTYPE svg PUBLIC \"-//W3C//DTD SVG 1.1//EN\"\r\n  \"http://www.w3.org/Graphics/SVG/1.1/DTD/svg11.dtd\">\r\n<!-- Created with matplotlib (https://matplotlib.org/) -->\r\n<svg height=\"479.63625pt\" version=\"1.1\" viewBox=\"0 0 487.840625 479.63625\" width=\"487.840625pt\" xmlns=\"http://www.w3.org/2000/svg\" xmlns:xlink=\"http://www.w3.org/1999/xlink\">\r\n <metadata>\r\n  <rdf:RDF xmlns:cc=\"http://creativecommons.org/ns#\" xmlns:dc=\"http://purl.org/dc/elements/1.1/\" xmlns:rdf=\"http://www.w3.org/1999/02/22-rdf-syntax-ns#\">\r\n   <cc:Work>\r\n    <dc:type rdf:resource=\"http://purl.org/dc/dcmitype/StillImage\"/>\r\n    <dc:date>2021-05-08T00:48:28.967129</dc:date>\r\n    <dc:format>image/svg+xml</dc:format>\r\n    <dc:creator>\r\n     <cc:Agent>\r\n      <dc:title>Matplotlib v3.3.4, https://matplotlib.org/</dc:title>\r\n     </cc:Agent>\r\n    </dc:creator>\r\n   </cc:Work>\r\n  </rdf:RDF>\r\n </metadata>\r\n <defs>\r\n  <style type=\"text/css\">*{stroke-linecap:butt;stroke-linejoin:round;}</style>\r\n </defs>\r\n <g id=\"figure_1\">\r\n  <g id=\"patch_1\">\r\n   <path d=\"M 0 479.63625 \r\nL 487.840625 479.63625 \r\nL 487.840625 0 \r\nL 0 0 \r\nz\r\n\" style=\"fill:none;\"/>\r\n  </g>\r\n  <g id=\"axes_1\">\r\n   <g id=\"patch_2\">\r\n    <path d=\"M 34.240625 442.08 \r\nL 480.640625 442.08 \r\nL 480.640625 7.2 \r\nL 34.240625 7.2 \r\nz\r\n\" style=\"fill:#ffffff;\"/>\r\n   </g>\r\n   <g id=\"PathCollection_1\">\r\n    <defs>\r\n     <path d=\"M 0 3 \r\nC 0.795609 3 1.55874 2.683901 2.12132 2.12132 \r\nC 2.683901 1.55874 3 0.795609 3 0 \r\nC 3 -0.795609 2.683901 -1.55874 2.12132 -2.12132 \r\nC 1.55874 -2.683901 0.795609 -3 0 -3 \r\nC -0.795609 -3 -1.55874 -2.683901 -2.12132 -2.12132 \r\nC -2.683901 -1.55874 -3 -0.795609 -3 0 \r\nC -3 0.795609 -2.683901 1.55874 -2.12132 2.12132 \r\nC -1.55874 2.683901 -0.795609 3 0 3 \r\nz\r\n\" id=\"ma799c4e9e4\" style=\"stroke:#1f77b4;\"/>\r\n    </defs>\r\n    <g clip-path=\"url(#p2e55d66a0e)\">\r\n     <use style=\"fill:#1f77b4;stroke:#1f77b4;\" x=\"366.812918\" xlink:href=\"#ma799c4e9e4\" y=\"246.28151\"/>\r\n     <use style=\"fill:#1f77b4;stroke:#1f77b4;\" x=\"153.606388\" xlink:href=\"#ma799c4e9e4\" y=\"148.62467\"/>\r\n    </g>\r\n   </g>\r\n   <g id=\"matplotlib.axis_1\">\r\n    <g id=\"xtick_1\">\r\n     <g id=\"line2d_1\">\r\n      <defs>\r\n       <path d=\"M 0 0 \r\nL 0 3.5 \r\n\" id=\"mccb9dcc81d\" style=\"stroke:#000000;stroke-width:0.8;\"/>\r\n      </defs>\r\n      <g>\r\n       <use style=\"stroke:#000000;stroke-width:0.8;\" x=\"54.531534\" xlink:href=\"#mccb9dcc81d\" y=\"442.08\"/>\r\n      </g>\r\n     </g>\r\n     <g id=\"text_1\">\r\n      <!-- 0 -->\r\n      <g transform=\"translate(51.350284 456.678437)scale(0.1 -0.1)\">\r\n       <defs>\r\n        <path d=\"M 31.78125 66.40625 \r\nQ 24.171875 66.40625 20.328125 58.90625 \r\nQ 16.5 51.421875 16.5 36.375 \r\nQ 16.5 21.390625 20.328125 13.890625 \r\nQ 24.171875 6.390625 31.78125 6.390625 \r\nQ 39.453125 6.390625 43.28125 13.890625 \r\nQ 47.125 21.390625 47.125 36.375 \r\nQ 47.125 51.421875 43.28125 58.90625 \r\nQ 39.453125 66.40625 31.78125 66.40625 \r\nz\r\nM 31.78125 74.21875 \r\nQ 44.046875 74.21875 50.515625 64.515625 \r\nQ 56.984375 54.828125 56.984375 36.375 \r\nQ 56.984375 17.96875 50.515625 8.265625 \r\nQ 44.046875 -1.421875 31.78125 -1.421875 \r\nQ 19.53125 -1.421875 13.0625 8.265625 \r\nQ 6.59375 17.96875 6.59375 36.375 \r\nQ 6.59375 54.828125 13.0625 64.515625 \r\nQ 19.53125 74.21875 31.78125 74.21875 \r\nz\r\n\" id=\"DejaVuSans-48\"/>\r\n       </defs>\r\n       <use xlink:href=\"#DejaVuSans-48\"/>\r\n      </g>\r\n     </g>\r\n    </g>\r\n    <g id=\"xtick_2\">\r\n     <g id=\"line2d_2\">\r\n      <g>\r\n       <use style=\"stroke:#000000;stroke-width:0.8;\" x=\"144.713352\" xlink:href=\"#mccb9dcc81d\" y=\"442.08\"/>\r\n      </g>\r\n     </g>\r\n     <g id=\"text_2\">\r\n      <!-- 2 -->\r\n      <g transform=\"translate(141.532102 456.678437)scale(0.1 -0.1)\">\r\n       <defs>\r\n        <path d=\"M 19.1875 8.296875 \r\nL 53.609375 8.296875 \r\nL 53.609375 0 \r\nL 7.328125 0 \r\nL 7.328125 8.296875 \r\nQ 12.9375 14.109375 22.625 23.890625 \r\nQ 32.328125 33.6875 34.8125 36.53125 \r\nQ 39.546875 41.84375 41.421875 45.53125 \r\nQ 43.3125 49.21875 43.3125 52.78125 \r\nQ 43.3125 58.59375 39.234375 62.25 \r\nQ 35.15625 65.921875 28.609375 65.921875 \r\nQ 23.96875 65.921875 18.8125 64.3125 \r\nQ 13.671875 62.703125 7.8125 59.421875 \r\nL 7.8125 69.390625 \r\nQ 13.765625 71.78125 18.9375 73 \r\nQ 24.125 74.21875 28.421875 74.21875 \r\nQ 39.75 74.21875 46.484375 68.546875 \r\nQ 53.21875 62.890625 53.21875 53.421875 \r\nQ 53.21875 48.921875 51.53125 44.890625 \r\nQ 49.859375 40.875 45.40625 35.40625 \r\nQ 44.1875 33.984375 37.640625 27.21875 \r\nQ 31.109375 20.453125 19.1875 8.296875 \r\nz\r\n\" id=\"DejaVuSans-50\"/>\r\n       </defs>\r\n       <use xlink:href=\"#DejaVuSans-50\"/>\r\n      </g>\r\n     </g>\r\n    </g>\r\n    <g id=\"xtick_3\">\r\n     <g id=\"line2d_3\">\r\n      <g>\r\n       <use style=\"stroke:#000000;stroke-width:0.8;\" x=\"234.89517\" xlink:href=\"#mccb9dcc81d\" y=\"442.08\"/>\r\n      </g>\r\n     </g>\r\n     <g id=\"text_3\">\r\n      <!-- 4 -->\r\n      <g transform=\"translate(231.71392 456.678437)scale(0.1 -0.1)\">\r\n       <defs>\r\n        <path d=\"M 37.796875 64.3125 \r\nL 12.890625 25.390625 \r\nL 37.796875 25.390625 \r\nz\r\nM 35.203125 72.90625 \r\nL 47.609375 72.90625 \r\nL 47.609375 25.390625 \r\nL 58.015625 25.390625 \r\nL 58.015625 17.1875 \r\nL 47.609375 17.1875 \r\nL 47.609375 0 \r\nL 37.796875 0 \r\nL 37.796875 17.1875 \r\nL 4.890625 17.1875 \r\nL 4.890625 26.703125 \r\nz\r\n\" id=\"DejaVuSans-52\"/>\r\n       </defs>\r\n       <use xlink:href=\"#DejaVuSans-52\"/>\r\n      </g>\r\n     </g>\r\n    </g>\r\n    <g id=\"xtick_4\">\r\n     <g id=\"line2d_4\">\r\n      <g>\r\n       <use style=\"stroke:#000000;stroke-width:0.8;\" x=\"325.076989\" xlink:href=\"#mccb9dcc81d\" y=\"442.08\"/>\r\n      </g>\r\n     </g>\r\n     <g id=\"text_4\">\r\n      <!-- 6 -->\r\n      <g transform=\"translate(321.895739 456.678437)scale(0.1 -0.1)\">\r\n       <defs>\r\n        <path d=\"M 33.015625 40.375 \r\nQ 26.375 40.375 22.484375 35.828125 \r\nQ 18.609375 31.296875 18.609375 23.390625 \r\nQ 18.609375 15.53125 22.484375 10.953125 \r\nQ 26.375 6.390625 33.015625 6.390625 \r\nQ 39.65625 6.390625 43.53125 10.953125 \r\nQ 47.40625 15.53125 47.40625 23.390625 \r\nQ 47.40625 31.296875 43.53125 35.828125 \r\nQ 39.65625 40.375 33.015625 40.375 \r\nz\r\nM 52.59375 71.296875 \r\nL 52.59375 62.3125 \r\nQ 48.875 64.0625 45.09375 64.984375 \r\nQ 41.3125 65.921875 37.59375 65.921875 \r\nQ 27.828125 65.921875 22.671875 59.328125 \r\nQ 17.53125 52.734375 16.796875 39.40625 \r\nQ 19.671875 43.65625 24.015625 45.921875 \r\nQ 28.375 48.1875 33.59375 48.1875 \r\nQ 44.578125 48.1875 50.953125 41.515625 \r\nQ 57.328125 34.859375 57.328125 23.390625 \r\nQ 57.328125 12.15625 50.6875 5.359375 \r\nQ 44.046875 -1.421875 33.015625 -1.421875 \r\nQ 20.359375 -1.421875 13.671875 8.265625 \r\nQ 6.984375 17.96875 6.984375 36.375 \r\nQ 6.984375 53.65625 15.1875 63.9375 \r\nQ 23.390625 74.21875 37.203125 74.21875 \r\nQ 40.921875 74.21875 44.703125 73.484375 \r\nQ 48.484375 72.75 52.59375 71.296875 \r\nz\r\n\" id=\"DejaVuSans-54\"/>\r\n       </defs>\r\n       <use xlink:href=\"#DejaVuSans-54\"/>\r\n      </g>\r\n     </g>\r\n    </g>\r\n    <g id=\"xtick_5\">\r\n     <g id=\"line2d_5\">\r\n      <g>\r\n       <use style=\"stroke:#000000;stroke-width:0.8;\" x=\"415.258807\" xlink:href=\"#mccb9dcc81d\" y=\"442.08\"/>\r\n      </g>\r\n     </g>\r\n     <g id=\"text_5\">\r\n      <!-- 8 -->\r\n      <g transform=\"translate(412.077557 456.678437)scale(0.1 -0.1)\">\r\n       <defs>\r\n        <path d=\"M 31.78125 34.625 \r\nQ 24.75 34.625 20.71875 30.859375 \r\nQ 16.703125 27.09375 16.703125 20.515625 \r\nQ 16.703125 13.921875 20.71875 10.15625 \r\nQ 24.75 6.390625 31.78125 6.390625 \r\nQ 38.8125 6.390625 42.859375 10.171875 \r\nQ 46.921875 13.96875 46.921875 20.515625 \r\nQ 46.921875 27.09375 42.890625 30.859375 \r\nQ 38.875 34.625 31.78125 34.625 \r\nz\r\nM 21.921875 38.8125 \r\nQ 15.578125 40.375 12.03125 44.71875 \r\nQ 8.5 49.078125 8.5 55.328125 \r\nQ 8.5 64.0625 14.71875 69.140625 \r\nQ 20.953125 74.21875 31.78125 74.21875 \r\nQ 42.671875 74.21875 48.875 69.140625 \r\nQ 55.078125 64.0625 55.078125 55.328125 \r\nQ 55.078125 49.078125 51.53125 44.71875 \r\nQ 48 40.375 41.703125 38.8125 \r\nQ 48.828125 37.15625 52.796875 32.3125 \r\nQ 56.78125 27.484375 56.78125 20.515625 \r\nQ 56.78125 9.90625 50.3125 4.234375 \r\nQ 43.84375 -1.421875 31.78125 -1.421875 \r\nQ 19.734375 -1.421875 13.25 4.234375 \r\nQ 6.78125 9.90625 6.78125 20.515625 \r\nQ 6.78125 27.484375 10.78125 32.3125 \r\nQ 14.796875 37.15625 21.921875 38.8125 \r\nz\r\nM 18.3125 54.390625 \r\nQ 18.3125 48.734375 21.84375 45.5625 \r\nQ 25.390625 42.390625 31.78125 42.390625 \r\nQ 38.140625 42.390625 41.71875 45.5625 \r\nQ 45.3125 48.734375 45.3125 54.390625 \r\nQ 45.3125 60.0625 41.71875 63.234375 \r\nQ 38.140625 66.40625 31.78125 66.40625 \r\nQ 25.390625 66.40625 21.84375 63.234375 \r\nQ 18.3125 60.0625 18.3125 54.390625 \r\nz\r\n\" id=\"DejaVuSans-56\"/>\r\n       </defs>\r\n       <use xlink:href=\"#DejaVuSans-56\"/>\r\n      </g>\r\n     </g>\r\n    </g>\r\n    <g id=\"text_6\">\r\n     <!-- Log Positive count -->\r\n     <g transform=\"translate(211.952344 470.356562)scale(0.1 -0.1)\">\r\n      <defs>\r\n       <path d=\"M 9.8125 72.90625 \r\nL 19.671875 72.90625 \r\nL 19.671875 8.296875 \r\nL 55.171875 8.296875 \r\nL 55.171875 0 \r\nL 9.8125 0 \r\nz\r\n\" id=\"DejaVuSans-76\"/>\r\n       <path d=\"M 30.609375 48.390625 \r\nQ 23.390625 48.390625 19.1875 42.75 \r\nQ 14.984375 37.109375 14.984375 27.296875 \r\nQ 14.984375 17.484375 19.15625 11.84375 \r\nQ 23.34375 6.203125 30.609375 6.203125 \r\nQ 37.796875 6.203125 41.984375 11.859375 \r\nQ 46.1875 17.53125 46.1875 27.296875 \r\nQ 46.1875 37.015625 41.984375 42.703125 \r\nQ 37.796875 48.390625 30.609375 48.390625 \r\nz\r\nM 30.609375 56 \r\nQ 42.328125 56 49.015625 48.375 \r\nQ 55.71875 40.765625 55.71875 27.296875 \r\nQ 55.71875 13.875 49.015625 6.21875 \r\nQ 42.328125 -1.421875 30.609375 -1.421875 \r\nQ 18.84375 -1.421875 12.171875 6.21875 \r\nQ 5.515625 13.875 5.515625 27.296875 \r\nQ 5.515625 40.765625 12.171875 48.375 \r\nQ 18.84375 56 30.609375 56 \r\nz\r\n\" id=\"DejaVuSans-111\"/>\r\n       <path d=\"M 45.40625 27.984375 \r\nQ 45.40625 37.75 41.375 43.109375 \r\nQ 37.359375 48.484375 30.078125 48.484375 \r\nQ 22.859375 48.484375 18.828125 43.109375 \r\nQ 14.796875 37.75 14.796875 27.984375 \r\nQ 14.796875 18.265625 18.828125 12.890625 \r\nQ 22.859375 7.515625 30.078125 7.515625 \r\nQ 37.359375 7.515625 41.375 12.890625 \r\nQ 45.40625 18.265625 45.40625 27.984375 \r\nz\r\nM 54.390625 6.78125 \r\nQ 54.390625 -7.171875 48.1875 -13.984375 \r\nQ 42 -20.796875 29.203125 -20.796875 \r\nQ 24.46875 -20.796875 20.265625 -20.09375 \r\nQ 16.0625 -19.390625 12.109375 -17.921875 \r\nL 12.109375 -9.1875 \r\nQ 16.0625 -11.328125 19.921875 -12.34375 \r\nQ 23.78125 -13.375 27.78125 -13.375 \r\nQ 36.625 -13.375 41.015625 -8.765625 \r\nQ 45.40625 -4.15625 45.40625 5.171875 \r\nL 45.40625 9.625 \r\nQ 42.625 4.78125 38.28125 2.390625 \r\nQ 33.9375 0 27.875 0 \r\nQ 17.828125 0 11.671875 7.65625 \r\nQ 5.515625 15.328125 5.515625 27.984375 \r\nQ 5.515625 40.671875 11.671875 48.328125 \r\nQ 17.828125 56 27.875 56 \r\nQ 33.9375 56 38.28125 53.609375 \r\nQ 42.625 51.21875 45.40625 46.390625 \r\nL 45.40625 54.6875 \r\nL 54.390625 54.6875 \r\nz\r\n\" id=\"DejaVuSans-103\"/>\r\n       <path id=\"DejaVuSans-32\"/>\r\n       <path d=\"M 19.671875 64.796875 \r\nL 19.671875 37.40625 \r\nL 32.078125 37.40625 \r\nQ 38.96875 37.40625 42.71875 40.96875 \r\nQ 46.484375 44.53125 46.484375 51.125 \r\nQ 46.484375 57.671875 42.71875 61.234375 \r\nQ 38.96875 64.796875 32.078125 64.796875 \r\nz\r\nM 9.8125 72.90625 \r\nL 32.078125 72.90625 \r\nQ 44.34375 72.90625 50.609375 67.359375 \r\nQ 56.890625 61.8125 56.890625 51.125 \r\nQ 56.890625 40.328125 50.609375 34.8125 \r\nQ 44.34375 29.296875 32.078125 29.296875 \r\nL 19.671875 29.296875 \r\nL 19.671875 0 \r\nL 9.8125 0 \r\nz\r\n\" id=\"DejaVuSans-80\"/>\r\n       <path d=\"M 44.28125 53.078125 \r\nL 44.28125 44.578125 \r\nQ 40.484375 46.53125 36.375 47.5 \r\nQ 32.28125 48.484375 27.875 48.484375 \r\nQ 21.1875 48.484375 17.84375 46.4375 \r\nQ 14.5 44.390625 14.5 40.28125 \r\nQ 14.5 37.15625 16.890625 35.375 \r\nQ 19.28125 33.59375 26.515625 31.984375 \r\nL 29.59375 31.296875 \r\nQ 39.15625 29.25 43.1875 25.515625 \r\nQ 47.21875 21.78125 47.21875 15.09375 \r\nQ 47.21875 7.46875 41.1875 3.015625 \r\nQ 35.15625 -1.421875 24.609375 -1.421875 \r\nQ 20.21875 -1.421875 15.453125 -0.5625 \r\nQ 10.6875 0.296875 5.421875 2 \r\nL 5.421875 11.28125 \r\nQ 10.40625 8.6875 15.234375 7.390625 \r\nQ 20.0625 6.109375 24.8125 6.109375 \r\nQ 31.15625 6.109375 34.5625 8.28125 \r\nQ 37.984375 10.453125 37.984375 14.40625 \r\nQ 37.984375 18.0625 35.515625 20.015625 \r\nQ 33.0625 21.96875 24.703125 23.78125 \r\nL 21.578125 24.515625 \r\nQ 13.234375 26.265625 9.515625 29.90625 \r\nQ 5.8125 33.546875 5.8125 39.890625 \r\nQ 5.8125 47.609375 11.28125 51.796875 \r\nQ 16.75 56 26.8125 56 \r\nQ 31.78125 56 36.171875 55.265625 \r\nQ 40.578125 54.546875 44.28125 53.078125 \r\nz\r\n\" id=\"DejaVuSans-115\"/>\r\n       <path d=\"M 9.421875 54.6875 \r\nL 18.40625 54.6875 \r\nL 18.40625 0 \r\nL 9.421875 0 \r\nz\r\nM 9.421875 75.984375 \r\nL 18.40625 75.984375 \r\nL 18.40625 64.59375 \r\nL 9.421875 64.59375 \r\nz\r\n\" id=\"DejaVuSans-105\"/>\r\n       <path d=\"M 18.3125 70.21875 \r\nL 18.3125 54.6875 \r\nL 36.8125 54.6875 \r\nL 36.8125 47.703125 \r\nL 18.3125 47.703125 \r\nL 18.3125 18.015625 \r\nQ 18.3125 11.328125 20.140625 9.421875 \r\nQ 21.96875 7.515625 27.59375 7.515625 \r\nL 36.8125 7.515625 \r\nL 36.8125 0 \r\nL 27.59375 0 \r\nQ 17.1875 0 13.234375 3.875 \r\nQ 9.28125 7.765625 9.28125 18.015625 \r\nL 9.28125 47.703125 \r\nL 2.6875 47.703125 \r\nL 2.6875 54.6875 \r\nL 9.28125 54.6875 \r\nL 9.28125 70.21875 \r\nz\r\n\" id=\"DejaVuSans-116\"/>\r\n       <path d=\"M 2.984375 54.6875 \r\nL 12.5 54.6875 \r\nL 29.59375 8.796875 \r\nL 46.6875 54.6875 \r\nL 56.203125 54.6875 \r\nL 35.6875 0 \r\nL 23.484375 0 \r\nz\r\n\" id=\"DejaVuSans-118\"/>\r\n       <path d=\"M 56.203125 29.59375 \r\nL 56.203125 25.203125 \r\nL 14.890625 25.203125 \r\nQ 15.484375 15.921875 20.484375 11.0625 \r\nQ 25.484375 6.203125 34.421875 6.203125 \r\nQ 39.59375 6.203125 44.453125 7.46875 \r\nQ 49.3125 8.734375 54.109375 11.28125 \r\nL 54.109375 2.78125 \r\nQ 49.265625 0.734375 44.1875 -0.34375 \r\nQ 39.109375 -1.421875 33.890625 -1.421875 \r\nQ 20.796875 -1.421875 13.15625 6.1875 \r\nQ 5.515625 13.8125 5.515625 26.8125 \r\nQ 5.515625 40.234375 12.765625 48.109375 \r\nQ 20.015625 56 32.328125 56 \r\nQ 43.359375 56 49.78125 48.890625 \r\nQ 56.203125 41.796875 56.203125 29.59375 \r\nz\r\nM 47.21875 32.234375 \r\nQ 47.125 39.59375 43.09375 43.984375 \r\nQ 39.0625 48.390625 32.421875 48.390625 \r\nQ 24.90625 48.390625 20.390625 44.140625 \r\nQ 15.875 39.890625 15.1875 32.171875 \r\nz\r\n\" id=\"DejaVuSans-101\"/>\r\n       <path d=\"M 48.78125 52.59375 \r\nL 48.78125 44.1875 \r\nQ 44.96875 46.296875 41.140625 47.34375 \r\nQ 37.3125 48.390625 33.40625 48.390625 \r\nQ 24.65625 48.390625 19.8125 42.84375 \r\nQ 14.984375 37.3125 14.984375 27.296875 \r\nQ 14.984375 17.28125 19.8125 11.734375 \r\nQ 24.65625 6.203125 33.40625 6.203125 \r\nQ 37.3125 6.203125 41.140625 7.25 \r\nQ 44.96875 8.296875 48.78125 10.40625 \r\nL 48.78125 2.09375 \r\nQ 45.015625 0.34375 40.984375 -0.53125 \r\nQ 36.96875 -1.421875 32.421875 -1.421875 \r\nQ 20.0625 -1.421875 12.78125 6.34375 \r\nQ 5.515625 14.109375 5.515625 27.296875 \r\nQ 5.515625 40.671875 12.859375 48.328125 \r\nQ 20.21875 56 33.015625 56 \r\nQ 37.15625 56 41.109375 55.140625 \r\nQ 45.0625 54.296875 48.78125 52.59375 \r\nz\r\n\" id=\"DejaVuSans-99\"/>\r\n       <path d=\"M 8.5 21.578125 \r\nL 8.5 54.6875 \r\nL 17.484375 54.6875 \r\nL 17.484375 21.921875 \r\nQ 17.484375 14.15625 20.5 10.265625 \r\nQ 23.53125 6.390625 29.59375 6.390625 \r\nQ 36.859375 6.390625 41.078125 11.03125 \r\nQ 45.3125 15.671875 45.3125 23.6875 \r\nL 45.3125 54.6875 \r\nL 54.296875 54.6875 \r\nL 54.296875 0 \r\nL 45.3125 0 \r\nL 45.3125 8.40625 \r\nQ 42.046875 3.421875 37.71875 1 \r\nQ 33.40625 -1.421875 27.6875 -1.421875 \r\nQ 18.265625 -1.421875 13.375 4.4375 \r\nQ 8.5 10.296875 8.5 21.578125 \r\nz\r\nM 31.109375 56 \r\nz\r\n\" id=\"DejaVuSans-117\"/>\r\n       <path d=\"M 54.890625 33.015625 \r\nL 54.890625 0 \r\nL 45.90625 0 \r\nL 45.90625 32.71875 \r\nQ 45.90625 40.484375 42.875 44.328125 \r\nQ 39.84375 48.1875 33.796875 48.1875 \r\nQ 26.515625 48.1875 22.3125 43.546875 \r\nQ 18.109375 38.921875 18.109375 30.90625 \r\nL 18.109375 0 \r\nL 9.078125 0 \r\nL 9.078125 54.6875 \r\nL 18.109375 54.6875 \r\nL 18.109375 46.1875 \r\nQ 21.34375 51.125 25.703125 53.5625 \r\nQ 30.078125 56 35.796875 56 \r\nQ 45.21875 56 50.046875 50.171875 \r\nQ 54.890625 44.34375 54.890625 33.015625 \r\nz\r\n\" id=\"DejaVuSans-110\"/>\r\n      </defs>\r\n      <use xlink:href=\"#DejaVuSans-76\"/>\r\n      <use x=\"53.962891\" xlink:href=\"#DejaVuSans-111\"/>\r\n      <use x=\"115.144531\" xlink:href=\"#DejaVuSans-103\"/>\r\n      <use x=\"178.621094\" xlink:href=\"#DejaVuSans-32\"/>\r\n      <use x=\"210.408203\" xlink:href=\"#DejaVuSans-80\"/>\r\n      <use x=\"267.085938\" xlink:href=\"#DejaVuSans-111\"/>\r\n      <use x=\"328.267578\" xlink:href=\"#DejaVuSans-115\"/>\r\n      <use x=\"380.367188\" xlink:href=\"#DejaVuSans-105\"/>\r\n      <use x=\"408.150391\" xlink:href=\"#DejaVuSans-116\"/>\r\n      <use x=\"447.359375\" xlink:href=\"#DejaVuSans-105\"/>\r\n      <use x=\"475.142578\" xlink:href=\"#DejaVuSans-118\"/>\r\n      <use x=\"534.322266\" xlink:href=\"#DejaVuSans-101\"/>\r\n      <use x=\"595.845703\" xlink:href=\"#DejaVuSans-32\"/>\r\n      <use x=\"627.632812\" xlink:href=\"#DejaVuSans-99\"/>\r\n      <use x=\"682.613281\" xlink:href=\"#DejaVuSans-111\"/>\r\n      <use x=\"743.794922\" xlink:href=\"#DejaVuSans-117\"/>\r\n      <use x=\"807.173828\" xlink:href=\"#DejaVuSans-110\"/>\r\n      <use x=\"870.552734\" xlink:href=\"#DejaVuSans-116\"/>\r\n     </g>\r\n    </g>\r\n   </g>\r\n   <g id=\"matplotlib.axis_2\">\r\n    <g id=\"ytick_1\">\r\n     <g id=\"line2d_6\">\r\n      <defs>\r\n       <path d=\"M 0 0 \r\nL -3.5 0 \r\n\" id=\"m8d4b1120fb\" style=\"stroke:#000000;stroke-width:0.8;\"/>\r\n      </defs>\r\n      <g>\r\n       <use style=\"stroke:#000000;stroke-width:0.8;\" x=\"34.240625\" xlink:href=\"#m8d4b1120fb\" y=\"422.312727\"/>\r\n      </g>\r\n     </g>\r\n     <g id=\"text_7\">\r\n      <!-- 0 -->\r\n      <g transform=\"translate(20.878125 426.111946)scale(0.1 -0.1)\">\r\n       <use xlink:href=\"#DejaVuSans-48\"/>\r\n      </g>\r\n     </g>\r\n    </g>\r\n    <g id=\"ytick_2\">\r\n     <g id=\"line2d_7\">\r\n      <g>\r\n       <use style=\"stroke:#000000;stroke-width:0.8;\" x=\"34.240625\" xlink:href=\"#m8d4b1120fb\" y=\"334.458182\"/>\r\n      </g>\r\n     </g>\r\n     <g id=\"text_8\">\r\n      <!-- 2 -->\r\n      <g transform=\"translate(20.878125 338.257401)scale(0.1 -0.1)\">\r\n       <use xlink:href=\"#DejaVuSans-50\"/>\r\n      </g>\r\n     </g>\r\n    </g>\r\n    <g id=\"ytick_3\">\r\n     <g id=\"line2d_8\">\r\n      <g>\r\n       <use style=\"stroke:#000000;stroke-width:0.8;\" x=\"34.240625\" xlink:href=\"#m8d4b1120fb\" y=\"246.603636\"/>\r\n      </g>\r\n     </g>\r\n     <g id=\"text_9\">\r\n      <!-- 4 -->\r\n      <g transform=\"translate(20.878125 250.402855)scale(0.1 -0.1)\">\r\n       <use xlink:href=\"#DejaVuSans-52\"/>\r\n      </g>\r\n     </g>\r\n    </g>\r\n    <g id=\"ytick_4\">\r\n     <g id=\"line2d_9\">\r\n      <g>\r\n       <use style=\"stroke:#000000;stroke-width:0.8;\" x=\"34.240625\" xlink:href=\"#m8d4b1120fb\" y=\"158.749091\"/>\r\n      </g>\r\n     </g>\r\n     <g id=\"text_10\">\r\n      <!-- 6 -->\r\n      <g transform=\"translate(20.878125 162.54831)scale(0.1 -0.1)\">\r\n       <use xlink:href=\"#DejaVuSans-54\"/>\r\n      </g>\r\n     </g>\r\n    </g>\r\n    <g id=\"ytick_5\">\r\n     <g id=\"line2d_10\">\r\n      <g>\r\n       <use style=\"stroke:#000000;stroke-width:0.8;\" x=\"34.240625\" xlink:href=\"#m8d4b1120fb\" y=\"70.894545\"/>\r\n      </g>\r\n     </g>\r\n     <g id=\"text_11\">\r\n      <!-- 8 -->\r\n      <g transform=\"translate(20.878125 74.693764)scale(0.1 -0.1)\">\r\n       <use xlink:href=\"#DejaVuSans-56\"/>\r\n      </g>\r\n     </g>\r\n    </g>\r\n    <g id=\"text_12\">\r\n     <!-- Log Negative count -->\r\n     <g transform=\"translate(14.798438 273.297031)rotate(-90)scale(0.1 -0.1)\">\r\n      <defs>\r\n       <path d=\"M 9.8125 72.90625 \r\nL 23.09375 72.90625 \r\nL 55.421875 11.921875 \r\nL 55.421875 72.90625 \r\nL 64.984375 72.90625 \r\nL 64.984375 0 \r\nL 51.703125 0 \r\nL 19.390625 60.984375 \r\nL 19.390625 0 \r\nL 9.8125 0 \r\nz\r\n\" id=\"DejaVuSans-78\"/>\r\n       <path d=\"M 34.28125 27.484375 \r\nQ 23.390625 27.484375 19.1875 25 \r\nQ 14.984375 22.515625 14.984375 16.5 \r\nQ 14.984375 11.71875 18.140625 8.90625 \r\nQ 21.296875 6.109375 26.703125 6.109375 \r\nQ 34.1875 6.109375 38.703125 11.40625 \r\nQ 43.21875 16.703125 43.21875 25.484375 \r\nL 43.21875 27.484375 \r\nz\r\nM 52.203125 31.203125 \r\nL 52.203125 0 \r\nL 43.21875 0 \r\nL 43.21875 8.296875 \r\nQ 40.140625 3.328125 35.546875 0.953125 \r\nQ 30.953125 -1.421875 24.3125 -1.421875 \r\nQ 15.921875 -1.421875 10.953125 3.296875 \r\nQ 6 8.015625 6 15.921875 \r\nQ 6 25.140625 12.171875 29.828125 \r\nQ 18.359375 34.515625 30.609375 34.515625 \r\nL 43.21875 34.515625 \r\nL 43.21875 35.40625 \r\nQ 43.21875 41.609375 39.140625 45 \r\nQ 35.0625 48.390625 27.6875 48.390625 \r\nQ 23 48.390625 18.546875 47.265625 \r\nQ 14.109375 46.140625 10.015625 43.890625 \r\nL 10.015625 52.203125 \r\nQ 14.9375 54.109375 19.578125 55.046875 \r\nQ 24.21875 56 28.609375 56 \r\nQ 40.484375 56 46.34375 49.84375 \r\nQ 52.203125 43.703125 52.203125 31.203125 \r\nz\r\n\" id=\"DejaVuSans-97\"/>\r\n      </defs>\r\n      <use xlink:href=\"#DejaVuSans-76\"/>\r\n      <use x=\"53.962891\" xlink:href=\"#DejaVuSans-111\"/>\r\n      <use x=\"115.144531\" xlink:href=\"#DejaVuSans-103\"/>\r\n      <use x=\"178.621094\" xlink:href=\"#DejaVuSans-32\"/>\r\n      <use x=\"210.408203\" xlink:href=\"#DejaVuSans-78\"/>\r\n      <use x=\"285.212891\" xlink:href=\"#DejaVuSans-101\"/>\r\n      <use x=\"346.736328\" xlink:href=\"#DejaVuSans-103\"/>\r\n      <use x=\"410.212891\" xlink:href=\"#DejaVuSans-97\"/>\r\n      <use x=\"471.492188\" xlink:href=\"#DejaVuSans-116\"/>\r\n      <use x=\"510.701172\" xlink:href=\"#DejaVuSans-105\"/>\r\n      <use x=\"538.484375\" xlink:href=\"#DejaVuSans-118\"/>\r\n      <use x=\"597.664062\" xlink:href=\"#DejaVuSans-101\"/>\r\n      <use x=\"659.1875\" xlink:href=\"#DejaVuSans-32\"/>\r\n      <use x=\"690.974609\" xlink:href=\"#DejaVuSans-99\"/>\r\n      <use x=\"745.955078\" xlink:href=\"#DejaVuSans-111\"/>\r\n      <use x=\"807.136719\" xlink:href=\"#DejaVuSans-117\"/>\r\n      <use x=\"870.515625\" xlink:href=\"#DejaVuSans-110\"/>\r\n      <use x=\"933.894531\" xlink:href=\"#DejaVuSans-116\"/>\r\n     </g>\r\n    </g>\r\n   </g>\r\n   <g id=\"line2d_11\">\r\n    <path clip-path=\"url(#p2e55d66a0e)\" d=\"M 54.531534 422.312727 \r\nL 460.349716 26.967273 \r\n\" style=\"fill:none;stroke:#ff0000;stroke-linecap:square;stroke-width:1.5;\"/>\r\n   </g>\r\n   <g id=\"patch_3\">\r\n    <path d=\"M 34.240625 442.08 \r\nL 34.240625 7.2 \r\n\" style=\"fill:none;stroke:#000000;stroke-linecap:square;stroke-linejoin:miter;stroke-width:0.8;\"/>\r\n   </g>\r\n   <g id=\"patch_4\">\r\n    <path d=\"M 480.640625 442.08 \r\nL 480.640625 7.2 \r\n\" style=\"fill:none;stroke:#000000;stroke-linecap:square;stroke-linejoin:miter;stroke-width:0.8;\"/>\r\n   </g>\r\n   <g id=\"patch_5\">\r\n    <path d=\"M 34.240625 442.08 \r\nL 480.640625 442.08 \r\n\" style=\"fill:none;stroke:#000000;stroke-linecap:square;stroke-linejoin:miter;stroke-width:0.8;\"/>\r\n   </g>\r\n   <g id=\"patch_6\">\r\n    <path d=\"M 34.240625 7.2 \r\nL 480.640625 7.2 \r\n\" style=\"fill:none;stroke:#000000;stroke-linecap:square;stroke-linejoin:miter;stroke-width:0.8;\"/>\r\n   </g>\r\n   <g id=\"text_13\">\r\n    <!-- happi -->\r\n    <g transform=\"translate(366.812918 246.28151)scale(0.1 -0.1)\">\r\n     <defs>\r\n      <path d=\"M 54.890625 33.015625 \r\nL 54.890625 0 \r\nL 45.90625 0 \r\nL 45.90625 32.71875 \r\nQ 45.90625 40.484375 42.875 44.328125 \r\nQ 39.84375 48.1875 33.796875 48.1875 \r\nQ 26.515625 48.1875 22.3125 43.546875 \r\nQ 18.109375 38.921875 18.109375 30.90625 \r\nL 18.109375 0 \r\nL 9.078125 0 \r\nL 9.078125 75.984375 \r\nL 18.109375 75.984375 \r\nL 18.109375 46.1875 \r\nQ 21.34375 51.125 25.703125 53.5625 \r\nQ 30.078125 56 35.796875 56 \r\nQ 45.21875 56 50.046875 50.171875 \r\nQ 54.890625 44.34375 54.890625 33.015625 \r\nz\r\n\" id=\"DejaVuSans-104\"/>\r\n      <path d=\"M 18.109375 8.203125 \r\nL 18.109375 -20.796875 \r\nL 9.078125 -20.796875 \r\nL 9.078125 54.6875 \r\nL 18.109375 54.6875 \r\nL 18.109375 46.390625 \r\nQ 20.953125 51.265625 25.265625 53.625 \r\nQ 29.59375 56 35.59375 56 \r\nQ 45.5625 56 51.78125 48.09375 \r\nQ 58.015625 40.1875 58.015625 27.296875 \r\nQ 58.015625 14.40625 51.78125 6.484375 \r\nQ 45.5625 -1.421875 35.59375 -1.421875 \r\nQ 29.59375 -1.421875 25.265625 0.953125 \r\nQ 20.953125 3.328125 18.109375 8.203125 \r\nz\r\nM 48.6875 27.296875 \r\nQ 48.6875 37.203125 44.609375 42.84375 \r\nQ 40.53125 48.484375 33.40625 48.484375 \r\nQ 26.265625 48.484375 22.1875 42.84375 \r\nQ 18.109375 37.203125 18.109375 27.296875 \r\nQ 18.109375 17.390625 22.1875 11.75 \r\nQ 26.265625 6.109375 33.40625 6.109375 \r\nQ 40.53125 6.109375 44.609375 11.75 \r\nQ 48.6875 17.390625 48.6875 27.296875 \r\nz\r\n\" id=\"DejaVuSans-112\"/>\r\n     </defs>\r\n     <use xlink:href=\"#DejaVuSans-104\"/>\r\n     <use x=\"63.378906\" xlink:href=\"#DejaVuSans-97\"/>\r\n     <use x=\"124.658203\" xlink:href=\"#DejaVuSans-112\"/>\r\n     <use x=\"188.134766\" xlink:href=\"#DejaVuSans-112\"/>\r\n     <use x=\"251.611328\" xlink:href=\"#DejaVuSans-105\"/>\r\n    </g>\r\n   </g>\r\n   <g id=\"text_14\">\r\n    <!-- sad -->\r\n    <g transform=\"translate(153.606388 148.62467)scale(0.1 -0.1)\">\r\n     <defs>\r\n      <path d=\"M 45.40625 46.390625 \r\nL 45.40625 75.984375 \r\nL 54.390625 75.984375 \r\nL 54.390625 0 \r\nL 45.40625 0 \r\nL 45.40625 8.203125 \r\nQ 42.578125 3.328125 38.25 0.953125 \r\nQ 33.9375 -1.421875 27.875 -1.421875 \r\nQ 17.96875 -1.421875 11.734375 6.484375 \r\nQ 5.515625 14.40625 5.515625 27.296875 \r\nQ 5.515625 40.1875 11.734375 48.09375 \r\nQ 17.96875 56 27.875 56 \r\nQ 33.9375 56 38.25 53.625 \r\nQ 42.578125 51.265625 45.40625 46.390625 \r\nz\r\nM 14.796875 27.296875 \r\nQ 14.796875 17.390625 18.875 11.75 \r\nQ 22.953125 6.109375 30.078125 6.109375 \r\nQ 37.203125 6.109375 41.296875 11.75 \r\nQ 45.40625 17.390625 45.40625 27.296875 \r\nQ 45.40625 37.203125 41.296875 42.84375 \r\nQ 37.203125 48.484375 30.078125 48.484375 \r\nQ 22.953125 48.484375 18.875 42.84375 \r\nQ 14.796875 37.203125 14.796875 27.296875 \r\nz\r\n\" id=\"DejaVuSans-100\"/>\r\n     </defs>\r\n     <use xlink:href=\"#DejaVuSans-115\"/>\r\n     <use x=\"52.099609\" xlink:href=\"#DejaVuSans-97\"/>\r\n     <use x=\"113.378906\" xlink:href=\"#DejaVuSans-100\"/>\r\n    </g>\r\n   </g>\r\n  </g>\r\n </g>\r\n <defs>\r\n  <clipPath id=\"p2e55d66a0e\">\r\n   <rect height=\"434.88\" width=\"446.4\" x=\"34.240625\" y=\"7.2\"/>\r\n  </clipPath>\r\n </defs>\r\n</svg>\r\n",
            "image/png": "[encoded data removed]"
          },
          "metadata": {
            "needs_background": "light"
          }
        }
      ]
    },
    {
      "cell_type": "markdown",
      "metadata": {
        "id": "_a_uGCpQ_nu0"
      },
      "source": [
        "<img src='https://drive.google.com/uc?export=view&id=1GYj-wj-so8jQ9-VDz1ayehgVh39Jmd4H' width=250px>\r\n",
        "\r\n",
        "## **3.3** Bag of Word"
      ]
    },
    {
      "cell_type": "markdown",
      "metadata": {
        "id": "wh-4DbOFJlAn"
      },
      "source": [
        "* Corpus of tweet tokens used for the second method"
      ]
    },
    {
      "cell_type": "code",
      "metadata": {
        "id": "SomLbPUibDa9"
      },
      "source": [
        "corpus = [[\"love\", \"nlp\"],\n",
        "          [\"miss\", \"you\"],\n",
        "          [\"hate\", \"hate\", \"hate\", \"love\"],\n",
        "          [\"happy\", \"love\", \"hate\"],\n",
        "          [\"i\", \"lost\", \"my\", \"computer\"],\n",
        "          [\"i\", \"am\", \"so\", \"sad\"]]"
      ],
      "execution_count": 211,
      "outputs": []
    },
    {
      "cell_type": "markdown",
      "metadata": {
        "id": "FEe5w7SPso2e"
      },
      "source": [
        "* Import `CountVectorizer` from the Scikit-learn Library"
      ]
    },
    {
      "cell_type": "code",
      "metadata": {
        "id": "UjjZkgHCpw_m"
      },
      "source": [
        "from sklearn.feature_extraction.text import CountVectorizer"
      ],
      "execution_count": 212,
      "outputs": []
    },
    {
      "cell_type": "markdown",
      "metadata": {
        "id": "8a5WqAGSJ0KN"
      },
      "source": [
        "* Create a `fit_cv` function used to build the Bag-of-Words vectorizer with the corpus"
      ]
    },
    {
      "cell_type": "code",
      "metadata": {
        "id": "hEzNadu6pwYh"
      },
      "source": [
        "def fit_cv(tweet_corpus):\n",
        "    cv_vect = CountVectorizer(tokenizer=lambda x:x,  # we created our tokenizer so we shouldn't use countVectorizer tokenizer\n",
        "                              preprocessor=lambda x :x )\n",
        "    cv_vect.fit(tweet_corpus)\n",
        "    return cv_vect\n",
        "\"\"\" def fit_cv(corpus):\n",
        "    cv_vect = CountVectorizer(tokenizer=lambda x:x ,  \n",
        "                                preprocessor= lambda x :x )\n",
        "    cv_vect.fit(corpus)\n",
        "    return cv_vect \"\"\""
      ],
      "execution_count": 187,
      "outputs": []
    },
    {
      "cell_type": "markdown",
      "metadata": {
        "id": "Z07FwlXUJ7ld"
      },
      "source": [
        "* Use the `fit_cv` function to fit the vectorizer on the corpus"
      ]
    },
    {
      "cell_type": "code",
      "metadata": {
        "id": "xed7_qlKwoX9"
      },
      "source": [
        "cv_vect = fit_cv(corpus)"
      ],
      "execution_count": 188,
      "outputs": [
        {
          "output_type": "stream",
          "name": "stderr",
          "text": [
            "C:\\Users\\S10y01r\\AppData\\Local\\Programs\\Python\\Python38\\lib\\site-packages\\sklearn\\feature_extraction\\text.py:489: UserWarning: The parameter 'token_pattern' will not be used since 'tokenizer' is not None'\n  warnings.warn(\"The parameter 'token_pattern' will not be used\"\n"
          ]
        }
      ]
    },
    {
      "cell_type": "markdown",
      "metadata": {
        "id": "h0PJfMk2sthJ"
      },
      "source": [
        "* Get the vectorizer features (matrix columns)"
      ]
    },
    {
      "cell_type": "code",
      "metadata": {
        "id": "SJcalFLxjIEx"
      },
      "source": [
        "ft = cv_vect.get_feature_names()"
      ],
      "execution_count": 213,
      "outputs": []
    },
    {
      "cell_type": "code",
      "metadata": {
        "id": "e-nxkR7VfWii"
      },
      "source": [
        "print(\"There are {} features in this corpus\".format(len(ft)))\n",
        "print(ft)"
      ],
      "execution_count": 214,
      "outputs": [
        {
          "output_type": "stream",
          "name": "stdout",
          "text": [
            "There are 13 features in this corpus\n['am', 'computer', 'happy', 'hate', 'i', 'lost', 'love', 'miss', 'my', 'nlp', 'sad', 'so', 'you']\n"
          ]
        }
      ]
    },
    {
      "cell_type": "markdown",
      "metadata": {
        "id": "6IueKWpsswRn"
      },
      "source": [
        "* Convert the corpus to a matrix by using the vectorize"
      ]
    },
    {
      "cell_type": "code",
      "metadata": {
        "id": "MZ-mcZScBdtb"
      },
      "source": [
        "cv_mtx = cv_vect.transform(corpus)"
      ],
      "execution_count": 215,
      "outputs": []
    },
    {
      "cell_type": "markdown",
      "metadata": {
        "id": "iSf9F_jgKRnr"
      },
      "source": [
        "* Print the matrix shape"
      ]
    },
    {
      "cell_type": "code",
      "metadata": {
        "id": "eXm86BaJp0yB"
      },
      "source": [
        "print(\"Matrix shape is: {}\".format(cv_mtx.shape))"
      ],
      "execution_count": 216,
      "outputs": [
        {
          "output_type": "stream",
          "name": "stdout",
          "text": [
            "Matrix shape is: (6, 13)\n"
          ]
        }
      ]
    },
    {
      "cell_type": "markdown",
      "metadata": {
        "id": "uHWE38UMKVOG"
      },
      "source": [
        "* Convert the matrix to an array"
      ]
    },
    {
      "cell_type": "code",
      "metadata": {
        "id": "TBH3Hy60gQB4"
      },
      "source": [
        "cv_mtx.toarray()"
      ],
      "execution_count": 217,
      "outputs": [
        {
          "output_type": "execute_result",
          "data": {
            "text/plain": [
              "array([[0, 0, 0, 0, 0, 0, 1, 0, 0, 1, 0, 0, 0],\n",
              "       [0, 0, 0, 0, 0, 0, 0, 1, 0, 0, 0, 0, 1],\n",
              "       [0, 0, 0, 3, 0, 0, 1, 0, 0, 0, 0, 0, 0],\n",
              "       [0, 0, 1, 1, 0, 0, 1, 0, 0, 0, 0, 0, 0],\n",
              "       [0, 1, 0, 0, 1, 1, 0, 0, 1, 0, 0, 0, 0],\n",
              "       [1, 0, 0, 0, 1, 0, 0, 0, 0, 0, 1, 1, 0]], dtype=int64)"
            ]
          },
          "metadata": {},
          "execution_count": 217
        }
      ]
    },
    {
      "cell_type": "markdown",
      "metadata": {
        "id": "bvnrCpxvKaMR"
      },
      "source": [
        "* Transform a new tweet by using the vectorizer"
      ]
    },
    {
      "cell_type": "code",
      "metadata": {
        "id": "YLVG9xwdwzuN"
      },
      "source": [
        "new_tweet = [[\"lost\", \"lost\", \"miss\", \"miss\"]]\n",
        "cv_vect.transform(new_tweet).toarray()"
      ],
      "execution_count": 218,
      "outputs": [
        {
          "output_type": "execute_result",
          "data": {
            "text/plain": [
              "array([[0, 0, 0, 0, 0, 2, 0, 2, 0, 0, 0, 0, 0]], dtype=int64)"
            ]
          },
          "metadata": {},
          "execution_count": 218
        }
      ]
    },
    {
      "cell_type": "code",
      "metadata": {
        "id": "LMuCe5KsxyR_"
      },
      "source": [
        "unknown_tweet = [[\"John\", \"drives\", \"cars\"]] # no match b/w the corpus words and the unknow tweet words\n",
        "cv_vect.transform(unknown_tweet).toarray()"
      ],
      "execution_count": 219,
      "outputs": [
        {
          "output_type": "execute_result",
          "data": {
            "text/plain": [
              "array([[0, 0, 0, 0, 0, 0, 0, 0, 0, 0, 0, 0, 0]], dtype=int64)"
            ]
          },
          "metadata": {},
          "execution_count": 219
        }
      ]
    },
    {
      "cell_type": "markdown",
      "metadata": {
        "id": "0sa_FL6vn79E"
      },
      "source": [
        "<img src='https://drive.google.com/uc?export=view&id=1GYj-wj-so8jQ9-VDz1ayehgVh39Jmd4H' width=250px>\r\n",
        "\r\n",
        "## **3.4** Term Frequency – Inverse Document Frequency (TF-IDF)"
      ]
    },
    {
      "cell_type": "markdown",
      "metadata": {
        "id": "pOZSwJ1hKyAT"
      },
      "source": [
        "* Corpus of tweet tokens used for the third method"
      ]
    },
    {
      "cell_type": "code",
      "metadata": {
        "id": "M7ybyRRPZC-L"
      },
      "source": [
        "corpus = [[\"love\", \"nlp\"],\n",
        "          [\"miss\", \"you\"],\n",
        "          [\"hate\", \"hate\", \"hate\", \"love\"],\n",
        "          [\"happy\", \"love\", \"hate\"],\n",
        "          [\"i\", \"lost\", \"my\", \"computer\"],\n",
        "          [\"i\", \"am\", \"so\", \"sad\"]]"
      ],
      "execution_count": 220,
      "outputs": []
    },
    {
      "cell_type": "markdown",
      "metadata": {
        "id": "NE5zVtjsK6Ta"
      },
      "source": [
        "* Import `TfidfVectorizer` from the Scikit-learn Library"
      ]
    },
    {
      "cell_type": "code",
      "metadata": {
        "id": "HlBvj6pARLH1"
      },
      "source": [
        "from sklearn.feature_extraction.text import TfidfVectorizer"
      ],
      "execution_count": 222,
      "outputs": []
    },
    {
      "cell_type": "markdown",
      "metadata": {
        "id": "hQgGfCwEK-mI"
      },
      "source": [
        "* Create a `fit_tfidf` function used to build the TF-IDF vectorizer with the corpus"
      ]
    },
    {
      "cell_type": "code",
      "metadata": {
        "id": "9NUd39ZsRQPI"
      },
      "source": [
        "def fit_tfidf(tweet_corpus):\n",
        "    tf_vect = TfidfVectorizer(tokenizer= lambda x :x,\n",
        "                                preprocessor= lambda x:x )\n",
        "    tf_vect.fit(tweet_corpus)\n",
        "    return tf_vect"
      ],
      "execution_count": 223,
      "outputs": []
    },
    {
      "cell_type": "markdown",
      "metadata": {
        "id": "Tac2oPSRLErQ"
      },
      "source": [
        "* Use the `fit_cv` function to fit the vectorizer on the corpus, and transform the corpus"
      ]
    },
    {
      "cell_type": "code",
      "metadata": {
        "id": "NjmZhliftA_Q"
      },
      "source": [
        "tf_vect = fit_tfidf(corpus)\n",
        "tf_mtx = tf_vect.transform(corpus)"
      ],
      "execution_count": 199,
      "outputs": []
    },
    {
      "cell_type": "markdown",
      "metadata": {
        "id": "kt1eOml3LMas"
      },
      "source": [
        "* Get the vectorizer features (matrix columns)"
      ]
    },
    {
      "cell_type": "code",
      "metadata": {
        "id": "zRqHhf3njSEe"
      },
      "source": [
        "ft = tf_vect.get_feature_names()"
      ],
      "execution_count": 224,
      "outputs": []
    },
    {
      "cell_type": "code",
      "metadata": {
        "id": "tywqkwWPlYpc"
      },
      "source": [
        "print(\"There are {} features in this corpus\".format(len(ft)))\n",
        "print(ft)"
      ],
      "execution_count": 225,
      "outputs": [
        {
          "output_type": "stream",
          "name": "stdout",
          "text": [
            "There are 13 features in this corpus\n['am', 'computer', 'happy', 'hate', 'i', 'lost', 'love', 'miss', 'my', 'nlp', 'sad', 'so', 'you']\n"
          ]
        }
      ]
    },
    {
      "cell_type": "markdown",
      "metadata": {
        "id": "8BGtKec9LPNg"
      },
      "source": [
        "* Print the matrix shape"
      ]
    },
    {
      "cell_type": "code",
      "metadata": {
        "id": "XtamuqDjlxmE"
      },
      "source": [
        "print(tf_mtx.shape)"
      ],
      "execution_count": 226,
      "outputs": [
        {
          "output_type": "stream",
          "name": "stdout",
          "text": [
            "(6, 13)\n"
          ]
        }
      ]
    },
    {
      "cell_type": "markdown",
      "metadata": {
        "id": "usbtYKPCLTBN"
      },
      "source": [
        "* Convert the matrix to an array"
      ]
    },
    {
      "cell_type": "code",
      "metadata": {
        "id": "fVVbtSxqlxVi"
      },
      "source": [
        "tf_mtx.toarray()"
      ],
      "execution_count": 227,
      "outputs": [
        {
          "output_type": "execute_result",
          "data": {
            "text/plain": [
              "array([[0.        , 0.        , 0.        , 0.        , 0.        ,\n",
              "        0.        , 0.56921261, 0.        , 0.        , 0.82219037,\n",
              "        0.        , 0.        , 0.        ],\n",
              "       [0.        , 0.        , 0.        , 0.        , 0.        ,\n",
              "        0.        , 0.        , 0.70710678, 0.        , 0.        ,\n",
              "        0.        , 0.        , 0.70710678],\n",
              "       [0.        , 0.        , 0.        , 0.96260755, 0.        ,\n",
              "        0.        , 0.27089981, 0.        , 0.        , 0.        ,\n",
              "        0.        , 0.        , 0.        ],\n",
              "       [0.        , 0.        , 0.68172171, 0.55902156, 0.        ,\n",
              "        0.        , 0.47196441, 0.        , 0.        , 0.        ,\n",
              "        0.        , 0.        , 0.        ],\n",
              "       [0.        , 0.52182349, 0.        , 0.        , 0.42790272,\n",
              "        0.52182349, 0.        , 0.        , 0.52182349, 0.        ,\n",
              "        0.        , 0.        , 0.        ],\n",
              "       [0.52182349, 0.        , 0.        , 0.        , 0.42790272,\n",
              "        0.        , 0.        , 0.        , 0.        , 0.        ,\n",
              "        0.52182349, 0.52182349, 0.        ]])"
            ]
          },
          "metadata": {},
          "execution_count": 227
        }
      ]
    },
    {
      "cell_type": "markdown",
      "metadata": {
        "id": "NxWpupYkLVxl"
      },
      "source": [
        "* Transform a new tweet by using the vectorizer"
      ]
    },
    {
      "cell_type": "code",
      "metadata": {
        "id": "87JJ_go4uFO5"
      },
      "source": [
        "new_tweet = [[\"I\", \"hate\", \"nlp\"]]\n",
        "tf_vect.transform(new_tweet).toarray() "
      ],
      "execution_count": 228,
      "outputs": [
        {
          "output_type": "execute_result",
          "data": {
            "text/plain": [
              "array([[0.        , 0.        , 0.        , 0.6340862 , 0.        ,\n",
              "        0.        , 0.        , 0.        , 0.        , 0.77326237,\n",
              "        0.        , 0.        , 0.        ]])"
            ]
          },
          "metadata": {},
          "execution_count": 228
        }
      ]
    },
    {
      "cell_type": "markdown",
      "metadata": {
        "id": "KAgMDeTwSkog"
      },
      "source": [
        "That's it for this section! \r\n",
        "\r\n",
        "See you in `Section 4` where we finally build our sentiment model!\r\n",
        "\r\n",
        "\r\n",
        "<img src='https://drive.google.com/uc?export=view&id=1-PExlpxdip_2t7wN9Ru8Sn_jTTxj3MlA' width=100px>"
      ]
    },
    {
      "cell_type": "markdown",
      "metadata": {
        "id": "7H4tg1lhoBxR"
      },
      "source": [
        "\n",
        "<img src='https://drive.google.com/uc?export=view&id=1GYj-wj-so8jQ9-VDz1ayehgVh39Jmd4H' width=650px>\n",
        "\n",
        "# `Section 4` Sentiment Model"
      ]
    },
    {
      "cell_type": "markdown",
      "metadata": {
        "id": "MjAoXb4XsxgN"
      },
      "source": [
        "## Helper function\r\n",
        "\r\n",
        "This function will be used to plot the confusion matrix for the different models we will create"
      ]
    },
    {
      "cell_type": "code",
      "metadata": {
        "id": "TBiVy9LSnlVN"
      },
      "source": [
        "import seaborn as sns\n",
        "\n",
        "def plot_confusion(cm):\n",
        "  plt.figure(figsize = (5,5))\n",
        "  sn.heatmap(cm, annot=True, cmap=\"Blues\", fmt='.0f')\n",
        "  plt.xlabel(\"Prediction\")\n",
        "  plt.ylabel(\"True value\")\n",
        "  plt.title(\"Confusion Matrix\")\n",
        "  return sn"
      ],
      "execution_count": 229,
      "outputs": []
    },
    {
      "cell_type": "markdown",
      "metadata": {
        "id": "ePstP2McY2Ql"
      },
      "source": [
        "<img src='https://drive.google.com/uc?export=view&id=1GYj-wj-so8jQ9-VDz1ayehgVh39Jmd4H' width=250px>\r\n",
        "\r\n",
        "## **4.1** Train/Test Split"
      ]
    },
    {
      "cell_type": "markdown",
      "metadata": {
        "id": "mfXwu-g4onVk"
      },
      "source": [
        "* Check what X and y looks like"
      ]
    },
    {
      "cell_type": "code",
      "metadata": {
        "id": "YMqL7yh1Dt8t",
        "tags": []
      },
      "source": [
        "print(X[:20])\n",
        "print(y[:20])"
      ],
      "execution_count": 230,
      "outputs": [
        {
          "output_type": "stream",
          "name": "stdout",
          "text": [
            "[['layin', 'n', 'bed', 'headach', 'call'], ['funer', 'friday'], ['want', 'hang', 'friend', 'soon'], ['not', 'go', 'prom', 'bc', 'bf', 'not', 'like', 'friend'], ['hmm'], ['charlen', 'love', 'miss'], ['i', 'sorri', 'least', 'friday'], ['choke', 'retain'], ['ugh', 'beat', 'stupid', 'song', 'get', 'next', 'rude'], ['watch', 'hill', 'london', 'realis', 'tourtur', 'week', 'week', 'late', 'watch', 'itonlinelol'], ['sleepi', 'not', 'even', 'late', 'fail'], ['ladi', 'gaga', 'tweet', 'not', 'impress', 'video', 'leak', 'know'], ['convinc', 'alway', 'want', 'signal', 'give', 'think', 'lost', 'anoth', 'friend'], ['way', 'home', 'n', 'deal', 'w', 'underag', 'girl', 'drink', 'gin', 'da', 'bus', 'talk', 'bout', 'feel', 'old'], ['i', 'sorri', 'peopl', 'rude', 'isaac', 'get', 'manner', 'know', 'better', 'lewd'], ['damm', 'server', 'still', 'need', 'hit', 'koxper', 'pass'], ['fudg', 'bs', 'whole', 'paper', 'tire', 'ugh', 'hate', 'school', 'time', 'sleep'], ['hate', 'cancer', 'hate', 'hate', 'hate'], ['annoy', 'start', 'type', 'comput', 'middl', 'night'], ['not', 'sleep']]\n[0, 0, 1, 0, 0, 0, 0, 0, 0, 0, 0, 0, 0, 0, 0, 0, 0, 0, 0, 0]\n"
          ]
        }
      ]
    },
    {
      "cell_type": "markdown",
      "metadata": {
        "id": "GnJENLcJooVj"
      },
      "source": [
        "* Import the `train_test_split` function from the Scikit-Learn package"
      ]
    },
    {
      "cell_type": "code",
      "metadata": {
        "id": "vkeEyh9TeTT3"
      },
      "source": [
        "from sklearn.model_selection import train_test_split"
      ],
      "execution_count": 207,
      "outputs": []
    },
    {
      "cell_type": "markdown",
      "metadata": {
        "id": "tgDUiv-po5LZ"
      },
      "source": [
        "* Use the `train_test_split` function to split arrays of X and y into training and testing variables"
      ]
    },
    {
      "cell_type": "code",
      "metadata": {
        "id": "XdKNxWTXDvLM"
      },
      "source": [
        "X_train, X_test, y_train, y_test = train_test_split(X,y,\n",
        "                                                    train_size=0.80, random_state=0)"
      ],
      "execution_count": 233,
      "outputs": []
    },
    {
      "cell_type": "markdown",
      "metadata": {
        "id": "C4uKnKwkpG_J"
      },
      "source": [
        "* Print the size of these news variables"
      ]
    },
    {
      "cell_type": "code",
      "metadata": {
        "id": "_fUaBFavoBTG"
      },
      "source": [
        "print(\"Size of X_train: {}\".format(len(X_train)))\n",
        "print(\"Size of y_train: {}\".format(len(y_train)))\n",
        "print(\"\\n\")\n",
        "print(\"Size of X_test: {}\".format(len(X_test)))\n",
        "print(\"Size of y_test: {}\".format(len(y_test)))\n",
        "print(\"\\n\")\n",
        "print(\"Train proportion: {:.0%}\".format(len(X_train)/\n",
        "                                        (len(X_train)+len(X_test))))"
      ],
      "execution_count": 234,
      "outputs": [
        {
          "output_type": "stream",
          "name": "stdout",
          "text": [
            "Size of X_train: 14981\nSize of y_train: 14981\n\n\nSize of X_test: 3746\nSize of y_test: 3746\n\n\nTrain proportion: 80%\n"
          ]
        }
      ]
    },
    {
      "cell_type": "markdown",
      "metadata": {
        "id": "SVouoqmepP0N"
      },
      "source": [
        "* Print random tweets, just to verify everything goes as expected"
      ]
    },
    {
      "cell_type": "code",
      "metadata": {
        "id": "T5nWVNZzobfd"
      },
      "source": [
        "id = random.randint(0,len(X_train))\n",
        "print(\"Train tweet: {}\".format(X_train[id]))\n",
        "print(\"Sentiment: {}\".format(y_train[id]))"
      ],
      "execution_count": 235,
      "outputs": [
        {
          "output_type": "stream",
          "name": "stdout",
          "text": [
            "Train tweet: ['roast', 'yummi', 'think', 'mum', 'impress']\nSentiment: 1\n"
          ]
        }
      ]
    },
    {
      "cell_type": "markdown",
      "metadata": {
        "id": "0pV5EWbQpIOp"
      },
      "source": [
        "<img src='https://drive.google.com/uc?export=view&id=1GYj-wj-so8jQ9-VDz1ayehgVh39Jmd4H' width=250px>\r\n",
        "\r\n",
        "## **4.2** Logistic Regression"
      ]
    },
    {
      "cell_type": "markdown",
      "metadata": {
        "id": "2vvELqpBA62u"
      },
      "source": [
        "### <img src='https://drive.google.com/uc?export=view&id=1aAdtCrMe6SORoGAGtjOVM0UIxDFH9Thq' width=50px> **4.2.1** Model"
      ]
    },
    {
      "cell_type": "markdown",
      "metadata": {
        "id": "_8DrY2m6L0zq"
      },
      "source": [
        "* Import the `LogisticRegression` model from Scikit-Learn"
      ]
    },
    {
      "cell_type": "code",
      "metadata": {
        "id": "fVCZ2jEcb_Kx"
      },
      "source": [
        "from sklearn.linear_model import LogisticRegression"
      ],
      "execution_count": 236,
      "outputs": []
    },
    {
      "cell_type": "markdown",
      "metadata": {
        "id": "R8oqTzbsL5N7"
      },
      "source": [
        "* Create a `fit_lr` function used to fit a Logistic Regression model on X and y *training* data"
      ]
    },
    {
      "cell_type": "code",
      "metadata": {
        "id": "IN8x-HdwcC1K"
      },
      "source": [
        "def fit_lr(X_train, y_train):\n",
        "    model = LogisticRegression()\n",
        "    model.fit(X_train, y_train)\n",
        "    return model"
      ],
      "execution_count": 237,
      "outputs": []
    },
    {
      "cell_type": "markdown",
      "metadata": {
        "id": "KWD8LNbJDHG9"
      },
      "source": [
        "\r\n",
        "### <img src='https://drive.google.com/uc?export=view&id=1aAdtCrMe6SORoGAGtjOVM0UIxDFH9Thq' width=50px>  **4.2.2** Pos/Neg Frequency"
      ]
    },
    {
      "cell_type": "markdown",
      "metadata": {
        "id": "1bqSbvMxMDk8"
      },
      "source": [
        "* Use the `build_freqs` function on training data to create a frequency dictionnary\r\n",
        "* Use the frequency dictionnary together with the `tweet_to_freq` function to convert X_train and X_test data to 2-d vectors"
      ]
    },
    {
      "cell_type": "code",
      "metadata": {
        "id": "hKDhO2RKBafD"
      },
      "source": [
        "freqs = build_freqs(X_train, y_train)\n",
        "X_train_pn = [tweet_to_freq(tweet, freqs) for tweet in X_train]\n",
        "X_test_pn = [tweet_to_freq(tweet, freqs) for tweet in X_test]"
      ],
      "execution_count": 238,
      "outputs": []
    },
    {
      "cell_type": "markdown",
      "metadata": {
        "id": "2FgQYsodMl1c"
      },
      "source": [
        "* Fit the Logistic Regression model on training data by using the `fit_lr` function\r\n",
        "* Print the model coefficients (betas and intercept)"
      ]
    },
    {
      "cell_type": "code",
      "metadata": {
        "id": "mgXgI2QcjYyv"
      },
      "source": [
        "model_lr_pn = fit_lr(X_train_pn, y_train)\n",
        "print(model_lr_pn.coef_, model_lr_pn.intercept_)"
      ],
      "execution_count": 239,
      "outputs": [
        {
          "output_type": "stream",
          "name": "stdout",
          "text": [
            "[[ 0.00265454 -0.00198828]] [-0.50525782]\n"
          ]
        }
      ]
    },
    {
      "cell_type": "markdown",
      "metadata": {
        "id": "3ZtyVpIDZBRr"
      },
      "source": [
        "### <img src='https://drive.google.com/uc?export=view&id=1aAdtCrMe6SORoGAGtjOVM0UIxDFH9Thq' width=50px> **4.2.3** Count Vector"
      ]
    },
    {
      "cell_type": "markdown",
      "metadata": {
        "id": "-itafPb7M2O-"
      },
      "source": [
        "* Use the `fit_cv` function on training data to build the Bag-of-Words vectorizer\r\n",
        "* Transform X_train and X_test data by using the vectorizer"
      ]
    },
    {
      "cell_type": "code",
      "metadata": {
        "id": "zXba4ZPaYsb5"
      },
      "source": [
        "cv = fit_cv(X_train)\n",
        "X_train_cv = cv.transform(X_train)\n",
        "X_test_cv = cv.transform(X_test)\n",
        "\"\"\" cv = fit_cv(X_train)\n",
        "X_train_cv = cv.transform(X_train)\n",
        "X_test_cv = cv.transform(X_test) \"\"\""
      ],
      "execution_count": 240,
      "outputs": [
        {
          "output_type": "stream",
          "name": "stderr",
          "text": [
            "C:\\Users\\S10y01r\\AppData\\Local\\Programs\\Python\\Python38\\lib\\site-packages\\sklearn\\feature_extraction\\text.py:489: UserWarning: The parameter 'token_pattern' will not be used since 'tokenizer' is not None'\n  warnings.warn(\"The parameter 'token_pattern' will not be used\"\n"
          ]
        },
        {
          "output_type": "execute_result",
          "data": {
            "text/plain": [
              "' cv = fit_cv(X_train)\\nX_train_cv = cv.transform(X_train)\\nX_test_cv = cv.transform(X_test) '"
            ]
          },
          "metadata": {},
          "execution_count": 240
        }
      ]
    },
    {
      "cell_type": "markdown",
      "metadata": {
        "id": "dGDgMoYMNGA4"
      },
      "source": [
        "* Fit the Logistic Regression model on training data by using the `fit_lr` function"
      ]
    },
    {
      "cell_type": "code",
      "metadata": {
        "id": "xarmCHAIZMty"
      },
      "source": [
        "model_lr_cv = fit_lr(X_train_cv, y_train)"
      ],
      "execution_count": 241,
      "outputs": []
    },
    {
      "cell_type": "markdown",
      "metadata": {
        "id": "vo7WerftZV4t"
      },
      "source": [
        "### <img src='https://drive.google.com/uc?export=view&id=1aAdtCrMe6SORoGAGtjOVM0UIxDFH9Thq' width=50px> **4.2.4** TF-IDF"
      ]
    },
    {
      "cell_type": "markdown",
      "metadata": {
        "id": "zm27oDZHNMxd"
      },
      "source": [
        "* Use the `fit_cv` function on training data to build the Bag-of-Words vectorizer\r\n",
        "* Transform X_train and X_test data by using the vectorizer"
      ]
    },
    {
      "cell_type": "code",
      "metadata": {
        "id": "y2Ex6PkLZXwC"
      },
      "source": [
        "tf = fit_tfidf(X_train)\n",
        "X_train_tf = tf.transform(X_train)\n",
        "X_test_tf = tf.transform(X_test)"
      ],
      "execution_count": 242,
      "outputs": [
        {
          "output_type": "stream",
          "name": "stderr",
          "text": [
            "C:\\Users\\S10y01r\\AppData\\Local\\Programs\\Python\\Python38\\lib\\site-packages\\sklearn\\feature_extraction\\text.py:489: UserWarning: The parameter 'token_pattern' will not be used since 'tokenizer' is not None'\n  warnings.warn(\"The parameter 'token_pattern' will not be used\"\n"
          ]
        }
      ]
    },
    {
      "cell_type": "markdown",
      "metadata": {
        "id": "NdkMm9TWNVTM"
      },
      "source": [
        "* Fit the Logistic Regression model on training data by using the `fit_lr` function"
      ]
    },
    {
      "cell_type": "code",
      "metadata": {
        "id": "JfXA_WE7ZgCO"
      },
      "source": [
        "model_lr_tf = fit_lr(X_train_tf, y_train)"
      ],
      "execution_count": 243,
      "outputs": []
    },
    {
      "cell_type": "markdown",
      "metadata": {
        "id": "dTZWCw7CuAqy"
      },
      "source": [
        "<img src='https://drive.google.com/uc?export=view&id=1GYj-wj-so8jQ9-VDz1ayehgVh39Jmd4H' width=250px>\r\n",
        "\r\n",
        "## **4.3** Performance Metrics"
      ]
    },
    {
      "cell_type": "markdown",
      "metadata": {
        "id": "GlWsYS6GNYi8"
      },
      "source": [
        "* Import the `accuracy score` and `confusion matrix` from Scikit-Learn"
      ]
    },
    {
      "cell_type": "code",
      "metadata": {
        "id": "Pv_HXA9ttu4I"
      },
      "source": [
        "from sklearn.metrics import accuracy_score\n",
        "from sklearn.metrics import confusion_matrix"
      ],
      "execution_count": 244,
      "outputs": []
    },
    {
      "cell_type": "markdown",
      "metadata": {
        "id": "L-OBeBb4vf-Y"
      },
      "source": [
        "### <img src='https://drive.google.com/uc?export=view&id=1aAdtCrMe6SORoGAGtjOVM0UIxDFH9Thq' width=50px> **4.3.1** Positive/Negative Frequencies"
      ]
    },
    {
      "cell_type": "markdown",
      "metadata": {
        "id": "pNAY6ENLNgla"
      },
      "source": [
        "* Use the fitted `model_lr_pn` (positive/negative frequencies) to predict X_test\r\n",
        "\r\n"
      ]
    },
    {
      "cell_type": "code",
      "metadata": {
        "id": "WGSRknqlj6fu"
      },
      "source": [
        "y_pred_lr_pn = model_lr_pn.predict(X_test_pn)"
      ],
      "execution_count": 245,
      "outputs": []
    },
    {
      "cell_type": "markdown",
      "metadata": {
        "id": "D647C9ORj7Ty"
      },
      "source": [
        "* Print the model accuracy by comparing predictions and real sentiments"
      ]
    },
    {
      "cell_type": "code",
      "metadata": {
        "id": "h4Mw_VHwj6Qp"
      },
      "source": [
        "print(\"LR Model Accuracy: {:.2%}\".format(accuracy_score(y_test, y_pred_lr_pn)))"
      ],
      "execution_count": 246,
      "outputs": [
        {
          "output_type": "stream",
          "name": "stdout",
          "text": [
            "LR Model Accuracy: 77.87%\n"
          ]
        }
      ]
    },
    {
      "cell_type": "markdown",
      "metadata": {
        "id": "AEtKfgdij-cU"
      },
      "source": [
        "* Plot the confusion matrix by using the `plot_confusion` helper function"
      ]
    },
    {
      "cell_type": "code",
      "metadata": {
        "id": "ZMFVLs_vAO03"
      },
      "source": [
        "plot_confusion(confusion_matrix(y_test, y_pred_lr_pn))"
      ],
      "execution_count": 247,
      "outputs": [
        {
          "output_type": "execute_result",
          "data": {
            "text/plain": [
              "<module 'seaborn' from 'C:\\\\Users\\\\S10y01r\\\\AppData\\\\Local\\\\Programs\\\\Python\\\\Python38\\\\lib\\\\site-packages\\\\seaborn\\\\__init__.py'>"
            ]
          },
          "metadata": {},
          "execution_count": 247
        },
        {
          "output_type": "display_data",
          "data": {
            "text/plain": "<Figure size 360x360 with 2 Axes>",
            "image/svg+xml": "<?xml version=\"1.0\" encoding=\"utf-8\" standalone=\"no\"?>\r\n<!DOCTYPE svg PUBLIC \"-//W3C//DTD SVG 1.1//EN\"\r\n  \"http://www.w3.org/Graphics/SVG/1.1/DTD/svg11.dtd\">\r\n<!-- Created with matplotlib (https://matplotlib.org/) -->\r\n<svg height=\"331.674375pt\" version=\"1.1\" viewBox=\"0 0 327.94625 331.674375\" width=\"327.94625pt\" xmlns=\"http://www.w3.org/2000/svg\" xmlns:xlink=\"http://www.w3.org/1999/xlink\">\r\n <metadata>\r\n  <rdf:RDF xmlns:cc=\"http://creativecommons.org/ns#\" xmlns:dc=\"http://purl.org/dc/elements/1.1/\" xmlns:rdf=\"http://www.w3.org/1999/02/22-rdf-syntax-ns#\">\r\n   <cc:Work>\r\n    <dc:type rdf:resource=\"http://purl.org/dc/dcmitype/StillImage\"/>\r\n    <dc:date>2021-05-08T01:16:34.372080</dc:date>\r\n    <dc:format>image/svg+xml</dc:format>\r\n    <dc:creator>\r\n     <cc:Agent>\r\n      <dc:title>Matplotlib v3.3.4, https://matplotlib.org/</dc:title>\r\n     </cc:Agent>\r\n    </dc:creator>\r\n   </cc:Work>\r\n  </rdf:RDF>\r\n </metadata>\r\n <defs>\r\n  <style type=\"text/css\">*{stroke-linecap:butt;stroke-linejoin:round;}</style>\r\n </defs>\r\n <g id=\"figure_1\">\r\n  <g id=\"patch_1\">\r\n   <path d=\"M 0 331.674375 \r\nL 327.94625 331.674375 \r\nL 327.94625 0 \r\nL 0 0 \r\nz\r\n\" style=\"fill:none;\"/>\r\n  </g>\r\n  <g id=\"axes_1\">\r\n   <g id=\"patch_2\">\r\n    <path d=\"M 37.55625 294.118125 \r\nL 260.75625 294.118125 \r\nL 260.75625 22.318125 \r\nL 37.55625 22.318125 \r\nz\r\n\" style=\"fill:#ffffff;\"/>\r\n   </g>\r\n   <g id=\"QuadMesh_1\">\r\n    <path clip-path=\"url(#p897af86f88)\" d=\"M 37.55625 22.318125 \r\nL 149.15625 22.318125 \r\nL 149.15625 158.218125 \r\nL 37.55625 158.218125 \r\nL 37.55625 22.318125 \r\n\" style=\"fill:#08306b;\"/>\r\n    <path clip-path=\"url(#p897af86f88)\" d=\"M 149.15625 22.318125 \r\nL 260.75625 22.318125 \r\nL 260.75625 158.218125 \r\nL 149.15625 158.218125 \r\nL 149.15625 22.318125 \r\n\" style=\"fill:#f7fbff;\"/>\r\n    <path clip-path=\"url(#p897af86f88)\" d=\"M 37.55625 158.218125 \r\nL 149.15625 158.218125 \r\nL 149.15625 294.118125 \r\nL 37.55625 294.118125 \r\nL 37.55625 158.218125 \r\n\" style=\"fill:#caddf0;\"/>\r\n    <path clip-path=\"url(#p897af86f88)\" d=\"M 149.15625 158.218125 \r\nL 260.75625 158.218125 \r\nL 260.75625 294.118125 \r\nL 149.15625 294.118125 \r\nL 149.15625 158.218125 \r\n\" style=\"fill:#08306b;\"/>\r\n   </g>\r\n   <g id=\"matplotlib.axis_1\">\r\n    <g id=\"xtick_1\">\r\n     <g id=\"line2d_1\">\r\n      <defs>\r\n       <path d=\"M 0 0 \r\nL 0 3.5 \r\n\" id=\"m8ddef57b16\" style=\"stroke:#000000;stroke-width:0.8;\"/>\r\n      </defs>\r\n      <g>\r\n       <use style=\"stroke:#000000;stroke-width:0.8;\" x=\"93.35625\" xlink:href=\"#m8ddef57b16\" y=\"294.118125\"/>\r\n      </g>\r\n     </g>\r\n     <g id=\"text_1\">\r\n      <!-- 0 -->\r\n      <g transform=\"translate(90.175 308.716563)scale(0.1 -0.1)\">\r\n       <defs>\r\n        <path d=\"M 31.78125 66.40625 \r\nQ 24.171875 66.40625 20.328125 58.90625 \r\nQ 16.5 51.421875 16.5 36.375 \r\nQ 16.5 21.390625 20.328125 13.890625 \r\nQ 24.171875 6.390625 31.78125 6.390625 \r\nQ 39.453125 6.390625 43.28125 13.890625 \r\nQ 47.125 21.390625 47.125 36.375 \r\nQ 47.125 51.421875 43.28125 58.90625 \r\nQ 39.453125 66.40625 31.78125 66.40625 \r\nz\r\nM 31.78125 74.21875 \r\nQ 44.046875 74.21875 50.515625 64.515625 \r\nQ 56.984375 54.828125 56.984375 36.375 \r\nQ 56.984375 17.96875 50.515625 8.265625 \r\nQ 44.046875 -1.421875 31.78125 -1.421875 \r\nQ 19.53125 -1.421875 13.0625 8.265625 \r\nQ 6.59375 17.96875 6.59375 36.375 \r\nQ 6.59375 54.828125 13.0625 64.515625 \r\nQ 19.53125 74.21875 31.78125 74.21875 \r\nz\r\n\" id=\"DejaVuSans-48\"/>\r\n       </defs>\r\n       <use xlink:href=\"#DejaVuSans-48\"/>\r\n      </g>\r\n     </g>\r\n    </g>\r\n    <g id=\"xtick_2\">\r\n     <g id=\"line2d_2\">\r\n      <g>\r\n       <use style=\"stroke:#000000;stroke-width:0.8;\" x=\"204.95625\" xlink:href=\"#m8ddef57b16\" y=\"294.118125\"/>\r\n      </g>\r\n     </g>\r\n     <g id=\"text_2\">\r\n      <!-- 1 -->\r\n      <g transform=\"translate(201.775 308.716563)scale(0.1 -0.1)\">\r\n       <defs>\r\n        <path d=\"M 12.40625 8.296875 \r\nL 28.515625 8.296875 \r\nL 28.515625 63.921875 \r\nL 10.984375 60.40625 \r\nL 10.984375 69.390625 \r\nL 28.421875 72.90625 \r\nL 38.28125 72.90625 \r\nL 38.28125 8.296875 \r\nL 54.390625 8.296875 \r\nL 54.390625 0 \r\nL 12.40625 0 \r\nz\r\n\" id=\"DejaVuSans-49\"/>\r\n       </defs>\r\n       <use xlink:href=\"#DejaVuSans-49\"/>\r\n      </g>\r\n     </g>\r\n    </g>\r\n    <g id=\"text_3\">\r\n     <!-- Prediction -->\r\n     <g transform=\"translate(124.319531 322.394687)scale(0.1 -0.1)\">\r\n      <defs>\r\n       <path d=\"M 19.671875 64.796875 \r\nL 19.671875 37.40625 \r\nL 32.078125 37.40625 \r\nQ 38.96875 37.40625 42.71875 40.96875 \r\nQ 46.484375 44.53125 46.484375 51.125 \r\nQ 46.484375 57.671875 42.71875 61.234375 \r\nQ 38.96875 64.796875 32.078125 64.796875 \r\nz\r\nM 9.8125 72.90625 \r\nL 32.078125 72.90625 \r\nQ 44.34375 72.90625 50.609375 67.359375 \r\nQ 56.890625 61.8125 56.890625 51.125 \r\nQ 56.890625 40.328125 50.609375 34.8125 \r\nQ 44.34375 29.296875 32.078125 29.296875 \r\nL 19.671875 29.296875 \r\nL 19.671875 0 \r\nL 9.8125 0 \r\nz\r\n\" id=\"DejaVuSans-80\"/>\r\n       <path d=\"M 41.109375 46.296875 \r\nQ 39.59375 47.171875 37.8125 47.578125 \r\nQ 36.03125 48 33.890625 48 \r\nQ 26.265625 48 22.1875 43.046875 \r\nQ 18.109375 38.09375 18.109375 28.8125 \r\nL 18.109375 0 \r\nL 9.078125 0 \r\nL 9.078125 54.6875 \r\nL 18.109375 54.6875 \r\nL 18.109375 46.1875 \r\nQ 20.953125 51.171875 25.484375 53.578125 \r\nQ 30.03125 56 36.53125 56 \r\nQ 37.453125 56 38.578125 55.875 \r\nQ 39.703125 55.765625 41.0625 55.515625 \r\nz\r\n\" id=\"DejaVuSans-114\"/>\r\n       <path d=\"M 56.203125 29.59375 \r\nL 56.203125 25.203125 \r\nL 14.890625 25.203125 \r\nQ 15.484375 15.921875 20.484375 11.0625 \r\nQ 25.484375 6.203125 34.421875 6.203125 \r\nQ 39.59375 6.203125 44.453125 7.46875 \r\nQ 49.3125 8.734375 54.109375 11.28125 \r\nL 54.109375 2.78125 \r\nQ 49.265625 0.734375 44.1875 -0.34375 \r\nQ 39.109375 -1.421875 33.890625 -1.421875 \r\nQ 20.796875 -1.421875 13.15625 6.1875 \r\nQ 5.515625 13.8125 5.515625 26.8125 \r\nQ 5.515625 40.234375 12.765625 48.109375 \r\nQ 20.015625 56 32.328125 56 \r\nQ 43.359375 56 49.78125 48.890625 \r\nQ 56.203125 41.796875 56.203125 29.59375 \r\nz\r\nM 47.21875 32.234375 \r\nQ 47.125 39.59375 43.09375 43.984375 \r\nQ 39.0625 48.390625 32.421875 48.390625 \r\nQ 24.90625 48.390625 20.390625 44.140625 \r\nQ 15.875 39.890625 15.1875 32.171875 \r\nz\r\n\" id=\"DejaVuSans-101\"/>\r\n       <path d=\"M 45.40625 46.390625 \r\nL 45.40625 75.984375 \r\nL 54.390625 75.984375 \r\nL 54.390625 0 \r\nL 45.40625 0 \r\nL 45.40625 8.203125 \r\nQ 42.578125 3.328125 38.25 0.953125 \r\nQ 33.9375 -1.421875 27.875 -1.421875 \r\nQ 17.96875 -1.421875 11.734375 6.484375 \r\nQ 5.515625 14.40625 5.515625 27.296875 \r\nQ 5.515625 40.1875 11.734375 48.09375 \r\nQ 17.96875 56 27.875 56 \r\nQ 33.9375 56 38.25 53.625 \r\nQ 42.578125 51.265625 45.40625 46.390625 \r\nz\r\nM 14.796875 27.296875 \r\nQ 14.796875 17.390625 18.875 11.75 \r\nQ 22.953125 6.109375 30.078125 6.109375 \r\nQ 37.203125 6.109375 41.296875 11.75 \r\nQ 45.40625 17.390625 45.40625 27.296875 \r\nQ 45.40625 37.203125 41.296875 42.84375 \r\nQ 37.203125 48.484375 30.078125 48.484375 \r\nQ 22.953125 48.484375 18.875 42.84375 \r\nQ 14.796875 37.203125 14.796875 27.296875 \r\nz\r\n\" id=\"DejaVuSans-100\"/>\r\n       <path d=\"M 9.421875 54.6875 \r\nL 18.40625 54.6875 \r\nL 18.40625 0 \r\nL 9.421875 0 \r\nz\r\nM 9.421875 75.984375 \r\nL 18.40625 75.984375 \r\nL 18.40625 64.59375 \r\nL 9.421875 64.59375 \r\nz\r\n\" id=\"DejaVuSans-105\"/>\r\n       <path d=\"M 48.78125 52.59375 \r\nL 48.78125 44.1875 \r\nQ 44.96875 46.296875 41.140625 47.34375 \r\nQ 37.3125 48.390625 33.40625 48.390625 \r\nQ 24.65625 48.390625 19.8125 42.84375 \r\nQ 14.984375 37.3125 14.984375 27.296875 \r\nQ 14.984375 17.28125 19.8125 11.734375 \r\nQ 24.65625 6.203125 33.40625 6.203125 \r\nQ 37.3125 6.203125 41.140625 7.25 \r\nQ 44.96875 8.296875 48.78125 10.40625 \r\nL 48.78125 2.09375 \r\nQ 45.015625 0.34375 40.984375 -0.53125 \r\nQ 36.96875 -1.421875 32.421875 -1.421875 \r\nQ 20.0625 -1.421875 12.78125 6.34375 \r\nQ 5.515625 14.109375 5.515625 27.296875 \r\nQ 5.515625 40.671875 12.859375 48.328125 \r\nQ 20.21875 56 33.015625 56 \r\nQ 37.15625 56 41.109375 55.140625 \r\nQ 45.0625 54.296875 48.78125 52.59375 \r\nz\r\n\" id=\"DejaVuSans-99\"/>\r\n       <path d=\"M 18.3125 70.21875 \r\nL 18.3125 54.6875 \r\nL 36.8125 54.6875 \r\nL 36.8125 47.703125 \r\nL 18.3125 47.703125 \r\nL 18.3125 18.015625 \r\nQ 18.3125 11.328125 20.140625 9.421875 \r\nQ 21.96875 7.515625 27.59375 7.515625 \r\nL 36.8125 7.515625 \r\nL 36.8125 0 \r\nL 27.59375 0 \r\nQ 17.1875 0 13.234375 3.875 \r\nQ 9.28125 7.765625 9.28125 18.015625 \r\nL 9.28125 47.703125 \r\nL 2.6875 47.703125 \r\nL 2.6875 54.6875 \r\nL 9.28125 54.6875 \r\nL 9.28125 70.21875 \r\nz\r\n\" id=\"DejaVuSans-116\"/>\r\n       <path d=\"M 30.609375 48.390625 \r\nQ 23.390625 48.390625 19.1875 42.75 \r\nQ 14.984375 37.109375 14.984375 27.296875 \r\nQ 14.984375 17.484375 19.15625 11.84375 \r\nQ 23.34375 6.203125 30.609375 6.203125 \r\nQ 37.796875 6.203125 41.984375 11.859375 \r\nQ 46.1875 17.53125 46.1875 27.296875 \r\nQ 46.1875 37.015625 41.984375 42.703125 \r\nQ 37.796875 48.390625 30.609375 48.390625 \r\nz\r\nM 30.609375 56 \r\nQ 42.328125 56 49.015625 48.375 \r\nQ 55.71875 40.765625 55.71875 27.296875 \r\nQ 55.71875 13.875 49.015625 6.21875 \r\nQ 42.328125 -1.421875 30.609375 -1.421875 \r\nQ 18.84375 -1.421875 12.171875 6.21875 \r\nQ 5.515625 13.875 5.515625 27.296875 \r\nQ 5.515625 40.765625 12.171875 48.375 \r\nQ 18.84375 56 30.609375 56 \r\nz\r\n\" id=\"DejaVuSans-111\"/>\r\n       <path d=\"M 54.890625 33.015625 \r\nL 54.890625 0 \r\nL 45.90625 0 \r\nL 45.90625 32.71875 \r\nQ 45.90625 40.484375 42.875 44.328125 \r\nQ 39.84375 48.1875 33.796875 48.1875 \r\nQ 26.515625 48.1875 22.3125 43.546875 \r\nQ 18.109375 38.921875 18.109375 30.90625 \r\nL 18.109375 0 \r\nL 9.078125 0 \r\nL 9.078125 54.6875 \r\nL 18.109375 54.6875 \r\nL 18.109375 46.1875 \r\nQ 21.34375 51.125 25.703125 53.5625 \r\nQ 30.078125 56 35.796875 56 \r\nQ 45.21875 56 50.046875 50.171875 \r\nQ 54.890625 44.34375 54.890625 33.015625 \r\nz\r\n\" id=\"DejaVuSans-110\"/>\r\n      </defs>\r\n      <use xlink:href=\"#DejaVuSans-80\"/>\r\n      <use x=\"58.552734\" xlink:href=\"#DejaVuSans-114\"/>\r\n      <use x=\"97.416016\" xlink:href=\"#DejaVuSans-101\"/>\r\n      <use x=\"158.939453\" xlink:href=\"#DejaVuSans-100\"/>\r\n      <use x=\"222.416016\" xlink:href=\"#DejaVuSans-105\"/>\r\n      <use x=\"250.199219\" xlink:href=\"#DejaVuSans-99\"/>\r\n      <use x=\"305.179688\" xlink:href=\"#DejaVuSans-116\"/>\r\n      <use x=\"344.388672\" xlink:href=\"#DejaVuSans-105\"/>\r\n      <use x=\"372.171875\" xlink:href=\"#DejaVuSans-111\"/>\r\n      <use x=\"433.353516\" xlink:href=\"#DejaVuSans-110\"/>\r\n     </g>\r\n    </g>\r\n   </g>\r\n   <g id=\"matplotlib.axis_2\">\r\n    <g id=\"ytick_1\">\r\n     <g id=\"line2d_3\">\r\n      <defs>\r\n       <path d=\"M 0 0 \r\nL -3.5 0 \r\n\" id=\"m98ff7c8675\" style=\"stroke:#000000;stroke-width:0.8;\"/>\r\n      </defs>\r\n      <g>\r\n       <use style=\"stroke:#000000;stroke-width:0.8;\" x=\"37.55625\" xlink:href=\"#m98ff7c8675\" y=\"90.268125\"/>\r\n      </g>\r\n     </g>\r\n     <g id=\"text_4\">\r\n      <!-- 0 -->\r\n      <g transform=\"translate(28.476563 92.831406)rotate(-90)scale(0.1 -0.1)\">\r\n       <use xlink:href=\"#DejaVuSans-48\"/>\r\n      </g>\r\n     </g>\r\n    </g>\r\n    <g id=\"ytick_2\">\r\n     <g id=\"line2d_4\">\r\n      <g>\r\n       <use style=\"stroke:#000000;stroke-width:0.8;\" x=\"37.55625\" xlink:href=\"#m98ff7c8675\" y=\"226.168125\"/>\r\n      </g>\r\n     </g>\r\n     <g id=\"text_5\">\r\n      <!-- 1 -->\r\n      <g transform=\"translate(28.476563 228.731406)rotate(-90)scale(0.1 -0.1)\">\r\n       <use xlink:href=\"#DejaVuSans-49\"/>\r\n      </g>\r\n     </g>\r\n    </g>\r\n    <g id=\"text_6\">\r\n     <!-- True value -->\r\n     <g transform=\"translate(14.798438 184.082188)rotate(-90)scale(0.1 -0.1)\">\r\n      <defs>\r\n       <path d=\"M -0.296875 72.90625 \r\nL 61.375 72.90625 \r\nL 61.375 64.59375 \r\nL 35.5 64.59375 \r\nL 35.5 0 \r\nL 25.59375 0 \r\nL 25.59375 64.59375 \r\nL -0.296875 64.59375 \r\nz\r\n\" id=\"DejaVuSans-84\"/>\r\n       <path d=\"M 8.5 21.578125 \r\nL 8.5 54.6875 \r\nL 17.484375 54.6875 \r\nL 17.484375 21.921875 \r\nQ 17.484375 14.15625 20.5 10.265625 \r\nQ 23.53125 6.390625 29.59375 6.390625 \r\nQ 36.859375 6.390625 41.078125 11.03125 \r\nQ 45.3125 15.671875 45.3125 23.6875 \r\nL 45.3125 54.6875 \r\nL 54.296875 54.6875 \r\nL 54.296875 0 \r\nL 45.3125 0 \r\nL 45.3125 8.40625 \r\nQ 42.046875 3.421875 37.71875 1 \r\nQ 33.40625 -1.421875 27.6875 -1.421875 \r\nQ 18.265625 -1.421875 13.375 4.4375 \r\nQ 8.5 10.296875 8.5 21.578125 \r\nz\r\nM 31.109375 56 \r\nz\r\n\" id=\"DejaVuSans-117\"/>\r\n       <path id=\"DejaVuSans-32\"/>\r\n       <path d=\"M 2.984375 54.6875 \r\nL 12.5 54.6875 \r\nL 29.59375 8.796875 \r\nL 46.6875 54.6875 \r\nL 56.203125 54.6875 \r\nL 35.6875 0 \r\nL 23.484375 0 \r\nz\r\n\" id=\"DejaVuSans-118\"/>\r\n       <path d=\"M 34.28125 27.484375 \r\nQ 23.390625 27.484375 19.1875 25 \r\nQ 14.984375 22.515625 14.984375 16.5 \r\nQ 14.984375 11.71875 18.140625 8.90625 \r\nQ 21.296875 6.109375 26.703125 6.109375 \r\nQ 34.1875 6.109375 38.703125 11.40625 \r\nQ 43.21875 16.703125 43.21875 25.484375 \r\nL 43.21875 27.484375 \r\nz\r\nM 52.203125 31.203125 \r\nL 52.203125 0 \r\nL 43.21875 0 \r\nL 43.21875 8.296875 \r\nQ 40.140625 3.328125 35.546875 0.953125 \r\nQ 30.953125 -1.421875 24.3125 -1.421875 \r\nQ 15.921875 -1.421875 10.953125 3.296875 \r\nQ 6 8.015625 6 15.921875 \r\nQ 6 25.140625 12.171875 29.828125 \r\nQ 18.359375 34.515625 30.609375 34.515625 \r\nL 43.21875 34.515625 \r\nL 43.21875 35.40625 \r\nQ 43.21875 41.609375 39.140625 45 \r\nQ 35.0625 48.390625 27.6875 48.390625 \r\nQ 23 48.390625 18.546875 47.265625 \r\nQ 14.109375 46.140625 10.015625 43.890625 \r\nL 10.015625 52.203125 \r\nQ 14.9375 54.109375 19.578125 55.046875 \r\nQ 24.21875 56 28.609375 56 \r\nQ 40.484375 56 46.34375 49.84375 \r\nQ 52.203125 43.703125 52.203125 31.203125 \r\nz\r\n\" id=\"DejaVuSans-97\"/>\r\n       <path d=\"M 9.421875 75.984375 \r\nL 18.40625 75.984375 \r\nL 18.40625 0 \r\nL 9.421875 0 \r\nz\r\n\" id=\"DejaVuSans-108\"/>\r\n      </defs>\r\n      <use xlink:href=\"#DejaVuSans-84\"/>\r\n      <use x=\"46.333984\" xlink:href=\"#DejaVuSans-114\"/>\r\n      <use x=\"87.447266\" xlink:href=\"#DejaVuSans-117\"/>\r\n      <use x=\"150.826172\" xlink:href=\"#DejaVuSans-101\"/>\r\n      <use x=\"212.349609\" xlink:href=\"#DejaVuSans-32\"/>\r\n      <use x=\"244.136719\" xlink:href=\"#DejaVuSans-118\"/>\r\n      <use x=\"303.316406\" xlink:href=\"#DejaVuSans-97\"/>\r\n      <use x=\"364.595703\" xlink:href=\"#DejaVuSans-108\"/>\r\n      <use x=\"392.378906\" xlink:href=\"#DejaVuSans-117\"/>\r\n      <use x=\"455.757812\" xlink:href=\"#DejaVuSans-101\"/>\r\n     </g>\r\n    </g>\r\n   </g>\r\n   <g id=\"text_7\">\r\n    <!-- 1458 -->\r\n    <g style=\"fill:#ffffff;\" transform=\"translate(80.63125 93.0275)scale(0.1 -0.1)\">\r\n     <defs>\r\n      <path d=\"M 37.796875 64.3125 \r\nL 12.890625 25.390625 \r\nL 37.796875 25.390625 \r\nz\r\nM 35.203125 72.90625 \r\nL 47.609375 72.90625 \r\nL 47.609375 25.390625 \r\nL 58.015625 25.390625 \r\nL 58.015625 17.1875 \r\nL 47.609375 17.1875 \r\nL 47.609375 0 \r\nL 37.796875 0 \r\nL 37.796875 17.1875 \r\nL 4.890625 17.1875 \r\nL 4.890625 26.703125 \r\nz\r\n\" id=\"DejaVuSans-52\"/>\r\n      <path d=\"M 10.796875 72.90625 \r\nL 49.515625 72.90625 \r\nL 49.515625 64.59375 \r\nL 19.828125 64.59375 \r\nL 19.828125 46.734375 \r\nQ 21.96875 47.46875 24.109375 47.828125 \r\nQ 26.265625 48.1875 28.421875 48.1875 \r\nQ 40.625 48.1875 47.75 41.5 \r\nQ 54.890625 34.8125 54.890625 23.390625 \r\nQ 54.890625 11.625 47.5625 5.09375 \r\nQ 40.234375 -1.421875 26.90625 -1.421875 \r\nQ 22.3125 -1.421875 17.546875 -0.640625 \r\nQ 12.796875 0.140625 7.71875 1.703125 \r\nL 7.71875 11.625 \r\nQ 12.109375 9.234375 16.796875 8.0625 \r\nQ 21.484375 6.890625 26.703125 6.890625 \r\nQ 35.15625 6.890625 40.078125 11.328125 \r\nQ 45.015625 15.765625 45.015625 23.390625 \r\nQ 45.015625 31 40.078125 35.4375 \r\nQ 35.15625 39.890625 26.703125 39.890625 \r\nQ 22.75 39.890625 18.8125 39.015625 \r\nQ 14.890625 38.140625 10.796875 36.28125 \r\nz\r\n\" id=\"DejaVuSans-53\"/>\r\n      <path d=\"M 31.78125 34.625 \r\nQ 24.75 34.625 20.71875 30.859375 \r\nQ 16.703125 27.09375 16.703125 20.515625 \r\nQ 16.703125 13.921875 20.71875 10.15625 \r\nQ 24.75 6.390625 31.78125 6.390625 \r\nQ 38.8125 6.390625 42.859375 10.171875 \r\nQ 46.921875 13.96875 46.921875 20.515625 \r\nQ 46.921875 27.09375 42.890625 30.859375 \r\nQ 38.875 34.625 31.78125 34.625 \r\nz\r\nM 21.921875 38.8125 \r\nQ 15.578125 40.375 12.03125 44.71875 \r\nQ 8.5 49.078125 8.5 55.328125 \r\nQ 8.5 64.0625 14.71875 69.140625 \r\nQ 20.953125 74.21875 31.78125 74.21875 \r\nQ 42.671875 74.21875 48.875 69.140625 \r\nQ 55.078125 64.0625 55.078125 55.328125 \r\nQ 55.078125 49.078125 51.53125 44.71875 \r\nQ 48 40.375 41.703125 38.8125 \r\nQ 48.828125 37.15625 52.796875 32.3125 \r\nQ 56.78125 27.484375 56.78125 20.515625 \r\nQ 56.78125 9.90625 50.3125 4.234375 \r\nQ 43.84375 -1.421875 31.78125 -1.421875 \r\nQ 19.734375 -1.421875 13.25 4.234375 \r\nQ 6.78125 9.90625 6.78125 20.515625 \r\nQ 6.78125 27.484375 10.78125 32.3125 \r\nQ 14.796875 37.15625 21.921875 38.8125 \r\nz\r\nM 18.3125 54.390625 \r\nQ 18.3125 48.734375 21.84375 45.5625 \r\nQ 25.390625 42.390625 31.78125 42.390625 \r\nQ 38.140625 42.390625 41.71875 45.5625 \r\nQ 45.3125 48.734375 45.3125 54.390625 \r\nQ 45.3125 60.0625 41.71875 63.234375 \r\nQ 38.140625 66.40625 31.78125 66.40625 \r\nQ 25.390625 66.40625 21.84375 63.234375 \r\nQ 18.3125 60.0625 18.3125 54.390625 \r\nz\r\n\" id=\"DejaVuSans-56\"/>\r\n     </defs>\r\n     <use xlink:href=\"#DejaVuSans-49\"/>\r\n     <use x=\"63.623047\" xlink:href=\"#DejaVuSans-52\"/>\r\n     <use x=\"127.246094\" xlink:href=\"#DejaVuSans-53\"/>\r\n     <use x=\"190.869141\" xlink:href=\"#DejaVuSans-56\"/>\r\n    </g>\r\n   </g>\r\n   <g id=\"text_8\">\r\n    <!-- 278 -->\r\n    <g style=\"fill:#262626;\" transform=\"translate(195.4125 93.0275)scale(0.1 -0.1)\">\r\n     <defs>\r\n      <path d=\"M 19.1875 8.296875 \r\nL 53.609375 8.296875 \r\nL 53.609375 0 \r\nL 7.328125 0 \r\nL 7.328125 8.296875 \r\nQ 12.9375 14.109375 22.625 23.890625 \r\nQ 32.328125 33.6875 34.8125 36.53125 \r\nQ 39.546875 41.84375 41.421875 45.53125 \r\nQ 43.3125 49.21875 43.3125 52.78125 \r\nQ 43.3125 58.59375 39.234375 62.25 \r\nQ 35.15625 65.921875 28.609375 65.921875 \r\nQ 23.96875 65.921875 18.8125 64.3125 \r\nQ 13.671875 62.703125 7.8125 59.421875 \r\nL 7.8125 69.390625 \r\nQ 13.765625 71.78125 18.9375 73 \r\nQ 24.125 74.21875 28.421875 74.21875 \r\nQ 39.75 74.21875 46.484375 68.546875 \r\nQ 53.21875 62.890625 53.21875 53.421875 \r\nQ 53.21875 48.921875 51.53125 44.890625 \r\nQ 49.859375 40.875 45.40625 35.40625 \r\nQ 44.1875 33.984375 37.640625 27.21875 \r\nQ 31.109375 20.453125 19.1875 8.296875 \r\nz\r\n\" id=\"DejaVuSans-50\"/>\r\n      <path d=\"M 8.203125 72.90625 \r\nL 55.078125 72.90625 \r\nL 55.078125 68.703125 \r\nL 28.609375 0 \r\nL 18.3125 0 \r\nL 43.21875 64.59375 \r\nL 8.203125 64.59375 \r\nz\r\n\" id=\"DejaVuSans-55\"/>\r\n     </defs>\r\n     <use xlink:href=\"#DejaVuSans-50\"/>\r\n     <use x=\"63.623047\" xlink:href=\"#DejaVuSans-55\"/>\r\n     <use x=\"127.246094\" xlink:href=\"#DejaVuSans-56\"/>\r\n    </g>\r\n   </g>\r\n   <g id=\"text_9\">\r\n    <!-- 551 -->\r\n    <g style=\"fill:#262626;\" transform=\"translate(83.8125 228.9275)scale(0.1 -0.1)\">\r\n     <use xlink:href=\"#DejaVuSans-53\"/>\r\n     <use x=\"63.623047\" xlink:href=\"#DejaVuSans-53\"/>\r\n     <use x=\"127.246094\" xlink:href=\"#DejaVuSans-49\"/>\r\n    </g>\r\n   </g>\r\n   <g id=\"text_10\">\r\n    <!-- 1459 -->\r\n    <g style=\"fill:#ffffff;\" transform=\"translate(192.23125 228.9275)scale(0.1 -0.1)\">\r\n     <defs>\r\n      <path d=\"M 10.984375 1.515625 \r\nL 10.984375 10.5 \r\nQ 14.703125 8.734375 18.5 7.8125 \r\nQ 22.3125 6.890625 25.984375 6.890625 \r\nQ 35.75 6.890625 40.890625 13.453125 \r\nQ 46.046875 20.015625 46.78125 33.40625 \r\nQ 43.953125 29.203125 39.59375 26.953125 \r\nQ 35.25 24.703125 29.984375 24.703125 \r\nQ 19.046875 24.703125 12.671875 31.3125 \r\nQ 6.296875 37.9375 6.296875 49.421875 \r\nQ 6.296875 60.640625 12.9375 67.421875 \r\nQ 19.578125 74.21875 30.609375 74.21875 \r\nQ 43.265625 74.21875 49.921875 64.515625 \r\nQ 56.59375 54.828125 56.59375 36.375 \r\nQ 56.59375 19.140625 48.40625 8.859375 \r\nQ 40.234375 -1.421875 26.421875 -1.421875 \r\nQ 22.703125 -1.421875 18.890625 -0.6875 \r\nQ 15.09375 0.046875 10.984375 1.515625 \r\nz\r\nM 30.609375 32.421875 \r\nQ 37.25 32.421875 41.125 36.953125 \r\nQ 45.015625 41.5 45.015625 49.421875 \r\nQ 45.015625 57.28125 41.125 61.84375 \r\nQ 37.25 66.40625 30.609375 66.40625 \r\nQ 23.96875 66.40625 20.09375 61.84375 \r\nQ 16.21875 57.28125 16.21875 49.421875 \r\nQ 16.21875 41.5 20.09375 36.953125 \r\nQ 23.96875 32.421875 30.609375 32.421875 \r\nz\r\n\" id=\"DejaVuSans-57\"/>\r\n     </defs>\r\n     <use xlink:href=\"#DejaVuSans-49\"/>\r\n     <use x=\"63.623047\" xlink:href=\"#DejaVuSans-52\"/>\r\n     <use x=\"127.246094\" xlink:href=\"#DejaVuSans-53\"/>\r\n     <use x=\"190.869141\" xlink:href=\"#DejaVuSans-57\"/>\r\n    </g>\r\n   </g>\r\n   <g id=\"text_11\">\r\n    <!-- Confusion Matrix -->\r\n    <g transform=\"translate(98.514375 16.318125)scale(0.12 -0.12)\">\r\n     <defs>\r\n      <path d=\"M 64.40625 67.28125 \r\nL 64.40625 56.890625 \r\nQ 59.421875 61.53125 53.78125 63.8125 \r\nQ 48.140625 66.109375 41.796875 66.109375 \r\nQ 29.296875 66.109375 22.65625 58.46875 \r\nQ 16.015625 50.828125 16.015625 36.375 \r\nQ 16.015625 21.96875 22.65625 14.328125 \r\nQ 29.296875 6.6875 41.796875 6.6875 \r\nQ 48.140625 6.6875 53.78125 8.984375 \r\nQ 59.421875 11.28125 64.40625 15.921875 \r\nL 64.40625 5.609375 \r\nQ 59.234375 2.09375 53.4375 0.328125 \r\nQ 47.65625 -1.421875 41.21875 -1.421875 \r\nQ 24.65625 -1.421875 15.125 8.703125 \r\nQ 5.609375 18.84375 5.609375 36.375 \r\nQ 5.609375 53.953125 15.125 64.078125 \r\nQ 24.65625 74.21875 41.21875 74.21875 \r\nQ 47.75 74.21875 53.53125 72.484375 \r\nQ 59.328125 70.75 64.40625 67.28125 \r\nz\r\n\" id=\"DejaVuSans-67\"/>\r\n      <path d=\"M 37.109375 75.984375 \r\nL 37.109375 68.5 \r\nL 28.515625 68.5 \r\nQ 23.6875 68.5 21.796875 66.546875 \r\nQ 19.921875 64.59375 19.921875 59.515625 \r\nL 19.921875 54.6875 \r\nL 34.71875 54.6875 \r\nL 34.71875 47.703125 \r\nL 19.921875 47.703125 \r\nL 19.921875 0 \r\nL 10.890625 0 \r\nL 10.890625 47.703125 \r\nL 2.296875 47.703125 \r\nL 2.296875 54.6875 \r\nL 10.890625 54.6875 \r\nL 10.890625 58.5 \r\nQ 10.890625 67.625 15.140625 71.796875 \r\nQ 19.390625 75.984375 28.609375 75.984375 \r\nz\r\n\" id=\"DejaVuSans-102\"/>\r\n      <path d=\"M 44.28125 53.078125 \r\nL 44.28125 44.578125 \r\nQ 40.484375 46.53125 36.375 47.5 \r\nQ 32.28125 48.484375 27.875 48.484375 \r\nQ 21.1875 48.484375 17.84375 46.4375 \r\nQ 14.5 44.390625 14.5 40.28125 \r\nQ 14.5 37.15625 16.890625 35.375 \r\nQ 19.28125 33.59375 26.515625 31.984375 \r\nL 29.59375 31.296875 \r\nQ 39.15625 29.25 43.1875 25.515625 \r\nQ 47.21875 21.78125 47.21875 15.09375 \r\nQ 47.21875 7.46875 41.1875 3.015625 \r\nQ 35.15625 -1.421875 24.609375 -1.421875 \r\nQ 20.21875 -1.421875 15.453125 -0.5625 \r\nQ 10.6875 0.296875 5.421875 2 \r\nL 5.421875 11.28125 \r\nQ 10.40625 8.6875 15.234375 7.390625 \r\nQ 20.0625 6.109375 24.8125 6.109375 \r\nQ 31.15625 6.109375 34.5625 8.28125 \r\nQ 37.984375 10.453125 37.984375 14.40625 \r\nQ 37.984375 18.0625 35.515625 20.015625 \r\nQ 33.0625 21.96875 24.703125 23.78125 \r\nL 21.578125 24.515625 \r\nQ 13.234375 26.265625 9.515625 29.90625 \r\nQ 5.8125 33.546875 5.8125 39.890625 \r\nQ 5.8125 47.609375 11.28125 51.796875 \r\nQ 16.75 56 26.8125 56 \r\nQ 31.78125 56 36.171875 55.265625 \r\nQ 40.578125 54.546875 44.28125 53.078125 \r\nz\r\n\" id=\"DejaVuSans-115\"/>\r\n      <path d=\"M 9.8125 72.90625 \r\nL 24.515625 72.90625 \r\nL 43.109375 23.296875 \r\nL 61.8125 72.90625 \r\nL 76.515625 72.90625 \r\nL 76.515625 0 \r\nL 66.890625 0 \r\nL 66.890625 64.015625 \r\nL 48.09375 14.015625 \r\nL 38.1875 14.015625 \r\nL 19.390625 64.015625 \r\nL 19.390625 0 \r\nL 9.8125 0 \r\nz\r\n\" id=\"DejaVuSans-77\"/>\r\n      <path d=\"M 54.890625 54.6875 \r\nL 35.109375 28.078125 \r\nL 55.90625 0 \r\nL 45.3125 0 \r\nL 29.390625 21.484375 \r\nL 13.484375 0 \r\nL 2.875 0 \r\nL 24.125 28.609375 \r\nL 4.6875 54.6875 \r\nL 15.28125 54.6875 \r\nL 29.78125 35.203125 \r\nL 44.28125 54.6875 \r\nz\r\n\" id=\"DejaVuSans-120\"/>\r\n     </defs>\r\n     <use xlink:href=\"#DejaVuSans-67\"/>\r\n     <use x=\"69.824219\" xlink:href=\"#DejaVuSans-111\"/>\r\n     <use x=\"131.005859\" xlink:href=\"#DejaVuSans-110\"/>\r\n     <use x=\"194.384766\" xlink:href=\"#DejaVuSans-102\"/>\r\n     <use x=\"229.589844\" xlink:href=\"#DejaVuSans-117\"/>\r\n     <use x=\"292.96875\" xlink:href=\"#DejaVuSans-115\"/>\r\n     <use x=\"345.068359\" xlink:href=\"#DejaVuSans-105\"/>\r\n     <use x=\"372.851562\" xlink:href=\"#DejaVuSans-111\"/>\r\n     <use x=\"434.033203\" xlink:href=\"#DejaVuSans-110\"/>\r\n     <use x=\"497.412109\" xlink:href=\"#DejaVuSans-32\"/>\r\n     <use x=\"529.199219\" xlink:href=\"#DejaVuSans-77\"/>\r\n     <use x=\"615.478516\" xlink:href=\"#DejaVuSans-97\"/>\r\n     <use x=\"676.757812\" xlink:href=\"#DejaVuSans-116\"/>\r\n     <use x=\"715.966797\" xlink:href=\"#DejaVuSans-114\"/>\r\n     <use x=\"757.080078\" xlink:href=\"#DejaVuSans-105\"/>\r\n     <use x=\"784.863281\" xlink:href=\"#DejaVuSans-120\"/>\r\n    </g>\r\n   </g>\r\n  </g>\r\n  <g id=\"axes_2\">\r\n   <g id=\"patch_3\">\r\n    <path clip-path=\"url(#p6ff77b4b18)\" d=\"M 274.70625 294.118125 \r\nL 274.70625 293.056406 \r\nL 274.70625 23.379844 \r\nL 274.70625 22.318125 \r\nL 288.29625 22.318125 \r\nL 288.29625 23.379844 \r\nL 288.29625 293.056406 \r\nL 288.29625 294.118125 \r\nz\r\n\" style=\"fill:#ffffff;stroke:#ffffff;stroke-linejoin:miter;stroke-width:0.01;\"/>\r\n   </g>\r\n   <image height=\"271\" id=\"image3b3814aa8e\" transform=\"scale(1 -1)translate(0 -271)\" width=\"13\" x=\"275\" xlink:href=\"data:image/png;base64,\r\niVBORw0KGgoAAAANSUhEUgAAAA0AAAEPCAYAAACZVE7DAAABK0lEQVR4nO2asQ7CQAxDA7r//1wGhisDUOa8Ssaywm459sWX0Pb2eB5HNX/rqDamFsDUAphafUVKTfc+xN8IwgSNsNbEzglGYzS9QYEhLO/D9b5hR9MJstbkHsI53A9oNJ1MBGStaUL4YyKgQE0biHJ3b0euo3FGMNAWbssqJqUmAiJ3xJYxyTSx5AqNiJwaut4DIGaEjIkNAOsrDIbQ/XABiEVDV55uY0nMk673+hgcwskTB7lvYd5d7q6pT4TfqenuPevDFWrqE000rjHJOkL4NMfbiGmjbCbz8vpMwvHpbcQw/YPJvDzAtMHYUH4XFmi5rvfYG0lhNMYIDGIhDDRiOuILStTkbYR0HY1zj5aHQP2HqqFM5uXpJmGcEfZM4L/GdHkw0yT3CtMLaqoY2Ikg8iAAAAAASUVORK5CYII=\" y=\"-22\"/>\r\n   <g id=\"matplotlib.axis_3\"/>\r\n   <g id=\"matplotlib.axis_4\">\r\n    <g id=\"ytick_3\">\r\n     <g id=\"line2d_5\">\r\n      <defs>\r\n       <path d=\"M 0 0 \r\nL 3.5 0 \r\n\" id=\"meacf21b3b2\" style=\"stroke:#000000;stroke-width:0.8;\"/>\r\n      </defs>\r\n      <g>\r\n       <use style=\"stroke:#000000;stroke-width:0.8;\" x=\"288.29625\" xlink:href=\"#meacf21b3b2\" y=\"266.040564\"/>\r\n      </g>\r\n     </g>\r\n     <g id=\"text_12\">\r\n      <!-- 400 -->\r\n      <g transform=\"translate(295.29625 269.839782)scale(0.1 -0.1)\">\r\n       <use xlink:href=\"#DejaVuSans-52\"/>\r\n       <use x=\"63.623047\" xlink:href=\"#DejaVuSans-48\"/>\r\n       <use x=\"127.246094\" xlink:href=\"#DejaVuSans-48\"/>\r\n      </g>\r\n     </g>\r\n    </g>\r\n    <g id=\"ytick_4\">\r\n     <g id=\"line2d_6\">\r\n      <g>\r\n       <use style=\"stroke:#000000;stroke-width:0.8;\" x=\"288.29625\" xlink:href=\"#meacf21b3b2\" y=\"220.011774\"/>\r\n      </g>\r\n     </g>\r\n     <g id=\"text_13\">\r\n      <!-- 600 -->\r\n      <g transform=\"translate(295.29625 223.810993)scale(0.1 -0.1)\">\r\n       <defs>\r\n        <path d=\"M 33.015625 40.375 \r\nQ 26.375 40.375 22.484375 35.828125 \r\nQ 18.609375 31.296875 18.609375 23.390625 \r\nQ 18.609375 15.53125 22.484375 10.953125 \r\nQ 26.375 6.390625 33.015625 6.390625 \r\nQ 39.65625 6.390625 43.53125 10.953125 \r\nQ 47.40625 15.53125 47.40625 23.390625 \r\nQ 47.40625 31.296875 43.53125 35.828125 \r\nQ 39.65625 40.375 33.015625 40.375 \r\nz\r\nM 52.59375 71.296875 \r\nL 52.59375 62.3125 \r\nQ 48.875 64.0625 45.09375 64.984375 \r\nQ 41.3125 65.921875 37.59375 65.921875 \r\nQ 27.828125 65.921875 22.671875 59.328125 \r\nQ 17.53125 52.734375 16.796875 39.40625 \r\nQ 19.671875 43.65625 24.015625 45.921875 \r\nQ 28.375 48.1875 33.59375 48.1875 \r\nQ 44.578125 48.1875 50.953125 41.515625 \r\nQ 57.328125 34.859375 57.328125 23.390625 \r\nQ 57.328125 12.15625 50.6875 5.359375 \r\nQ 44.046875 -1.421875 33.015625 -1.421875 \r\nQ 20.359375 -1.421875 13.671875 8.265625 \r\nQ 6.984375 17.96875 6.984375 36.375 \r\nQ 6.984375 53.65625 15.1875 63.9375 \r\nQ 23.390625 74.21875 37.203125 74.21875 \r\nQ 40.921875 74.21875 44.703125 73.484375 \r\nQ 48.484375 72.75 52.59375 71.296875 \r\nz\r\n\" id=\"DejaVuSans-54\"/>\r\n       </defs>\r\n       <use xlink:href=\"#DejaVuSans-54\"/>\r\n       <use x=\"63.623047\" xlink:href=\"#DejaVuSans-48\"/>\r\n       <use x=\"127.246094\" xlink:href=\"#DejaVuSans-48\"/>\r\n      </g>\r\n     </g>\r\n    </g>\r\n    <g id=\"ytick_5\">\r\n     <g id=\"line2d_7\">\r\n      <g>\r\n       <use style=\"stroke:#000000;stroke-width:0.8;\" x=\"288.29625\" xlink:href=\"#meacf21b3b2\" y=\"173.982985\"/>\r\n      </g>\r\n     </g>\r\n     <g id=\"text_14\">\r\n      <!-- 800 -->\r\n      <g transform=\"translate(295.29625 177.782204)scale(0.1 -0.1)\">\r\n       <use xlink:href=\"#DejaVuSans-56\"/>\r\n       <use x=\"63.623047\" xlink:href=\"#DejaVuSans-48\"/>\r\n       <use x=\"127.246094\" xlink:href=\"#DejaVuSans-48\"/>\r\n      </g>\r\n     </g>\r\n    </g>\r\n    <g id=\"ytick_6\">\r\n     <g id=\"line2d_8\">\r\n      <g>\r\n       <use style=\"stroke:#000000;stroke-width:0.8;\" x=\"288.29625\" xlink:href=\"#meacf21b3b2\" y=\"127.954196\"/>\r\n      </g>\r\n     </g>\r\n     <g id=\"text_15\">\r\n      <!-- 1000 -->\r\n      <g transform=\"translate(295.29625 131.753415)scale(0.1 -0.1)\">\r\n       <use xlink:href=\"#DejaVuSans-49\"/>\r\n       <use x=\"63.623047\" xlink:href=\"#DejaVuSans-48\"/>\r\n       <use x=\"127.246094\" xlink:href=\"#DejaVuSans-48\"/>\r\n       <use x=\"190.869141\" xlink:href=\"#DejaVuSans-48\"/>\r\n      </g>\r\n     </g>\r\n    </g>\r\n    <g id=\"ytick_7\">\r\n     <g id=\"line2d_9\">\r\n      <g>\r\n       <use style=\"stroke:#000000;stroke-width:0.8;\" x=\"288.29625\" xlink:href=\"#meacf21b3b2\" y=\"81.925407\"/>\r\n      </g>\r\n     </g>\r\n     <g id=\"text_16\">\r\n      <!-- 1200 -->\r\n      <g transform=\"translate(295.29625 85.724626)scale(0.1 -0.1)\">\r\n       <use xlink:href=\"#DejaVuSans-49\"/>\r\n       <use x=\"63.623047\" xlink:href=\"#DejaVuSans-50\"/>\r\n       <use x=\"127.246094\" xlink:href=\"#DejaVuSans-48\"/>\r\n       <use x=\"190.869141\" xlink:href=\"#DejaVuSans-48\"/>\r\n      </g>\r\n     </g>\r\n    </g>\r\n    <g id=\"ytick_8\">\r\n     <g id=\"line2d_10\">\r\n      <g>\r\n       <use style=\"stroke:#000000;stroke-width:0.8;\" x=\"288.29625\" xlink:href=\"#meacf21b3b2\" y=\"35.896618\"/>\r\n      </g>\r\n     </g>\r\n     <g id=\"text_17\">\r\n      <!-- 1400 -->\r\n      <g transform=\"translate(295.29625 39.695837)scale(0.1 -0.1)\">\r\n       <use xlink:href=\"#DejaVuSans-49\"/>\r\n       <use x=\"63.623047\" xlink:href=\"#DejaVuSans-52\"/>\r\n       <use x=\"127.246094\" xlink:href=\"#DejaVuSans-48\"/>\r\n       <use x=\"190.869141\" xlink:href=\"#DejaVuSans-48\"/>\r\n      </g>\r\n     </g>\r\n    </g>\r\n   </g>\r\n   <g id=\"patch_4\">\r\n    <path d=\"M 274.70625 294.118125 \r\nL 274.70625 293.056406 \r\nL 274.70625 23.379844 \r\nL 274.70625 22.318125 \r\nL 288.29625 22.318125 \r\nL 288.29625 23.379844 \r\nL 288.29625 293.056406 \r\nL 288.29625 294.118125 \r\nz\r\n\" style=\"fill:none;\"/>\r\n   </g>\r\n  </g>\r\n </g>\r\n <defs>\r\n  <clipPath id=\"p897af86f88\">\r\n   <rect height=\"271.8\" width=\"223.2\" x=\"37.55625\" y=\"22.318125\"/>\r\n  </clipPath>\r\n  <clipPath id=\"p6ff77b4b18\">\r\n   <rect height=\"271.8\" width=\"13.59\" x=\"274.70625\" y=\"22.318125\"/>\r\n  </clipPath>\r\n </defs>\r\n</svg>\r\n",
            "image/png": "[encoded data removed]"
          },
          "metadata": {
            "needs_background": "light"
          }
        }
      ]
    },
    {
      "cell_type": "markdown",
      "metadata": {
        "id": "HzTQksefvlxJ"
      },
      "source": [
        "### <img src='https://drive.google.com/uc?export=view&id=1aAdtCrMe6SORoGAGtjOVM0UIxDFH9Thq' width=50px> **4.3.2** Count Vector"
      ]
    },
    {
      "cell_type": "markdown",
      "metadata": {
        "id": "cP_bueksN2cS"
      },
      "source": [
        "* Use the fitted `model_lr_cv` (Bag-of-words) to predict X_test\r\n",
        "\r\n"
      ]
    },
    {
      "cell_type": "code",
      "metadata": {
        "id": "suYa_OYgZPq1"
      },
      "source": [
        "y_pred_lr_cv = model_lr_cv.predict(X_test_cv)"
      ],
      "execution_count": 249,
      "outputs": []
    },
    {
      "cell_type": "markdown",
      "metadata": {
        "id": "Hpn1YUFokKXm"
      },
      "source": [
        "* Print the model accuracy by comparing predictions and real sentiments"
      ]
    },
    {
      "cell_type": "code",
      "metadata": {
        "id": "WAOncwPekK1_"
      },
      "source": [
        "print(\"LR Model Accuracy: {:.2%}\".format(accuracy_score(y_test, y_pred_lr_cv)))"
      ],
      "execution_count": 250,
      "outputs": [
        {
          "output_type": "stream",
          "name": "stdout",
          "text": [
            "LR Model Accuracy: 88.49%\n"
          ]
        }
      ]
    },
    {
      "cell_type": "markdown",
      "metadata": {
        "id": "w3_6Fg_zkLVm"
      },
      "source": [
        "* Plot the confusion matrix by using the `plot_confusion` helper function"
      ]
    },
    {
      "cell_type": "code",
      "metadata": {
        "id": "HlaWIWnNkL1O"
      },
      "source": [
        "plot_confusion(confusion_matrix(y_test, y_pred_lr_cv))"
      ],
      "execution_count": 251,
      "outputs": [
        {
          "output_type": "execute_result",
          "data": {
            "text/plain": [
              "<module 'seaborn' from 'C:\\\\Users\\\\S10y01r\\\\AppData\\\\Local\\\\Programs\\\\Python\\\\Python38\\\\lib\\\\site-packages\\\\seaborn\\\\__init__.py'>"
            ]
          },
          "metadata": {},
          "execution_count": 251
        },
        {
          "output_type": "display_data",
          "data": {
            "text/plain": "<Figure size 360x360 with 2 Axes>",
            "image/svg+xml": "<?xml version=\"1.0\" encoding=\"utf-8\" standalone=\"no\"?>\r\n<!DOCTYPE svg PUBLIC \"-//W3C//DTD SVG 1.1//EN\"\r\n  \"http://www.w3.org/Graphics/SVG/1.1/DTD/svg11.dtd\">\r\n<!-- Created with matplotlib (https://matplotlib.org/) -->\r\n<svg height=\"331.674375pt\" version=\"1.1\" viewBox=\"0 0 327.94625 331.674375\" width=\"327.94625pt\" xmlns=\"http://www.w3.org/2000/svg\" xmlns:xlink=\"http://www.w3.org/1999/xlink\">\r\n <metadata>\r\n  <rdf:RDF xmlns:cc=\"http://creativecommons.org/ns#\" xmlns:dc=\"http://purl.org/dc/elements/1.1/\" xmlns:rdf=\"http://www.w3.org/1999/02/22-rdf-syntax-ns#\">\r\n   <cc:Work>\r\n    <dc:type rdf:resource=\"http://purl.org/dc/dcmitype/StillImage\"/>\r\n    <dc:date>2021-05-08T01:18:30.344644</dc:date>\r\n    <dc:format>image/svg+xml</dc:format>\r\n    <dc:creator>\r\n     <cc:Agent>\r\n      <dc:title>Matplotlib v3.3.4, https://matplotlib.org/</dc:title>\r\n     </cc:Agent>\r\n    </dc:creator>\r\n   </cc:Work>\r\n  </rdf:RDF>\r\n </metadata>\r\n <defs>\r\n  <style type=\"text/css\">*{stroke-linecap:butt;stroke-linejoin:round;}</style>\r\n </defs>\r\n <g id=\"figure_1\">\r\n  <g id=\"patch_1\">\r\n   <path d=\"M 0 331.674375 \r\nL 327.94625 331.674375 \r\nL 327.94625 0 \r\nL 0 0 \r\nz\r\n\" style=\"fill:none;\"/>\r\n  </g>\r\n  <g id=\"axes_1\">\r\n   <g id=\"patch_2\">\r\n    <path d=\"M 37.55625 294.118125 \r\nL 260.75625 294.118125 \r\nL 260.75625 22.318125 \r\nL 37.55625 22.318125 \r\nz\r\n\" style=\"fill:#ffffff;\"/>\r\n   </g>\r\n   <g id=\"QuadMesh_1\">\r\n    <path clip-path=\"url(#pb72b139587)\" d=\"M 37.55625 22.318125 \r\nL 149.15625 22.318125 \r\nL 149.15625 158.218125 \r\nL 37.55625 158.218125 \r\nL 37.55625 22.318125 \r\n\" style=\"fill:#08519c;\"/>\r\n    <path clip-path=\"url(#pb72b139587)\" d=\"M 149.15625 22.318125 \r\nL 260.75625 22.318125 \r\nL 260.75625 158.218125 \r\nL 149.15625 158.218125 \r\nL 149.15625 22.318125 \r\n\" style=\"fill:#f7fbff;\"/>\r\n    <path clip-path=\"url(#pb72b139587)\" d=\"M 37.55625 158.218125 \r\nL 149.15625 158.218125 \r\nL 149.15625 294.118125 \r\nL 37.55625 294.118125 \r\nL 37.55625 158.218125 \r\n\" style=\"fill:#eef5fc;\"/>\r\n    <path clip-path=\"url(#pb72b139587)\" d=\"M 149.15625 158.218125 \r\nL 260.75625 158.218125 \r\nL 260.75625 294.118125 \r\nL 149.15625 294.118125 \r\nL 149.15625 158.218125 \r\n\" style=\"fill:#08306b;\"/>\r\n   </g>\r\n   <g id=\"matplotlib.axis_1\">\r\n    <g id=\"xtick_1\">\r\n     <g id=\"line2d_1\">\r\n      <defs>\r\n       <path d=\"M 0 0 \r\nL 0 3.5 \r\n\" id=\"m1297212959\" style=\"stroke:#000000;stroke-width:0.8;\"/>\r\n      </defs>\r\n      <g>\r\n       <use style=\"stroke:#000000;stroke-width:0.8;\" x=\"93.35625\" xlink:href=\"#m1297212959\" y=\"294.118125\"/>\r\n      </g>\r\n     </g>\r\n     <g id=\"text_1\">\r\n      <!-- 0 -->\r\n      <g transform=\"translate(90.175 308.716563)scale(0.1 -0.1)\">\r\n       <defs>\r\n        <path d=\"M 31.78125 66.40625 \r\nQ 24.171875 66.40625 20.328125 58.90625 \r\nQ 16.5 51.421875 16.5 36.375 \r\nQ 16.5 21.390625 20.328125 13.890625 \r\nQ 24.171875 6.390625 31.78125 6.390625 \r\nQ 39.453125 6.390625 43.28125 13.890625 \r\nQ 47.125 21.390625 47.125 36.375 \r\nQ 47.125 51.421875 43.28125 58.90625 \r\nQ 39.453125 66.40625 31.78125 66.40625 \r\nz\r\nM 31.78125 74.21875 \r\nQ 44.046875 74.21875 50.515625 64.515625 \r\nQ 56.984375 54.828125 56.984375 36.375 \r\nQ 56.984375 17.96875 50.515625 8.265625 \r\nQ 44.046875 -1.421875 31.78125 -1.421875 \r\nQ 19.53125 -1.421875 13.0625 8.265625 \r\nQ 6.59375 17.96875 6.59375 36.375 \r\nQ 6.59375 54.828125 13.0625 64.515625 \r\nQ 19.53125 74.21875 31.78125 74.21875 \r\nz\r\n\" id=\"DejaVuSans-48\"/>\r\n       </defs>\r\n       <use xlink:href=\"#DejaVuSans-48\"/>\r\n      </g>\r\n     </g>\r\n    </g>\r\n    <g id=\"xtick_2\">\r\n     <g id=\"line2d_2\">\r\n      <g>\r\n       <use style=\"stroke:#000000;stroke-width:0.8;\" x=\"204.95625\" xlink:href=\"#m1297212959\" y=\"294.118125\"/>\r\n      </g>\r\n     </g>\r\n     <g id=\"text_2\">\r\n      <!-- 1 -->\r\n      <g transform=\"translate(201.775 308.716563)scale(0.1 -0.1)\">\r\n       <defs>\r\n        <path d=\"M 12.40625 8.296875 \r\nL 28.515625 8.296875 \r\nL 28.515625 63.921875 \r\nL 10.984375 60.40625 \r\nL 10.984375 69.390625 \r\nL 28.421875 72.90625 \r\nL 38.28125 72.90625 \r\nL 38.28125 8.296875 \r\nL 54.390625 8.296875 \r\nL 54.390625 0 \r\nL 12.40625 0 \r\nz\r\n\" id=\"DejaVuSans-49\"/>\r\n       </defs>\r\n       <use xlink:href=\"#DejaVuSans-49\"/>\r\n      </g>\r\n     </g>\r\n    </g>\r\n    <g id=\"text_3\">\r\n     <!-- Prediction -->\r\n     <g transform=\"translate(124.319531 322.394687)scale(0.1 -0.1)\">\r\n      <defs>\r\n       <path d=\"M 19.671875 64.796875 \r\nL 19.671875 37.40625 \r\nL 32.078125 37.40625 \r\nQ 38.96875 37.40625 42.71875 40.96875 \r\nQ 46.484375 44.53125 46.484375 51.125 \r\nQ 46.484375 57.671875 42.71875 61.234375 \r\nQ 38.96875 64.796875 32.078125 64.796875 \r\nz\r\nM 9.8125 72.90625 \r\nL 32.078125 72.90625 \r\nQ 44.34375 72.90625 50.609375 67.359375 \r\nQ 56.890625 61.8125 56.890625 51.125 \r\nQ 56.890625 40.328125 50.609375 34.8125 \r\nQ 44.34375 29.296875 32.078125 29.296875 \r\nL 19.671875 29.296875 \r\nL 19.671875 0 \r\nL 9.8125 0 \r\nz\r\n\" id=\"DejaVuSans-80\"/>\r\n       <path d=\"M 41.109375 46.296875 \r\nQ 39.59375 47.171875 37.8125 47.578125 \r\nQ 36.03125 48 33.890625 48 \r\nQ 26.265625 48 22.1875 43.046875 \r\nQ 18.109375 38.09375 18.109375 28.8125 \r\nL 18.109375 0 \r\nL 9.078125 0 \r\nL 9.078125 54.6875 \r\nL 18.109375 54.6875 \r\nL 18.109375 46.1875 \r\nQ 20.953125 51.171875 25.484375 53.578125 \r\nQ 30.03125 56 36.53125 56 \r\nQ 37.453125 56 38.578125 55.875 \r\nQ 39.703125 55.765625 41.0625 55.515625 \r\nz\r\n\" id=\"DejaVuSans-114\"/>\r\n       <path d=\"M 56.203125 29.59375 \r\nL 56.203125 25.203125 \r\nL 14.890625 25.203125 \r\nQ 15.484375 15.921875 20.484375 11.0625 \r\nQ 25.484375 6.203125 34.421875 6.203125 \r\nQ 39.59375 6.203125 44.453125 7.46875 \r\nQ 49.3125 8.734375 54.109375 11.28125 \r\nL 54.109375 2.78125 \r\nQ 49.265625 0.734375 44.1875 -0.34375 \r\nQ 39.109375 -1.421875 33.890625 -1.421875 \r\nQ 20.796875 -1.421875 13.15625 6.1875 \r\nQ 5.515625 13.8125 5.515625 26.8125 \r\nQ 5.515625 40.234375 12.765625 48.109375 \r\nQ 20.015625 56 32.328125 56 \r\nQ 43.359375 56 49.78125 48.890625 \r\nQ 56.203125 41.796875 56.203125 29.59375 \r\nz\r\nM 47.21875 32.234375 \r\nQ 47.125 39.59375 43.09375 43.984375 \r\nQ 39.0625 48.390625 32.421875 48.390625 \r\nQ 24.90625 48.390625 20.390625 44.140625 \r\nQ 15.875 39.890625 15.1875 32.171875 \r\nz\r\n\" id=\"DejaVuSans-101\"/>\r\n       <path d=\"M 45.40625 46.390625 \r\nL 45.40625 75.984375 \r\nL 54.390625 75.984375 \r\nL 54.390625 0 \r\nL 45.40625 0 \r\nL 45.40625 8.203125 \r\nQ 42.578125 3.328125 38.25 0.953125 \r\nQ 33.9375 -1.421875 27.875 -1.421875 \r\nQ 17.96875 -1.421875 11.734375 6.484375 \r\nQ 5.515625 14.40625 5.515625 27.296875 \r\nQ 5.515625 40.1875 11.734375 48.09375 \r\nQ 17.96875 56 27.875 56 \r\nQ 33.9375 56 38.25 53.625 \r\nQ 42.578125 51.265625 45.40625 46.390625 \r\nz\r\nM 14.796875 27.296875 \r\nQ 14.796875 17.390625 18.875 11.75 \r\nQ 22.953125 6.109375 30.078125 6.109375 \r\nQ 37.203125 6.109375 41.296875 11.75 \r\nQ 45.40625 17.390625 45.40625 27.296875 \r\nQ 45.40625 37.203125 41.296875 42.84375 \r\nQ 37.203125 48.484375 30.078125 48.484375 \r\nQ 22.953125 48.484375 18.875 42.84375 \r\nQ 14.796875 37.203125 14.796875 27.296875 \r\nz\r\n\" id=\"DejaVuSans-100\"/>\r\n       <path d=\"M 9.421875 54.6875 \r\nL 18.40625 54.6875 \r\nL 18.40625 0 \r\nL 9.421875 0 \r\nz\r\nM 9.421875 75.984375 \r\nL 18.40625 75.984375 \r\nL 18.40625 64.59375 \r\nL 9.421875 64.59375 \r\nz\r\n\" id=\"DejaVuSans-105\"/>\r\n       <path d=\"M 48.78125 52.59375 \r\nL 48.78125 44.1875 \r\nQ 44.96875 46.296875 41.140625 47.34375 \r\nQ 37.3125 48.390625 33.40625 48.390625 \r\nQ 24.65625 48.390625 19.8125 42.84375 \r\nQ 14.984375 37.3125 14.984375 27.296875 \r\nQ 14.984375 17.28125 19.8125 11.734375 \r\nQ 24.65625 6.203125 33.40625 6.203125 \r\nQ 37.3125 6.203125 41.140625 7.25 \r\nQ 44.96875 8.296875 48.78125 10.40625 \r\nL 48.78125 2.09375 \r\nQ 45.015625 0.34375 40.984375 -0.53125 \r\nQ 36.96875 -1.421875 32.421875 -1.421875 \r\nQ 20.0625 -1.421875 12.78125 6.34375 \r\nQ 5.515625 14.109375 5.515625 27.296875 \r\nQ 5.515625 40.671875 12.859375 48.328125 \r\nQ 20.21875 56 33.015625 56 \r\nQ 37.15625 56 41.109375 55.140625 \r\nQ 45.0625 54.296875 48.78125 52.59375 \r\nz\r\n\" id=\"DejaVuSans-99\"/>\r\n       <path d=\"M 18.3125 70.21875 \r\nL 18.3125 54.6875 \r\nL 36.8125 54.6875 \r\nL 36.8125 47.703125 \r\nL 18.3125 47.703125 \r\nL 18.3125 18.015625 \r\nQ 18.3125 11.328125 20.140625 9.421875 \r\nQ 21.96875 7.515625 27.59375 7.515625 \r\nL 36.8125 7.515625 \r\nL 36.8125 0 \r\nL 27.59375 0 \r\nQ 17.1875 0 13.234375 3.875 \r\nQ 9.28125 7.765625 9.28125 18.015625 \r\nL 9.28125 47.703125 \r\nL 2.6875 47.703125 \r\nL 2.6875 54.6875 \r\nL 9.28125 54.6875 \r\nL 9.28125 70.21875 \r\nz\r\n\" id=\"DejaVuSans-116\"/>\r\n       <path d=\"M 30.609375 48.390625 \r\nQ 23.390625 48.390625 19.1875 42.75 \r\nQ 14.984375 37.109375 14.984375 27.296875 \r\nQ 14.984375 17.484375 19.15625 11.84375 \r\nQ 23.34375 6.203125 30.609375 6.203125 \r\nQ 37.796875 6.203125 41.984375 11.859375 \r\nQ 46.1875 17.53125 46.1875 27.296875 \r\nQ 46.1875 37.015625 41.984375 42.703125 \r\nQ 37.796875 48.390625 30.609375 48.390625 \r\nz\r\nM 30.609375 56 \r\nQ 42.328125 56 49.015625 48.375 \r\nQ 55.71875 40.765625 55.71875 27.296875 \r\nQ 55.71875 13.875 49.015625 6.21875 \r\nQ 42.328125 -1.421875 30.609375 -1.421875 \r\nQ 18.84375 -1.421875 12.171875 6.21875 \r\nQ 5.515625 13.875 5.515625 27.296875 \r\nQ 5.515625 40.765625 12.171875 48.375 \r\nQ 18.84375 56 30.609375 56 \r\nz\r\n\" id=\"DejaVuSans-111\"/>\r\n       <path d=\"M 54.890625 33.015625 \r\nL 54.890625 0 \r\nL 45.90625 0 \r\nL 45.90625 32.71875 \r\nQ 45.90625 40.484375 42.875 44.328125 \r\nQ 39.84375 48.1875 33.796875 48.1875 \r\nQ 26.515625 48.1875 22.3125 43.546875 \r\nQ 18.109375 38.921875 18.109375 30.90625 \r\nL 18.109375 0 \r\nL 9.078125 0 \r\nL 9.078125 54.6875 \r\nL 18.109375 54.6875 \r\nL 18.109375 46.1875 \r\nQ 21.34375 51.125 25.703125 53.5625 \r\nQ 30.078125 56 35.796875 56 \r\nQ 45.21875 56 50.046875 50.171875 \r\nQ 54.890625 44.34375 54.890625 33.015625 \r\nz\r\n\" id=\"DejaVuSans-110\"/>\r\n      </defs>\r\n      <use xlink:href=\"#DejaVuSans-80\"/>\r\n      <use x=\"58.552734\" xlink:href=\"#DejaVuSans-114\"/>\r\n      <use x=\"97.416016\" xlink:href=\"#DejaVuSans-101\"/>\r\n      <use x=\"158.939453\" xlink:href=\"#DejaVuSans-100\"/>\r\n      <use x=\"222.416016\" xlink:href=\"#DejaVuSans-105\"/>\r\n      <use x=\"250.199219\" xlink:href=\"#DejaVuSans-99\"/>\r\n      <use x=\"305.179688\" xlink:href=\"#DejaVuSans-116\"/>\r\n      <use x=\"344.388672\" xlink:href=\"#DejaVuSans-105\"/>\r\n      <use x=\"372.171875\" xlink:href=\"#DejaVuSans-111\"/>\r\n      <use x=\"433.353516\" xlink:href=\"#DejaVuSans-110\"/>\r\n     </g>\r\n    </g>\r\n   </g>\r\n   <g id=\"matplotlib.axis_2\">\r\n    <g id=\"ytick_1\">\r\n     <g id=\"line2d_3\">\r\n      <defs>\r\n       <path d=\"M 0 0 \r\nL -3.5 0 \r\n\" id=\"m471e25c1ff\" style=\"stroke:#000000;stroke-width:0.8;\"/>\r\n      </defs>\r\n      <g>\r\n       <use style=\"stroke:#000000;stroke-width:0.8;\" x=\"37.55625\" xlink:href=\"#m471e25c1ff\" y=\"90.268125\"/>\r\n      </g>\r\n     </g>\r\n     <g id=\"text_4\">\r\n      <!-- 0 -->\r\n      <g transform=\"translate(28.476563 92.831406)rotate(-90)scale(0.1 -0.1)\">\r\n       <use xlink:href=\"#DejaVuSans-48\"/>\r\n      </g>\r\n     </g>\r\n    </g>\r\n    <g id=\"ytick_2\">\r\n     <g id=\"line2d_4\">\r\n      <g>\r\n       <use style=\"stroke:#000000;stroke-width:0.8;\" x=\"37.55625\" xlink:href=\"#m471e25c1ff\" y=\"226.168125\"/>\r\n      </g>\r\n     </g>\r\n     <g id=\"text_5\">\r\n      <!-- 1 -->\r\n      <g transform=\"translate(28.476563 228.731406)rotate(-90)scale(0.1 -0.1)\">\r\n       <use xlink:href=\"#DejaVuSans-49\"/>\r\n      </g>\r\n     </g>\r\n    </g>\r\n    <g id=\"text_6\">\r\n     <!-- True value -->\r\n     <g transform=\"translate(14.798438 184.082188)rotate(-90)scale(0.1 -0.1)\">\r\n      <defs>\r\n       <path d=\"M -0.296875 72.90625 \r\nL 61.375 72.90625 \r\nL 61.375 64.59375 \r\nL 35.5 64.59375 \r\nL 35.5 0 \r\nL 25.59375 0 \r\nL 25.59375 64.59375 \r\nL -0.296875 64.59375 \r\nz\r\n\" id=\"DejaVuSans-84\"/>\r\n       <path d=\"M 8.5 21.578125 \r\nL 8.5 54.6875 \r\nL 17.484375 54.6875 \r\nL 17.484375 21.921875 \r\nQ 17.484375 14.15625 20.5 10.265625 \r\nQ 23.53125 6.390625 29.59375 6.390625 \r\nQ 36.859375 6.390625 41.078125 11.03125 \r\nQ 45.3125 15.671875 45.3125 23.6875 \r\nL 45.3125 54.6875 \r\nL 54.296875 54.6875 \r\nL 54.296875 0 \r\nL 45.3125 0 \r\nL 45.3125 8.40625 \r\nQ 42.046875 3.421875 37.71875 1 \r\nQ 33.40625 -1.421875 27.6875 -1.421875 \r\nQ 18.265625 -1.421875 13.375 4.4375 \r\nQ 8.5 10.296875 8.5 21.578125 \r\nz\r\nM 31.109375 56 \r\nz\r\n\" id=\"DejaVuSans-117\"/>\r\n       <path id=\"DejaVuSans-32\"/>\r\n       <path d=\"M 2.984375 54.6875 \r\nL 12.5 54.6875 \r\nL 29.59375 8.796875 \r\nL 46.6875 54.6875 \r\nL 56.203125 54.6875 \r\nL 35.6875 0 \r\nL 23.484375 0 \r\nz\r\n\" id=\"DejaVuSans-118\"/>\r\n       <path d=\"M 34.28125 27.484375 \r\nQ 23.390625 27.484375 19.1875 25 \r\nQ 14.984375 22.515625 14.984375 16.5 \r\nQ 14.984375 11.71875 18.140625 8.90625 \r\nQ 21.296875 6.109375 26.703125 6.109375 \r\nQ 34.1875 6.109375 38.703125 11.40625 \r\nQ 43.21875 16.703125 43.21875 25.484375 \r\nL 43.21875 27.484375 \r\nz\r\nM 52.203125 31.203125 \r\nL 52.203125 0 \r\nL 43.21875 0 \r\nL 43.21875 8.296875 \r\nQ 40.140625 3.328125 35.546875 0.953125 \r\nQ 30.953125 -1.421875 24.3125 -1.421875 \r\nQ 15.921875 -1.421875 10.953125 3.296875 \r\nQ 6 8.015625 6 15.921875 \r\nQ 6 25.140625 12.171875 29.828125 \r\nQ 18.359375 34.515625 30.609375 34.515625 \r\nL 43.21875 34.515625 \r\nL 43.21875 35.40625 \r\nQ 43.21875 41.609375 39.140625 45 \r\nQ 35.0625 48.390625 27.6875 48.390625 \r\nQ 23 48.390625 18.546875 47.265625 \r\nQ 14.109375 46.140625 10.015625 43.890625 \r\nL 10.015625 52.203125 \r\nQ 14.9375 54.109375 19.578125 55.046875 \r\nQ 24.21875 56 28.609375 56 \r\nQ 40.484375 56 46.34375 49.84375 \r\nQ 52.203125 43.703125 52.203125 31.203125 \r\nz\r\n\" id=\"DejaVuSans-97\"/>\r\n       <path d=\"M 9.421875 75.984375 \r\nL 18.40625 75.984375 \r\nL 18.40625 0 \r\nL 9.421875 0 \r\nz\r\n\" id=\"DejaVuSans-108\"/>\r\n      </defs>\r\n      <use xlink:href=\"#DejaVuSans-84\"/>\r\n      <use x=\"46.333984\" xlink:href=\"#DejaVuSans-114\"/>\r\n      <use x=\"87.447266\" xlink:href=\"#DejaVuSans-117\"/>\r\n      <use x=\"150.826172\" xlink:href=\"#DejaVuSans-101\"/>\r\n      <use x=\"212.349609\" xlink:href=\"#DejaVuSans-32\"/>\r\n      <use x=\"244.136719\" xlink:href=\"#DejaVuSans-118\"/>\r\n      <use x=\"303.316406\" xlink:href=\"#DejaVuSans-97\"/>\r\n      <use x=\"364.595703\" xlink:href=\"#DejaVuSans-108\"/>\r\n      <use x=\"392.378906\" xlink:href=\"#DejaVuSans-117\"/>\r\n      <use x=\"455.757812\" xlink:href=\"#DejaVuSans-101\"/>\r\n     </g>\r\n    </g>\r\n   </g>\r\n   <g id=\"text_7\">\r\n    <!-- 1557 -->\r\n    <g style=\"fill:#ffffff;\" transform=\"translate(80.63125 93.0275)scale(0.1 -0.1)\">\r\n     <defs>\r\n      <path d=\"M 10.796875 72.90625 \r\nL 49.515625 72.90625 \r\nL 49.515625 64.59375 \r\nL 19.828125 64.59375 \r\nL 19.828125 46.734375 \r\nQ 21.96875 47.46875 24.109375 47.828125 \r\nQ 26.265625 48.1875 28.421875 48.1875 \r\nQ 40.625 48.1875 47.75 41.5 \r\nQ 54.890625 34.8125 54.890625 23.390625 \r\nQ 54.890625 11.625 47.5625 5.09375 \r\nQ 40.234375 -1.421875 26.90625 -1.421875 \r\nQ 22.3125 -1.421875 17.546875 -0.640625 \r\nQ 12.796875 0.140625 7.71875 1.703125 \r\nL 7.71875 11.625 \r\nQ 12.109375 9.234375 16.796875 8.0625 \r\nQ 21.484375 6.890625 26.703125 6.890625 \r\nQ 35.15625 6.890625 40.078125 11.328125 \r\nQ 45.015625 15.765625 45.015625 23.390625 \r\nQ 45.015625 31 40.078125 35.4375 \r\nQ 35.15625 39.890625 26.703125 39.890625 \r\nQ 22.75 39.890625 18.8125 39.015625 \r\nQ 14.890625 38.140625 10.796875 36.28125 \r\nz\r\n\" id=\"DejaVuSans-53\"/>\r\n      <path d=\"M 8.203125 72.90625 \r\nL 55.078125 72.90625 \r\nL 55.078125 68.703125 \r\nL 28.609375 0 \r\nL 18.3125 0 \r\nL 43.21875 64.59375 \r\nL 8.203125 64.59375 \r\nz\r\n\" id=\"DejaVuSans-55\"/>\r\n     </defs>\r\n     <use xlink:href=\"#DejaVuSans-49\"/>\r\n     <use x=\"63.623047\" xlink:href=\"#DejaVuSans-53\"/>\r\n     <use x=\"127.246094\" xlink:href=\"#DejaVuSans-53\"/>\r\n     <use x=\"190.869141\" xlink:href=\"#DejaVuSans-55\"/>\r\n    </g>\r\n   </g>\r\n   <g id=\"text_8\">\r\n    <!-- 179 -->\r\n    <g style=\"fill:#262626;\" transform=\"translate(195.4125 93.0275)scale(0.1 -0.1)\">\r\n     <defs>\r\n      <path d=\"M 10.984375 1.515625 \r\nL 10.984375 10.5 \r\nQ 14.703125 8.734375 18.5 7.8125 \r\nQ 22.3125 6.890625 25.984375 6.890625 \r\nQ 35.75 6.890625 40.890625 13.453125 \r\nQ 46.046875 20.015625 46.78125 33.40625 \r\nQ 43.953125 29.203125 39.59375 26.953125 \r\nQ 35.25 24.703125 29.984375 24.703125 \r\nQ 19.046875 24.703125 12.671875 31.3125 \r\nQ 6.296875 37.9375 6.296875 49.421875 \r\nQ 6.296875 60.640625 12.9375 67.421875 \r\nQ 19.578125 74.21875 30.609375 74.21875 \r\nQ 43.265625 74.21875 49.921875 64.515625 \r\nQ 56.59375 54.828125 56.59375 36.375 \r\nQ 56.59375 19.140625 48.40625 8.859375 \r\nQ 40.234375 -1.421875 26.421875 -1.421875 \r\nQ 22.703125 -1.421875 18.890625 -0.6875 \r\nQ 15.09375 0.046875 10.984375 1.515625 \r\nz\r\nM 30.609375 32.421875 \r\nQ 37.25 32.421875 41.125 36.953125 \r\nQ 45.015625 41.5 45.015625 49.421875 \r\nQ 45.015625 57.28125 41.125 61.84375 \r\nQ 37.25 66.40625 30.609375 66.40625 \r\nQ 23.96875 66.40625 20.09375 61.84375 \r\nQ 16.21875 57.28125 16.21875 49.421875 \r\nQ 16.21875 41.5 20.09375 36.953125 \r\nQ 23.96875 32.421875 30.609375 32.421875 \r\nz\r\n\" id=\"DejaVuSans-57\"/>\r\n     </defs>\r\n     <use xlink:href=\"#DejaVuSans-49\"/>\r\n     <use x=\"63.623047\" xlink:href=\"#DejaVuSans-55\"/>\r\n     <use x=\"127.246094\" xlink:href=\"#DejaVuSans-57\"/>\r\n    </g>\r\n   </g>\r\n   <g id=\"text_9\">\r\n    <!-- 252 -->\r\n    <g style=\"fill:#262626;\" transform=\"translate(83.8125 228.9275)scale(0.1 -0.1)\">\r\n     <defs>\r\n      <path d=\"M 19.1875 8.296875 \r\nL 53.609375 8.296875 \r\nL 53.609375 0 \r\nL 7.328125 0 \r\nL 7.328125 8.296875 \r\nQ 12.9375 14.109375 22.625 23.890625 \r\nQ 32.328125 33.6875 34.8125 36.53125 \r\nQ 39.546875 41.84375 41.421875 45.53125 \r\nQ 43.3125 49.21875 43.3125 52.78125 \r\nQ 43.3125 58.59375 39.234375 62.25 \r\nQ 35.15625 65.921875 28.609375 65.921875 \r\nQ 23.96875 65.921875 18.8125 64.3125 \r\nQ 13.671875 62.703125 7.8125 59.421875 \r\nL 7.8125 69.390625 \r\nQ 13.765625 71.78125 18.9375 73 \r\nQ 24.125 74.21875 28.421875 74.21875 \r\nQ 39.75 74.21875 46.484375 68.546875 \r\nQ 53.21875 62.890625 53.21875 53.421875 \r\nQ 53.21875 48.921875 51.53125 44.890625 \r\nQ 49.859375 40.875 45.40625 35.40625 \r\nQ 44.1875 33.984375 37.640625 27.21875 \r\nQ 31.109375 20.453125 19.1875 8.296875 \r\nz\r\n\" id=\"DejaVuSans-50\"/>\r\n     </defs>\r\n     <use xlink:href=\"#DejaVuSans-50\"/>\r\n     <use x=\"63.623047\" xlink:href=\"#DejaVuSans-53\"/>\r\n     <use x=\"127.246094\" xlink:href=\"#DejaVuSans-50\"/>\r\n    </g>\r\n   </g>\r\n   <g id=\"text_10\">\r\n    <!-- 1758 -->\r\n    <g style=\"fill:#ffffff;\" transform=\"translate(192.23125 228.9275)scale(0.1 -0.1)\">\r\n     <defs>\r\n      <path d=\"M 31.78125 34.625 \r\nQ 24.75 34.625 20.71875 30.859375 \r\nQ 16.703125 27.09375 16.703125 20.515625 \r\nQ 16.703125 13.921875 20.71875 10.15625 \r\nQ 24.75 6.390625 31.78125 6.390625 \r\nQ 38.8125 6.390625 42.859375 10.171875 \r\nQ 46.921875 13.96875 46.921875 20.515625 \r\nQ 46.921875 27.09375 42.890625 30.859375 \r\nQ 38.875 34.625 31.78125 34.625 \r\nz\r\nM 21.921875 38.8125 \r\nQ 15.578125 40.375 12.03125 44.71875 \r\nQ 8.5 49.078125 8.5 55.328125 \r\nQ 8.5 64.0625 14.71875 69.140625 \r\nQ 20.953125 74.21875 31.78125 74.21875 \r\nQ 42.671875 74.21875 48.875 69.140625 \r\nQ 55.078125 64.0625 55.078125 55.328125 \r\nQ 55.078125 49.078125 51.53125 44.71875 \r\nQ 48 40.375 41.703125 38.8125 \r\nQ 48.828125 37.15625 52.796875 32.3125 \r\nQ 56.78125 27.484375 56.78125 20.515625 \r\nQ 56.78125 9.90625 50.3125 4.234375 \r\nQ 43.84375 -1.421875 31.78125 -1.421875 \r\nQ 19.734375 -1.421875 13.25 4.234375 \r\nQ 6.78125 9.90625 6.78125 20.515625 \r\nQ 6.78125 27.484375 10.78125 32.3125 \r\nQ 14.796875 37.15625 21.921875 38.8125 \r\nz\r\nM 18.3125 54.390625 \r\nQ 18.3125 48.734375 21.84375 45.5625 \r\nQ 25.390625 42.390625 31.78125 42.390625 \r\nQ 38.140625 42.390625 41.71875 45.5625 \r\nQ 45.3125 48.734375 45.3125 54.390625 \r\nQ 45.3125 60.0625 41.71875 63.234375 \r\nQ 38.140625 66.40625 31.78125 66.40625 \r\nQ 25.390625 66.40625 21.84375 63.234375 \r\nQ 18.3125 60.0625 18.3125 54.390625 \r\nz\r\n\" id=\"DejaVuSans-56\"/>\r\n     </defs>\r\n     <use xlink:href=\"#DejaVuSans-49\"/>\r\n     <use x=\"63.623047\" xlink:href=\"#DejaVuSans-55\"/>\r\n     <use x=\"127.246094\" xlink:href=\"#DejaVuSans-53\"/>\r\n     <use x=\"190.869141\" xlink:href=\"#DejaVuSans-56\"/>\r\n    </g>\r\n   </g>\r\n   <g id=\"text_11\">\r\n    <!-- Confusion Matrix -->\r\n    <g transform=\"translate(98.514375 16.318125)scale(0.12 -0.12)\">\r\n     <defs>\r\n      <path d=\"M 64.40625 67.28125 \r\nL 64.40625 56.890625 \r\nQ 59.421875 61.53125 53.78125 63.8125 \r\nQ 48.140625 66.109375 41.796875 66.109375 \r\nQ 29.296875 66.109375 22.65625 58.46875 \r\nQ 16.015625 50.828125 16.015625 36.375 \r\nQ 16.015625 21.96875 22.65625 14.328125 \r\nQ 29.296875 6.6875 41.796875 6.6875 \r\nQ 48.140625 6.6875 53.78125 8.984375 \r\nQ 59.421875 11.28125 64.40625 15.921875 \r\nL 64.40625 5.609375 \r\nQ 59.234375 2.09375 53.4375 0.328125 \r\nQ 47.65625 -1.421875 41.21875 -1.421875 \r\nQ 24.65625 -1.421875 15.125 8.703125 \r\nQ 5.609375 18.84375 5.609375 36.375 \r\nQ 5.609375 53.953125 15.125 64.078125 \r\nQ 24.65625 74.21875 41.21875 74.21875 \r\nQ 47.75 74.21875 53.53125 72.484375 \r\nQ 59.328125 70.75 64.40625 67.28125 \r\nz\r\n\" id=\"DejaVuSans-67\"/>\r\n      <path d=\"M 37.109375 75.984375 \r\nL 37.109375 68.5 \r\nL 28.515625 68.5 \r\nQ 23.6875 68.5 21.796875 66.546875 \r\nQ 19.921875 64.59375 19.921875 59.515625 \r\nL 19.921875 54.6875 \r\nL 34.71875 54.6875 \r\nL 34.71875 47.703125 \r\nL 19.921875 47.703125 \r\nL 19.921875 0 \r\nL 10.890625 0 \r\nL 10.890625 47.703125 \r\nL 2.296875 47.703125 \r\nL 2.296875 54.6875 \r\nL 10.890625 54.6875 \r\nL 10.890625 58.5 \r\nQ 10.890625 67.625 15.140625 71.796875 \r\nQ 19.390625 75.984375 28.609375 75.984375 \r\nz\r\n\" id=\"DejaVuSans-102\"/>\r\n      <path d=\"M 44.28125 53.078125 \r\nL 44.28125 44.578125 \r\nQ 40.484375 46.53125 36.375 47.5 \r\nQ 32.28125 48.484375 27.875 48.484375 \r\nQ 21.1875 48.484375 17.84375 46.4375 \r\nQ 14.5 44.390625 14.5 40.28125 \r\nQ 14.5 37.15625 16.890625 35.375 \r\nQ 19.28125 33.59375 26.515625 31.984375 \r\nL 29.59375 31.296875 \r\nQ 39.15625 29.25 43.1875 25.515625 \r\nQ 47.21875 21.78125 47.21875 15.09375 \r\nQ 47.21875 7.46875 41.1875 3.015625 \r\nQ 35.15625 -1.421875 24.609375 -1.421875 \r\nQ 20.21875 -1.421875 15.453125 -0.5625 \r\nQ 10.6875 0.296875 5.421875 2 \r\nL 5.421875 11.28125 \r\nQ 10.40625 8.6875 15.234375 7.390625 \r\nQ 20.0625 6.109375 24.8125 6.109375 \r\nQ 31.15625 6.109375 34.5625 8.28125 \r\nQ 37.984375 10.453125 37.984375 14.40625 \r\nQ 37.984375 18.0625 35.515625 20.015625 \r\nQ 33.0625 21.96875 24.703125 23.78125 \r\nL 21.578125 24.515625 \r\nQ 13.234375 26.265625 9.515625 29.90625 \r\nQ 5.8125 33.546875 5.8125 39.890625 \r\nQ 5.8125 47.609375 11.28125 51.796875 \r\nQ 16.75 56 26.8125 56 \r\nQ 31.78125 56 36.171875 55.265625 \r\nQ 40.578125 54.546875 44.28125 53.078125 \r\nz\r\n\" id=\"DejaVuSans-115\"/>\r\n      <path d=\"M 9.8125 72.90625 \r\nL 24.515625 72.90625 \r\nL 43.109375 23.296875 \r\nL 61.8125 72.90625 \r\nL 76.515625 72.90625 \r\nL 76.515625 0 \r\nL 66.890625 0 \r\nL 66.890625 64.015625 \r\nL 48.09375 14.015625 \r\nL 38.1875 14.015625 \r\nL 19.390625 64.015625 \r\nL 19.390625 0 \r\nL 9.8125 0 \r\nz\r\n\" id=\"DejaVuSans-77\"/>\r\n      <path d=\"M 54.890625 54.6875 \r\nL 35.109375 28.078125 \r\nL 55.90625 0 \r\nL 45.3125 0 \r\nL 29.390625 21.484375 \r\nL 13.484375 0 \r\nL 2.875 0 \r\nL 24.125 28.609375 \r\nL 4.6875 54.6875 \r\nL 15.28125 54.6875 \r\nL 29.78125 35.203125 \r\nL 44.28125 54.6875 \r\nz\r\n\" id=\"DejaVuSans-120\"/>\r\n     </defs>\r\n     <use xlink:href=\"#DejaVuSans-67\"/>\r\n     <use x=\"69.824219\" xlink:href=\"#DejaVuSans-111\"/>\r\n     <use x=\"131.005859\" xlink:href=\"#DejaVuSans-110\"/>\r\n     <use x=\"194.384766\" xlink:href=\"#DejaVuSans-102\"/>\r\n     <use x=\"229.589844\" xlink:href=\"#DejaVuSans-117\"/>\r\n     <use x=\"292.96875\" xlink:href=\"#DejaVuSans-115\"/>\r\n     <use x=\"345.068359\" xlink:href=\"#DejaVuSans-105\"/>\r\n     <use x=\"372.851562\" xlink:href=\"#DejaVuSans-111\"/>\r\n     <use x=\"434.033203\" xlink:href=\"#DejaVuSans-110\"/>\r\n     <use x=\"497.412109\" xlink:href=\"#DejaVuSans-32\"/>\r\n     <use x=\"529.199219\" xlink:href=\"#DejaVuSans-77\"/>\r\n     <use x=\"615.478516\" xlink:href=\"#DejaVuSans-97\"/>\r\n     <use x=\"676.757812\" xlink:href=\"#DejaVuSans-116\"/>\r\n     <use x=\"715.966797\" xlink:href=\"#DejaVuSans-114\"/>\r\n     <use x=\"757.080078\" xlink:href=\"#DejaVuSans-105\"/>\r\n     <use x=\"784.863281\" xlink:href=\"#DejaVuSans-120\"/>\r\n    </g>\r\n   </g>\r\n  </g>\r\n  <g id=\"axes_2\">\r\n   <g id=\"patch_3\">\r\n    <path clip-path=\"url(#p295f2a4b07)\" d=\"M 274.70625 294.118125 \r\nL 274.70625 293.056406 \r\nL 274.70625 23.379844 \r\nL 274.70625 22.318125 \r\nL 288.29625 22.318125 \r\nL 288.29625 23.379844 \r\nL 288.29625 293.056406 \r\nL 288.29625 294.118125 \r\nz\r\n\" style=\"fill:#ffffff;stroke:#ffffff;stroke-linejoin:miter;stroke-width:0.01;\"/>\r\n   </g>\r\n   <image height=\"271\" id=\"image70e45d2185\" transform=\"scale(1 -1)translate(0 -271)\" width=\"13\" x=\"275\" xlink:href=\"data:image/png;base64,\r\niVBORw0KGgoAAAANSUhEUgAAAA0AAAEPCAYAAACZVE7DAAABK0lEQVR4nO2asQ7CQAxDA7r//1wGhisDUOa8Ssaywm459sWX0Pb2eB5HNX/rqDamFsDUAphafUVKTfc+xN8IwgSNsNbEzglGYzS9QYEhLO/D9b5hR9MJstbkHsI53A9oNJ1MBGStaUL4YyKgQE0biHJ3b0euo3FGMNAWbssqJqUmAiJ3xJYxyTSx5AqNiJwaut4DIGaEjIkNAOsrDIbQ/XABiEVDV55uY0nMk673+hgcwskTB7lvYd5d7q6pT4TfqenuPevDFWrqE000rjHJOkL4NMfbiGmjbCbz8vpMwvHpbcQw/YPJvDzAtMHYUH4XFmi5rvfYG0lhNMYIDGIhDDRiOuILStTkbYR0HY1zj5aHQP2HqqFM5uXpJmGcEfZM4L/GdHkw0yT3CtMLaqoY2Ikg8iAAAAAASUVORK5CYII=\" y=\"-22\"/>\r\n   <g id=\"matplotlib.axis_3\"/>\r\n   <g id=\"matplotlib.axis_4\">\r\n    <g id=\"ytick_3\">\r\n     <g id=\"line2d_5\">\r\n      <defs>\r\n       <path d=\"M 0 0 \r\nL 3.5 0 \r\n\" id=\"mbfe56b97fa\" style=\"stroke:#000000;stroke-width:0.8;\"/>\r\n      </defs>\r\n      <g>\r\n       <use style=\"stroke:#000000;stroke-width:0.8;\" x=\"288.29625\" xlink:href=\"#mbfe56b97fa\" y=\"290.503305\"/>\r\n      </g>\r\n     </g>\r\n     <g id=\"text_12\">\r\n      <!-- 200 -->\r\n      <g transform=\"translate(295.29625 294.302524)scale(0.1 -0.1)\">\r\n       <use xlink:href=\"#DejaVuSans-50\"/>\r\n       <use x=\"63.623047\" xlink:href=\"#DejaVuSans-48\"/>\r\n       <use x=\"127.246094\" xlink:href=\"#DejaVuSans-48\"/>\r\n      </g>\r\n     </g>\r\n    </g>\r\n    <g id=\"ytick_4\">\r\n     <g id=\"line2d_6\">\r\n      <g>\r\n       <use style=\"stroke:#000000;stroke-width:0.8;\" x=\"288.29625\" xlink:href=\"#mbfe56b97fa\" y=\"256.076453\"/>\r\n      </g>\r\n     </g>\r\n     <g id=\"text_13\">\r\n      <!-- 400 -->\r\n      <g transform=\"translate(295.29625 259.875672)scale(0.1 -0.1)\">\r\n       <defs>\r\n        <path d=\"M 37.796875 64.3125 \r\nL 12.890625 25.390625 \r\nL 37.796875 25.390625 \r\nz\r\nM 35.203125 72.90625 \r\nL 47.609375 72.90625 \r\nL 47.609375 25.390625 \r\nL 58.015625 25.390625 \r\nL 58.015625 17.1875 \r\nL 47.609375 17.1875 \r\nL 47.609375 0 \r\nL 37.796875 0 \r\nL 37.796875 17.1875 \r\nL 4.890625 17.1875 \r\nL 4.890625 26.703125 \r\nz\r\n\" id=\"DejaVuSans-52\"/>\r\n       </defs>\r\n       <use xlink:href=\"#DejaVuSans-52\"/>\r\n       <use x=\"63.623047\" xlink:href=\"#DejaVuSans-48\"/>\r\n       <use x=\"127.246094\" xlink:href=\"#DejaVuSans-48\"/>\r\n      </g>\r\n     </g>\r\n    </g>\r\n    <g id=\"ytick_5\">\r\n     <g id=\"line2d_7\">\r\n      <g>\r\n       <use style=\"stroke:#000000;stroke-width:0.8;\" x=\"288.29625\" xlink:href=\"#mbfe56b97fa\" y=\"221.649601\"/>\r\n      </g>\r\n     </g>\r\n     <g id=\"text_14\">\r\n      <!-- 600 -->\r\n      <g transform=\"translate(295.29625 225.448819)scale(0.1 -0.1)\">\r\n       <defs>\r\n        <path d=\"M 33.015625 40.375 \r\nQ 26.375 40.375 22.484375 35.828125 \r\nQ 18.609375 31.296875 18.609375 23.390625 \r\nQ 18.609375 15.53125 22.484375 10.953125 \r\nQ 26.375 6.390625 33.015625 6.390625 \r\nQ 39.65625 6.390625 43.53125 10.953125 \r\nQ 47.40625 15.53125 47.40625 23.390625 \r\nQ 47.40625 31.296875 43.53125 35.828125 \r\nQ 39.65625 40.375 33.015625 40.375 \r\nz\r\nM 52.59375 71.296875 \r\nL 52.59375 62.3125 \r\nQ 48.875 64.0625 45.09375 64.984375 \r\nQ 41.3125 65.921875 37.59375 65.921875 \r\nQ 27.828125 65.921875 22.671875 59.328125 \r\nQ 17.53125 52.734375 16.796875 39.40625 \r\nQ 19.671875 43.65625 24.015625 45.921875 \r\nQ 28.375 48.1875 33.59375 48.1875 \r\nQ 44.578125 48.1875 50.953125 41.515625 \r\nQ 57.328125 34.859375 57.328125 23.390625 \r\nQ 57.328125 12.15625 50.6875 5.359375 \r\nQ 44.046875 -1.421875 33.015625 -1.421875 \r\nQ 20.359375 -1.421875 13.671875 8.265625 \r\nQ 6.984375 17.96875 6.984375 36.375 \r\nQ 6.984375 53.65625 15.1875 63.9375 \r\nQ 23.390625 74.21875 37.203125 74.21875 \r\nQ 40.921875 74.21875 44.703125 73.484375 \r\nQ 48.484375 72.75 52.59375 71.296875 \r\nz\r\n\" id=\"DejaVuSans-54\"/>\r\n       </defs>\r\n       <use xlink:href=\"#DejaVuSans-54\"/>\r\n       <use x=\"63.623047\" xlink:href=\"#DejaVuSans-48\"/>\r\n       <use x=\"127.246094\" xlink:href=\"#DejaVuSans-48\"/>\r\n      </g>\r\n     </g>\r\n    </g>\r\n    <g id=\"ytick_6\">\r\n     <g id=\"line2d_8\">\r\n      <g>\r\n       <use style=\"stroke:#000000;stroke-width:0.8;\" x=\"288.29625\" xlink:href=\"#mbfe56b97fa\" y=\"187.222748\"/>\r\n      </g>\r\n     </g>\r\n     <g id=\"text_15\">\r\n      <!-- 800 -->\r\n      <g transform=\"translate(295.29625 191.021967)scale(0.1 -0.1)\">\r\n       <use xlink:href=\"#DejaVuSans-56\"/>\r\n       <use x=\"63.623047\" xlink:href=\"#DejaVuSans-48\"/>\r\n       <use x=\"127.246094\" xlink:href=\"#DejaVuSans-48\"/>\r\n      </g>\r\n     </g>\r\n    </g>\r\n    <g id=\"ytick_7\">\r\n     <g id=\"line2d_9\">\r\n      <g>\r\n       <use style=\"stroke:#000000;stroke-width:0.8;\" x=\"288.29625\" xlink:href=\"#mbfe56b97fa\" y=\"152.795896\"/>\r\n      </g>\r\n     </g>\r\n     <g id=\"text_16\">\r\n      <!-- 1000 -->\r\n      <g transform=\"translate(295.29625 156.595114)scale(0.1 -0.1)\">\r\n       <use xlink:href=\"#DejaVuSans-49\"/>\r\n       <use x=\"63.623047\" xlink:href=\"#DejaVuSans-48\"/>\r\n       <use x=\"127.246094\" xlink:href=\"#DejaVuSans-48\"/>\r\n       <use x=\"190.869141\" xlink:href=\"#DejaVuSans-48\"/>\r\n      </g>\r\n     </g>\r\n    </g>\r\n    <g id=\"ytick_8\">\r\n     <g id=\"line2d_10\">\r\n      <g>\r\n       <use style=\"stroke:#000000;stroke-width:0.8;\" x=\"288.29625\" xlink:href=\"#mbfe56b97fa\" y=\"118.369043\"/>\r\n      </g>\r\n     </g>\r\n     <g id=\"text_17\">\r\n      <!-- 1200 -->\r\n      <g transform=\"translate(295.29625 122.168262)scale(0.1 -0.1)\">\r\n       <use xlink:href=\"#DejaVuSans-49\"/>\r\n       <use x=\"63.623047\" xlink:href=\"#DejaVuSans-50\"/>\r\n       <use x=\"127.246094\" xlink:href=\"#DejaVuSans-48\"/>\r\n       <use x=\"190.869141\" xlink:href=\"#DejaVuSans-48\"/>\r\n      </g>\r\n     </g>\r\n    </g>\r\n    <g id=\"ytick_9\">\r\n     <g id=\"line2d_11\">\r\n      <g>\r\n       <use style=\"stroke:#000000;stroke-width:0.8;\" x=\"288.29625\" xlink:href=\"#mbfe56b97fa\" y=\"83.942191\"/>\r\n      </g>\r\n     </g>\r\n     <g id=\"text_18\">\r\n      <!-- 1400 -->\r\n      <g transform=\"translate(295.29625 87.74141)scale(0.1 -0.1)\">\r\n       <use xlink:href=\"#DejaVuSans-49\"/>\r\n       <use x=\"63.623047\" xlink:href=\"#DejaVuSans-52\"/>\r\n       <use x=\"127.246094\" xlink:href=\"#DejaVuSans-48\"/>\r\n       <use x=\"190.869141\" xlink:href=\"#DejaVuSans-48\"/>\r\n      </g>\r\n     </g>\r\n    </g>\r\n    <g id=\"ytick_10\">\r\n     <g id=\"line2d_12\">\r\n      <g>\r\n       <use style=\"stroke:#000000;stroke-width:0.8;\" x=\"288.29625\" xlink:href=\"#mbfe56b97fa\" y=\"49.515338\"/>\r\n      </g>\r\n     </g>\r\n     <g id=\"text_19\">\r\n      <!-- 1600 -->\r\n      <g transform=\"translate(295.29625 53.314557)scale(0.1 -0.1)\">\r\n       <use xlink:href=\"#DejaVuSans-49\"/>\r\n       <use x=\"63.623047\" xlink:href=\"#DejaVuSans-54\"/>\r\n       <use x=\"127.246094\" xlink:href=\"#DejaVuSans-48\"/>\r\n       <use x=\"190.869141\" xlink:href=\"#DejaVuSans-48\"/>\r\n      </g>\r\n     </g>\r\n    </g>\r\n   </g>\r\n   <g id=\"patch_4\">\r\n    <path d=\"M 274.70625 294.118125 \r\nL 274.70625 293.056406 \r\nL 274.70625 23.379844 \r\nL 274.70625 22.318125 \r\nL 288.29625 22.318125 \r\nL 288.29625 23.379844 \r\nL 288.29625 293.056406 \r\nL 288.29625 294.118125 \r\nz\r\n\" style=\"fill:none;\"/>\r\n   </g>\r\n  </g>\r\n </g>\r\n <defs>\r\n  <clipPath id=\"pb72b139587\">\r\n   <rect height=\"271.8\" width=\"223.2\" x=\"37.55625\" y=\"22.318125\"/>\r\n  </clipPath>\r\n  <clipPath id=\"p295f2a4b07\">\r\n   <rect height=\"271.8\" width=\"13.59\" x=\"274.70625\" y=\"22.318125\"/>\r\n  </clipPath>\r\n </defs>\r\n</svg>\r\n",
            "image/png": "[encoded data removed]"
          },
          "metadata": {
            "needs_background": "light"
          }
        }
      ]
    },
    {
      "cell_type": "markdown",
      "metadata": {
        "id": "3TxYFxnduFCH"
      },
      "source": [
        "### <img src='https://drive.google.com/uc?export=view&id=1aAdtCrMe6SORoGAGtjOVM0UIxDFH9Thq' width=50px> **4.3.3** TF-IDF"
      ]
    },
    {
      "cell_type": "markdown",
      "metadata": {
        "id": "1iZdLPwcOAk8"
      },
      "source": [
        "* Use the fitted `model_lr_tf` (TF-IDF) to predict X_test\r\n",
        "\r\n"
      ]
    },
    {
      "cell_type": "code",
      "metadata": {
        "id": "o4MmLzcCZvto"
      },
      "source": [
        "y_pred_lr_tf = model_lr_tf.predict(X_test_tf)"
      ],
      "execution_count": 252,
      "outputs": []
    },
    {
      "cell_type": "markdown",
      "metadata": {
        "id": "8Hn_RKShkVcm"
      },
      "source": [
        "* Print the model accuracy by comparing predictions and real sentiments"
      ]
    },
    {
      "cell_type": "code",
      "metadata": {
        "id": "GD6mO1eJkV3m"
      },
      "source": [
        "print(\"LR Model Accuracy: {:.2%}\".format(accuracy_score(y_test, y_pred_lr_tf)))"
      ],
      "execution_count": 254,
      "outputs": [
        {
          "output_type": "stream",
          "name": "stdout",
          "text": [
            "LR Model Accuracy: 88.60%\n"
          ]
        }
      ]
    },
    {
      "cell_type": "markdown",
      "metadata": {
        "id": "CPojrJ56kWKL"
      },
      "source": [
        "* Plot the confusion matrix by using the `plot_confusion` helper function"
      ]
    },
    {
      "cell_type": "code",
      "metadata": {
        "id": "kt_FBSmbkW0b"
      },
      "source": [
        "plot_confusion(confusion_matrix(y_test, y_pred_lr_tf))"
      ],
      "execution_count": 255,
      "outputs": [
        {
          "output_type": "execute_result",
          "data": {
            "text/plain": [
              "<module 'seaborn' from 'C:\\\\Users\\\\S10y01r\\\\AppData\\\\Local\\\\Programs\\\\Python\\\\Python38\\\\lib\\\\site-packages\\\\seaborn\\\\__init__.py'>"
            ]
          },
          "metadata": {},
          "execution_count": 255
        },
        {
          "output_type": "display_data",
          "data": {
            "text/plain": "<Figure size 360x360 with 2 Axes>",
            "image/svg+xml": "<?xml version=\"1.0\" encoding=\"utf-8\" standalone=\"no\"?>\r\n<!DOCTYPE svg PUBLIC \"-//W3C//DTD SVG 1.1//EN\"\r\n  \"http://www.w3.org/Graphics/SVG/1.1/DTD/svg11.dtd\">\r\n<!-- Created with matplotlib (https://matplotlib.org/) -->\r\n<svg height=\"331.674375pt\" version=\"1.1\" viewBox=\"0 0 327.94625 331.674375\" width=\"327.94625pt\" xmlns=\"http://www.w3.org/2000/svg\" xmlns:xlink=\"http://www.w3.org/1999/xlink\">\r\n <metadata>\r\n  <rdf:RDF xmlns:cc=\"http://creativecommons.org/ns#\" xmlns:dc=\"http://purl.org/dc/elements/1.1/\" xmlns:rdf=\"http://www.w3.org/1999/02/22-rdf-syntax-ns#\">\r\n   <cc:Work>\r\n    <dc:type rdf:resource=\"http://purl.org/dc/dcmitype/StillImage\"/>\r\n    <dc:date>2021-05-08T01:19:08.692832</dc:date>\r\n    <dc:format>image/svg+xml</dc:format>\r\n    <dc:creator>\r\n     <cc:Agent>\r\n      <dc:title>Matplotlib v3.3.4, https://matplotlib.org/</dc:title>\r\n     </cc:Agent>\r\n    </dc:creator>\r\n   </cc:Work>\r\n  </rdf:RDF>\r\n </metadata>\r\n <defs>\r\n  <style type=\"text/css\">*{stroke-linecap:butt;stroke-linejoin:round;}</style>\r\n </defs>\r\n <g id=\"figure_1\">\r\n  <g id=\"patch_1\">\r\n   <path d=\"M 0 331.674375 \r\nL 327.94625 331.674375 \r\nL 327.94625 0 \r\nL 0 0 \r\nz\r\n\" style=\"fill:none;\"/>\r\n  </g>\r\n  <g id=\"axes_1\">\r\n   <g id=\"patch_2\">\r\n    <path d=\"M 37.55625 294.118125 \r\nL 260.75625 294.118125 \r\nL 260.75625 22.318125 \r\nL 37.55625 22.318125 \r\nz\r\n\" style=\"fill:#ffffff;\"/>\r\n   </g>\r\n   <g id=\"QuadMesh_1\">\r\n    <path clip-path=\"url(#pe127fdbab0)\" d=\"M 37.55625 22.318125 \r\nL 149.15625 22.318125 \r\nL 149.15625 158.218125 \r\nL 37.55625 158.218125 \r\nL 37.55625 22.318125 \r\n\" style=\"fill:#09529d;\"/>\r\n    <path clip-path=\"url(#pe127fdbab0)\" d=\"M 149.15625 22.318125 \r\nL 260.75625 22.318125 \r\nL 260.75625 158.218125 \r\nL 149.15625 158.218125 \r\nL 149.15625 22.318125 \r\n\" style=\"fill:#f7fbff;\"/>\r\n    <path clip-path=\"url(#pe127fdbab0)\" d=\"M 37.55625 158.218125 \r\nL 149.15625 158.218125 \r\nL 149.15625 294.118125 \r\nL 37.55625 294.118125 \r\nL 37.55625 158.218125 \r\n\" style=\"fill:#eff6fc;\"/>\r\n    <path clip-path=\"url(#pe127fdbab0)\" d=\"M 149.15625 158.218125 \r\nL 260.75625 158.218125 \r\nL 260.75625 294.118125 \r\nL 149.15625 294.118125 \r\nL 149.15625 158.218125 \r\n\" style=\"fill:#08306b;\"/>\r\n   </g>\r\n   <g id=\"matplotlib.axis_1\">\r\n    <g id=\"xtick_1\">\r\n     <g id=\"line2d_1\">\r\n      <defs>\r\n       <path d=\"M 0 0 \r\nL 0 3.5 \r\n\" id=\"m7ce6b3876e\" style=\"stroke:#000000;stroke-width:0.8;\"/>\r\n      </defs>\r\n      <g>\r\n       <use style=\"stroke:#000000;stroke-width:0.8;\" x=\"93.35625\" xlink:href=\"#m7ce6b3876e\" y=\"294.118125\"/>\r\n      </g>\r\n     </g>\r\n     <g id=\"text_1\">\r\n      <!-- 0 -->\r\n      <g transform=\"translate(90.175 308.716563)scale(0.1 -0.1)\">\r\n       <defs>\r\n        <path d=\"M 31.78125 66.40625 \r\nQ 24.171875 66.40625 20.328125 58.90625 \r\nQ 16.5 51.421875 16.5 36.375 \r\nQ 16.5 21.390625 20.328125 13.890625 \r\nQ 24.171875 6.390625 31.78125 6.390625 \r\nQ 39.453125 6.390625 43.28125 13.890625 \r\nQ 47.125 21.390625 47.125 36.375 \r\nQ 47.125 51.421875 43.28125 58.90625 \r\nQ 39.453125 66.40625 31.78125 66.40625 \r\nz\r\nM 31.78125 74.21875 \r\nQ 44.046875 74.21875 50.515625 64.515625 \r\nQ 56.984375 54.828125 56.984375 36.375 \r\nQ 56.984375 17.96875 50.515625 8.265625 \r\nQ 44.046875 -1.421875 31.78125 -1.421875 \r\nQ 19.53125 -1.421875 13.0625 8.265625 \r\nQ 6.59375 17.96875 6.59375 36.375 \r\nQ 6.59375 54.828125 13.0625 64.515625 \r\nQ 19.53125 74.21875 31.78125 74.21875 \r\nz\r\n\" id=\"DejaVuSans-48\"/>\r\n       </defs>\r\n       <use xlink:href=\"#DejaVuSans-48\"/>\r\n      </g>\r\n     </g>\r\n    </g>\r\n    <g id=\"xtick_2\">\r\n     <g id=\"line2d_2\">\r\n      <g>\r\n       <use style=\"stroke:#000000;stroke-width:0.8;\" x=\"204.95625\" xlink:href=\"#m7ce6b3876e\" y=\"294.118125\"/>\r\n      </g>\r\n     </g>\r\n     <g id=\"text_2\">\r\n      <!-- 1 -->\r\n      <g transform=\"translate(201.775 308.716563)scale(0.1 -0.1)\">\r\n       <defs>\r\n        <path d=\"M 12.40625 8.296875 \r\nL 28.515625 8.296875 \r\nL 28.515625 63.921875 \r\nL 10.984375 60.40625 \r\nL 10.984375 69.390625 \r\nL 28.421875 72.90625 \r\nL 38.28125 72.90625 \r\nL 38.28125 8.296875 \r\nL 54.390625 8.296875 \r\nL 54.390625 0 \r\nL 12.40625 0 \r\nz\r\n\" id=\"DejaVuSans-49\"/>\r\n       </defs>\r\n       <use xlink:href=\"#DejaVuSans-49\"/>\r\n      </g>\r\n     </g>\r\n    </g>\r\n    <g id=\"text_3\">\r\n     <!-- Prediction -->\r\n     <g transform=\"translate(124.319531 322.394687)scale(0.1 -0.1)\">\r\n      <defs>\r\n       <path d=\"M 19.671875 64.796875 \r\nL 19.671875 37.40625 \r\nL 32.078125 37.40625 \r\nQ 38.96875 37.40625 42.71875 40.96875 \r\nQ 46.484375 44.53125 46.484375 51.125 \r\nQ 46.484375 57.671875 42.71875 61.234375 \r\nQ 38.96875 64.796875 32.078125 64.796875 \r\nz\r\nM 9.8125 72.90625 \r\nL 32.078125 72.90625 \r\nQ 44.34375 72.90625 50.609375 67.359375 \r\nQ 56.890625 61.8125 56.890625 51.125 \r\nQ 56.890625 40.328125 50.609375 34.8125 \r\nQ 44.34375 29.296875 32.078125 29.296875 \r\nL 19.671875 29.296875 \r\nL 19.671875 0 \r\nL 9.8125 0 \r\nz\r\n\" id=\"DejaVuSans-80\"/>\r\n       <path d=\"M 41.109375 46.296875 \r\nQ 39.59375 47.171875 37.8125 47.578125 \r\nQ 36.03125 48 33.890625 48 \r\nQ 26.265625 48 22.1875 43.046875 \r\nQ 18.109375 38.09375 18.109375 28.8125 \r\nL 18.109375 0 \r\nL 9.078125 0 \r\nL 9.078125 54.6875 \r\nL 18.109375 54.6875 \r\nL 18.109375 46.1875 \r\nQ 20.953125 51.171875 25.484375 53.578125 \r\nQ 30.03125 56 36.53125 56 \r\nQ 37.453125 56 38.578125 55.875 \r\nQ 39.703125 55.765625 41.0625 55.515625 \r\nz\r\n\" id=\"DejaVuSans-114\"/>\r\n       <path d=\"M 56.203125 29.59375 \r\nL 56.203125 25.203125 \r\nL 14.890625 25.203125 \r\nQ 15.484375 15.921875 20.484375 11.0625 \r\nQ 25.484375 6.203125 34.421875 6.203125 \r\nQ 39.59375 6.203125 44.453125 7.46875 \r\nQ 49.3125 8.734375 54.109375 11.28125 \r\nL 54.109375 2.78125 \r\nQ 49.265625 0.734375 44.1875 -0.34375 \r\nQ 39.109375 -1.421875 33.890625 -1.421875 \r\nQ 20.796875 -1.421875 13.15625 6.1875 \r\nQ 5.515625 13.8125 5.515625 26.8125 \r\nQ 5.515625 40.234375 12.765625 48.109375 \r\nQ 20.015625 56 32.328125 56 \r\nQ 43.359375 56 49.78125 48.890625 \r\nQ 56.203125 41.796875 56.203125 29.59375 \r\nz\r\nM 47.21875 32.234375 \r\nQ 47.125 39.59375 43.09375 43.984375 \r\nQ 39.0625 48.390625 32.421875 48.390625 \r\nQ 24.90625 48.390625 20.390625 44.140625 \r\nQ 15.875 39.890625 15.1875 32.171875 \r\nz\r\n\" id=\"DejaVuSans-101\"/>\r\n       <path d=\"M 45.40625 46.390625 \r\nL 45.40625 75.984375 \r\nL 54.390625 75.984375 \r\nL 54.390625 0 \r\nL 45.40625 0 \r\nL 45.40625 8.203125 \r\nQ 42.578125 3.328125 38.25 0.953125 \r\nQ 33.9375 -1.421875 27.875 -1.421875 \r\nQ 17.96875 -1.421875 11.734375 6.484375 \r\nQ 5.515625 14.40625 5.515625 27.296875 \r\nQ 5.515625 40.1875 11.734375 48.09375 \r\nQ 17.96875 56 27.875 56 \r\nQ 33.9375 56 38.25 53.625 \r\nQ 42.578125 51.265625 45.40625 46.390625 \r\nz\r\nM 14.796875 27.296875 \r\nQ 14.796875 17.390625 18.875 11.75 \r\nQ 22.953125 6.109375 30.078125 6.109375 \r\nQ 37.203125 6.109375 41.296875 11.75 \r\nQ 45.40625 17.390625 45.40625 27.296875 \r\nQ 45.40625 37.203125 41.296875 42.84375 \r\nQ 37.203125 48.484375 30.078125 48.484375 \r\nQ 22.953125 48.484375 18.875 42.84375 \r\nQ 14.796875 37.203125 14.796875 27.296875 \r\nz\r\n\" id=\"DejaVuSans-100\"/>\r\n       <path d=\"M 9.421875 54.6875 \r\nL 18.40625 54.6875 \r\nL 18.40625 0 \r\nL 9.421875 0 \r\nz\r\nM 9.421875 75.984375 \r\nL 18.40625 75.984375 \r\nL 18.40625 64.59375 \r\nL 9.421875 64.59375 \r\nz\r\n\" id=\"DejaVuSans-105\"/>\r\n       <path d=\"M 48.78125 52.59375 \r\nL 48.78125 44.1875 \r\nQ 44.96875 46.296875 41.140625 47.34375 \r\nQ 37.3125 48.390625 33.40625 48.390625 \r\nQ 24.65625 48.390625 19.8125 42.84375 \r\nQ 14.984375 37.3125 14.984375 27.296875 \r\nQ 14.984375 17.28125 19.8125 11.734375 \r\nQ 24.65625 6.203125 33.40625 6.203125 \r\nQ 37.3125 6.203125 41.140625 7.25 \r\nQ 44.96875 8.296875 48.78125 10.40625 \r\nL 48.78125 2.09375 \r\nQ 45.015625 0.34375 40.984375 -0.53125 \r\nQ 36.96875 -1.421875 32.421875 -1.421875 \r\nQ 20.0625 -1.421875 12.78125 6.34375 \r\nQ 5.515625 14.109375 5.515625 27.296875 \r\nQ 5.515625 40.671875 12.859375 48.328125 \r\nQ 20.21875 56 33.015625 56 \r\nQ 37.15625 56 41.109375 55.140625 \r\nQ 45.0625 54.296875 48.78125 52.59375 \r\nz\r\n\" id=\"DejaVuSans-99\"/>\r\n       <path d=\"M 18.3125 70.21875 \r\nL 18.3125 54.6875 \r\nL 36.8125 54.6875 \r\nL 36.8125 47.703125 \r\nL 18.3125 47.703125 \r\nL 18.3125 18.015625 \r\nQ 18.3125 11.328125 20.140625 9.421875 \r\nQ 21.96875 7.515625 27.59375 7.515625 \r\nL 36.8125 7.515625 \r\nL 36.8125 0 \r\nL 27.59375 0 \r\nQ 17.1875 0 13.234375 3.875 \r\nQ 9.28125 7.765625 9.28125 18.015625 \r\nL 9.28125 47.703125 \r\nL 2.6875 47.703125 \r\nL 2.6875 54.6875 \r\nL 9.28125 54.6875 \r\nL 9.28125 70.21875 \r\nz\r\n\" id=\"DejaVuSans-116\"/>\r\n       <path d=\"M 30.609375 48.390625 \r\nQ 23.390625 48.390625 19.1875 42.75 \r\nQ 14.984375 37.109375 14.984375 27.296875 \r\nQ 14.984375 17.484375 19.15625 11.84375 \r\nQ 23.34375 6.203125 30.609375 6.203125 \r\nQ 37.796875 6.203125 41.984375 11.859375 \r\nQ 46.1875 17.53125 46.1875 27.296875 \r\nQ 46.1875 37.015625 41.984375 42.703125 \r\nQ 37.796875 48.390625 30.609375 48.390625 \r\nz\r\nM 30.609375 56 \r\nQ 42.328125 56 49.015625 48.375 \r\nQ 55.71875 40.765625 55.71875 27.296875 \r\nQ 55.71875 13.875 49.015625 6.21875 \r\nQ 42.328125 -1.421875 30.609375 -1.421875 \r\nQ 18.84375 -1.421875 12.171875 6.21875 \r\nQ 5.515625 13.875 5.515625 27.296875 \r\nQ 5.515625 40.765625 12.171875 48.375 \r\nQ 18.84375 56 30.609375 56 \r\nz\r\n\" id=\"DejaVuSans-111\"/>\r\n       <path d=\"M 54.890625 33.015625 \r\nL 54.890625 0 \r\nL 45.90625 0 \r\nL 45.90625 32.71875 \r\nQ 45.90625 40.484375 42.875 44.328125 \r\nQ 39.84375 48.1875 33.796875 48.1875 \r\nQ 26.515625 48.1875 22.3125 43.546875 \r\nQ 18.109375 38.921875 18.109375 30.90625 \r\nL 18.109375 0 \r\nL 9.078125 0 \r\nL 9.078125 54.6875 \r\nL 18.109375 54.6875 \r\nL 18.109375 46.1875 \r\nQ 21.34375 51.125 25.703125 53.5625 \r\nQ 30.078125 56 35.796875 56 \r\nQ 45.21875 56 50.046875 50.171875 \r\nQ 54.890625 44.34375 54.890625 33.015625 \r\nz\r\n\" id=\"DejaVuSans-110\"/>\r\n      </defs>\r\n      <use xlink:href=\"#DejaVuSans-80\"/>\r\n      <use x=\"58.552734\" xlink:href=\"#DejaVuSans-114\"/>\r\n      <use x=\"97.416016\" xlink:href=\"#DejaVuSans-101\"/>\r\n      <use x=\"158.939453\" xlink:href=\"#DejaVuSans-100\"/>\r\n      <use x=\"222.416016\" xlink:href=\"#DejaVuSans-105\"/>\r\n      <use x=\"250.199219\" xlink:href=\"#DejaVuSans-99\"/>\r\n      <use x=\"305.179688\" xlink:href=\"#DejaVuSans-116\"/>\r\n      <use x=\"344.388672\" xlink:href=\"#DejaVuSans-105\"/>\r\n      <use x=\"372.171875\" xlink:href=\"#DejaVuSans-111\"/>\r\n      <use x=\"433.353516\" xlink:href=\"#DejaVuSans-110\"/>\r\n     </g>\r\n    </g>\r\n   </g>\r\n   <g id=\"matplotlib.axis_2\">\r\n    <g id=\"ytick_1\">\r\n     <g id=\"line2d_3\">\r\n      <defs>\r\n       <path d=\"M 0 0 \r\nL -3.5 0 \r\n\" id=\"m46d14ee98b\" style=\"stroke:#000000;stroke-width:0.8;\"/>\r\n      </defs>\r\n      <g>\r\n       <use style=\"stroke:#000000;stroke-width:0.8;\" x=\"37.55625\" xlink:href=\"#m46d14ee98b\" y=\"90.268125\"/>\r\n      </g>\r\n     </g>\r\n     <g id=\"text_4\">\r\n      <!-- 0 -->\r\n      <g transform=\"translate(28.476563 92.831406)rotate(-90)scale(0.1 -0.1)\">\r\n       <use xlink:href=\"#DejaVuSans-48\"/>\r\n      </g>\r\n     </g>\r\n    </g>\r\n    <g id=\"ytick_2\">\r\n     <g id=\"line2d_4\">\r\n      <g>\r\n       <use style=\"stroke:#000000;stroke-width:0.8;\" x=\"37.55625\" xlink:href=\"#m46d14ee98b\" y=\"226.168125\"/>\r\n      </g>\r\n     </g>\r\n     <g id=\"text_5\">\r\n      <!-- 1 -->\r\n      <g transform=\"translate(28.476563 228.731406)rotate(-90)scale(0.1 -0.1)\">\r\n       <use xlink:href=\"#DejaVuSans-49\"/>\r\n      </g>\r\n     </g>\r\n    </g>\r\n    <g id=\"text_6\">\r\n     <!-- True value -->\r\n     <g transform=\"translate(14.798438 184.082188)rotate(-90)scale(0.1 -0.1)\">\r\n      <defs>\r\n       <path d=\"M -0.296875 72.90625 \r\nL 61.375 72.90625 \r\nL 61.375 64.59375 \r\nL 35.5 64.59375 \r\nL 35.5 0 \r\nL 25.59375 0 \r\nL 25.59375 64.59375 \r\nL -0.296875 64.59375 \r\nz\r\n\" id=\"DejaVuSans-84\"/>\r\n       <path d=\"M 8.5 21.578125 \r\nL 8.5 54.6875 \r\nL 17.484375 54.6875 \r\nL 17.484375 21.921875 \r\nQ 17.484375 14.15625 20.5 10.265625 \r\nQ 23.53125 6.390625 29.59375 6.390625 \r\nQ 36.859375 6.390625 41.078125 11.03125 \r\nQ 45.3125 15.671875 45.3125 23.6875 \r\nL 45.3125 54.6875 \r\nL 54.296875 54.6875 \r\nL 54.296875 0 \r\nL 45.3125 0 \r\nL 45.3125 8.40625 \r\nQ 42.046875 3.421875 37.71875 1 \r\nQ 33.40625 -1.421875 27.6875 -1.421875 \r\nQ 18.265625 -1.421875 13.375 4.4375 \r\nQ 8.5 10.296875 8.5 21.578125 \r\nz\r\nM 31.109375 56 \r\nz\r\n\" id=\"DejaVuSans-117\"/>\r\n       <path id=\"DejaVuSans-32\"/>\r\n       <path d=\"M 2.984375 54.6875 \r\nL 12.5 54.6875 \r\nL 29.59375 8.796875 \r\nL 46.6875 54.6875 \r\nL 56.203125 54.6875 \r\nL 35.6875 0 \r\nL 23.484375 0 \r\nz\r\n\" id=\"DejaVuSans-118\"/>\r\n       <path d=\"M 34.28125 27.484375 \r\nQ 23.390625 27.484375 19.1875 25 \r\nQ 14.984375 22.515625 14.984375 16.5 \r\nQ 14.984375 11.71875 18.140625 8.90625 \r\nQ 21.296875 6.109375 26.703125 6.109375 \r\nQ 34.1875 6.109375 38.703125 11.40625 \r\nQ 43.21875 16.703125 43.21875 25.484375 \r\nL 43.21875 27.484375 \r\nz\r\nM 52.203125 31.203125 \r\nL 52.203125 0 \r\nL 43.21875 0 \r\nL 43.21875 8.296875 \r\nQ 40.140625 3.328125 35.546875 0.953125 \r\nQ 30.953125 -1.421875 24.3125 -1.421875 \r\nQ 15.921875 -1.421875 10.953125 3.296875 \r\nQ 6 8.015625 6 15.921875 \r\nQ 6 25.140625 12.171875 29.828125 \r\nQ 18.359375 34.515625 30.609375 34.515625 \r\nL 43.21875 34.515625 \r\nL 43.21875 35.40625 \r\nQ 43.21875 41.609375 39.140625 45 \r\nQ 35.0625 48.390625 27.6875 48.390625 \r\nQ 23 48.390625 18.546875 47.265625 \r\nQ 14.109375 46.140625 10.015625 43.890625 \r\nL 10.015625 52.203125 \r\nQ 14.9375 54.109375 19.578125 55.046875 \r\nQ 24.21875 56 28.609375 56 \r\nQ 40.484375 56 46.34375 49.84375 \r\nQ 52.203125 43.703125 52.203125 31.203125 \r\nz\r\n\" id=\"DejaVuSans-97\"/>\r\n       <path d=\"M 9.421875 75.984375 \r\nL 18.40625 75.984375 \r\nL 18.40625 0 \r\nL 9.421875 0 \r\nz\r\n\" id=\"DejaVuSans-108\"/>\r\n      </defs>\r\n      <use xlink:href=\"#DejaVuSans-84\"/>\r\n      <use x=\"46.333984\" xlink:href=\"#DejaVuSans-114\"/>\r\n      <use x=\"87.447266\" xlink:href=\"#DejaVuSans-117\"/>\r\n      <use x=\"150.826172\" xlink:href=\"#DejaVuSans-101\"/>\r\n      <use x=\"212.349609\" xlink:href=\"#DejaVuSans-32\"/>\r\n      <use x=\"244.136719\" xlink:href=\"#DejaVuSans-118\"/>\r\n      <use x=\"303.316406\" xlink:href=\"#DejaVuSans-97\"/>\r\n      <use x=\"364.595703\" xlink:href=\"#DejaVuSans-108\"/>\r\n      <use x=\"392.378906\" xlink:href=\"#DejaVuSans-117\"/>\r\n      <use x=\"455.757812\" xlink:href=\"#DejaVuSans-101\"/>\r\n     </g>\r\n    </g>\r\n   </g>\r\n   <g id=\"text_7\">\r\n    <!-- 1555 -->\r\n    <g style=\"fill:#ffffff;\" transform=\"translate(80.63125 93.0275)scale(0.1 -0.1)\">\r\n     <defs>\r\n      <path d=\"M 10.796875 72.90625 \r\nL 49.515625 72.90625 \r\nL 49.515625 64.59375 \r\nL 19.828125 64.59375 \r\nL 19.828125 46.734375 \r\nQ 21.96875 47.46875 24.109375 47.828125 \r\nQ 26.265625 48.1875 28.421875 48.1875 \r\nQ 40.625 48.1875 47.75 41.5 \r\nQ 54.890625 34.8125 54.890625 23.390625 \r\nQ 54.890625 11.625 47.5625 5.09375 \r\nQ 40.234375 -1.421875 26.90625 -1.421875 \r\nQ 22.3125 -1.421875 17.546875 -0.640625 \r\nQ 12.796875 0.140625 7.71875 1.703125 \r\nL 7.71875 11.625 \r\nQ 12.109375 9.234375 16.796875 8.0625 \r\nQ 21.484375 6.890625 26.703125 6.890625 \r\nQ 35.15625 6.890625 40.078125 11.328125 \r\nQ 45.015625 15.765625 45.015625 23.390625 \r\nQ 45.015625 31 40.078125 35.4375 \r\nQ 35.15625 39.890625 26.703125 39.890625 \r\nQ 22.75 39.890625 18.8125 39.015625 \r\nQ 14.890625 38.140625 10.796875 36.28125 \r\nz\r\n\" id=\"DejaVuSans-53\"/>\r\n     </defs>\r\n     <use xlink:href=\"#DejaVuSans-49\"/>\r\n     <use x=\"63.623047\" xlink:href=\"#DejaVuSans-53\"/>\r\n     <use x=\"127.246094\" xlink:href=\"#DejaVuSans-53\"/>\r\n     <use x=\"190.869141\" xlink:href=\"#DejaVuSans-53\"/>\r\n    </g>\r\n   </g>\r\n   <g id=\"text_8\">\r\n    <!-- 181 -->\r\n    <g style=\"fill:#262626;\" transform=\"translate(195.4125 93.0275)scale(0.1 -0.1)\">\r\n     <defs>\r\n      <path d=\"M 31.78125 34.625 \r\nQ 24.75 34.625 20.71875 30.859375 \r\nQ 16.703125 27.09375 16.703125 20.515625 \r\nQ 16.703125 13.921875 20.71875 10.15625 \r\nQ 24.75 6.390625 31.78125 6.390625 \r\nQ 38.8125 6.390625 42.859375 10.171875 \r\nQ 46.921875 13.96875 46.921875 20.515625 \r\nQ 46.921875 27.09375 42.890625 30.859375 \r\nQ 38.875 34.625 31.78125 34.625 \r\nz\r\nM 21.921875 38.8125 \r\nQ 15.578125 40.375 12.03125 44.71875 \r\nQ 8.5 49.078125 8.5 55.328125 \r\nQ 8.5 64.0625 14.71875 69.140625 \r\nQ 20.953125 74.21875 31.78125 74.21875 \r\nQ 42.671875 74.21875 48.875 69.140625 \r\nQ 55.078125 64.0625 55.078125 55.328125 \r\nQ 55.078125 49.078125 51.53125 44.71875 \r\nQ 48 40.375 41.703125 38.8125 \r\nQ 48.828125 37.15625 52.796875 32.3125 \r\nQ 56.78125 27.484375 56.78125 20.515625 \r\nQ 56.78125 9.90625 50.3125 4.234375 \r\nQ 43.84375 -1.421875 31.78125 -1.421875 \r\nQ 19.734375 -1.421875 13.25 4.234375 \r\nQ 6.78125 9.90625 6.78125 20.515625 \r\nQ 6.78125 27.484375 10.78125 32.3125 \r\nQ 14.796875 37.15625 21.921875 38.8125 \r\nz\r\nM 18.3125 54.390625 \r\nQ 18.3125 48.734375 21.84375 45.5625 \r\nQ 25.390625 42.390625 31.78125 42.390625 \r\nQ 38.140625 42.390625 41.71875 45.5625 \r\nQ 45.3125 48.734375 45.3125 54.390625 \r\nQ 45.3125 60.0625 41.71875 63.234375 \r\nQ 38.140625 66.40625 31.78125 66.40625 \r\nQ 25.390625 66.40625 21.84375 63.234375 \r\nQ 18.3125 60.0625 18.3125 54.390625 \r\nz\r\n\" id=\"DejaVuSans-56\"/>\r\n     </defs>\r\n     <use xlink:href=\"#DejaVuSans-49\"/>\r\n     <use x=\"63.623047\" xlink:href=\"#DejaVuSans-56\"/>\r\n     <use x=\"127.246094\" xlink:href=\"#DejaVuSans-49\"/>\r\n    </g>\r\n   </g>\r\n   <g id=\"text_9\">\r\n    <!-- 246 -->\r\n    <g style=\"fill:#262626;\" transform=\"translate(83.8125 228.9275)scale(0.1 -0.1)\">\r\n     <defs>\r\n      <path d=\"M 19.1875 8.296875 \r\nL 53.609375 8.296875 \r\nL 53.609375 0 \r\nL 7.328125 0 \r\nL 7.328125 8.296875 \r\nQ 12.9375 14.109375 22.625 23.890625 \r\nQ 32.328125 33.6875 34.8125 36.53125 \r\nQ 39.546875 41.84375 41.421875 45.53125 \r\nQ 43.3125 49.21875 43.3125 52.78125 \r\nQ 43.3125 58.59375 39.234375 62.25 \r\nQ 35.15625 65.921875 28.609375 65.921875 \r\nQ 23.96875 65.921875 18.8125 64.3125 \r\nQ 13.671875 62.703125 7.8125 59.421875 \r\nL 7.8125 69.390625 \r\nQ 13.765625 71.78125 18.9375 73 \r\nQ 24.125 74.21875 28.421875 74.21875 \r\nQ 39.75 74.21875 46.484375 68.546875 \r\nQ 53.21875 62.890625 53.21875 53.421875 \r\nQ 53.21875 48.921875 51.53125 44.890625 \r\nQ 49.859375 40.875 45.40625 35.40625 \r\nQ 44.1875 33.984375 37.640625 27.21875 \r\nQ 31.109375 20.453125 19.1875 8.296875 \r\nz\r\n\" id=\"DejaVuSans-50\"/>\r\n      <path d=\"M 37.796875 64.3125 \r\nL 12.890625 25.390625 \r\nL 37.796875 25.390625 \r\nz\r\nM 35.203125 72.90625 \r\nL 47.609375 72.90625 \r\nL 47.609375 25.390625 \r\nL 58.015625 25.390625 \r\nL 58.015625 17.1875 \r\nL 47.609375 17.1875 \r\nL 47.609375 0 \r\nL 37.796875 0 \r\nL 37.796875 17.1875 \r\nL 4.890625 17.1875 \r\nL 4.890625 26.703125 \r\nz\r\n\" id=\"DejaVuSans-52\"/>\r\n      <path d=\"M 33.015625 40.375 \r\nQ 26.375 40.375 22.484375 35.828125 \r\nQ 18.609375 31.296875 18.609375 23.390625 \r\nQ 18.609375 15.53125 22.484375 10.953125 \r\nQ 26.375 6.390625 33.015625 6.390625 \r\nQ 39.65625 6.390625 43.53125 10.953125 \r\nQ 47.40625 15.53125 47.40625 23.390625 \r\nQ 47.40625 31.296875 43.53125 35.828125 \r\nQ 39.65625 40.375 33.015625 40.375 \r\nz\r\nM 52.59375 71.296875 \r\nL 52.59375 62.3125 \r\nQ 48.875 64.0625 45.09375 64.984375 \r\nQ 41.3125 65.921875 37.59375 65.921875 \r\nQ 27.828125 65.921875 22.671875 59.328125 \r\nQ 17.53125 52.734375 16.796875 39.40625 \r\nQ 19.671875 43.65625 24.015625 45.921875 \r\nQ 28.375 48.1875 33.59375 48.1875 \r\nQ 44.578125 48.1875 50.953125 41.515625 \r\nQ 57.328125 34.859375 57.328125 23.390625 \r\nQ 57.328125 12.15625 50.6875 5.359375 \r\nQ 44.046875 -1.421875 33.015625 -1.421875 \r\nQ 20.359375 -1.421875 13.671875 8.265625 \r\nQ 6.984375 17.96875 6.984375 36.375 \r\nQ 6.984375 53.65625 15.1875 63.9375 \r\nQ 23.390625 74.21875 37.203125 74.21875 \r\nQ 40.921875 74.21875 44.703125 73.484375 \r\nQ 48.484375 72.75 52.59375 71.296875 \r\nz\r\n\" id=\"DejaVuSans-54\"/>\r\n     </defs>\r\n     <use xlink:href=\"#DejaVuSans-50\"/>\r\n     <use x=\"63.623047\" xlink:href=\"#DejaVuSans-52\"/>\r\n     <use x=\"127.246094\" xlink:href=\"#DejaVuSans-54\"/>\r\n    </g>\r\n   </g>\r\n   <g id=\"text_10\">\r\n    <!-- 1764 -->\r\n    <g style=\"fill:#ffffff;\" transform=\"translate(192.23125 228.9275)scale(0.1 -0.1)\">\r\n     <defs>\r\n      <path d=\"M 8.203125 72.90625 \r\nL 55.078125 72.90625 \r\nL 55.078125 68.703125 \r\nL 28.609375 0 \r\nL 18.3125 0 \r\nL 43.21875 64.59375 \r\nL 8.203125 64.59375 \r\nz\r\n\" id=\"DejaVuSans-55\"/>\r\n     </defs>\r\n     <use xlink:href=\"#DejaVuSans-49\"/>\r\n     <use x=\"63.623047\" xlink:href=\"#DejaVuSans-55\"/>\r\n     <use x=\"127.246094\" xlink:href=\"#DejaVuSans-54\"/>\r\n     <use x=\"190.869141\" xlink:href=\"#DejaVuSans-52\"/>\r\n    </g>\r\n   </g>\r\n   <g id=\"text_11\">\r\n    <!-- Confusion Matrix -->\r\n    <g transform=\"translate(98.514375 16.318125)scale(0.12 -0.12)\">\r\n     <defs>\r\n      <path d=\"M 64.40625 67.28125 \r\nL 64.40625 56.890625 \r\nQ 59.421875 61.53125 53.78125 63.8125 \r\nQ 48.140625 66.109375 41.796875 66.109375 \r\nQ 29.296875 66.109375 22.65625 58.46875 \r\nQ 16.015625 50.828125 16.015625 36.375 \r\nQ 16.015625 21.96875 22.65625 14.328125 \r\nQ 29.296875 6.6875 41.796875 6.6875 \r\nQ 48.140625 6.6875 53.78125 8.984375 \r\nQ 59.421875 11.28125 64.40625 15.921875 \r\nL 64.40625 5.609375 \r\nQ 59.234375 2.09375 53.4375 0.328125 \r\nQ 47.65625 -1.421875 41.21875 -1.421875 \r\nQ 24.65625 -1.421875 15.125 8.703125 \r\nQ 5.609375 18.84375 5.609375 36.375 \r\nQ 5.609375 53.953125 15.125 64.078125 \r\nQ 24.65625 74.21875 41.21875 74.21875 \r\nQ 47.75 74.21875 53.53125 72.484375 \r\nQ 59.328125 70.75 64.40625 67.28125 \r\nz\r\n\" id=\"DejaVuSans-67\"/>\r\n      <path d=\"M 37.109375 75.984375 \r\nL 37.109375 68.5 \r\nL 28.515625 68.5 \r\nQ 23.6875 68.5 21.796875 66.546875 \r\nQ 19.921875 64.59375 19.921875 59.515625 \r\nL 19.921875 54.6875 \r\nL 34.71875 54.6875 \r\nL 34.71875 47.703125 \r\nL 19.921875 47.703125 \r\nL 19.921875 0 \r\nL 10.890625 0 \r\nL 10.890625 47.703125 \r\nL 2.296875 47.703125 \r\nL 2.296875 54.6875 \r\nL 10.890625 54.6875 \r\nL 10.890625 58.5 \r\nQ 10.890625 67.625 15.140625 71.796875 \r\nQ 19.390625 75.984375 28.609375 75.984375 \r\nz\r\n\" id=\"DejaVuSans-102\"/>\r\n      <path d=\"M 44.28125 53.078125 \r\nL 44.28125 44.578125 \r\nQ 40.484375 46.53125 36.375 47.5 \r\nQ 32.28125 48.484375 27.875 48.484375 \r\nQ 21.1875 48.484375 17.84375 46.4375 \r\nQ 14.5 44.390625 14.5 40.28125 \r\nQ 14.5 37.15625 16.890625 35.375 \r\nQ 19.28125 33.59375 26.515625 31.984375 \r\nL 29.59375 31.296875 \r\nQ 39.15625 29.25 43.1875 25.515625 \r\nQ 47.21875 21.78125 47.21875 15.09375 \r\nQ 47.21875 7.46875 41.1875 3.015625 \r\nQ 35.15625 -1.421875 24.609375 -1.421875 \r\nQ 20.21875 -1.421875 15.453125 -0.5625 \r\nQ 10.6875 0.296875 5.421875 2 \r\nL 5.421875 11.28125 \r\nQ 10.40625 8.6875 15.234375 7.390625 \r\nQ 20.0625 6.109375 24.8125 6.109375 \r\nQ 31.15625 6.109375 34.5625 8.28125 \r\nQ 37.984375 10.453125 37.984375 14.40625 \r\nQ 37.984375 18.0625 35.515625 20.015625 \r\nQ 33.0625 21.96875 24.703125 23.78125 \r\nL 21.578125 24.515625 \r\nQ 13.234375 26.265625 9.515625 29.90625 \r\nQ 5.8125 33.546875 5.8125 39.890625 \r\nQ 5.8125 47.609375 11.28125 51.796875 \r\nQ 16.75 56 26.8125 56 \r\nQ 31.78125 56 36.171875 55.265625 \r\nQ 40.578125 54.546875 44.28125 53.078125 \r\nz\r\n\" id=\"DejaVuSans-115\"/>\r\n      <path d=\"M 9.8125 72.90625 \r\nL 24.515625 72.90625 \r\nL 43.109375 23.296875 \r\nL 61.8125 72.90625 \r\nL 76.515625 72.90625 \r\nL 76.515625 0 \r\nL 66.890625 0 \r\nL 66.890625 64.015625 \r\nL 48.09375 14.015625 \r\nL 38.1875 14.015625 \r\nL 19.390625 64.015625 \r\nL 19.390625 0 \r\nL 9.8125 0 \r\nz\r\n\" id=\"DejaVuSans-77\"/>\r\n      <path d=\"M 54.890625 54.6875 \r\nL 35.109375 28.078125 \r\nL 55.90625 0 \r\nL 45.3125 0 \r\nL 29.390625 21.484375 \r\nL 13.484375 0 \r\nL 2.875 0 \r\nL 24.125 28.609375 \r\nL 4.6875 54.6875 \r\nL 15.28125 54.6875 \r\nL 29.78125 35.203125 \r\nL 44.28125 54.6875 \r\nz\r\n\" id=\"DejaVuSans-120\"/>\r\n     </defs>\r\n     <use xlink:href=\"#DejaVuSans-67\"/>\r\n     <use x=\"69.824219\" xlink:href=\"#DejaVuSans-111\"/>\r\n     <use x=\"131.005859\" xlink:href=\"#DejaVuSans-110\"/>\r\n     <use x=\"194.384766\" xlink:href=\"#DejaVuSans-102\"/>\r\n     <use x=\"229.589844\" xlink:href=\"#DejaVuSans-117\"/>\r\n     <use x=\"292.96875\" xlink:href=\"#DejaVuSans-115\"/>\r\n     <use x=\"345.068359\" xlink:href=\"#DejaVuSans-105\"/>\r\n     <use x=\"372.851562\" xlink:href=\"#DejaVuSans-111\"/>\r\n     <use x=\"434.033203\" xlink:href=\"#DejaVuSans-110\"/>\r\n     <use x=\"497.412109\" xlink:href=\"#DejaVuSans-32\"/>\r\n     <use x=\"529.199219\" xlink:href=\"#DejaVuSans-77\"/>\r\n     <use x=\"615.478516\" xlink:href=\"#DejaVuSans-97\"/>\r\n     <use x=\"676.757812\" xlink:href=\"#DejaVuSans-116\"/>\r\n     <use x=\"715.966797\" xlink:href=\"#DejaVuSans-114\"/>\r\n     <use x=\"757.080078\" xlink:href=\"#DejaVuSans-105\"/>\r\n     <use x=\"784.863281\" xlink:href=\"#DejaVuSans-120\"/>\r\n    </g>\r\n   </g>\r\n  </g>\r\n  <g id=\"axes_2\">\r\n   <g id=\"patch_3\">\r\n    <path clip-path=\"url(#p00eedf82b0)\" d=\"M 274.70625 294.118125 \r\nL 274.70625 293.056406 \r\nL 274.70625 23.379844 \r\nL 274.70625 22.318125 \r\nL 288.29625 22.318125 \r\nL 288.29625 23.379844 \r\nL 288.29625 293.056406 \r\nL 288.29625 294.118125 \r\nz\r\n\" style=\"fill:#ffffff;stroke:#ffffff;stroke-linejoin:miter;stroke-width:0.01;\"/>\r\n   </g>\r\n   <image height=\"271\" id=\"image2fb80d529c\" transform=\"scale(1 -1)translate(0 -271)\" width=\"13\" x=\"275\" xlink:href=\"data:image/png;base64,\r\niVBORw0KGgoAAAANSUhEUgAAAA0AAAEPCAYAAACZVE7DAAABK0lEQVR4nO2asQ7CQAxDA7r//1wGhisDUOa8Ssaywm459sWX0Pb2eB5HNX/rqDamFsDUAphafUVKTfc+xN8IwgSNsNbEzglGYzS9QYEhLO/D9b5hR9MJstbkHsI53A9oNJ1MBGStaUL4YyKgQE0biHJ3b0euo3FGMNAWbssqJqUmAiJ3xJYxyTSx5AqNiJwaut4DIGaEjIkNAOsrDIbQ/XABiEVDV55uY0nMk673+hgcwskTB7lvYd5d7q6pT4TfqenuPevDFWrqE000rjHJOkL4NMfbiGmjbCbz8vpMwvHpbcQw/YPJvDzAtMHYUH4XFmi5rvfYG0lhNMYIDGIhDDRiOuILStTkbYR0HY1zj5aHQP2HqqFM5uXpJmGcEfZM4L/GdHkw0yT3CtMLaqoY2Ikg8iAAAAAASUVORK5CYII=\" y=\"-22\"/>\r\n   <g id=\"matplotlib.axis_3\"/>\r\n   <g id=\"matplotlib.axis_4\">\r\n    <g id=\"ytick_3\">\r\n     <g id=\"line2d_5\">\r\n      <defs>\r\n       <path d=\"M 0 0 \r\nL 3.5 0 \r\n\" id=\"m698f31bbfd\" style=\"stroke:#000000;stroke-width:0.8;\"/>\r\n      </defs>\r\n      <g>\r\n       <use style=\"stroke:#000000;stroke-width:0.8;\" x=\"288.29625\" xlink:href=\"#m698f31bbfd\" y=\"290.855838\"/>\r\n      </g>\r\n     </g>\r\n     <g id=\"text_12\">\r\n      <!-- 200 -->\r\n      <g transform=\"translate(295.29625 294.655057)scale(0.1 -0.1)\">\r\n       <use xlink:href=\"#DejaVuSans-50\"/>\r\n       <use x=\"63.623047\" xlink:href=\"#DejaVuSans-48\"/>\r\n       <use x=\"127.246094\" xlink:href=\"#DejaVuSans-48\"/>\r\n      </g>\r\n     </g>\r\n    </g>\r\n    <g id=\"ytick_4\">\r\n     <g id=\"line2d_6\">\r\n      <g>\r\n       <use style=\"stroke:#000000;stroke-width:0.8;\" x=\"288.29625\" xlink:href=\"#m698f31bbfd\" y=\"256.515977\"/>\r\n      </g>\r\n     </g>\r\n     <g id=\"text_13\">\r\n      <!-- 400 -->\r\n      <g transform=\"translate(295.29625 260.315196)scale(0.1 -0.1)\">\r\n       <use xlink:href=\"#DejaVuSans-52\"/>\r\n       <use x=\"63.623047\" xlink:href=\"#DejaVuSans-48\"/>\r\n       <use x=\"127.246094\" xlink:href=\"#DejaVuSans-48\"/>\r\n      </g>\r\n     </g>\r\n    </g>\r\n    <g id=\"ytick_5\">\r\n     <g id=\"line2d_7\">\r\n      <g>\r\n       <use style=\"stroke:#000000;stroke-width:0.8;\" x=\"288.29625\" xlink:href=\"#m698f31bbfd\" y=\"222.176116\"/>\r\n      </g>\r\n     </g>\r\n     <g id=\"text_14\">\r\n      <!-- 600 -->\r\n      <g transform=\"translate(295.29625 225.975335)scale(0.1 -0.1)\">\r\n       <use xlink:href=\"#DejaVuSans-54\"/>\r\n       <use x=\"63.623047\" xlink:href=\"#DejaVuSans-48\"/>\r\n       <use x=\"127.246094\" xlink:href=\"#DejaVuSans-48\"/>\r\n      </g>\r\n     </g>\r\n    </g>\r\n    <g id=\"ytick_6\">\r\n     <g id=\"line2d_8\">\r\n      <g>\r\n       <use style=\"stroke:#000000;stroke-width:0.8;\" x=\"288.29625\" xlink:href=\"#m698f31bbfd\" y=\"187.836255\"/>\r\n      </g>\r\n     </g>\r\n     <g id=\"text_15\">\r\n      <!-- 800 -->\r\n      <g transform=\"translate(295.29625 191.635474)scale(0.1 -0.1)\">\r\n       <use xlink:href=\"#DejaVuSans-56\"/>\r\n       <use x=\"63.623047\" xlink:href=\"#DejaVuSans-48\"/>\r\n       <use x=\"127.246094\" xlink:href=\"#DejaVuSans-48\"/>\r\n      </g>\r\n     </g>\r\n    </g>\r\n    <g id=\"ytick_7\">\r\n     <g id=\"line2d_9\">\r\n      <g>\r\n       <use style=\"stroke:#000000;stroke-width:0.8;\" x=\"288.29625\" xlink:href=\"#m698f31bbfd\" y=\"153.496394\"/>\r\n      </g>\r\n     </g>\r\n     <g id=\"text_16\">\r\n      <!-- 1000 -->\r\n      <g transform=\"translate(295.29625 157.295613)scale(0.1 -0.1)\">\r\n       <use xlink:href=\"#DejaVuSans-49\"/>\r\n       <use x=\"63.623047\" xlink:href=\"#DejaVuSans-48\"/>\r\n       <use x=\"127.246094\" xlink:href=\"#DejaVuSans-48\"/>\r\n       <use x=\"190.869141\" xlink:href=\"#DejaVuSans-48\"/>\r\n      </g>\r\n     </g>\r\n    </g>\r\n    <g id=\"ytick_8\">\r\n     <g id=\"line2d_10\">\r\n      <g>\r\n       <use style=\"stroke:#000000;stroke-width:0.8;\" x=\"288.29625\" xlink:href=\"#m698f31bbfd\" y=\"119.156533\"/>\r\n      </g>\r\n     </g>\r\n     <g id=\"text_17\">\r\n      <!-- 1200 -->\r\n      <g transform=\"translate(295.29625 122.955752)scale(0.1 -0.1)\">\r\n       <use xlink:href=\"#DejaVuSans-49\"/>\r\n       <use x=\"63.623047\" xlink:href=\"#DejaVuSans-50\"/>\r\n       <use x=\"127.246094\" xlink:href=\"#DejaVuSans-48\"/>\r\n       <use x=\"190.869141\" xlink:href=\"#DejaVuSans-48\"/>\r\n      </g>\r\n     </g>\r\n    </g>\r\n    <g id=\"ytick_9\">\r\n     <g id=\"line2d_11\">\r\n      <g>\r\n       <use style=\"stroke:#000000;stroke-width:0.8;\" x=\"288.29625\" xlink:href=\"#m698f31bbfd\" y=\"84.816672\"/>\r\n      </g>\r\n     </g>\r\n     <g id=\"text_18\">\r\n      <!-- 1400 -->\r\n      <g transform=\"translate(295.29625 88.615891)scale(0.1 -0.1)\">\r\n       <use xlink:href=\"#DejaVuSans-49\"/>\r\n       <use x=\"63.623047\" xlink:href=\"#DejaVuSans-52\"/>\r\n       <use x=\"127.246094\" xlink:href=\"#DejaVuSans-48\"/>\r\n       <use x=\"190.869141\" xlink:href=\"#DejaVuSans-48\"/>\r\n      </g>\r\n     </g>\r\n    </g>\r\n    <g id=\"ytick_10\">\r\n     <g id=\"line2d_12\">\r\n      <g>\r\n       <use style=\"stroke:#000000;stroke-width:0.8;\" x=\"288.29625\" xlink:href=\"#m698f31bbfd\" y=\"50.476811\"/>\r\n      </g>\r\n     </g>\r\n     <g id=\"text_19\">\r\n      <!-- 1600 -->\r\n      <g transform=\"translate(295.29625 54.27603)scale(0.1 -0.1)\">\r\n       <use xlink:href=\"#DejaVuSans-49\"/>\r\n       <use x=\"63.623047\" xlink:href=\"#DejaVuSans-54\"/>\r\n       <use x=\"127.246094\" xlink:href=\"#DejaVuSans-48\"/>\r\n       <use x=\"190.869141\" xlink:href=\"#DejaVuSans-48\"/>\r\n      </g>\r\n     </g>\r\n    </g>\r\n   </g>\r\n   <g id=\"patch_4\">\r\n    <path d=\"M 274.70625 294.118125 \r\nL 274.70625 293.056406 \r\nL 274.70625 23.379844 \r\nL 274.70625 22.318125 \r\nL 288.29625 22.318125 \r\nL 288.29625 23.379844 \r\nL 288.29625 293.056406 \r\nL 288.29625 294.118125 \r\nz\r\n\" style=\"fill:none;\"/>\r\n   </g>\r\n  </g>\r\n </g>\r\n <defs>\r\n  <clipPath id=\"pe127fdbab0\">\r\n   <rect height=\"271.8\" width=\"223.2\" x=\"37.55625\" y=\"22.318125\"/>\r\n  </clipPath>\r\n  <clipPath id=\"p00eedf82b0\">\r\n   <rect height=\"271.8\" width=\"13.59\" x=\"274.70625\" y=\"22.318125\"/>\r\n  </clipPath>\r\n </defs>\r\n</svg>\r\n",
            "image/png": "[encoded data removed]"
          },
          "metadata": {
            "needs_background": "light"
          }
        }
      ]
    },
    {
      "cell_type": "markdown",
      "metadata": {
        "id": "WUjQh8vnPld9"
      },
      "source": [
        "## **4.4** Mini-Pipeline\n"
      ]
    },
    {
      "cell_type": "markdown",
      "metadata": {
        "id": "7FRX-suJOIqH"
      },
      "source": [
        "* Final tweet used to check if the model works as well as expected\r\n",
        "* **Note:** don't hesitate to input your own tweet!"
      ]
    },
    {
      "cell_type": "code",
      "metadata": {
        "id": "bpybhropPsSe"
      },
      "source": [
        "your_tweet = \"\"\"RT @AIOutsider: tune in for more amazing NLP content! \n",
        "And don't forget to visit https://AIOutsider.com ...\"\"\""
      ],
      "execution_count": 258,
      "outputs": []
    },
    {
      "cell_type": "markdown",
      "metadata": {
        "id": "8nmPPbkPOSda"
      },
      "source": [
        "* Create a `predict_tweet` function used to pre-process, transform and predict tweet sentiment"
      ]
    },
    {
      "cell_type": "code",
      "metadata": {
        "id": "Z3LKbEteQOXy"
      },
      "source": [
        "def predict_tweet(tweet):\n",
        "  processed_tweet = process_tweet(tweet)\n",
        "  transformed_tweet = tf.transform([processed_tweet])\n",
        "  prediction = model_lr_tf.predict(transformed_tweet)\n",
        "\n",
        "  if prediction == 1:\n",
        "    return \"Prediction is positive sentiment\"\n",
        "  else:\n",
        "    return \"Prediction is negative sentiment\""
      ],
      "execution_count": 256,
      "outputs": []
    },
    {
      "cell_type": "markdown",
      "metadata": {
        "id": "N9M-pJ6GOaHw"
      },
      "source": [
        "* ... Predict your tweet sentiment by using the `predict_tweet` function!"
      ]
    },
    {
      "cell_type": "code",
      "metadata": {
        "id": "YThD6uAmMFEZ"
      },
      "source": [
        "predict_tweet(your_tweet)"
      ],
      "execution_count": 259,
      "outputs": [
        {
          "output_type": "execute_result",
          "data": {
            "text/plain": [
              "'Prediction is positive sentiment'"
            ]
          },
          "metadata": {},
          "execution_count": 259
        }
      ]
    },
    {
      "cell_type": "markdown",
      "metadata": {
        "id": "T5TjajsKv7Ha"
      },
      "source": [
        "# Thank you!"
      ]
    },
    {
      "cell_type": "markdown",
      "metadata": {
        "id": "4X5JPSycSwZR"
      },
      "source": [
        "That's it for this course! I hope you enjoyed it as much as I did! Most importantly, I hope you learned some new things about Text Mining, NLP and Sentiment Analysis.\r\n",
        "\r\n",
        "See you next time!\r\n",
        "\r\n",
        "**AI_Outsider**\r\n",
        "\r\n",
        "Don't forget to visit https://AiOutsider.com for more!\r\n",
        "\r\n",
        "\r\n",
        "<img src='https://drive.google.com/uc?export=view&id=1-PExlpxdip_2t7wN9Ru8Sn_jTTxj3MlA' width=100px>"
      ]
    }
  ]
}