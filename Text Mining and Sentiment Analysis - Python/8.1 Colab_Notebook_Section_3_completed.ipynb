{
  "nbformat": 4,
  "nbformat_minor": 0,
  "metadata": {
    "colab": {
      "name": "Colab Notebook - Section 4.ipynb",
      "provenance": [],
      "collapsed_sections": [
        "DHH-1YKcIuRW",
        "0LKMid597qjL",
        "7URUz-xz9otD"
      ]
    },
    "kernelspec": {
      "name": "python387jvsc74a57bd0acf59f75cb9e70e1ca1c95d85d91fc5c10f6db84a836b13dab680cfa3d83cbbb",
      "display_name": "Python 3.8.7 64-bit"
    }
  },
  "cells": [
    {
      "cell_type": "markdown",
      "metadata": {
        "id": "hXML2GuPHxvg"
      },
      "source": [
        "<img src='https://drive.google.com/uc?export=view&id=1-PExlpxdip_2t7wN9Ru8Sn_jTTxj3MlA' width=100px>\n",
        "\n",
        "<h1>Applied Text Mining and Sentiment Analysis with Python</h1>\n",
        "\n",
        "Welcome! \n",
        "\n",
        "In this course we will discover different applications that can be made of text mining. We are going to use this knowledge to focus on a particular NLP application ... that may be a little less known: Sentiment Analysis! \n",
        "\n",
        "So, if you're ready. Let's go!\n",
        "\n",
        "**PS**: don't hesitate to visit **www.AIOutsider.com** for more content!\n",
        "\n",
        "**PS2**: sometimes, the runtime of Colab might expire. If you see an error, always make sure all the code in previous cells has run correctly. \n",
        "\n"
      ]
    },
    {
      "cell_type": "markdown",
      "metadata": {
        "id": "_H4YR66DPimn"
      },
      "source": [
        "\n",
        "<img src='https://drive.google.com/uc?export=view&id=1GYj-wj-so8jQ9-VDz1ayehgVh39Jmd4H' width=650px>\n",
        "\n",
        "# `Section 1` Dataset Overview\n"
      ]
    },
    {
      "cell_type": "markdown",
      "metadata": {
        "id": "VV1N5kiacX1Z"
      },
      "source": [
        "\r\n",
        "In this section, we are going to have a look at the dataset that we will use all along the course.\r\n",
        "\r\n",
        "***Note***: for optimal course follow-up, you will need a Google Account with the Google Drive functionnality. If you don't have a Google Account, you can create a new one (it's totally *free*) or simply download the dataset ressource and manually upload it to the current session. \r\n",
        "\r\n",
        "If you prefer not to use any Google apps for this course, it's totally fine ... You can simply download this notebook together with the dataset and use them with your favourite IDE (Pycharm / Spyder / Jupyter Notebook / ...)! No constraint here 🙃\r\n",
        "\r\n",
        "... In any case, enjoy!"
      ]
    },
    {
      "cell_type": "markdown",
      "metadata": {
        "id": "k0pwA66BACFH"
      },
      "source": [
        "<img src='https://drive.google.com/uc?export=view&id=1GYj-wj-so8jQ9-VDz1ayehgVh39Jmd4H' width=250px>\r\n",
        "\r\n",
        "## **1.1** Connect to Google Drive\r\n"
      ]
    },
    {
      "cell_type": "markdown",
      "metadata": {
        "id": "NIOIlGVUUm-n"
      },
      "source": [
        "* Initiate the connection with Google Drive"
      ]
    },
    {
      "cell_type": "code",
      "metadata": {
        "id": "cZhLkmUkO59g"
      },
      "source": [
        "# Import PyDrive and associated libraries\n",
        "# This only needs to be done once per notebook\n",
        "#from pydrive.auth import GoogleAuth\n",
        "#from pydrive.drive import GoogleDrive\n",
        "#from google.colab import auth\n",
        "#from oauth2client.client import GoogleCredentials\n",
        "\n",
        "# Authenticate and create the PyDrive client\n",
        "# This only needs to be done once per notebook\n",
        "#auth.authenticate_user()\n",
        "#gauth = GoogleAuth()\n",
        "#gauth.credentials = GoogleCredentials.get_application_default()\n",
        "#drive = GoogleDrive(gauth)"
      ],
      "execution_count": 11,
      "outputs": []
    },
    {
      "cell_type": "markdown",
      "metadata": {
        "id": "SESTuTU_T8WO"
      },
      "source": [
        "* Specify the Google Drive file ID"
      ]
    },
    {
      "cell_type": "code",
      "metadata": {
        "id": "Rxz1za_qBYRt"
      },
      "source": [
        "# Download a file based on its file ID.\n",
        "\n",
        "# A file ID looks like: laggVyWshwcyP6kEI-y_W3P8D26sz\n",
        "#file_id = 'YOUR_FILE_ID' # Check your own ID in GDrive\n",
        "#downloaded = drive.CreateFile({'id': file_id})\n",
        "\n",
        "# Save file in Colab memory\n",
        "#downloaded.GetContentFile('tweet_data.csv')  "
      ],
      "execution_count": 13,
      "outputs": []
    },
    {
      "cell_type": "markdown",
      "metadata": {
        "id": "i8IZvvYyA9sr"
      },
      "source": [
        "<img src='https://drive.google.com/uc?export=view&id=1GYj-wj-so8jQ9-VDz1ayehgVh39Jmd4H' width=250px>\r\n",
        "\r\n",
        "## **1.2** Load and analyze Dataset"
      ]
    },
    {
      "cell_type": "markdown",
      "metadata": {
        "id": "P1SvV_1MAXMq"
      },
      "source": [
        "Very useful packages for Data Analysis. Don't hesitate to visit any of those sites in case you don't get what we are doing.\n",
        "*   `Pandas`: https://pandas.pydata.org/docs/\n",
        "*   `Numpy`: https://numpy.org/doc/\n",
        "\n",
        "\n",
        "\n"
      ]
    },
    {
      "cell_type": "code",
      "metadata": {
        "id": "-K4rZaHvkJhd"
      },
      "source": [
        "import pandas as pd\n",
        "import numpy as np"
      ],
      "execution_count": 14,
      "outputs": []
    },
    {
      "cell_type": "markdown",
      "metadata": {
        "id": "rmpTLrUWAqFI"
      },
      "source": [
        "* Read Dataframe stored in Google Drive under `.csv` format"
      ]
    },
    {
      "cell_type": "code",
      "metadata": {
        "id": "BMVYdAbhkSEv"
      },
      "source": [
        "df = pd.read_csv(\"tweet_data.csv\")"
      ],
      "execution_count": 15,
      "outputs": []
    },
    {
      "cell_type": "markdown",
      "metadata": {
        "id": "nxeev34FBIJH"
      },
      "source": [
        "* Use the `sample` method to look at some random tweets present in our dataset"
      ]
    },
    {
      "cell_type": "code",
      "metadata": {
        "id": "X_ePfKnQkiHh"
      },
      "source": [
        "df.sample(10)"
      ],
      "execution_count": 16,
      "outputs": [
        {
          "output_type": "execute_result",
          "data": {
            "text/plain": [
              "           textID                                         tweet_text sentiment\n",
              "7025   1964671218  crap! tying run is on 2nd!  let's hold em' Rai...  negative\n",
              "6321   1963997926  @Senfaye Me too. I found out about it a little...  negative\n",
              "15583  1752618186                                 happy mother's day  positive\n",
              "17122  1753348555  Inspite of the spams.. I can't stop losing thi...  positive\n",
              "15912  1752797271  @laurenconrad http://twitpic.com/4wh4d - this ...  positive\n",
              "1860   1960140623                              Working!!! Still sick  negative\n",
              "2850   1961102863         Tired with a headache  me no like sunshine  negative\n",
              "3498   1961577146  @clinton_kelly Bummed about the maxi dresses! ...  positive\n",
              "18628  1753884639  Thanks to: @soultravelers3 @marcphotoshow @Wor...  positive\n",
              "6990   1964648313                   i am on BLAZE and my head hurts.  negative"
            ],
            "text/html": "<div>\n<style scoped>\n    .dataframe tbody tr th:only-of-type {\n        vertical-align: middle;\n    }\n\n    .dataframe tbody tr th {\n        vertical-align: top;\n    }\n\n    .dataframe thead th {\n        text-align: right;\n    }\n</style>\n<table border=\"1\" class=\"dataframe\">\n  <thead>\n    <tr style=\"text-align: right;\">\n      <th></th>\n      <th>textID</th>\n      <th>tweet_text</th>\n      <th>sentiment</th>\n    </tr>\n  </thead>\n  <tbody>\n    <tr>\n      <th>7025</th>\n      <td>1964671218</td>\n      <td>crap! tying run is on 2nd!  let's hold em' Rai...</td>\n      <td>negative</td>\n    </tr>\n    <tr>\n      <th>6321</th>\n      <td>1963997926</td>\n      <td>@Senfaye Me too. I found out about it a little...</td>\n      <td>negative</td>\n    </tr>\n    <tr>\n      <th>15583</th>\n      <td>1752618186</td>\n      <td>happy mother's day</td>\n      <td>positive</td>\n    </tr>\n    <tr>\n      <th>17122</th>\n      <td>1753348555</td>\n      <td>Inspite of the spams.. I can't stop losing thi...</td>\n      <td>positive</td>\n    </tr>\n    <tr>\n      <th>15912</th>\n      <td>1752797271</td>\n      <td>@laurenconrad http://twitpic.com/4wh4d - this ...</td>\n      <td>positive</td>\n    </tr>\n    <tr>\n      <th>1860</th>\n      <td>1960140623</td>\n      <td>Working!!! Still sick</td>\n      <td>negative</td>\n    </tr>\n    <tr>\n      <th>2850</th>\n      <td>1961102863</td>\n      <td>Tired with a headache  me no like sunshine</td>\n      <td>negative</td>\n    </tr>\n    <tr>\n      <th>3498</th>\n      <td>1961577146</td>\n      <td>@clinton_kelly Bummed about the maxi dresses! ...</td>\n      <td>positive</td>\n    </tr>\n    <tr>\n      <th>18628</th>\n      <td>1753884639</td>\n      <td>Thanks to: @soultravelers3 @marcphotoshow @Wor...</td>\n      <td>positive</td>\n    </tr>\n    <tr>\n      <th>6990</th>\n      <td>1964648313</td>\n      <td>i am on BLAZE and my head hurts.</td>\n      <td>negative</td>\n    </tr>\n  </tbody>\n</table>\n</div>"
          },
          "metadata": {},
          "execution_count": 16
        }
      ]
    },
    {
      "cell_type": "markdown",
      "metadata": {
        "id": "BKPIS_XzCCkO"
      },
      "source": [
        "* Check how many tweets there are in total"
      ]
    },
    {
      "cell_type": "code",
      "metadata": {
        "id": "-d8KD2RCzBMv"
      },
      "source": [
        "print(\"Number of tweets: {}\".format(len(df)))"
      ],
      "execution_count": 17,
      "outputs": [
        {
          "output_type": "stream",
          "name": "stdout",
          "text": [
            "Number of tweets: 18727\n"
          ]
        }
      ]
    },
    {
      "cell_type": "markdown",
      "metadata": {
        "id": "US5Uqnn4V1RT"
      },
      "source": [
        "* Print a tweet and its sentiment based on a tweet ID"
      ]
    },
    {
      "cell_type": "code",
      "metadata": {
        "id": "UeDUPoASy8Bh"
      },
      "source": [
        "tweet_id = 4879\n",
        "tweet = df.iloc[tweet_id]"
      ],
      "execution_count": 18,
      "outputs": []
    },
    {
      "cell_type": "code",
      "metadata": {
        "id": "nKuB8wZ4ftXE"
      },
      "source": [
        "print(\"Tweet: {}\".format(tweet[\"tweet_text\"]))\n",
        "print(\"Tweet sentiment: {}\".format(tweet[\"sentiment\"]))"
      ],
      "execution_count": 19,
      "outputs": [
        {
          "output_type": "stream",
          "name": "stdout",
          "text": [
            "Tweet: Bad Day. History Test Tommorrow. And I want to go out in the sun and play..\nTweet sentiment: negative\n"
          ]
        }
      ]
    },
    {
      "cell_type": "markdown",
      "metadata": {
        "id": "k2QDfi2dWWFK"
      },
      "source": [
        "<img src='https://drive.google.com/uc?export=view&id=1GYj-wj-so8jQ9-VDz1ayehgVh39Jmd4H' width=250px>\r\n",
        "\r\n",
        "## **1.3** Dataset Visualization"
      ]
    },
    {
      "cell_type": "markdown",
      "metadata": {
        "id": "QDpxKjeZQcKE"
      },
      "source": [
        "### <img src='https://drive.google.com/uc?export=view&id=1aAdtCrMe6SORoGAGtjOVM0UIxDFH9Thq' width=50px> **1.3.1** Matplotlib</h4>"
      ]
    },
    {
      "cell_type": "markdown",
      "metadata": {
        "id": "2DPCRFyGCuMc"
      },
      "source": [
        "* Import the `pyplot` module from the matplotlib package "
      ]
    },
    {
      "cell_type": "code",
      "metadata": {
        "id": "Fb79SIovB06O"
      },
      "source": [
        "import matplotlib.pyplot as plt"
      ],
      "execution_count": 20,
      "outputs": []
    },
    {
      "cell_type": "markdown",
      "metadata": {
        "id": "-sMh0LQRV_Da"
      },
      "source": [
        "* `pyplot` helps understanding and representing how tweets are distributed over the dataset"
      ]
    },
    {
      "cell_type": "code",
      "metadata": {
        "id": "ya7k2TcylAbp"
      },
      "source": [
        "sentiment_count = df[\"sentiment\"].value_counts()\n",
        "plt.pie(sentiment_count, labels=sentiment_count.index,\n",
        "        autopct='%1.1f%%', shadow=True, startangle=140)\n",
        "plt.show()"
      ],
      "execution_count": 21,
      "outputs": [
        {
          "output_type": "display_data",
          "data": {
            "text/plain": "<Figure size 432x288 with 1 Axes>",
            "image/svg+xml": "<?xml version=\"1.0\" encoding=\"utf-8\" standalone=\"no\"?>\r\n<!DOCTYPE svg PUBLIC \"-//W3C//DTD SVG 1.1//EN\"\r\n  \"http://www.w3.org/Graphics/SVG/1.1/DTD/svg11.dtd\">\r\n<!-- Created with matplotlib (https://matplotlib.org/) -->\r\n<svg height=\"231.84pt\" version=\"1.1\" viewBox=\"0 0 231.84 231.84\" width=\"231.84pt\" xmlns=\"http://www.w3.org/2000/svg\" xmlns:xlink=\"http://www.w3.org/1999/xlink\">\r\n <metadata>\r\n  <rdf:RDF xmlns:cc=\"http://creativecommons.org/ns#\" xmlns:dc=\"http://purl.org/dc/elements/1.1/\" xmlns:rdf=\"http://www.w3.org/1999/02/22-rdf-syntax-ns#\">\r\n   <cc:Work>\r\n    <dc:type rdf:resource=\"http://purl.org/dc/dcmitype/StillImage\"/>\r\n    <dc:date>2021-04-24T20:48:23.806478</dc:date>\r\n    <dc:format>image/svg+xml</dc:format>\r\n    <dc:creator>\r\n     <cc:Agent>\r\n      <dc:title>Matplotlib v3.3.4, https://matplotlib.org/</dc:title>\r\n     </cc:Agent>\r\n    </dc:creator>\r\n   </cc:Work>\r\n  </rdf:RDF>\r\n </metadata>\r\n <defs>\r\n  <style type=\"text/css\">*{stroke-linecap:butt;stroke-linejoin:round;}</style>\r\n </defs>\r\n <g id=\"figure_1\">\r\n  <g id=\"patch_1\">\r\n   <path d=\"M 0 231.84 \r\nL 231.84 231.84 \r\nL 231.84 0 \r\nL 0 0 \r\nz\r\n\" style=\"fill:none;\"/>\r\n  </g>\r\n  <g id=\"axes_1\">\r\n   <g id=\"patch_2\">\r\n    <path d=\"M 47.552999 61.752425 \r\nC 39.790153 71.003824 34.038596 81.771455 30.665615 93.367711 \r\nC 27.292635 104.963968 26.371589 117.13664 27.961296 129.108398 \r\nC 29.551002 141.080156 33.616886 152.590624 39.899305 162.904759 \r\nC 46.181724 173.218893 54.544041 182.11237 64.45225 189.017264 \r\nC 74.360458 195.922159 85.599063 200.688294 97.450381 203.011312 \r\nC 109.3017 205.33433 121.507975 205.163706 133.289732 202.510336 \r\nC 145.071489 199.856967 156.172483 194.778561 165.88382 187.599417 \r\nC 175.595156 180.420274 183.705622 171.296535 189.697294 160.810828 \r\nL 114.18048 117.65952 \r\nL 47.552999 61.752425 \r\nz\r\n\" style=\"fill:#092436;opacity:0.5;stroke:#092436;stroke-linejoin:miter;\"/>\r\n   </g>\r\n   <g id=\"patch_3\">\r\n    <path d=\"M 189.697294 160.810828 \r\nC 200.470802 141.956683 203.802269 119.734816 199.031296 98.550268 \r\nC 194.260324 77.365719 181.724468 58.717332 163.90871 46.301776 \r\nC 146.092952 33.886219 124.257788 28.581915 102.731602 31.440336 \r\nC 81.205415 34.298756 61.511221 45.117663 47.552999 61.752425 \r\nL 114.18048 117.65952 \r\nL 189.697294 160.810828 \r\nz\r\n\" style=\"fill:#4c2604;opacity:0.5;stroke:#4c2604;stroke-linejoin:miter;\"/>\r\n   </g>\r\n   <g id=\"patch_4\">\r\n    <path d=\"M 49.292519 60.012905 \r\nC 41.529673 69.264304 35.778116 80.031935 32.405135 91.628191 \r\nC 29.032155 103.224448 28.111109 115.39712 29.700816 127.368878 \r\nC 31.290522 139.340636 35.356406 150.851104 41.638825 161.165239 \r\nC 47.921244 171.479373 56.283561 180.37285 66.19177 187.277744 \r\nC 76.099978 194.182639 87.338583 198.948774 99.189901 201.271792 \r\nC 111.04122 203.59481 123.247495 203.424186 135.029252 200.770816 \r\nC 146.811009 198.117447 157.912003 193.039041 167.62334 185.859897 \r\nC 177.334676 178.680754 185.445142 169.557015 191.436814 159.071308 \r\nL 115.92 115.92 \r\nL 49.292519 60.012905 \r\nz\r\n\" style=\"fill:#1f77b4;\"/>\r\n   </g>\r\n   <g id=\"patch_5\">\r\n    <path d=\"M 191.436814 159.071308 \r\nC 202.210322 140.217163 205.541789 117.995296 200.770816 96.810748 \r\nC 195.999844 75.626199 183.463988 56.977812 165.64823 44.562256 \r\nC 147.832472 32.146699 125.997308 26.842395 104.471122 29.700816 \r\nC 82.944935 32.559236 63.250741 43.378143 49.292519 60.012905 \r\nL 115.92 115.92 \r\nL 191.436814 159.071308 \r\nz\r\n\" style=\"fill:#ff7f0e;\"/>\r\n   </g>\r\n   <g id=\"matplotlib.axis_1\"/>\r\n   <g id=\"matplotlib.axis_2\"/>\r\n   <g id=\"text_1\">\r\n    <!-- positive -->\r\n    <g transform=\"translate(21.993947 197.172894)scale(0.1 -0.1)\">\r\n     <defs>\r\n      <path d=\"M 18.109375 8.203125 \r\nL 18.109375 -20.796875 \r\nL 9.078125 -20.796875 \r\nL 9.078125 54.6875 \r\nL 18.109375 54.6875 \r\nL 18.109375 46.390625 \r\nQ 20.953125 51.265625 25.265625 53.625 \r\nQ 29.59375 56 35.59375 56 \r\nQ 45.5625 56 51.78125 48.09375 \r\nQ 58.015625 40.1875 58.015625 27.296875 \r\nQ 58.015625 14.40625 51.78125 6.484375 \r\nQ 45.5625 -1.421875 35.59375 -1.421875 \r\nQ 29.59375 -1.421875 25.265625 0.953125 \r\nQ 20.953125 3.328125 18.109375 8.203125 \r\nz\r\nM 48.6875 27.296875 \r\nQ 48.6875 37.203125 44.609375 42.84375 \r\nQ 40.53125 48.484375 33.40625 48.484375 \r\nQ 26.265625 48.484375 22.1875 42.84375 \r\nQ 18.109375 37.203125 18.109375 27.296875 \r\nQ 18.109375 17.390625 22.1875 11.75 \r\nQ 26.265625 6.109375 33.40625 6.109375 \r\nQ 40.53125 6.109375 44.609375 11.75 \r\nQ 48.6875 17.390625 48.6875 27.296875 \r\nz\r\n\" id=\"DejaVuSans-112\"/>\r\n      <path d=\"M 30.609375 48.390625 \r\nQ 23.390625 48.390625 19.1875 42.75 \r\nQ 14.984375 37.109375 14.984375 27.296875 \r\nQ 14.984375 17.484375 19.15625 11.84375 \r\nQ 23.34375 6.203125 30.609375 6.203125 \r\nQ 37.796875 6.203125 41.984375 11.859375 \r\nQ 46.1875 17.53125 46.1875 27.296875 \r\nQ 46.1875 37.015625 41.984375 42.703125 \r\nQ 37.796875 48.390625 30.609375 48.390625 \r\nz\r\nM 30.609375 56 \r\nQ 42.328125 56 49.015625 48.375 \r\nQ 55.71875 40.765625 55.71875 27.296875 \r\nQ 55.71875 13.875 49.015625 6.21875 \r\nQ 42.328125 -1.421875 30.609375 -1.421875 \r\nQ 18.84375 -1.421875 12.171875 6.21875 \r\nQ 5.515625 13.875 5.515625 27.296875 \r\nQ 5.515625 40.765625 12.171875 48.375 \r\nQ 18.84375 56 30.609375 56 \r\nz\r\n\" id=\"DejaVuSans-111\"/>\r\n      <path d=\"M 44.28125 53.078125 \r\nL 44.28125 44.578125 \r\nQ 40.484375 46.53125 36.375 47.5 \r\nQ 32.28125 48.484375 27.875 48.484375 \r\nQ 21.1875 48.484375 17.84375 46.4375 \r\nQ 14.5 44.390625 14.5 40.28125 \r\nQ 14.5 37.15625 16.890625 35.375 \r\nQ 19.28125 33.59375 26.515625 31.984375 \r\nL 29.59375 31.296875 \r\nQ 39.15625 29.25 43.1875 25.515625 \r\nQ 47.21875 21.78125 47.21875 15.09375 \r\nQ 47.21875 7.46875 41.1875 3.015625 \r\nQ 35.15625 -1.421875 24.609375 -1.421875 \r\nQ 20.21875 -1.421875 15.453125 -0.5625 \r\nQ 10.6875 0.296875 5.421875 2 \r\nL 5.421875 11.28125 \r\nQ 10.40625 8.6875 15.234375 7.390625 \r\nQ 20.0625 6.109375 24.8125 6.109375 \r\nQ 31.15625 6.109375 34.5625 8.28125 \r\nQ 37.984375 10.453125 37.984375 14.40625 \r\nQ 37.984375 18.0625 35.515625 20.015625 \r\nQ 33.0625 21.96875 24.703125 23.78125 \r\nL 21.578125 24.515625 \r\nQ 13.234375 26.265625 9.515625 29.90625 \r\nQ 5.8125 33.546875 5.8125 39.890625 \r\nQ 5.8125 47.609375 11.28125 51.796875 \r\nQ 16.75 56 26.8125 56 \r\nQ 31.78125 56 36.171875 55.265625 \r\nQ 40.578125 54.546875 44.28125 53.078125 \r\nz\r\n\" id=\"DejaVuSans-115\"/>\r\n      <path d=\"M 9.421875 54.6875 \r\nL 18.40625 54.6875 \r\nL 18.40625 0 \r\nL 9.421875 0 \r\nz\r\nM 9.421875 75.984375 \r\nL 18.40625 75.984375 \r\nL 18.40625 64.59375 \r\nL 9.421875 64.59375 \r\nz\r\n\" id=\"DejaVuSans-105\"/>\r\n      <path d=\"M 18.3125 70.21875 \r\nL 18.3125 54.6875 \r\nL 36.8125 54.6875 \r\nL 36.8125 47.703125 \r\nL 18.3125 47.703125 \r\nL 18.3125 18.015625 \r\nQ 18.3125 11.328125 20.140625 9.421875 \r\nQ 21.96875 7.515625 27.59375 7.515625 \r\nL 36.8125 7.515625 \r\nL 36.8125 0 \r\nL 27.59375 0 \r\nQ 17.1875 0 13.234375 3.875 \r\nQ 9.28125 7.765625 9.28125 18.015625 \r\nL 9.28125 47.703125 \r\nL 2.6875 47.703125 \r\nL 2.6875 54.6875 \r\nL 9.28125 54.6875 \r\nL 9.28125 70.21875 \r\nz\r\n\" id=\"DejaVuSans-116\"/>\r\n      <path d=\"M 2.984375 54.6875 \r\nL 12.5 54.6875 \r\nL 29.59375 8.796875 \r\nL 46.6875 54.6875 \r\nL 56.203125 54.6875 \r\nL 35.6875 0 \r\nL 23.484375 0 \r\nz\r\n\" id=\"DejaVuSans-118\"/>\r\n      <path d=\"M 56.203125 29.59375 \r\nL 56.203125 25.203125 \r\nL 14.890625 25.203125 \r\nQ 15.484375 15.921875 20.484375 11.0625 \r\nQ 25.484375 6.203125 34.421875 6.203125 \r\nQ 39.59375 6.203125 44.453125 7.46875 \r\nQ 49.3125 8.734375 54.109375 11.28125 \r\nL 54.109375 2.78125 \r\nQ 49.265625 0.734375 44.1875 -0.34375 \r\nQ 39.109375 -1.421875 33.890625 -1.421875 \r\nQ 20.796875 -1.421875 13.15625 6.1875 \r\nQ 5.515625 13.8125 5.515625 26.8125 \r\nQ 5.515625 40.234375 12.765625 48.109375 \r\nQ 20.015625 56 32.328125 56 \r\nQ 43.359375 56 49.78125 48.890625 \r\nQ 56.203125 41.796875 56.203125 29.59375 \r\nz\r\nM 47.21875 32.234375 \r\nQ 47.125 39.59375 43.09375 43.984375 \r\nQ 39.0625 48.390625 32.421875 48.390625 \r\nQ 24.90625 48.390625 20.390625 44.140625 \r\nQ 15.875 39.890625 15.1875 32.171875 \r\nz\r\n\" id=\"DejaVuSans-101\"/>\r\n     </defs>\r\n     <use xlink:href=\"#DejaVuSans-112\"/>\r\n     <use x=\"63.476562\" xlink:href=\"#DejaVuSans-111\"/>\r\n     <use x=\"124.658203\" xlink:href=\"#DejaVuSans-115\"/>\r\n     <use x=\"176.757812\" xlink:href=\"#DejaVuSans-105\"/>\r\n     <use x=\"204.541016\" xlink:href=\"#DejaVuSans-116\"/>\r\n     <use x=\"243.75\" xlink:href=\"#DejaVuSans-105\"/>\r\n     <use x=\"271.533203\" xlink:href=\"#DejaVuSans-118\"/>\r\n     <use x=\"330.712891\" xlink:href=\"#DejaVuSans-101\"/>\r\n    </g>\r\n   </g>\r\n   <g id=\"text_2\">\r\n    <!-- 52.8% -->\r\n    <g transform=\"translate(70.199468 161.494022)scale(0.1 -0.1)\">\r\n     <defs>\r\n      <path d=\"M 10.796875 72.90625 \r\nL 49.515625 72.90625 \r\nL 49.515625 64.59375 \r\nL 19.828125 64.59375 \r\nL 19.828125 46.734375 \r\nQ 21.96875 47.46875 24.109375 47.828125 \r\nQ 26.265625 48.1875 28.421875 48.1875 \r\nQ 40.625 48.1875 47.75 41.5 \r\nQ 54.890625 34.8125 54.890625 23.390625 \r\nQ 54.890625 11.625 47.5625 5.09375 \r\nQ 40.234375 -1.421875 26.90625 -1.421875 \r\nQ 22.3125 -1.421875 17.546875 -0.640625 \r\nQ 12.796875 0.140625 7.71875 1.703125 \r\nL 7.71875 11.625 \r\nQ 12.109375 9.234375 16.796875 8.0625 \r\nQ 21.484375 6.890625 26.703125 6.890625 \r\nQ 35.15625 6.890625 40.078125 11.328125 \r\nQ 45.015625 15.765625 45.015625 23.390625 \r\nQ 45.015625 31 40.078125 35.4375 \r\nQ 35.15625 39.890625 26.703125 39.890625 \r\nQ 22.75 39.890625 18.8125 39.015625 \r\nQ 14.890625 38.140625 10.796875 36.28125 \r\nz\r\n\" id=\"DejaVuSans-53\"/>\r\n      <path d=\"M 19.1875 8.296875 \r\nL 53.609375 8.296875 \r\nL 53.609375 0 \r\nL 7.328125 0 \r\nL 7.328125 8.296875 \r\nQ 12.9375 14.109375 22.625 23.890625 \r\nQ 32.328125 33.6875 34.8125 36.53125 \r\nQ 39.546875 41.84375 41.421875 45.53125 \r\nQ 43.3125 49.21875 43.3125 52.78125 \r\nQ 43.3125 58.59375 39.234375 62.25 \r\nQ 35.15625 65.921875 28.609375 65.921875 \r\nQ 23.96875 65.921875 18.8125 64.3125 \r\nQ 13.671875 62.703125 7.8125 59.421875 \r\nL 7.8125 69.390625 \r\nQ 13.765625 71.78125 18.9375 73 \r\nQ 24.125 74.21875 28.421875 74.21875 \r\nQ 39.75 74.21875 46.484375 68.546875 \r\nQ 53.21875 62.890625 53.21875 53.421875 \r\nQ 53.21875 48.921875 51.53125 44.890625 \r\nQ 49.859375 40.875 45.40625 35.40625 \r\nQ 44.1875 33.984375 37.640625 27.21875 \r\nQ 31.109375 20.453125 19.1875 8.296875 \r\nz\r\n\" id=\"DejaVuSans-50\"/>\r\n      <path d=\"M 10.6875 12.40625 \r\nL 21 12.40625 \r\nL 21 0 \r\nL 10.6875 0 \r\nz\r\n\" id=\"DejaVuSans-46\"/>\r\n      <path d=\"M 31.78125 34.625 \r\nQ 24.75 34.625 20.71875 30.859375 \r\nQ 16.703125 27.09375 16.703125 20.515625 \r\nQ 16.703125 13.921875 20.71875 10.15625 \r\nQ 24.75 6.390625 31.78125 6.390625 \r\nQ 38.8125 6.390625 42.859375 10.171875 \r\nQ 46.921875 13.96875 46.921875 20.515625 \r\nQ 46.921875 27.09375 42.890625 30.859375 \r\nQ 38.875 34.625 31.78125 34.625 \r\nz\r\nM 21.921875 38.8125 \r\nQ 15.578125 40.375 12.03125 44.71875 \r\nQ 8.5 49.078125 8.5 55.328125 \r\nQ 8.5 64.0625 14.71875 69.140625 \r\nQ 20.953125 74.21875 31.78125 74.21875 \r\nQ 42.671875 74.21875 48.875 69.140625 \r\nQ 55.078125 64.0625 55.078125 55.328125 \r\nQ 55.078125 49.078125 51.53125 44.71875 \r\nQ 48 40.375 41.703125 38.8125 \r\nQ 48.828125 37.15625 52.796875 32.3125 \r\nQ 56.78125 27.484375 56.78125 20.515625 \r\nQ 56.78125 9.90625 50.3125 4.234375 \r\nQ 43.84375 -1.421875 31.78125 -1.421875 \r\nQ 19.734375 -1.421875 13.25 4.234375 \r\nQ 6.78125 9.90625 6.78125 20.515625 \r\nQ 6.78125 27.484375 10.78125 32.3125 \r\nQ 14.796875 37.15625 21.921875 38.8125 \r\nz\r\nM 18.3125 54.390625 \r\nQ 18.3125 48.734375 21.84375 45.5625 \r\nQ 25.390625 42.390625 31.78125 42.390625 \r\nQ 38.140625 42.390625 41.71875 45.5625 \r\nQ 45.3125 48.734375 45.3125 54.390625 \r\nQ 45.3125 60.0625 41.71875 63.234375 \r\nQ 38.140625 66.40625 31.78125 66.40625 \r\nQ 25.390625 66.40625 21.84375 63.234375 \r\nQ 18.3125 60.0625 18.3125 54.390625 \r\nz\r\n\" id=\"DejaVuSans-56\"/>\r\n      <path d=\"M 72.703125 32.078125 \r\nQ 68.453125 32.078125 66.03125 28.46875 \r\nQ 63.625 24.859375 63.625 18.40625 \r\nQ 63.625 12.0625 66.03125 8.421875 \r\nQ 68.453125 4.78125 72.703125 4.78125 \r\nQ 76.859375 4.78125 79.265625 8.421875 \r\nQ 81.6875 12.0625 81.6875 18.40625 \r\nQ 81.6875 24.8125 79.265625 28.4375 \r\nQ 76.859375 32.078125 72.703125 32.078125 \r\nz\r\nM 72.703125 38.28125 \r\nQ 80.421875 38.28125 84.953125 32.90625 \r\nQ 89.5 27.546875 89.5 18.40625 \r\nQ 89.5 9.28125 84.9375 3.921875 \r\nQ 80.375 -1.421875 72.703125 -1.421875 \r\nQ 64.890625 -1.421875 60.34375 3.921875 \r\nQ 55.8125 9.28125 55.8125 18.40625 \r\nQ 55.8125 27.59375 60.375 32.9375 \r\nQ 64.9375 38.28125 72.703125 38.28125 \r\nz\r\nM 22.3125 68.015625 \r\nQ 18.109375 68.015625 15.6875 64.375 \r\nQ 13.28125 60.75 13.28125 54.390625 \r\nQ 13.28125 47.953125 15.671875 44.328125 \r\nQ 18.0625 40.71875 22.3125 40.71875 \r\nQ 26.5625 40.71875 28.96875 44.328125 \r\nQ 31.390625 47.953125 31.390625 54.390625 \r\nQ 31.390625 60.6875 28.953125 64.34375 \r\nQ 26.515625 68.015625 22.3125 68.015625 \r\nz\r\nM 66.40625 74.21875 \r\nL 74.21875 74.21875 \r\nL 28.609375 -1.421875 \r\nL 20.796875 -1.421875 \r\nz\r\nM 22.3125 74.21875 \r\nQ 30.03125 74.21875 34.609375 68.875 \r\nQ 39.203125 63.53125 39.203125 54.390625 \r\nQ 39.203125 45.171875 34.640625 39.84375 \r\nQ 30.078125 34.515625 22.3125 34.515625 \r\nQ 14.546875 34.515625 10.03125 39.859375 \r\nQ 5.515625 45.21875 5.515625 54.390625 \r\nQ 5.515625 63.484375 10.046875 68.84375 \r\nQ 14.59375 74.21875 22.3125 74.21875 \r\nz\r\n\" id=\"DejaVuSans-37\"/>\r\n     </defs>\r\n     <use xlink:href=\"#DejaVuSans-53\"/>\r\n     <use x=\"63.623047\" xlink:href=\"#DejaVuSans-50\"/>\r\n     <use x=\"127.246094\" xlink:href=\"#DejaVuSans-46\"/>\r\n     <use x=\"159.033203\" xlink:href=\"#DejaVuSans-56\"/>\r\n     <use x=\"222.65625\" xlink:href=\"#DejaVuSans-37\"/>\r\n    </g>\r\n   </g>\r\n   <g id=\"text_3\">\r\n    <!-- negative -->\r\n    <g transform=\"translate(170.621053 40.185856)scale(0.1 -0.1)\">\r\n     <defs>\r\n      <path d=\"M 54.890625 33.015625 \r\nL 54.890625 0 \r\nL 45.90625 0 \r\nL 45.90625 32.71875 \r\nQ 45.90625 40.484375 42.875 44.328125 \r\nQ 39.84375 48.1875 33.796875 48.1875 \r\nQ 26.515625 48.1875 22.3125 43.546875 \r\nQ 18.109375 38.921875 18.109375 30.90625 \r\nL 18.109375 0 \r\nL 9.078125 0 \r\nL 9.078125 54.6875 \r\nL 18.109375 54.6875 \r\nL 18.109375 46.1875 \r\nQ 21.34375 51.125 25.703125 53.5625 \r\nQ 30.078125 56 35.796875 56 \r\nQ 45.21875 56 50.046875 50.171875 \r\nQ 54.890625 44.34375 54.890625 33.015625 \r\nz\r\n\" id=\"DejaVuSans-110\"/>\r\n      <path d=\"M 45.40625 27.984375 \r\nQ 45.40625 37.75 41.375 43.109375 \r\nQ 37.359375 48.484375 30.078125 48.484375 \r\nQ 22.859375 48.484375 18.828125 43.109375 \r\nQ 14.796875 37.75 14.796875 27.984375 \r\nQ 14.796875 18.265625 18.828125 12.890625 \r\nQ 22.859375 7.515625 30.078125 7.515625 \r\nQ 37.359375 7.515625 41.375 12.890625 \r\nQ 45.40625 18.265625 45.40625 27.984375 \r\nz\r\nM 54.390625 6.78125 \r\nQ 54.390625 -7.171875 48.1875 -13.984375 \r\nQ 42 -20.796875 29.203125 -20.796875 \r\nQ 24.46875 -20.796875 20.265625 -20.09375 \r\nQ 16.0625 -19.390625 12.109375 -17.921875 \r\nL 12.109375 -9.1875 \r\nQ 16.0625 -11.328125 19.921875 -12.34375 \r\nQ 23.78125 -13.375 27.78125 -13.375 \r\nQ 36.625 -13.375 41.015625 -8.765625 \r\nQ 45.40625 -4.15625 45.40625 5.171875 \r\nL 45.40625 9.625 \r\nQ 42.625 4.78125 38.28125 2.390625 \r\nQ 33.9375 0 27.875 0 \r\nQ 17.828125 0 11.671875 7.65625 \r\nQ 5.515625 15.328125 5.515625 27.984375 \r\nQ 5.515625 40.671875 11.671875 48.328125 \r\nQ 17.828125 56 27.875 56 \r\nQ 33.9375 56 38.28125 53.609375 \r\nQ 42.625 51.21875 45.40625 46.390625 \r\nL 45.40625 54.6875 \r\nL 54.390625 54.6875 \r\nz\r\n\" id=\"DejaVuSans-103\"/>\r\n      <path d=\"M 34.28125 27.484375 \r\nQ 23.390625 27.484375 19.1875 25 \r\nQ 14.984375 22.515625 14.984375 16.5 \r\nQ 14.984375 11.71875 18.140625 8.90625 \r\nQ 21.296875 6.109375 26.703125 6.109375 \r\nQ 34.1875 6.109375 38.703125 11.40625 \r\nQ 43.21875 16.703125 43.21875 25.484375 \r\nL 43.21875 27.484375 \r\nz\r\nM 52.203125 31.203125 \r\nL 52.203125 0 \r\nL 43.21875 0 \r\nL 43.21875 8.296875 \r\nQ 40.140625 3.328125 35.546875 0.953125 \r\nQ 30.953125 -1.421875 24.3125 -1.421875 \r\nQ 15.921875 -1.421875 10.953125 3.296875 \r\nQ 6 8.015625 6 15.921875 \r\nQ 6 25.140625 12.171875 29.828125 \r\nQ 18.359375 34.515625 30.609375 34.515625 \r\nL 43.21875 34.515625 \r\nL 43.21875 35.40625 \r\nQ 43.21875 41.609375 39.140625 45 \r\nQ 35.0625 48.390625 27.6875 48.390625 \r\nQ 23 48.390625 18.546875 47.265625 \r\nQ 14.109375 46.140625 10.015625 43.890625 \r\nL 10.015625 52.203125 \r\nQ 14.9375 54.109375 19.578125 55.046875 \r\nQ 24.21875 56 28.609375 56 \r\nQ 40.484375 56 46.34375 49.84375 \r\nQ 52.203125 43.703125 52.203125 31.203125 \r\nz\r\n\" id=\"DejaVuSans-97\"/>\r\n     </defs>\r\n     <use xlink:href=\"#DejaVuSans-110\"/>\r\n     <use x=\"63.378906\" xlink:href=\"#DejaVuSans-101\"/>\r\n     <use x=\"124.902344\" xlink:href=\"#DejaVuSans-103\"/>\r\n     <use x=\"188.378906\" xlink:href=\"#DejaVuSans-97\"/>\r\n     <use x=\"249.658203\" xlink:href=\"#DejaVuSans-116\"/>\r\n     <use x=\"288.867188\" xlink:href=\"#DejaVuSans-105\"/>\r\n     <use x=\"316.650391\" xlink:href=\"#DejaVuSans-118\"/>\r\n     <use x=\"375.830078\" xlink:href=\"#DejaVuSans-101\"/>\r\n    </g>\r\n   </g>\r\n   <g id=\"text_4\">\r\n    <!-- 47.2% -->\r\n    <g transform=\"translate(129.873344 75.864728)scale(0.1 -0.1)\">\r\n     <defs>\r\n      <path d=\"M 37.796875 64.3125 \r\nL 12.890625 25.390625 \r\nL 37.796875 25.390625 \r\nz\r\nM 35.203125 72.90625 \r\nL 47.609375 72.90625 \r\nL 47.609375 25.390625 \r\nL 58.015625 25.390625 \r\nL 58.015625 17.1875 \r\nL 47.609375 17.1875 \r\nL 47.609375 0 \r\nL 37.796875 0 \r\nL 37.796875 17.1875 \r\nL 4.890625 17.1875 \r\nL 4.890625 26.703125 \r\nz\r\n\" id=\"DejaVuSans-52\"/>\r\n      <path d=\"M 8.203125 72.90625 \r\nL 55.078125 72.90625 \r\nL 55.078125 68.703125 \r\nL 28.609375 0 \r\nL 18.3125 0 \r\nL 43.21875 64.59375 \r\nL 8.203125 64.59375 \r\nz\r\n\" id=\"DejaVuSans-55\"/>\r\n     </defs>\r\n     <use xlink:href=\"#DejaVuSans-52\"/>\r\n     <use x=\"63.623047\" xlink:href=\"#DejaVuSans-55\"/>\r\n     <use x=\"127.246094\" xlink:href=\"#DejaVuSans-46\"/>\r\n     <use x=\"159.033203\" xlink:href=\"#DejaVuSans-50\"/>\r\n     <use x=\"222.65625\" xlink:href=\"#DejaVuSans-37\"/>\r\n    </g>\r\n   </g>\r\n  </g>\r\n </g>\r\n</svg>\r\n",
            "image/png": "[encoded data removed]"
          },
          "metadata": {}
        }
      ]
    },
    {
      "cell_type": "markdown",
      "metadata": {
        "id": "xFvGFDbFRZGK"
      },
      "source": [
        "* Print the count of positive and negative tweets"
      ]
    },
    {
      "cell_type": "code",
      "metadata": {
        "id": "MlwWqCohC87z"
      },
      "source": [
        "print(\"Number of + tweets: {}\".format(df[df[\"sentiment\"]==\"positive\"].count()[0]))\n",
        "print(\"Number of - tweets: {}\".format(df[df[\"sentiment\"]==\"negative\"].count()[0]))"
      ],
      "execution_count": 22,
      "outputs": [
        {
          "output_type": "stream",
          "name": "stdout",
          "text": [
            "Number of + tweets: 9897\nNumber of - tweets: 8830\n"
          ]
        }
      ]
    },
    {
      "cell_type": "markdown",
      "metadata": {
        "id": "jcXAMS4bQjGM"
      },
      "source": [
        "### <img src='https://drive.google.com/uc?export=view&id=1aAdtCrMe6SORoGAGtjOVM0UIxDFH9Thq' width=50px> **1.3.2** Wordclouds"
      ]
    },
    {
      "cell_type": "markdown",
      "metadata": {
        "id": "vTIV2ElsBhZk"
      },
      "source": [
        "* The `Wordclouds` package is very useful to get a quick overview of most recurrent words in the text corpus"
      ]
    },
    {
      "cell_type": "code",
      "metadata": {
        "id": "LiME9k4uBxix"
      },
      "source": [
        "from wordcloud import WordCloud"
      ],
      "execution_count": 23,
      "outputs": []
    },
    {
      "cell_type": "markdown",
      "metadata": {
        "id": "Stf9-UtnNloU"
      },
      "source": [
        "* What are the words most often present in positive tweets?"
      ]
    },
    {
      "cell_type": "code",
      "metadata": {
        "id": "fW3YNWHwwYdP"
      },
      "source": [
        "pos_tweets = df[df[\"sentiment\"]==\"positive\"]\n",
        "txt = \" \".join(tweet.lower() for tweet in pos_tweets[\"tweet_text\"])\n",
        "wordcloud = WordCloud().generate(txt)\n",
        "plt.imshow(wordcloud, interpolation=\"bilinear\")\n",
        "plt.axis(\"off\")\n",
        "plt.show()"
      ],
      "execution_count": 24,
      "outputs": [
        {
          "output_type": "display_data",
          "data": {
            "text/plain": "<Figure size 432x288 with 1 Axes>",
            "image/svg+xml": "<?xml version=\"1.0\" encoding=\"utf-8\" standalone=\"no\"?>\r\n<!DOCTYPE svg PUBLIC \"-//W3C//DTD SVG 1.1//EN\"\r\n  \"http://www.w3.org/Graphics/SVG/1.1/DTD/svg11.dtd\">\r\n<!-- Created with matplotlib (https://matplotlib.org/) -->\r\n<svg height=\"181.8pt\" version=\"1.1\" viewBox=\"0 0 349.2 181.8\" width=\"349.2pt\" xmlns=\"http://www.w3.org/2000/svg\" xmlns:xlink=\"http://www.w3.org/1999/xlink\">\r\n <metadata>\r\n  <rdf:RDF xmlns:cc=\"http://creativecommons.org/ns#\" xmlns:dc=\"http://purl.org/dc/elements/1.1/\" xmlns:rdf=\"http://www.w3.org/1999/02/22-rdf-syntax-ns#\">\r\n   <cc:Work>\r\n    <dc:type rdf:resource=\"http://purl.org/dc/dcmitype/StillImage\"/>\r\n    <dc:date>2021-04-24T20:48:26.526321</dc:date>\r\n    <dc:format>image/svg+xml</dc:format>\r\n    <dc:creator>\r\n     <cc:Agent>\r\n      <dc:title>Matplotlib v3.3.4, https://matplotlib.org/</dc:title>\r\n     </cc:Agent>\r\n    </dc:creator>\r\n   </cc:Work>\r\n  </rdf:RDF>\r\n </metadata>\r\n <defs>\r\n  <style type=\"text/css\">*{stroke-linecap:butt;stroke-linejoin:round;}</style>\r\n </defs>\r\n <g id=\"figure_1\">\r\n  <g id=\"patch_1\">\r\n   <path d=\"M 0 181.8 \r\nL 349.2 181.8 \r\nL 349.2 0 \r\nL 0 0 \r\nz\r\n\" style=\"fill:none;\"/>\r\n  </g>\r\n  <g id=\"axes_1\">\r\n   <g clip-path=\"url(#pbe9f6dda06)\">\r\n    <image height=\"168\" id=\"image6444050184\" transform=\"scale(1 -1)translate(0 -168)\" width=\"335\" x=\"7.2\" xlink:href=\"data:image/png;base64,\r\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\" y=\"-6.6\"/>\r\n   </g>\r\n  </g>\r\n </g>\r\n <defs>\r\n  <clipPath id=\"pbe9f6dda06\">\r\n   <rect height=\"167.4\" width=\"334.8\" x=\"7.2\" y=\"7.2\"/>\r\n  </clipPath>\r\n </defs>\r\n</svg>\r\n",
            "image/png": "[encoded data removed]"
          },
          "metadata": {
            "needs_background": "light"
          }
        }
      ]
    },
    {
      "cell_type": "markdown",
      "metadata": {
        "id": "K7FsFmH6NqWy"
      },
      "source": [
        "* ... and in negative tweets?"
      ]
    },
    {
      "cell_type": "code",
      "metadata": {
        "id": "MbHSPX8jE2Jk"
      },
      "source": [
        "neg_tweets = df[df[\"sentiment\"]==\"negative\"]\n",
        "txt = \" \".join(tweet.lower() for tweet in neg_tweets[\"tweet_text\"])\n",
        "wordcloud = WordCloud().generate(txt)\n",
        "plt.imshow(wordcloud, interpolation=\"bilinear\")\n",
        "plt.axis(\"off\")\n",
        "plt.show()"
      ],
      "execution_count": 25,
      "outputs": [
        {
          "output_type": "display_data",
          "data": {
            "text/plain": "<Figure size 432x288 with 1 Axes>",
            "image/svg+xml": "<?xml version=\"1.0\" encoding=\"utf-8\" standalone=\"no\"?>\r\n<!DOCTYPE svg PUBLIC \"-//W3C//DTD SVG 1.1//EN\"\r\n  \"http://www.w3.org/Graphics/SVG/1.1/DTD/svg11.dtd\">\r\n<!-- Created with matplotlib (https://matplotlib.org/) -->\r\n<svg height=\"181.8pt\" version=\"1.1\" viewBox=\"0 0 349.2 181.8\" width=\"349.2pt\" xmlns=\"http://www.w3.org/2000/svg\" xmlns:xlink=\"http://www.w3.org/1999/xlink\">\r\n <metadata>\r\n  <rdf:RDF xmlns:cc=\"http://creativecommons.org/ns#\" xmlns:dc=\"http://purl.org/dc/elements/1.1/\" xmlns:rdf=\"http://www.w3.org/1999/02/22-rdf-syntax-ns#\">\r\n   <cc:Work>\r\n    <dc:type rdf:resource=\"http://purl.org/dc/dcmitype/StillImage\"/>\r\n    <dc:date>2021-04-24T20:48:27.624644</dc:date>\r\n    <dc:format>image/svg+xml</dc:format>\r\n    <dc:creator>\r\n     <cc:Agent>\r\n      <dc:title>Matplotlib v3.3.4, https://matplotlib.org/</dc:title>\r\n     </cc:Agent>\r\n    </dc:creator>\r\n   </cc:Work>\r\n  </rdf:RDF>\r\n </metadata>\r\n <defs>\r\n  <style type=\"text/css\">*{stroke-linecap:butt;stroke-linejoin:round;}</style>\r\n </defs>\r\n <g id=\"figure_1\">\r\n  <g id=\"patch_1\">\r\n   <path d=\"M 0 181.8 \r\nL 349.2 181.8 \r\nL 349.2 0 \r\nL 0 0 \r\nz\r\n\" style=\"fill:none;\"/>\r\n  </g>\r\n  <g id=\"axes_1\">\r\n   <g clip-path=\"url(#p2e6375db92)\">\r\n    <image height=\"168\" id=\"image018a5a4401\" transform=\"scale(1 -1)translate(0 -168)\" width=\"335\" x=\"7.2\" xlink:href=\"data:image/png;base64,\r\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\" y=\"-6.6\"/>\r\n   </g>\r\n  </g>\r\n </g>\r\n <defs>\r\n  <clipPath id=\"p2e6375db92\">\r\n   <rect height=\"167.4\" width=\"334.8\" x=\"7.2\" y=\"7.2\"/>\r\n  </clipPath>\r\n </defs>\r\n</svg>\r\n",
            "image/png": "[encoded data removed]"
          },
          "metadata": {
            "needs_background": "light"
          }
        }
      ]
    },
    {
      "cell_type": "markdown",
      "metadata": {
        "id": "RlYJCg2vSuA_"
      },
      "source": [
        "That's it for this section! \r\n",
        "\r\n",
        "See you in `Section 2` where we will talk about Text Normalization and get our hands dirty with some real tweets!\r\n",
        "\r\n",
        "\r\n",
        "<img src='https://drive.google.com/uc?export=view&id=1-PExlpxdip_2t7wN9Ru8Sn_jTTxj3MlA' width=100px>"
      ]
    },
    {
      "cell_type": "markdown",
      "metadata": {
        "id": "WIFAbVfhMvKS"
      },
      "source": [
        "<img src='https://drive.google.com/uc?export=view&id=1GYj-wj-so8jQ9-VDz1ayehgVh39Jmd4H' width=650px>\n",
        "\n",
        "# `SECTION 2` Text Normalization"
      ]
    },
    {
      "cell_type": "markdown",
      "metadata": {
        "id": "56HdmPCjMjls"
      },
      "source": [
        "As this section relies quite a lot on `REGEX`, you might want to have a look at the following website: https://regexr.com/"
      ]
    },
    {
      "cell_type": "markdown",
      "metadata": {
        "id": "8D9TW-jHaDMY"
      },
      "source": [
        "* Import `regex` package"
      ]
    },
    {
      "cell_type": "code",
      "metadata": {
        "id": "qefx0Ad1RFHy"
      },
      "source": [
        "import re"
      ],
      "execution_count": 26,
      "outputs": []
    },
    {
      "cell_type": "markdown",
      "metadata": {
        "id": "TKiiuRQpdxjm"
      },
      "source": [
        "<img src='https://drive.google.com/uc?export=view&id=1GYj-wj-so8jQ9-VDz1ayehgVh39Jmd4H' width=250px>\r\n",
        "\r\n",
        "## **2.1** Twitter features"
      ]
    },
    {
      "cell_type": "markdown",
      "metadata": {
        "id": "Z1N3d1u49GUt"
      },
      "source": [
        "* Example of a *random* tweet that can be found on Twitter"
      ]
    },
    {
      "cell_type": "code",
      "metadata": {
        "id": "O8qaWEnedWB1"
      },
      "source": [
        "tweet = \"RT @AIOutsider I love this! 👍 https://AIOutsider.com #NLP #Fun\""
      ],
      "execution_count": 27,
      "outputs": []
    },
    {
      "cell_type": "markdown",
      "metadata": {
        "id": "NaKqk-_gFQQN"
      },
      "source": [
        "### <img src='https://drive.google.com/uc?export=view&id=1aAdtCrMe6SORoGAGtjOVM0UIxDFH9Thq' width=50px> **2.1.1** RT Tag"
      ]
    },
    {
      "cell_type": "markdown",
      "metadata": {
        "id": "DHH-1YKcIuRW"
      },
      "source": [
        "#### Need a hint?"
      ]
    },
    {
      "cell_type": "markdown",
      "metadata": {
        "id": "2ZVeoDQK6kvr"
      },
      "source": [
        "* `R` : match \"R\" character\r\n",
        "* `T` : match \"T\" character\r\n",
        "* `\\s` : match any whitespace character\r\n",
        "* `+` : match one or more of the preceding tokens"
      ]
    },
    {
      "cell_type": "markdown",
      "metadata": {
        "id": "uMrR3STEfdrA"
      },
      "source": [
        "#### Handle the RT Tag"
      ]
    },
    {
      "cell_type": "markdown",
      "metadata": {
        "id": "c5R1W_qw3AZs"
      },
      "source": [
        "* Replace occurences of `RT` with a default value"
      ]
    },
    {
      "cell_type": "code",
      "metadata": {
        "id": "RMe1sJQZWBon"
      },
      "source": [
        "def replace_retweet(tweet, default_replace=\"\"):\n",
        "  tweet = re.sub('RT\\s+', default_replace, tweet)\n",
        "  return tweet"
      ],
      "execution_count": 28,
      "outputs": []
    },
    {
      "cell_type": "code",
      "metadata": {
        "id": "AIFwuvPQI5L4"
      },
      "source": [
        "print(\"Processed tweet: {}\".format(replace_retweet(tweet)))"
      ],
      "execution_count": 29,
      "outputs": [
        {
          "output_type": "stream",
          "name": "stdout",
          "text": [
            "Processed tweet: @AIOutsider I love this! 👍 https://AIOutsider.com #NLP #Fun\n"
          ]
        }
      ]
    },
    {
      "cell_type": "markdown",
      "metadata": {
        "id": "uY48gGm2fgtV"
      },
      "source": [
        "### <img src='https://drive.google.com/uc?export=view&id=1aAdtCrMe6SORoGAGtjOVM0UIxDFH9Thq' width=50px> **2.1.2** @User Tag"
      ]
    },
    {
      "cell_type": "markdown",
      "metadata": {
        "id": "0LKMid597qjL"
      },
      "source": [
        "#### Need a hint?\r\n",
        "\r\n",
        "\r\n"
      ]
    },
    {
      "cell_type": "markdown",
      "metadata": {
        "id": "Uc0j6Mfw8Tcw"
      },
      "source": [
        "* `\\B` : match any position that is not a word boundary\r\n",
        "* `@` : match \"@\" character\r\n",
        "* `\\w` : match any word character \r\n",
        "* `+` : match one or more of the preceding tokens"
      ]
    },
    {
      "cell_type": "markdown",
      "metadata": {
        "id": "Yjn3WP56Dc-O"
      },
      "source": [
        "#### Handle the User Tag"
      ]
    },
    {
      "cell_type": "markdown",
      "metadata": {
        "id": "2DMdteLL3Sq-"
      },
      "source": [
        "* Replace `@_Someone_` with a default user tag"
      ]
    },
    {
      "cell_type": "code",
      "metadata": {
        "id": "ODnCCX1ueIwO"
      },
      "source": [
        "def replace_user(tweet, default_replace=\"twitteruser\"):\n",
        "  tweet = re.sub('\\B@\\w+', default_replace, tweet)\n",
        "  return tweet"
      ],
      "execution_count": 30,
      "outputs": []
    },
    {
      "cell_type": "code",
      "metadata": {
        "id": "wgSircywI8fG"
      },
      "source": [
        "print(\"Processed tweet: {}\".format(replace_user(tweet)))"
      ],
      "execution_count": 31,
      "outputs": [
        {
          "output_type": "stream",
          "name": "stdout",
          "text": [
            "Processed tweet: RT twitteruser I love this! 👍 https://AIOutsider.com #NLP #Fun\n"
          ]
        }
      ]
    },
    {
      "cell_type": "markdown",
      "metadata": {
        "id": "QsbZqz2Cn1dB"
      },
      "source": [
        "### <img src='https://drive.google.com/uc?export=view&id=1aAdtCrMe6SORoGAGtjOVM0UIxDFH9Thq' width=50px> **2.1.3** Emojis"
      ]
    },
    {
      "cell_type": "markdown",
      "metadata": {
        "id": "xE5IZIx5Gkx4"
      },
      "source": [
        "* Install the `emoji` package"
      ]
    },
    {
      "cell_type": "code",
      "metadata": {
        "id": "PDtbHjDiiaw7"
      },
      "source": [
        "pip install emoji --upgrade"
      ],
      "execution_count": 32,
      "outputs": [
        {
          "output_type": "stream",
          "name": "stdout",
          "text": [
            "Requirement already up-to-date: emoji in c:\\users\\s10y01r\\appdata\\local\\programs\\python\\python38\\lib\\site-packages (1.2.0)\n",
            "Note: you may need to restart the kernel to use updated packages.\n",
            "WARNING: You are using pip version 20.2.3; however, version 21.0.1 is available.\n",
            "You should consider upgrading via the 'C:\\Users\\S10y01r\\AppData\\Local\\Programs\\Python\\Python38\\python.exe -m pip install --upgrade pip' command.\n"
          ]
        }
      ]
    },
    {
      "cell_type": "markdown",
      "metadata": {
        "id": "MTSClFfP3iXm"
      },
      "source": [
        "* Import the installed package"
      ]
    },
    {
      "cell_type": "code",
      "metadata": {
        "id": "T8Ctx6FUiVyc"
      },
      "source": [
        "import emoji"
      ],
      "execution_count": 33,
      "outputs": []
    },
    {
      "cell_type": "markdown",
      "metadata": {
        "id": "6pZp0rcEGtH8"
      },
      "source": [
        "* Replace emojis with a meaningful text"
      ]
    },
    {
      "cell_type": "code",
      "metadata": {
        "id": "hqHXnwRZn2Ey"
      },
      "source": [
        "def demojize(tweet):\n",
        "  tweet = emoji.demojize(tweet)\n",
        "  return tweet"
      ],
      "execution_count": 34,
      "outputs": []
    },
    {
      "cell_type": "code",
      "metadata": {
        "id": "NeuCWELwx2bb"
      },
      "source": [
        "print(\"Processed tweet: {}\".format(demojize(tweet)))"
      ],
      "execution_count": 35,
      "outputs": [
        {
          "output_type": "stream",
          "name": "stdout",
          "text": [
            "Processed tweet: RT @AIOutsider I love this! :thumbs_up: https://AIOutsider.com #NLP #Fun\n"
          ]
        }
      ]
    },
    {
      "cell_type": "markdown",
      "metadata": {
        "id": "oSYc3ax5fk5m"
      },
      "source": [
        "### <img src='https://drive.google.com/uc?export=view&id=1aAdtCrMe6SORoGAGtjOVM0UIxDFH9Thq' width=50px> **2.1.4** URL"
      ]
    },
    {
      "cell_type": "markdown",
      "metadata": {
        "id": "7URUz-xz9otD"
      },
      "source": [
        "#### Need a hint?"
      ]
    },
    {
      "cell_type": "markdown",
      "metadata": {
        "id": "MKaWmYHL4bmw"
      },
      "source": [
        "* `(http|https)` : capturing group matching either http or https\r\n",
        "* `:` : match the \":\" character\r\n",
        "* `\\/` : match the \"/\" charachter\r\n",
        "* `\\S` : match any character that is not whitespace\r\n",
        "* `+` : match one or more of the preceding tokens"
      ]
    },
    {
      "cell_type": "markdown",
      "metadata": {
        "id": "1Y1_YIxt5z3d"
      },
      "source": [
        "#### Handle the URL"
      ]
    },
    {
      "cell_type": "markdown",
      "metadata": {
        "id": "gp8E1W-e4QDT"
      },
      "source": [
        "* Replace occurences of `http://` or `https://` with a default value"
      ]
    },
    {
      "cell_type": "code",
      "metadata": {
        "id": "0Vq3d5VcfdCc"
      },
      "source": [
        "def replace_url(tweet, default_replace=\"\"):\n",
        "  tweet = re.sub('(http|https):\\/\\/\\S+', default_replace, tweet)\n",
        "  return tweet"
      ],
      "execution_count": 36,
      "outputs": []
    },
    {
      "cell_type": "code",
      "metadata": {
        "id": "YN2c4pJIy8pX"
      },
      "source": [
        "print(\"Processed tweet: {}\".format(replace_url(tweet)))"
      ],
      "execution_count": 37,
      "outputs": [
        {
          "output_type": "stream",
          "name": "stdout",
          "text": [
            "Processed tweet: RT @AIOutsider I love this! 👍  #NLP #Fun\n"
          ]
        }
      ]
    },
    {
      "cell_type": "markdown",
      "metadata": {
        "id": "piKIdmGCimZ1"
      },
      "source": [
        "### <img src='https://drive.google.com/uc?export=view&id=1aAdtCrMe6SORoGAGtjOVM0UIxDFH9Thq' width=50px> **2.1.5** Hashtags"
      ]
    },
    {
      "cell_type": "markdown",
      "metadata": {
        "id": "yePSPCRy4WWk"
      },
      "source": [
        "* Replace occurences of `#_something_` with a default value"
      ]
    },
    {
      "cell_type": "code",
      "metadata": {
        "id": "yI76Ve3lg3WZ"
      },
      "source": [
        "def replace_hashtag(tweet, default_replace=\"\"):\n",
        "  tweet = re.sub('#+', default_replace, tweet)\n",
        "  return tweet"
      ],
      "execution_count": 38,
      "outputs": []
    },
    {
      "cell_type": "code",
      "metadata": {
        "id": "1xlMKyD4y-Xg"
      },
      "source": [
        "print(\"Processed tweet: {}\".format(replace_hashtag(tweet)))"
      ],
      "execution_count": 39,
      "outputs": [
        {
          "output_type": "stream",
          "name": "stdout",
          "text": [
            "Processed tweet: RT @AIOutsider I love this! 👍 https://AIOutsider.com NLP Fun\n"
          ]
        }
      ]
    },
    {
      "cell_type": "markdown",
      "metadata": {
        "id": "77D-JqISVFvi"
      },
      "source": [
        "<img src='https://drive.google.com/uc?export=view&id=1GYj-wj-so8jQ9-VDz1ayehgVh39Jmd4H' width=250px>\n",
        "\n",
        "## **2.2** Word Features\n",
        "\n",
        "Let's now have a look at some other features that are not really Twitter-dependant"
      ]
    },
    {
      "cell_type": "code",
      "metadata": {
        "id": "xw18TAaFhOMH"
      },
      "source": [
        "tweet = \"LOOOOOOOOK at this ... I'd like it so much!\""
      ],
      "execution_count": 40,
      "outputs": []
    },
    {
      "cell_type": "markdown",
      "metadata": {
        "id": "VmN1OTYBi8r3"
      },
      "source": [
        "### <img src='https://drive.google.com/uc?export=view&id=1aAdtCrMe6SORoGAGtjOVM0UIxDFH9Thq' width=50px> **2.2.1** Remove upper capitalization"
      ]
    },
    {
      "cell_type": "markdown",
      "metadata": {
        "id": "noY_ATKH4hcz"
      },
      "source": [
        "* Lower case each letter in a specific tweet"
      ]
    },
    {
      "cell_type": "code",
      "metadata": {
        "id": "NXCITDNeQtnE"
      },
      "source": [
        "def to_lowercase(tweet):\n",
        "  tweet = tweet.lower()\n",
        "  return tweet"
      ],
      "execution_count": 41,
      "outputs": []
    },
    {
      "cell_type": "code",
      "metadata": {
        "id": "-Roo8SHo23vw"
      },
      "source": [
        "print(\"Processed tweet: {}\".format(to_lowercase(tweet)))"
      ],
      "execution_count": 42,
      "outputs": [
        {
          "output_type": "stream",
          "name": "stdout",
          "text": [
            "Processed tweet: looooooook at this ... i'd like it so much!\n"
          ]
        }
      ]
    },
    {
      "cell_type": "markdown",
      "metadata": {
        "id": "fNlZxI4ZS-dX"
      },
      "source": [
        "### <img src='https://drive.google.com/uc?export=view&id=1aAdtCrMe6SORoGAGtjOVM0UIxDFH9Thq' width=50px> **2.2.2** Word repetition"
      ]
    },
    {
      "cell_type": "markdown",
      "metadata": {
        "id": "sKkeEGaX4m40"
      },
      "source": [
        "* Replace word repetition with a single occurence (\"oooooo\" becomes \"oo\")"
      ]
    },
    {
      "cell_type": "code",
      "metadata": {
        "id": "USLuHaaiS9xm"
      },
      "source": [
        "def word_repetition(tweet):\n",
        "  tweet = re.sub(r'(.)\\1+', r'\\1\\1', tweet)\n",
        "  return tweet"
      ],
      "execution_count": 43,
      "outputs": []
    },
    {
      "cell_type": "code",
      "metadata": {
        "id": "CkWh38hH5qyY"
      },
      "source": [
        "print(\"Processed tweet: {}\".format(word_repetition(tweet)))"
      ],
      "execution_count": 44,
      "outputs": [
        {
          "output_type": "stream",
          "name": "stdout",
          "text": [
            "Processed tweet: LOOK at this .. I'd like it so much!\n"
          ]
        }
      ]
    },
    {
      "cell_type": "markdown",
      "metadata": {
        "id": "Qli_4tnBpcr4"
      },
      "source": [
        "### <img src='https://drive.google.com/uc?export=view&id=1aAdtCrMe6SORoGAGtjOVM0UIxDFH9Thq' width=50px> **2.2.3** Punctuation repetition"
      ]
    },
    {
      "cell_type": "markdown",
      "metadata": {
        "id": "vQN36n3w4wNA"
      },
      "source": [
        "* Replace punctuation repetition with a single occurence (\"!!!!!\" becomes \"!\")"
      ]
    },
    {
      "cell_type": "code",
      "metadata": {
        "id": "w_awIiJ_ngo7"
      },
      "source": [
        "def punct_repetition(tweet, default_replace=\"\"):\n",
        "  tweet = re.sub(r'[\\?\\.\\!]+(?=[\\?\\.\\!])', default_replace, tweet)\n",
        "  return tweet"
      ],
      "execution_count": 45,
      "outputs": []
    },
    {
      "cell_type": "code",
      "metadata": {
        "id": "jfRfogEe5str"
      },
      "source": [
        "print(\"Processed tweet: {}\".format(punct_repetition(tweet)))"
      ],
      "execution_count": 46,
      "outputs": [
        {
          "output_type": "stream",
          "name": "stdout",
          "text": [
            "Processed tweet: LOOOOOOOOK at this . I'd like it so much!\n"
          ]
        }
      ]
    },
    {
      "cell_type": "markdown",
      "metadata": {
        "id": "mpwgMqIxi6G9"
      },
      "source": [
        "### <img src='https://drive.google.com/uc?export=view&id=1aAdtCrMe6SORoGAGtjOVM0UIxDFH9Thq' width=50px> **2.2.4** Word contraction"
      ]
    },
    {
      "cell_type": "markdown",
      "metadata": {
        "id": "Adsu8A-TGFT5"
      },
      "source": [
        "* Install the `contractions` package"
      ]
    },
    {
      "cell_type": "code",
      "metadata": {
        "id": "wO2Gle7Ey360"
      },
      "source": [
        "pip install contractions"
      ],
      "execution_count": 47,
      "outputs": [
        {
          "output_type": "stream",
          "name": "stdout",
          "text": [
            "Requirement already satisfied: contractions in c:\\users\\s10y01r\\appdata\\local\\programs\\python\\python38\\lib\\site-packages (0.0.48)\n",
            "Requirement already satisfied: textsearch>=0.0.21 in c:\\users\\s10y01r\\appdata\\local\\programs\\python\\python38\\lib\\site-packages (from contractions) (0.0.21)\n",
            "Requirement already satisfied: anyascii in c:\\users\\s10y01r\\appdata\\local\\programs\\python\\python38\\lib\\site-packages (from textsearch>=0.0.21->contractions) (0.2.0)\n",
            "Requirement already satisfied: pyahocorasick in c:\\users\\s10y01r\\appdata\\local\\programs\\python\\python38\\lib\\site-packages (from textsearch>=0.0.21->contractions) (1.4.2)\n",
            "Note: you may need to restart the kernel to use updated packages.\n",
            "WARNING: You are using pip version 20.2.3; however, version 21.0.1 is available.\n",
            "You should consider upgrading via the 'C:\\Users\\S10y01r\\AppData\\Local\\Programs\\Python\\Python38\\python.exe -m pip install --upgrade pip' command.\n"
          ]
        }
      ]
    },
    {
      "cell_type": "markdown",
      "metadata": {
        "id": "EOPWYcd146Rl"
      },
      "source": [
        "* Import the installed package"
      ]
    },
    {
      "cell_type": "code",
      "metadata": {
        "id": "UdkPTEZryzJC"
      },
      "source": [
        "import contractions"
      ],
      "execution_count": 48,
      "outputs": []
    },
    {
      "cell_type": "markdown",
      "metadata": {
        "id": "tDGBT323GE1v"
      },
      "source": [
        "* Use `contractions_dict` to list most common contractions"
      ]
    },
    {
      "cell_type": "code",
      "metadata": {
        "id": "4DwhVxKs1QL_"
      },
      "source": [
        "print(contractions.contractions_dict)"
      ],
      "execution_count": 49,
      "outputs": [
        {
          "output_type": "stream",
          "name": "stdout",
          "text": [
            "{\"I'm\": 'I am', \"I'm'a\": 'I am about to', \"I'm'o\": 'I am going to', \"I've\": 'I have', \"I'll\": 'I will', \"I'll've\": 'I will have', \"I'd\": 'I would', \"I'd've\": 'I would have', 'Whatcha': 'What are you', \"amn't\": 'am not', \"ain't\": 'are not', \"aren't\": 'are not', \"'cause\": 'because', \"can't\": 'can not', \"can't've\": 'can not have', \"could've\": 'could have', \"couldn't\": 'could not', \"couldn't've\": 'could not have', \"daren't\": 'dare not', \"daresn't\": 'dare not', \"dasn't\": 'dare not', \"didn't\": 'did not', 'didn’t': 'did not', \"don't\": 'do not', 'don’t': 'do not', \"doesn't\": 'does not', \"e'er\": 'ever', \"everyone's\": 'everyone is', 'finna': 'fixing to', 'gimme': 'give me', \"gon't\": 'go not', 'gonna': 'going to', 'gotta': 'got to', \"hadn't\": 'had not', \"hadn't've\": 'had not have', \"hasn't\": 'has not', \"haven't\": 'have not', \"he've\": 'he have', \"he's\": 'he is', \"he'll\": 'he will', \"he'll've\": 'he will have', \"he'd\": 'he would', \"he'd've\": 'he would have', \"here's\": 'here is', \"how're\": 'how are', \"how'd\": 'how did', \"how'd'y\": 'how do you', \"how's\": 'how is', \"how'll\": 'how will', \"isn't\": 'is not', \"it's\": 'it is', \"'tis\": 'it is', \"'twas\": 'it was', \"it'll\": 'it will', \"it'll've\": 'it will have', \"it'd\": 'it would', \"it'd've\": 'it would have', 'kinda': 'kind of', \"let's\": 'let us', 'luv': 'love', \"ma'am\": 'madam', \"may've\": 'may have', \"mayn't\": 'may not', \"might've\": 'might have', \"mightn't\": 'might not', \"mightn't've\": 'might not have', \"must've\": 'must have', \"mustn't\": 'must not', \"mustn't've\": 'must not have', \"needn't\": 'need not', \"needn't've\": 'need not have', \"ne'er\": 'never', \"o'\": 'of', \"o'clock\": 'of the clock', \"ol'\": 'old', \"oughtn't\": 'ought not', \"oughtn't've\": 'ought not have', \"o'er\": 'over', \"shan't\": 'shall not', \"sha'n't\": 'shall not', \"shalln't\": 'shall not', \"shan't've\": 'shall not have', \"she's\": 'she is', \"she'll\": 'she will', \"she'd\": 'she would', \"she'd've\": 'she would have', \"should've\": 'should have', \"shouldn't\": 'should not', \"shouldn't've\": 'should not have', \"so've\": 'so have', \"so's\": 'so is', \"somebody's\": 'somebody is', \"someone's\": 'someone is', \"something's\": 'something is', 'sux': 'sucks', \"that're\": 'that are', \"that's\": 'that is', \"that'll\": 'that will', \"that'd\": 'that would', \"that'd've\": 'that would have', 'em': 'them', \"there're\": 'there are', \"there's\": 'there is', \"there'll\": 'there will', \"there'd\": 'there would', \"there'd've\": 'there would have', \"these're\": 'these are', \"they're\": 'they are', \"they've\": 'they have', \"they'll\": 'they will', \"they'll've\": 'they will have', \"they'd\": 'they would', \"they'd've\": 'they would have', \"this's\": 'this is', \"those're\": 'those are', \"to've\": 'to have', 'wanna': 'want to', \"wasn't\": 'was not', \"we're\": 'we are', \"we've\": 'we have', \"we'll\": 'we will', \"we'll've\": 'we will have', \"we'd\": 'we would', \"we'd've\": 'we would have', \"weren't\": 'were not', \"what're\": 'what are', \"what'd\": 'what did', \"what've\": 'what have', \"what's\": 'what is', \"what'll\": 'what will', \"what'll've\": 'what will have', \"when've\": 'when have', \"when's\": 'when is', \"where're\": 'where are', \"where'd\": 'where did', \"where've\": 'where have', \"where's\": 'where is', \"which's\": 'which is', \"who're\": 'who are', \"who've\": 'who have', \"who's\": 'who is', \"who'll\": 'who will', \"who'll've\": 'who will have', \"who'd\": 'who would', \"who'd've\": 'who would have', \"why're\": 'why are', \"why'd\": 'why did', \"why've\": 'why have', \"why's\": 'why is', \"will've\": 'will have', \"won't\": 'will not', \"won't've\": 'will not have', \"would've\": 'would have', \"wouldn't\": 'would not', \"wouldn't've\": 'would not have', \"y'all\": 'you all', \"y'all're\": 'you all are', \"y'all've\": 'you all have', \"y'all'd\": 'you all would', \"y'all'd've\": 'you all would have', \"you're\": 'you are', \"you've\": 'you have', \"you'll've\": 'you shall have', \"you'll\": 'you will', \"you'd\": 'you would', \"you'd've\": 'you would have', 'jan.': 'january', 'feb.': 'february', 'mar.': 'march', 'apr.': 'april', 'jun.': 'june', 'jul.': 'july', 'aug.': 'august', 'sep.': 'september', 'oct.': 'october', 'nov.': 'november', 'dec.': 'december', 'I’m': 'I am', 'I’m’a': 'I am about to', 'I’m’o': 'I am going to', 'I’ve': 'I have', 'I’ll': 'I will', 'I’ll’ve': 'I will have', 'I’d': 'I would', 'I’d’ve': 'I would have', 'amn’t': 'am not', 'ain’t': 'are not', 'aren’t': 'are not', '’cause': 'because', 'can’t': 'can not', 'can’t’ve': 'can not have', 'could’ve': 'could have', 'couldn’t': 'could not', 'couldn’t’ve': 'could not have', 'daren’t': 'dare not', 'daresn’t': 'dare not', 'dasn’t': 'dare not', 'doesn’t': 'does not', 'e’er': 'ever', 'everyone’s': 'everyone is', 'gon’t': 'go not', 'hadn’t': 'had not', 'hadn’t’ve': 'had not have', 'hasn’t': 'has not', 'haven’t': 'have not', 'he’ve': 'he have', 'he’s': 'he is', 'he’ll': 'he will', 'he’ll’ve': 'he will have', 'he’d': 'he would', 'he’d’ve': 'he would have', 'here’s': 'here is', 'how’re': 'how are', 'how’d': 'how did', 'how’d’y': 'how do you', 'how’s': 'how is', 'how’ll': 'how will', 'isn’t': 'is not', 'it’s': 'it is', '’tis': 'it is', '’twas': 'it was', 'it’ll': 'it will', 'it’ll’ve': 'it will have', 'it’d': 'it would', 'it’d’ve': 'it would have', 'let’s': 'let us', 'ma’am': 'madam', 'may’ve': 'may have', 'mayn’t': 'may not', 'might’ve': 'might have', 'mightn’t': 'might not', 'mightn’t’ve': 'might not have', 'must’ve': 'must have', 'mustn’t': 'must not', 'mustn’t’ve': 'must not have', 'needn’t': 'need not', 'needn’t’ve': 'need not have', 'ne’er': 'never', 'o’': 'of', 'o’clock': 'of the clock', 'ol’': 'old', 'oughtn’t': 'ought not', 'oughtn’t’ve': 'ought not have', 'o’er': 'over', 'shan’t': 'shall not', 'sha’n’t': 'shall not', 'shalln’t': 'shall not', 'shan’t’ve': 'shall not have', 'she’s': 'she is', 'she’ll': 'she will', 'she’d': 'she would', 'she’d’ve': 'she would have', 'should’ve': 'should have', 'shouldn’t': 'should not', 'shouldn’t’ve': 'should not have', 'so’ve': 'so have', 'so’s': 'so is', 'somebody’s': 'somebody is', 'someone’s': 'someone is', 'something’s': 'something is', 'that’re': 'that are', 'that’s': 'that is', 'that’ll': 'that will', 'that’d': 'that would', 'that’d’ve': 'that would have', 'there’re': 'there are', 'there’s': 'there is', 'there’ll': 'there will', 'there’d': 'there would', 'there’d’ve': 'there would have', 'these’re': 'these are', 'they’re': 'they are', 'they’ve': 'they have', 'they’ll': 'they will', 'they’ll’ve': 'they will have', 'they’d': 'they would', 'they’d’ve': 'they would have', 'this’s': 'this is', 'those’re': 'those are', 'to’ve': 'to have', 'wasn’t': 'was not', 'we’re': 'we are', 'we’ve': 'we have', 'we’ll': 'we will', 'we’ll’ve': 'we will have', 'we’d': 'we would', 'we’d’ve': 'we would have', 'weren’t': 'were not', 'what’re': 'what are', 'what’d': 'what did', 'what’ve': 'what have', 'what’s': 'what is', 'what’ll': 'what will', 'what’ll’ve': 'what will have', 'when’ve': 'when have', 'when’s': 'when is', 'where’re': 'where are', 'where’d': 'where did', 'where’ve': 'where have', 'where’s': 'where is', 'which’s': 'which is', 'who’re': 'who are', 'who’ve': 'who have', 'who’s': 'who is', 'who’ll': 'who will', 'who’ll’ve': 'who will have', 'who’d': 'who would', 'who’d’ve': 'who would have', 'why’re': 'why are', 'why’d': 'why did', 'why’ve': 'why have', 'why’s': 'why is', 'will’ve': 'will have', 'won’t': 'will not', 'won’t’ve': 'will not have', 'would’ve': 'would have', 'wouldn’t': 'would not', 'wouldn’t’ve': 'would not have', 'y’all': 'you all', 'y’all’re': 'you all are', 'y’all’ve': 'you all have', 'y’all’d': 'you all would', 'y’all’d’ve': 'you all would have', 'you’re': 'you are', 'you’ve': 'you have', 'you’ll’ve': 'you shall have', 'you’ll': 'you will', 'you’d': 'you would', 'you’d’ve': 'you would have'}\n"
          ]
        }
      ]
    },
    {
      "cell_type": "markdown",
      "metadata": {
        "id": "7lho1c8I5D2B"
      },
      "source": [
        "* Create a `_fix_contractions` function used to replace contractions with their extended forms by using the contractions dictionnary"
      ]
    },
    {
      "cell_type": "code",
      "metadata": {
        "id": "A1xj5UXbVspq"
      },
      "source": [
        "def _fix_contractions(tweet):\n",
        "  for k, v in contractions.contractions_dict.items():\n",
        "    tweet = tweet.replace(k, v)\n",
        "  return tweet"
      ],
      "execution_count": 50,
      "outputs": []
    },
    {
      "cell_type": "code",
      "metadata": {
        "id": "2MDFOXKTccRV"
      },
      "source": [
        "print(\"Processed tweet: {}\".format(_fix_contractions(tweet)))"
      ],
      "execution_count": 51,
      "outputs": [
        {
          "output_type": "stream",
          "name": "stdout",
          "text": [
            "Processed tweet: LOOOOOOOOK at this ... I would like it so much!\n"
          ]
        }
      ]
    },
    {
      "cell_type": "markdown",
      "metadata": {
        "id": "GQijW6z65IzJ"
      },
      "source": [
        "* Create a `_fix_contractions` function used to replace contractions with their extended forms by using the contractions package"
      ]
    },
    {
      "cell_type": "code",
      "metadata": {
        "id": "MP6atIK-VsNw"
      },
      "source": [
        "def fix_contractions(tweet):\n",
        "  tweet = contractions.fix(tweet)\n",
        "  return tweet"
      ],
      "execution_count": 52,
      "outputs": []
    },
    {
      "cell_type": "code",
      "metadata": {
        "id": "MqQ60KaMc0CS"
      },
      "source": [
        "print(\"Processed tweet: {}\".format(fix_contractions(tweet)))"
      ],
      "execution_count": 53,
      "outputs": [
        {
          "output_type": "stream",
          "name": "stdout",
          "text": [
            "Processed tweet: LOOOOOOOOK at this ... I would like it so much!\n"
          ]
        }
      ]
    },
    {
      "cell_type": "markdown",
      "metadata": {
        "id": "V7Qnxa-_2q6x"
      },
      "source": [
        "<img src='https://drive.google.com/uc?export=view&id=1GYj-wj-so8jQ9-VDz1ayehgVh39Jmd4H' width=250px>\r\n",
        "\r\n",
        "## **2.3** Tokenization"
      ]
    },
    {
      "cell_type": "markdown",
      "metadata": {
        "id": "eECnMHD_89wz"
      },
      "source": [
        "More information about NLTK? Head over to: https://www.nltk.org\r\n",
        "\r\n",
        "* Install the `NLTK` package"
      ]
    },
    {
      "cell_type": "code",
      "metadata": {
        "id": "SnKD-MkZ2kNd"
      },
      "source": [
        "pip install nltk"
      ],
      "execution_count": 54,
      "outputs": [
        {
          "output_type": "stream",
          "name": "stdout",
          "text": [
            "Requirement already satisfied: nltk in c:\\users\\s10y01r\\appdata\\local\\programs\\python\\python38\\lib\\site-packages (3.6.2)\n",
            "Requirement already satisfied: click in c:\\users\\s10y01r\\appdata\\local\\programs\\python\\python38\\lib\\site-packages (from nltk) (7.1.2)\n",
            "Requirement already satisfied: regex in c:\\users\\s10y01r\\appdata\\local\\programs\\python\\python38\\lib\\site-packages (from nltk) (2021.4.4)\n",
            "Requirement already satisfied: tqdm in c:\\users\\s10y01r\\appdata\\local\\programs\\python\\python38\\lib\\site-packages (from nltk) (4.60.0)\n",
            "Requirement already satisfied: joblib in c:\\users\\s10y01r\\appdata\\local\\programs\\python\\python38\\lib\\site-packages (from nltk) (1.0.1)\n",
            "Note: you may need to restart the kernel to use updated packages.\n",
            "WARNING: You are using pip version 20.2.3; however, version 21.0.1 is available.\n",
            "You should consider upgrading via the 'C:\\Users\\S10y01r\\AppData\\Local\\Programs\\Python\\Python38\\python.exe -m pip install --upgrade pip' command.\n"
          ]
        }
      ]
    },
    {
      "cell_type": "markdown",
      "metadata": {
        "id": "v8KTZgynDSTg"
      },
      "source": [
        "### <img src='https://drive.google.com/uc?export=view&id=1aAdtCrMe6SORoGAGtjOVM0UIxDFH9Thq' width=50px> **2.3.1** Easy Tokenization"
      ]
    },
    {
      "cell_type": "markdown",
      "metadata": {
        "id": "mO_sTCV19KA5"
      },
      "source": [
        "* Import `NLTK`\r\n",
        "* Import the `word_tokenize` module from NLTK \r\n",
        "* Download the `Punkt` tokenizer model from NLTK"
      ]
    },
    {
      "cell_type": "code",
      "metadata": {
        "id": "-6SVKvVP4NDL"
      },
      "source": [
        "import nltk\n",
        "from nltk.tokenize import word_tokenize\n",
        "nltk.download('punkt')"
      ],
      "execution_count": 55,
      "outputs": [
        {
          "output_type": "stream",
          "name": "stderr",
          "text": [
            "[nltk_data] Downloading package punkt to\n[nltk_data]     C:\\Users\\S10y01r\\AppData\\Roaming\\nltk_data...\n[nltk_data]   Package punkt is already up-to-date!\n"
          ]
        },
        {
          "output_type": "execute_result",
          "data": {
            "text/plain": [
              "True"
            ]
          },
          "metadata": {},
          "execution_count": 55
        }
      ]
    },
    {
      "cell_type": "markdown",
      "metadata": {
        "id": "YCtkPkWIEXdl"
      },
      "source": [
        "* Simple tweet to be tokenized"
      ]
    },
    {
      "cell_type": "code",
      "metadata": {
        "id": "hJLYCxJztrXo"
      },
      "source": [
        "tweet = \"These are 5 different words!\""
      ],
      "execution_count": 56,
      "outputs": []
    },
    {
      "cell_type": "markdown",
      "metadata": {
        "id": "zo0nDxqUDy6s"
      },
      "source": [
        "* Create a `tokenize()` function that takes a tweet as input and returns a list of tokens"
      ]
    },
    {
      "cell_type": "code",
      "metadata": {
        "id": "MthNx7ou4OnW"
      },
      "source": [
        "def tokenize(tweet):\n",
        "  tokens = word_tokenize(tweet)\n",
        "  return tokens"
      ],
      "execution_count": 57,
      "outputs": []
    },
    {
      "cell_type": "markdown",
      "metadata": {
        "id": "DoiTPGFNDqAf"
      },
      "source": [
        "* Use the `tokenize()` function to print the tokenized version of a tweet"
      ]
    },
    {
      "cell_type": "code",
      "metadata": {
        "id": "oPdJeqcRCYT2"
      },
      "source": [
        "print(type(tokenize(tweet)))\n",
        "print(\"Tweet tokens: {}\".format(tokenize(tweet)))"
      ],
      "execution_count": 58,
      "outputs": [
        {
          "output_type": "stream",
          "name": "stdout",
          "text": [
            "<class 'list'>\nTweet tokens: ['These', 'are', '5', 'different', 'words', '!']\n"
          ]
        }
      ]
    },
    {
      "cell_type": "markdown",
      "metadata": {
        "id": "s3Ha_2Dtjl6X"
      },
      "source": [
        "That's it for the easy method! You will now see there is more you can do about it."
      ]
    },
    {
      "cell_type": "markdown",
      "metadata": {
        "id": "Z8KrFT2jDaVj"
      },
      "source": [
        "### <img src='https://drive.google.com/uc?export=view&id=1aAdtCrMe6SORoGAGtjOVM0UIxDFH9Thq' width=50px> **2.3.2** Custom Tokenization"
      ]
    },
    {
      "cell_type": "markdown",
      "metadata": {
        "id": "SLPhIt14FfVc"
      },
      "source": [
        "* Import the `string` package "
      ]
    },
    {
      "cell_type": "code",
      "metadata": {
        "id": "baAGSohY5PcV"
      },
      "source": [
        "import string"
      ],
      "execution_count": 59,
      "outputs": []
    },
    {
      "cell_type": "markdown",
      "metadata": {
        "id": "iTwnZoFYTrpN"
      },
      "source": [
        "* Retrieve english punctuation signs by using the `string` package"
      ]
    },
    {
      "cell_type": "code",
      "metadata": {
        "id": "Yc6naeSUkNs8"
      },
      "source": [
        "print(string.punctuation)"
      ],
      "execution_count": 60,
      "outputs": [
        {
          "output_type": "stream",
          "name": "stdout",
          "text": [
            "!\"#$%&'()*+,-./:;<=>?@[\\]^_`{|}~\n"
          ]
        }
      ]
    },
    {
      "cell_type": "markdown",
      "metadata": {
        "id": "07KM4_kdUFsP"
      },
      "source": [
        "* Import the `stopwords` module from NLTK\r\n",
        "* Download `stopwords` data from NLTK"
      ]
    },
    {
      "cell_type": "code",
      "metadata": {
        "id": "2MBBQJDeQSi4"
      },
      "source": [
        "from nltk.corpus import stopwords\n",
        "nltk.download('stopwords')"
      ],
      "execution_count": 61,
      "outputs": [
        {
          "output_type": "stream",
          "name": "stderr",
          "text": [
            "[nltk_data] Downloading package stopwords to\n[nltk_data]     C:\\Users\\S10y01r\\AppData\\Roaming\\nltk_data...\n[nltk_data]   Package stopwords is already up-to-date!\n"
          ]
        },
        {
          "output_type": "execute_result",
          "data": {
            "text/plain": [
              "True"
            ]
          },
          "metadata": {},
          "execution_count": 61
        }
      ]
    },
    {
      "cell_type": "markdown",
      "metadata": {
        "id": "MXQ8YUNj5-B1"
      },
      "source": [
        "* Create a set of english stopwords"
      ]
    },
    {
      "cell_type": "code",
      "metadata": {
        "id": "NZXqXrG42qMk"
      },
      "source": [
        "stop_words = set(stopwords.words('english'))\n",
        "print(stop_words)"
      ],
      "execution_count": 62,
      "outputs": [
        {
          "output_type": "stream",
          "name": "stdout",
          "text": [
            "{'to', 'once', 'does', 'aren', \"shouldn't\", \"weren't\", 'each', 'nor', 'll', \"shan't\", 'or', 'same', 'down', 'mightn', 'myself', 'over', 'been', \"aren't\", 'who', 'during', 'wasn', 'now', 'you', 'will', 'ain', \"hasn't\", 'we', 'hadn', 'further', 'were', 'for', 'didn', 'ourselves', 'a', 'mustn', 'wouldn', 'm', \"didn't\", 'o', 'below', 'theirs', 'which', 'their', 'do', 'being', 'own', 'needn', 'them', 'itself', 'with', 'won', 'haven', 'her', 'did', 'only', 'too', \"you'd\", \"should've\", 'between', \"haven't\", 'himself', 'out', 'these', \"she's\", 't', 'yourselves', \"isn't\", 'ours', 'i', 'into', 'that', 'should', 'until', 'yours', \"won't\", 'not', 'was', 'ma', 'hers', \"hadn't\", 'how', 'under', 'than', 'both', 'just', 'as', \"mightn't\", 'me', 'he', 'are', 'some', \"you'll\", 'be', 'doing', 'from', 'am', 'of', 'few', 'isn', 'couldn', 'and', 'is', 'then', 'no', \"doesn't\", 'had', 'shan', 'so', \"couldn't\", 'in', \"you've\", 'herself', 'before', 'above', 'our', 'all', 'again', 'those', 'having', 'themselves', 'here', 'him', 'while', 'most', 'other', 'more', 's', 'it', 'at', 'she', 're', 'y', 've', 'any', 'but', 'my', 'yourself', 'don', 'about', 'have', 'what', 'weren', \"needn't\", 'your', 'if', 'where', \"wouldn't\", 'doesn', 'they', \"you're\", 'up', 'off', 'd', \"wasn't\", 'this', 'his', 'because', \"that'll\", 'very', \"mustn't\", 'after', \"it's\", 'can', 'hasn', 'on', 'such', 'when', 'why', 'by', 'through', 'an', 'against', 'there', \"don't\", 'the', 'has', 'its', 'shouldn', 'whom'}\n"
          ]
        }
      ]
    },
    {
      "cell_type": "markdown",
      "metadata": {
        "id": "t9G7T6Wg6A5F"
      },
      "source": [
        "* Remove some stopwords from the set"
      ]
    },
    {
      "cell_type": "code",
      "metadata": {
        "id": "Kcgpw29wmec4"
      },
      "source": [
        "stop_words.discard('not')\n",
        "print(stop_words)"
      ],
      "execution_count": 63,
      "outputs": [
        {
          "output_type": "stream",
          "name": "stdout",
          "text": [
            "{'to', 'once', 'does', 'aren', \"shouldn't\", \"weren't\", 'each', 'nor', 'll', \"shan't\", 'or', 'same', 'down', 'mightn', 'myself', 'over', 'been', \"aren't\", 'who', 'during', 'wasn', 'now', 'you', 'will', 'ain', \"hasn't\", 'we', 'hadn', 'further', 'were', 'for', 'didn', 'ourselves', 'a', 'mustn', 'wouldn', 'm', \"didn't\", 'o', 'below', 'theirs', 'which', 'their', 'do', 'being', 'own', 'needn', 'them', 'itself', 'with', 'won', 'haven', 'her', 'did', 'only', 'too', \"you'd\", \"should've\", 'between', \"haven't\", 'himself', 'out', 'these', \"she's\", 't', 'yourselves', \"isn't\", 'ours', 'i', 'into', 'that', 'should', 'until', 'yours', \"won't\", 'was', 'ma', 'hers', \"hadn't\", 'how', 'under', 'than', 'both', 'just', 'as', \"mightn't\", 'me', 'he', 'are', 'some', \"you'll\", 'be', 'doing', 'from', 'am', 'of', 'few', 'isn', 'couldn', 'and', 'is', 'then', 'no', \"doesn't\", 'had', 'shan', 'so', \"couldn't\", 'in', \"you've\", 'herself', 'before', 'above', 'our', 'all', 'again', 'those', 'having', 'themselves', 'here', 'him', 'while', 'most', 'other', 'more', 's', 'it', 'at', 'she', 're', 'y', 've', 'any', 'but', 'my', 'yourself', 'don', 'about', 'have', 'what', 'weren', \"needn't\", 'your', 'if', 'where', \"wouldn't\", 'doesn', 'they', \"you're\", 'up', 'off', 'd', \"wasn't\", 'this', 'his', 'because', \"that'll\", 'very', \"mustn't\", 'after', \"it's\", 'can', 'hasn', 'on', 'such', 'when', 'why', 'by', 'through', 'an', 'against', 'there', \"don't\", 'the', 'has', 'its', 'shouldn', 'whom'}\n"
          ]
        }
      ]
    },
    {
      "cell_type": "markdown",
      "metadata": {
        "id": "b4LLuBGH6Dy5"
      },
      "source": [
        "* Create a `custom_tokenize` function"
      ]
    },
    {
      "cell_type": "code",
      "metadata": {
        "id": "b6cZbaTB5Yr7"
      },
      "source": [
        "def custom_tokenize(tweet,\n",
        "                    keep_punct = False,\n",
        "                    keep_alnum = False,\n",
        "                    keep_stop = False):\n",
        "  \n",
        "  token_list = word_tokenize(tweet)\n",
        "\n",
        "  if not keep_punct:\n",
        "    token_list = [token for token in token_list\n",
        "                  if token not in string.punctuation]\n",
        "\n",
        "  if not keep_alnum:\n",
        "    token_list = [token for token in token_list if token.isalpha()]\n",
        "  \n",
        "  if not keep_stop:\n",
        "    stop_words = set(stopwords.words('english'))\n",
        "    stop_words.discard('not')\n",
        "    token_list = [token for token in token_list if not token in stop_words]\n",
        "\n",
        "  return token_list"
      ],
      "execution_count": 64,
      "outputs": []
    },
    {
      "cell_type": "markdown",
      "metadata": {
        "id": "_z5OuuxY6L9b"
      },
      "source": [
        "* Test the function with a particular tweet"
      ]
    },
    {
      "cell_type": "code",
      "metadata": {
        "id": "6LDWcJ99E6Z2"
      },
      "source": [
        "tweet = \"these are 5 different words!\""
      ],
      "execution_count": 65,
      "outputs": []
    },
    {
      "cell_type": "code",
      "metadata": {
        "id": "gXyaftGrEvkC"
      },
      "source": [
        "print(\"Tweet tokens: {}\".format(custom_tokenize(tweet, \n",
        "                                                keep_punct=True, \n",
        "                                                keep_alnum=True, \n",
        "                                                keep_stop=True)))\n",
        "print(\"Tweet tokens: {}\".format(custom_tokenize(tweet, keep_stop=True)))\n",
        "print(\"Tweet tokens: {}\".format(custom_tokenize(tweet, keep_alnum=True)))"
      ],
      "execution_count": 66,
      "outputs": [
        {
          "output_type": "stream",
          "name": "stdout",
          "text": [
            "Tweet tokens: ['these', 'are', '5', 'different', 'words', '!']\nTweet tokens: ['these', 'are', 'different', 'words']\nTweet tokens: ['5', 'different', 'words']\n"
          ]
        }
      ]
    },
    {
      "cell_type": "markdown",
      "metadata": {
        "id": "DIY4CKCcTyEo"
      },
      "source": [
        "<img src='https://drive.google.com/uc?export=view&id=1GYj-wj-so8jQ9-VDz1ayehgVh39Jmd4H' width=250px>\r\n",
        "\r\n",
        "## **2.4** Stemming"
      ]
    },
    {
      "cell_type": "markdown",
      "metadata": {
        "id": "OoizpNg82nK_"
      },
      "source": [
        "More information about `NLTK.stem`? Head over to: https://www.nltk.org/api/nltk.stem.html\r\n",
        "\r\n",
        "* Import different libraries and modules used for stemming"
      ]
    },
    {
      "cell_type": "code",
      "metadata": {
        "id": "5oaU_cd_Wz0u"
      },
      "source": [
        "from nltk.stem import PorterStemmer\n",
        "from nltk.stem import LancasterStemmer\n",
        "from nltk.stem.snowball import SnowballStemmer"
      ],
      "execution_count": 67,
      "outputs": []
    },
    {
      "cell_type": "markdown",
      "metadata": {
        "id": "lb9Joc083a2i"
      },
      "source": [
        "* List of tokens to stem (remember that we stem tokens and not entire sentences)"
      ]
    },
    {
      "cell_type": "code",
      "metadata": {
        "id": "sTraXL0yy1Up"
      },
      "source": [
        "tokens = [\"manager\", \"management\", \"managing\"]"
      ],
      "execution_count": 68,
      "outputs": []
    },
    {
      "cell_type": "markdown",
      "metadata": {
        "id": "v35wUbss5fnI"
      },
      "source": [
        "* Stemmers can be defined by directly using NLTK"
      ]
    },
    {
      "cell_type": "code",
      "metadata": {
        "id": "o8QDL-05tMj5"
      },
      "source": [
        "porter_stemmer = PorterStemmer()\n",
        "lancaster_stemmer = LancasterStemmer()\n",
        "snoball_stemmer = SnowballStemmer('english')"
      ],
      "execution_count": 69,
      "outputs": []
    },
    {
      "cell_type": "markdown",
      "metadata": {
        "id": "_5j_BLPU5ptp"
      },
      "source": [
        "* Create a `stem_tokens` function that takes the list of tokens as input and returns a list of stemmed tokens"
      ]
    },
    {
      "cell_type": "code",
      "metadata": {
        "id": "CetNdOeRTyjj"
      },
      "source": [
        "def stem_tokens(tokens, stemmer):\n",
        "  token_list = []\n",
        "  for token in tokens:\n",
        "    token_list.append(stemmer.stem(token))\n",
        "  return token_list"
      ],
      "execution_count": 70,
      "outputs": []
    },
    {
      "cell_type": "markdown",
      "metadata": {
        "id": "swSFzfQI6PQ3"
      },
      "source": [
        "* Print the different results and compare the stemmed tokens"
      ]
    },
    {
      "cell_type": "code",
      "metadata": {
        "id": "YDZqSc43tKjI"
      },
      "source": [
        "print(\"Porter stems: {}\".format(stem_tokens(tokens, porter_stemmer)))\n",
        "print(\"Lancaster stems: {}\".format(stem_tokens(tokens, lancaster_stemmer)))\n",
        "print(\"Snowball stems: {}\".format(stem_tokens(tokens, snoball_stemmer)))"
      ],
      "execution_count": 71,
      "outputs": [
        {
          "output_type": "stream",
          "name": "stdout",
          "text": [
            "Porter stems: ['manag', 'manag', 'manag']\nLancaster stems: ['man', 'man', 'man']\nSnowball stems: ['manag', 'manag', 'manag']\n"
          ]
        }
      ]
    },
    {
      "cell_type": "markdown",
      "metadata": {
        "id": "H102rFNu6VzW"
      },
      "source": [
        "* Check over-stemming and under-stemming"
      ]
    },
    {
      "cell_type": "code",
      "metadata": {
        "id": "Y9beBm8O0Gpp"
      },
      "source": [
        "tokens = [\"international\", \"companies\", \"had\", \"interns\"]"
      ],
      "execution_count": 72,
      "outputs": []
    },
    {
      "cell_type": "code",
      "metadata": {
        "id": "pGGhCVph1VDp"
      },
      "source": [
        "print(\"Porter stems: {}\".format(stem_tokens(tokens, porter_stemmer)))\n",
        "print(\"Lancaster stems: {}\".format(stem_tokens(tokens, lancaster_stemmer)))\n",
        "print(\"Snowball stems: {}\".format(stem_tokens(tokens, snoball_stemmer)))"
      ],
      "execution_count": 73,
      "outputs": [
        {
          "output_type": "stream",
          "name": "stdout",
          "text": [
            "Porter stems: ['intern', 'compani', 'had', 'intern']\nLancaster stems: ['intern', 'company', 'had', 'intern']\nSnowball stems: ['intern', 'compani', 'had', 'intern']\n"
          ]
        }
      ]
    },
    {
      "cell_type": "markdown",
      "metadata": {
        "id": "62AsuQu6UIEn"
      },
      "source": [
        "<img src='https://drive.google.com/uc?export=view&id=1GYj-wj-so8jQ9-VDz1ayehgVh39Jmd4H' width=250px>\n",
        "\n",
        "## **2.5** Lemmatization"
      ]
    },
    {
      "cell_type": "markdown",
      "metadata": {
        "id": "Xk8rZjBEzcaI"
      },
      "source": [
        "More information about WordNet? Head over to https://wordnet.princeton.edu/\r\n",
        "\r\n",
        "* Import different libraries and modules used for lemmatization"
      ]
    },
    {
      "cell_type": "code",
      "metadata": {
        "id": "lUdQlhSQUL7T"
      },
      "source": [
        "from nltk.stem import WordNetLemmatizer\n",
        "from nltk.corpus import wordnet\n",
        "nltk.download('wordnet')"
      ],
      "execution_count": 74,
      "outputs": [
        {
          "output_type": "stream",
          "name": "stderr",
          "text": [
            "[nltk_data] Downloading package wordnet to\n[nltk_data]     C:\\Users\\S10y01r\\AppData\\Roaming\\nltk_data...\n[nltk_data]   Package wordnet is already up-to-date!\n"
          ]
        },
        {
          "output_type": "execute_result",
          "data": {
            "text/plain": [
              "True"
            ]
          },
          "metadata": {},
          "execution_count": 74
        }
      ]
    },
    {
      "cell_type": "markdown",
      "metadata": {
        "id": "QgJuRIZf7yWQ"
      },
      "source": [
        "* List of tokens to lemmatize (remember that we lemmatize tokens and not entire sentences)"
      ]
    },
    {
      "cell_type": "code",
      "metadata": {
        "id": "kljxJlz0yJ8H"
      },
      "source": [
        "tokens = [\"international\", \"companies\", \"had\", \"interns\"]"
      ],
      "execution_count": 75,
      "outputs": []
    },
    {
      "cell_type": "markdown",
      "metadata": {
        "id": "uQjP0xoH2NcZ"
      },
      "source": [
        "* Part of Speech (POS) tagging"
      ]
    },
    {
      "cell_type": "code",
      "metadata": {
        "id": "oWHJMdHH18le"
      },
      "source": [
        "word_type = {\"international\": wordnet.ADJ, \n",
        "             \"companies\": wordnet.NOUN, \n",
        "             \"had\": wordnet.VERB, \n",
        "             \"interns\": wordnet.NOUN\n",
        "             }"
      ],
      "execution_count": 76,
      "outputs": []
    },
    {
      "cell_type": "markdown",
      "metadata": {
        "id": "e30o3j5N72sw"
      },
      "source": [
        "* Create the lemmatizer by using the `WordNet` module"
      ]
    },
    {
      "cell_type": "code",
      "metadata": {
        "id": "J-AAGLN4UWTO"
      },
      "source": [
        "lemmatizer = WordNetLemmatizer()"
      ],
      "execution_count": 77,
      "outputs": []
    },
    {
      "cell_type": "markdown",
      "metadata": {
        "id": "y9pDpdOo78jH"
      },
      "source": [
        "* Create a `lemmatize_tokens` function that takes the list of tokens as input and returns a list of lemmatized tokens"
      ]
    },
    {
      "cell_type": "code",
      "metadata": {
        "id": "D6Kiw9xOZE-F"
      },
      "source": [
        "def lemmatize_tokens(tokens, word_type, lemmatizer):\n",
        "  token_list = []\n",
        "  for token in tokens:\n",
        "    token_list.append(lemmatizer.lemmatize(token, word_type[token]))\n",
        "  return token_list"
      ],
      "execution_count": 78,
      "outputs": []
    },
    {
      "cell_type": "code",
      "metadata": {
        "id": "2nnvMrk_UYZ1"
      },
      "source": [
        "print(\"Tweet lemma: {}\".format(\n",
        "    lemmatize_tokens(tokens, word_type, lemmatizer)))"
      ],
      "execution_count": 79,
      "outputs": [
        {
          "output_type": "stream",
          "name": "stdout",
          "text": [
            "Tweet lemma: ['international', 'company', 'have', 'intern']\n"
          ]
        }
      ]
    },
    {
      "cell_type": "markdown",
      "metadata": {
        "id": "DTervSXj3zkF"
      },
      "source": [
        "<img src='https://drive.google.com/uc?export=view&id=1GYj-wj-so8jQ9-VDz1ayehgVh39Jmd4H' width=250px>\r\n",
        "\r\n",
        "## **2.6** Putting it all together"
      ]
    },
    {
      "cell_type": "markdown",
      "metadata": {
        "id": "Ag9YSiUE8I03"
      },
      "source": [
        "* Long and complex tweet to be processed"
      ]
    },
    {
      "cell_type": "code",
      "metadata": {
        "id": "COBX24hLZiZn"
      },
      "source": [
        "complex_tweet = r\"\"\"RT @AIOutsider : he looooook, \n",
        "THis is a big and complex TWeet!!! 👍 ... \n",
        "We'd be glad if you couldn't normalize it! \n",
        "Check https://t.co/7777 and LET ME KNOW!!! #NLP #Fun\"\"\""
      ],
      "execution_count": 80,
      "outputs": []
    },
    {
      "cell_type": "markdown",
      "metadata": {
        "id": "7pRABF3t8MO0"
      },
      "source": [
        "* Create a custom `process_tweet` function that can be used to process tweets end-to-end\r\n",
        "* **Note**: this function will be used as a base for the following sections, so be careful!"
      ]
    },
    {
      "cell_type": "code",
      "metadata": {
        "id": "iiQofxMv37Ik"
      },
      "source": [
        "def process_tweet(tweet, verbose=False):\n",
        "  if verbose: print(\"Initial tweet: {}\".format(tweet))\n",
        "\n",
        "  ## Twitter Features\n",
        "  tweet = replace_retweet(tweet) # replace retweet\n",
        "  tweet = replace_user(tweet, \"\") # replace user tag\n",
        "  tweet = replace_url(tweet) # replace url\n",
        "  tweet = replace_hashtag(tweet) # replace hashtag\n",
        "  if verbose: print(\"Post Twitter processing tweet: {}\".format(tweet))\n",
        "\n",
        "  ## Word Features\n",
        "  tweet = to_lowercase(tweet) # lower case\n",
        "  tweet = fix_contractions(tweet) # replace contractions\n",
        "  tweet = punct_repetition(tweet) # replace punctuation repetition\n",
        "  tweet = word_repetition(tweet) # replace word repetition\n",
        "  tweet = demojize(tweet) # replace emojis\n",
        "  if verbose: print(\"Post Word processing tweet: {}\".format(tweet))\n",
        "\n",
        "  ## Tokenization & Stemming\n",
        "  tokens = custom_tokenize(tweet, keep_alnum=False, keep_stop=False) # tokenize\n",
        "  stemmer = SnowballStemmer(\"english\") # define stemmer\n",
        "  stem = stem_tokens(tokens, stemmer) # stem tokens\n",
        "\n",
        "  return stem"
      ],
      "execution_count": 81,
      "outputs": []
    },
    {
      "cell_type": "markdown",
      "metadata": {
        "id": "SKBv4elc81PC"
      },
      "source": [
        "* Test your `process_tweet` function!"
      ]
    },
    {
      "cell_type": "code",
      "metadata": {
        "id": "_Xb146QF4uhj"
      },
      "source": [
        "print(process_tweet(complex_tweet, verbose=False))"
      ],
      "execution_count": 82,
      "outputs": [
        {
          "output_type": "stream",
          "name": "stdout",
          "text": [
            "['look', 'big', 'complex', 'tweet', 'would', 'glad', 'could', 'not', 'normal', 'check', 'let', 'know', 'nlp', 'fun']\n"
          ]
        }
      ]
    },
    {
      "cell_type": "markdown",
      "metadata": {
        "id": "Hy48UzeYHFoP"
      },
      "source": [
        "* Look at some more examples! \n",
        "* **Note:** it's totally possible you encounter some strange tweet processing (happens if the original tweet is initially strangely written) "
      ]
    },
    {
      "cell_type": "code",
      "metadata": {
        "id": "26lxJnf2K7zd"
      },
      "source": [
        "import random"
      ],
      "execution_count": 83,
      "outputs": []
    },
    {
      "cell_type": "code",
      "metadata": {
        "id": "XBa0HUtM4x0n"
      },
      "source": [
        "for i in range(5):\n",
        "  tweet_id = random.randint(0,len(df))\n",
        "  tweet = df.iloc[tweet_id][\"tweet_text\"]\n",
        "  print(process_tweet(tweet, verbose=True))\n",
        "  print(\"\\n\")"
      ],
      "execution_count": 84,
      "outputs": [
        {
          "output_type": "stream",
          "name": "stdout",
          "text": [
            "Initial tweet: @h0ney_ I had curry shrimp yesterday lol I love seafood\nPost Twitter processing tweet:  I had curry shrimp yesterday lol I love seafood\nPost Word processing tweet:  i had curry shrimp yesterday lol i love seafood\n['curri', 'shrimp', 'yesterday', 'lol', 'love', 'seafood']\n\n\nInitial tweet: @Mitchelmusso: Am sad i got no money on my phone. Ahh well  lly Mitchel xx\nPost Twitter processing tweet: : Am sad i got no money on my phone. Ahh well  lly Mitchel xx\nPost Word processing tweet: : am sad i got no money on my phone. ahh well  lly mitchel xx\n['sad', 'got', 'money', 'phone', 'ahh', 'well', 'lli', 'mitchel', 'xx']\n\n\nInitial tweet: Just woke up. Gonna have a shower and go to Nan's for Mother's day lunch. Happy Mother's day\nPost Twitter processing tweet: Just woke up. Gonna have a shower and go to Nan's for Mother's day lunch. Happy Mother's day\nPost Word processing tweet: just woke up. going to have a shower and go to nan's for mother's day lunch. happy mother's day\n['woke', 'go', 'shower', 'go', 'nan', 'mother', 'day', 'lunch', 'happi', 'mother', 'day']\n\n\nInitial tweet: @ramin987 Aha both same length, touche\nPost Twitter processing tweet:  Aha both same length, touche\nPost Word processing tweet:  aha both same length, touche\n['aha', 'length', 'touch']\n\n\nInitial tweet: @AdamBMusic ik, i feel sooo bad for them\nPost Twitter processing tweet:  ik, i feel sooo bad for them\nPost Word processing tweet:  ik, i feel soo bad for them\n['ik', 'feel', 'soo', 'bad']\n\n\n"
          ]
        }
      ]
    },
    {
      "cell_type": "markdown",
      "metadata": {
        "id": "haxwoF1IM1f1"
      },
      "source": [
        "That's it for this section! \r\n",
        "\r\n",
        "See you in `Section 3` where we will talk about Text Representation and get close to predicting real tweet sentiment!\r\n",
        "\r\n",
        "\r\n",
        "<img src='https://drive.google.com/uc?export=view&id=1-PExlpxdip_2t7wN9Ru8Sn_jTTxj3MlA' width=100px>"
      ]
    },
    {
      "cell_type": "markdown",
      "metadata": {
        "id": "V1ScK4-f_cJB"
      },
      "source": [
        "<img src='https://drive.google.com/uc?export=view&id=1GYj-wj-so8jQ9-VDz1ayehgVh39Jmd4H' width=650px>\n",
        "\n",
        "# `Section 3` Text Representation </h2>"
      ]
    },
    {
      "cell_type": "markdown",
      "metadata": {
        "id": "dgEa9cqUzoEK"
      },
      "source": [
        "<img src='https://drive.google.com/uc?export=view&id=1GYj-wj-so8jQ9-VDz1ayehgVh39Jmd4H' width=250px>\r\n",
        "\r\n",
        "## **3.1** Processing Tweets"
      ]
    },
    {
      "cell_type": "markdown",
      "metadata": {
        "id": "oIz-oZSEqJB7"
      },
      "source": [
        "* Install the `Scikit-Learn` package which is very useful for a lot of different ML tasks. \r\n",
        "* **Note:** make sure it is installed and up-to-date (once installed/updated, you might be asked to reload Colab). "
      ]
    },
    {
      "cell_type": "code",
      "metadata": {
        "id": "T1oZA6AjqC3X"
      },
      "source": [
        "pip install -U scikit-learn"
      ],
      "execution_count": 85,
      "outputs": [
        {
          "output_type": "stream",
          "name": "stdout",
          "text": [
            "Requirement already up-to-date: scikit-learn in c:\\users\\s10y01r\\appdata\\local\\programs\\python\\python38\\lib\\site-packages (0.24.1)\n",
            "Requirement already satisfied, skipping upgrade: scipy>=0.19.1 in c:\\users\\s10y01r\\appdata\\local\\programs\\python\\python38\\lib\\site-packages (from scikit-learn) (1.6.1)\n",
            "Requirement already satisfied, skipping upgrade: threadpoolctl>=2.0.0 in c:\\users\\s10y01r\\appdata\\local\\programs\\python\\python38\\lib\\site-packages (from scikit-learn) (2.1.0)\n",
            "Requirement already satisfied, skipping upgrade: numpy>=1.13.3 in c:\\users\\s10y01r\\appdata\\local\\programs\\python\\python38\\lib\\site-packages (from scikit-learn) (1.19.5)\n",
            "Requirement already satisfied, skipping upgrade: joblib>=0.11 in c:\\users\\s10y01r\\appdata\\local\\programs\\python\\python38\\lib\\site-packages (from scikit-learn) (1.0.1)\n",
            "Note: you may need to restart the kernel to use updated packages.\n",
            "WARNING: You are using pip version 20.2.3; however, version 21.0.1 is available.\n",
            "You should consider upgrading via the 'C:\\Users\\S10y01r\\AppData\\Local\\Programs\\Python\\Python38\\python.exe -m pip install --upgrade pip' command.\n"
          ]
        }
      ]
    },
    {
      "cell_type": "markdown",
      "metadata": {
        "id": "MjvFLUXi_Ukv"
      },
      "source": [
        "* Apply `process_tweet` function created in section 2 to the entire DataFrame\r\n",
        "* Convert sentiment to 1 for \"positive\" and 0 for \"negative\" sentiment"
      ]
    },
    {
      "cell_type": "code",
      "metadata": {
        "id": "B0_4R6tNqcAg"
      },
      "source": [
        "df[\"tokens\"] = df[\"tweet_text\"].apply(process_tweet)\n",
        "df[\"tweet_sentiment\"] = df[\"sentiment\"].apply(lambda i: 1\n",
        "                                              if i == \"positive\" else 0)\n",
        "df.head(10)"
      ],
      "execution_count": 86,
      "outputs": [
        {
          "output_type": "execute_result",
          "data": {
            "text/plain": [
              "       textID                                         tweet_text sentiment  \\\n",
              "0  1956967666  Layin n bed with a headache  ughhhh...waitin o...  negative   \n",
              "1  1956967696                Funeral ceremony...gloomy friday...  negative   \n",
              "2  1956967789               wants to hang out with friends SOON!  positive   \n",
              "3  1956968477  Re-pinging @ghostridah14: why didn't you go to...  negative   \n",
              "4  1956968636               Hmmm. http://www.djhero.com/ is down  negative   \n",
              "5  1956969035            @charviray Charlene my love. I miss you  negative   \n",
              "6  1956969172         @kelcouch I'm sorry  at least it's Friday?  negative   \n",
              "7  1956969531                            Choked on her retainers  negative   \n",
              "8  1956970047  Ugh! I have to beat this stupid song to get to...  negative   \n",
              "9  1956970424  @BrodyJenner if u watch the hills in london u ...  negative   \n",
              "\n",
              "                                              tokens  tweet_sentiment  \n",
              "0                     [layin, n, bed, headach, call]                0  \n",
              "1                                    [funer, friday]                0  \n",
              "2                         [want, hang, friend, soon]                1  \n",
              "3         [not, go, prom, bc, bf, not, like, friend]                0  \n",
              "4                                              [hmm]                0  \n",
              "5                              [charlen, love, miss]                0  \n",
              "6                          [i, sorri, least, friday]                0  \n",
              "7                                    [choke, retain]                0  \n",
              "8         [ugh, beat, stupid, song, get, next, rude]                0  \n",
              "9  [watch, hill, london, realis, tourtur, week, w...                0  "
            ],
            "text/html": "<div>\n<style scoped>\n    .dataframe tbody tr th:only-of-type {\n        vertical-align: middle;\n    }\n\n    .dataframe tbody tr th {\n        vertical-align: top;\n    }\n\n    .dataframe thead th {\n        text-align: right;\n    }\n</style>\n<table border=\"1\" class=\"dataframe\">\n  <thead>\n    <tr style=\"text-align: right;\">\n      <th></th>\n      <th>textID</th>\n      <th>tweet_text</th>\n      <th>sentiment</th>\n      <th>tokens</th>\n      <th>tweet_sentiment</th>\n    </tr>\n  </thead>\n  <tbody>\n    <tr>\n      <th>0</th>\n      <td>1956967666</td>\n      <td>Layin n bed with a headache  ughhhh...waitin o...</td>\n      <td>negative</td>\n      <td>[layin, n, bed, headach, call]</td>\n      <td>0</td>\n    </tr>\n    <tr>\n      <th>1</th>\n      <td>1956967696</td>\n      <td>Funeral ceremony...gloomy friday...</td>\n      <td>negative</td>\n      <td>[funer, friday]</td>\n      <td>0</td>\n    </tr>\n    <tr>\n      <th>2</th>\n      <td>1956967789</td>\n      <td>wants to hang out with friends SOON!</td>\n      <td>positive</td>\n      <td>[want, hang, friend, soon]</td>\n      <td>1</td>\n    </tr>\n    <tr>\n      <th>3</th>\n      <td>1956968477</td>\n      <td>Re-pinging @ghostridah14: why didn't you go to...</td>\n      <td>negative</td>\n      <td>[not, go, prom, bc, bf, not, like, friend]</td>\n      <td>0</td>\n    </tr>\n    <tr>\n      <th>4</th>\n      <td>1956968636</td>\n      <td>Hmmm. http://www.djhero.com/ is down</td>\n      <td>negative</td>\n      <td>[hmm]</td>\n      <td>0</td>\n    </tr>\n    <tr>\n      <th>5</th>\n      <td>1956969035</td>\n      <td>@charviray Charlene my love. I miss you</td>\n      <td>negative</td>\n      <td>[charlen, love, miss]</td>\n      <td>0</td>\n    </tr>\n    <tr>\n      <th>6</th>\n      <td>1956969172</td>\n      <td>@kelcouch I'm sorry  at least it's Friday?</td>\n      <td>negative</td>\n      <td>[i, sorri, least, friday]</td>\n      <td>0</td>\n    </tr>\n    <tr>\n      <th>7</th>\n      <td>1956969531</td>\n      <td>Choked on her retainers</td>\n      <td>negative</td>\n      <td>[choke, retain]</td>\n      <td>0</td>\n    </tr>\n    <tr>\n      <th>8</th>\n      <td>1956970047</td>\n      <td>Ugh! I have to beat this stupid song to get to...</td>\n      <td>negative</td>\n      <td>[ugh, beat, stupid, song, get, next, rude]</td>\n      <td>0</td>\n    </tr>\n    <tr>\n      <th>9</th>\n      <td>1956970424</td>\n      <td>@BrodyJenner if u watch the hills in london u ...</td>\n      <td>negative</td>\n      <td>[watch, hill, london, realis, tourtur, week, w...</td>\n      <td>0</td>\n    </tr>\n  </tbody>\n</table>\n</div>"
          },
          "metadata": {},
          "execution_count": 86
        }
      ]
    },
    {
      "cell_type": "markdown",
      "metadata": {
        "id": "6YHtN5xwqiGM"
      },
      "source": [
        "* Convert DataFrame to two lists: one for the tweet tokens (X) and one for the tweet sentiment (y)\r\n",
        "\r\n",
        "\r\n",
        "\r\n",
        "\r\n",
        "\r\n"
      ]
    },
    {
      "cell_type": "code",
      "metadata": {
        "id": "ru_1XwdIqgXH"
      },
      "source": [
        "X = df[\"tokens\"].tolist()\n",
        "y = df[\"tweet_sentiment\"].tolist()"
      ],
      "execution_count": 87,
      "outputs": []
    },
    {
      "cell_type": "code",
      "metadata": {
        "id": "dm6k_K81i1cG",
        "tags": [
          "outputPrepend"
        ]
      },
      "source": [
        "print(X)\n",
        "print(y)"
      ],
      "execution_count": 88,
      "outputs": [
        {
          "output_type": "stream",
          "name": "stdout",
          "text": [
            ", 0, 1, 1, 1, 1, 1, 1, 1, 1, 1, 1, 1, 1, 1, 1, 1, 1, 1, 1, 1, 0, 1, 1, 0, 0, 0, 1, 1, 1, 1, 1, 1, 1, 1, 1, 1, 1, 1, 1, 1, 0, 1, 1, 1, 0, 1, 1, 1, 1, 1, 1, 0, 1, 1, 1, 1, 0, 1, 1, 0, 1, 0, 1, 1, 1, 1, 1, 1, 1, 1, 1, 1, 1, 1, 1, 1, 1, 1, 1, 1, 0, 1, 1, 1, 1, 0, 1, 1, 0, 0, 1, 0, 1, 1, 1, 0, 0, 1, 1, 0, 1, 1, 1, 1, 0, 1, 1, 1, 1, 0, 1, 1, 1, 1, 1, 1, 1, 1, 1, 1, 1, 1, 1, 1, 1, 1, 1, 1, 1, 1, 1, 1, 1, 1, 1, 1, 1, 1, 1, 1, 1, 0, 1, 1, 1, 1, 1, 1, 1, 1, 1, 1, 1, 1, 1, 1, 1, 1, 1, 1, 1, 1, 1, 0, 1, 1, 0, 1, 1, 1, 1, 1, 1, 1, 1, 0, 1, 1, 1, 1, 1, 1, 1, 1, 1, 1, 1, 1, 0, 1, 0, 1, 0, 1, 1, 1, 1, 1, 1, 1, 1, 1, 1, 1, 1, 1, 1, 1, 1, 1, 1, 1, 1, 1, 1, 0, 1, 1, 1, 1, 1, 1, 1, 1, 1, 1, 1, 1, 0, 1, 1, 1, 1, 1, 1, 1, 1, 1, 1, 1, 0, 1, 1, 1, 1, 0, 1, 1, 1, 1, 1, 0, 1, 1, 1, 1, 1, 1, 1, 1, 1, 1, 1, 0, 1, 1, 1, 1, 0, 1, 1, 1, 1, 1, 1, 0, 1, 1, 1, 1, 0, 1, 1, 1, 1, 1, 1, 1, 1, 1, 1, 1, 1, 1, 1, 1, 1, 1, 1, 1, 0, 1, 1, 1, 1, 1, 1, 1, 1, 1, 1, 0, 0, 1, 1, 1, 1, 1, 1, 1, 1, 1, 1, 1, 1, 1, 1, 1, 1, 1, 0, 1, 1, 1, 1, 1, 1, 1, 1, 1, 1, 1, 1, 1, 1, 1, 1, 1, 1, 1, 0, 1, 0, 1, 1, 0, 1, 0, 1, 1, 1, 1, 1, 0, 1, 0, 1, 1, 1, 1, 1, 0, 1, 1, 1, 1, 1, 1, 1, 1, 1, 1, 1, 0, 1, 1, 1, 1, 1, 1, 0, 1, 1, 0, 1, 1, 1, 0, 0, 1, 0, 1, 1, 1, 1, 1, 1, 1, 1, 1, 1, 1, 1, 1, 1, 1, 1, 1, 1, 1, 1, 1, 1, 1, 1, 1, 1, 1, 1, 1, 1, 1, 1, 1, 1, 0, 1, 1, 1, 1, 1, 1, 1, 1, 1, 0, 1, 0, 1, 1, 0, 1, 1, 1, 1, 1, 1, 1, 1, 1, 1, 1, 1, 0, 1, 1, 0, 1, 1, 1, 1, 1, 1, 1, 1, 1, 1, 1, 1, 1, 1, 1, 1, 1, 1, 1, 1, 1, 1, 1, 0, 1, 1, 1, 1, 1, 1, 1, 1, 1, 1, 1, 1, 1, 1, 1, 1, 1, 0, 1, 1, 1, 1, 1, 1, 1, 1, 1, 1, 0, 1, 0, 1, 0, 1, 1, 1, 1, 1, 1, 1, 0, 1, 1, 0, 1, 1, 1, 0, 1, 1, 1, 1, 1, 1, 1, 1, 1, 0, 1, 0, 1, 0, 1, 0, 1, 1, 1, 1, 1, 1, 1, 1, 0, 1, 1, 1, 1, 1, 1, 1, 1, 1, 1, 1, 0, 1, 0, 1, 1, 1, 1, 1, 1, 1, 1, 0, 1, 1, 1, 1, 1, 1, 1, 1, 1, 0, 1, 1, 1, 1, 1, 1, 0, 1, 1, 0, 0, 1, 0, 1, 1, 0, 1, 1, 1, 1, 0, 1, 1, 1, 0, 1, 0, 1, 1, 1, 1, 1, 0, 1, 1, 1, 1, 1, 1, 0, 1, 1, 1, 1, 1, 1, 1, 1, 1, 1, 1, 1, 1, 1, 1, 1, 1, 0, 1, 1, 1, 0, 1, 1, 1, 1, 1, 1, 1, 1, 1, 1, 1, 1, 1, 1, 1, 0, 1, 1, 0, 1, 1, 1, 1, 1, 1, 1, 1, 1, 1, 1, 1, 1, 1, 1, 1, 1, 1, 1, 1, 1, 1, 1, 1, 1, 1, 1, 1, 1, 1, 1, 1, 1, 1, 1, 1, 1, 0, 1, 1, 1, 1, 1, 1, 1, 1, 1, 1, 1, 1, 1, 1, 1, 0, 1, 1, 1, 1, 1, 1, 1, 1, 1, 1, 1, 1, 1, 1, 1, 1, 1, 0, 1, 1, 1, 1, 0, 1, 1, 0, 1, 1, 0, 1, 1, 1, 0, 1, 1, 1, 1, 1, 1, 1, 0, 1, 1, 1, 1, 1, 0, 1, 1, 1, 1, 1, 1, 0, 1, 1, 1, 1, 1, 0, 1, 1, 1, 1, 1, 1, 1, 1, 0, 1, 1, 1, 0, 1, 1, 1, 0, 0, 1, 1, 1, 1, 1, 1, 1, 1, 0, 1, 1, 1, 1, 1, 1, 1, 1, 1, 1, 1, 1, 1, 1, 1, 1, 1, 1, 1, 1, 1, 1, 0, 1, 1, 1, 1, 1, 1, 1, 1, 1, 1, 1, 1, 1, 1, 1, 1, 1, 1, 1, 0, 1, 1, 1, 1, 0, 1, 1, 1, 1, 1, 1, 1, 0, 1, 1, 0, 1, 1, 1, 1, 0, 1, 1, 1, 0, 1, 1, 1, 1, 1, 0, 1, 1, 1, 0, 1, 1, 1, 1, 1, 1, 0, 1, 1, 1, 1, 1, 1, 1, 1, 1, 1, 1, 1, 0, 1, 1, 1, 1, 1, 1, 1, 1, 1, 1, 1, 1, 1, 1, 1, 1, 1, 0, 1, 1, 1, 0, 0, 1, 0, 1, 1, 1, 1, 1, 0, 1, 1, 1, 1, 1, 1, 1, 1, 1, 0, 1, 1, 1, 0, 1, 1, 0, 1, 1, 1, 1, 1, 1, 1, 0, 1, 1, 1, 0, 1, 1, 1, 1, 1, 1, 1, 1, 1, 1, 1, 0, 1, 1, 0, 1, 1, 1, 1, 1, 1, 1, 1, 1, 1, 1, 1, 0, 1, 1, 1, 1, 1, 1, 0, 1, 1, 1, 1, 1, 1, 1, 0, 1, 0, 1, 1, 1, 1, 1, 1, 1, 1, 1, 0, 1, 1, 1, 1, 1, 0, 1, 1, 1, 0, 0, 1, 1, 1, 0, 0, 0, 1, 1, 1, 1, 1, 1, 1, 1, 0, 1, 1, 1, 1, 1, 1, 1, 1, 1, 1, 1, 1, 1, 1, 1, 1, 1, 1, 1, 1, 1, 1, 1, 1, 1, 1, 1, 0, 1, 0, 0, 1, 1, 1, 1, 1, 1, 1, 1, 1, 1, 1, 1, 1, 0, 0, 1, 1, 1, 1, 1, 1, 1, 1, 1, 1, 1, 1, 1, 0, 1, 0, 1, 1, 1, 1, 1, 1, 1, 1, 0, 1, 1, 0, 1, 0, 0, 1, 1, 1, 1, 1, 1, 1, 1, 1, 0, 1, 0, 1, 1, 1, 0, 1, 1, 1, 1, 1, 1, 1, 1, 1, 1, 1, 1, 1, 1, 1, 1, 1, 1, 1, 1, 1, 1, 1, 1, 1, 0, 1, 0, 1, 1, 1, 1, 1, 1, 1, 1, 1, 1, 1, 0, 1, 1, 0, 1, 0, 1, 1, 1, 1, 1, 1, 1, 0, 1, 1, 1, 1, 1, 0, 1, 1, 0, 0, 1, 1, 1, 1, 1, 0, 1, 0, 1, 1, 1, 1, 0, 1, 1, 1, 1, 1, 1, 1, 1, 1, 1, 1, 1, 1, 1, 0, 1, 1, 1, 1, 1, 1, 0, 1, 1, 1, 1, 1, 1, 0, 1, 1, 1, 1, 1, 1, 1, 1, 1, 1, 1, 0, 1, 0, 1, 1, 1, 1, 1, 0, 1, 1, 1, 1, 1, 1, 1, 1, 1, 1, 1, 1, 1, 1, 1, 1, 1, 1, 1, 1, 1, 1, 1, 1, 1, 0, 1, 1, 1, 1, 1, 1, 1, 0, 1, 1, 1, 1, 1, 1, 1, 1, 1, 0, 1, 0, 1, 0, 1, 1, 1, 1, 0, 1, 1, 1, 1, 1, 1, 1, 1, 1, 1, 1, 1, 0, 1, 1, 1, 1, 1, 0, 1, 1, 1, 1, 1, 1, 1, 1, 1, 1, 1, 1, 1, 1, 0, 0, 1, 1, 1, 0, 1, 1, 1, 1, 1, 1, 1, 1, 1, 1, 0, 1, 1, 1, 0, 1, 1, 0, 1, 1, 1, 1, 1, 1, 1, 1, 1, 1, 1, 1, 1, 1, 1, 1, 1, 1, 1, 1, 0, 1, 0, 1, 1, 1, 1, 1, 1, 1, 0, 1, 0, 1, 1, 0, 1, 1, 1, 1, 1, 1, 1, 1, 1, 1, 1, 1, 1, 1, 1, 1, 0, 1, 1, 1, 1, 0, 1, 0, 1, 0, 1, 1, 1, 1, 1, 1, 1, 1, 0, 1, 1, 1, 1, 0, 1, 1, 1, 1, 1, 1, 1, 1, 1, 1, 1, 1, 1, 1, 1, 1, 0, 0, 1, 0, 1, 1, 0, 1, 1, 1, 1, 1, 0, 1, 1, 0, 1, 1, 1, 0, 1, 1, 1, 1, 0, 1, 1, 0, 1, 1, 1, 1, 1, 1, 1, 0, 1, 0, 1, 1, 1, 1, 1, 1, 1, 1, 1, 1, 0, 1, 1, 1, 1, 1, 1, 1, 1, 0, 1, 1, 1, 0, 1, 1, 1, 1, 1, 1, 1, 1, 1, 1, 1, 1, 1, 1, 1, 1, 1, 1, 1, 1, 1, 1, 1, 1, 1, 1, 1, 1, 1, 1, 1, 1, 1, 1, 1, 1, 1, 1, 1, 1, 1, 0, 1, 0, 1, 1, 0, 1, 1, 1, 1, 1, 1, 0, 1, 1, 1, 0, 1, 1, 0, 1, 1, 0, 1, 1, 1, 1, 1, 1, 1, 1, 1, 1, 1, 1, 1, 1, 0, 0, 1, 1, 1, 1, 1, 1, 1, 1, 0, 1, 0, 1, 1, 1, 1, 1, 1, 1, 1, 1, 0, 1, 1, 1, 1, 1, 1, 1, 1, 1, 1, 1, 1, 1, 1, 0, 1, 1, 0, 1, 1, 0, 1, 1, 1, 1, 0, 1, 1, 1, 1, 1, 1, 1, 1, 1, 1, 1, 0, 1, 1, 1, 1, 1, 0, 1, 1, 1, 1, 1, 1, 1, 0, 0, 1, 0, 1, 0, 0, 1, 1, 1, 1, 1, 1, 1, 1, 1, 1, 1, 0, 1, 1, 1, 1, 1, 0, 1, 0, 0, 1, 0, 1, 1, 1, 1, 1, 1, 0, 1, 1, 1, 1, 1, 1, 1, 1, 1, 1, 1, 0, 1, 1, 1, 1, 0, 1, 1, 0, 1, 1, 1, 1, 1, 1, 0, 1, 1, 1, 1, 1, 1, 1, 1, 0, 0, 1, 1, 1, 1, 1, 1, 1, 1, 1, 1, 1, 1, 1, 1, 1, 0, 1, 1, 1, 1, 1, 1, 1, 1, 0, 1, 1, 1, 1, 1, 1, 1, 1, 0, 1, 1, 1, 0, 1, 1, 1, 1, 1, 1, 1, 1, 1, 0, 1, 1, 1, 1, 1, 1, 1, 1, 1, 1, 1, 1, 1, 1, 1, 0, 0, 1, 1, 1, 1, 1, 1, 1, 1, 1, 1, 1, 1, 1, 1, 1, 1, 1, 1, 0, 1, 1, 1, 1, 1, 1, 1, 1, 1, 1, 1, 1, 1, 1, 1, 1, 0, 0, 1, 1, 1, 0, 1, 1, 1, 1, 1, 0, 1, 1, 1, 1, 0, 1, 1, 1, 1, 1, 1, 1, 1, 1, 1, 1, 1, 1, 1, 1, 1, 0, 1, 1, 1, 1, 1, 1, 1, 1, 1, 1, 1, 1, 1, 1, 0, 1, 1, 1, 1, 1, 0, 1, 1, 0, 1, 0, 1, 1, 1, 1, 0, 1, 1, 1, 1, 1, 1, 1, 1, 1, 0, 1, 1, 1, 0, 1, 1, 1, 1, 1, 1, 1, 1, 1, 1, 1, 1, 1, 1, 1, 1, 1, 1, 1, 1, 1, 1, 1, 1, 1, 1, 1, 1, 1, 1, 1, 1, 1, 1, 1, 1, 1, 1, 1, 1, 1, 1, 1, 1, 1, 1, 0, 1, 1, 1, 1, 1, 1, 1, 1, 1, 0, 1, 1, 1, 0, 1, 1, 1, 1, 0, 1, 1, 1, 0, 1, 1, 1, 0, 1, 1, 1, 1, 1, 1, 1, 1, 1, 1, 1, 1, 1, 1, 1, 1, 1, 1, 1, 0, 1, 1, 0, 1, 1, 1, 0, 1, 1, 1, 1, 1, 1, 1, 0, 1, 1, 1, 1, 0, 1, 1, 1, 1, 1, 1, 1, 1, 1, 1, 1, 1, 1, 1, 1, 1, 0, 1, 1, 1, 1, 1, 1, 1, 1, 1, 1, 1, 1, 1, 0, 1, 1, 1, 0, 1, 1, 0, 1, 1, 1, 1, 1, 1, 0, 1, 1, 1, 1, 1, 0, 1, 1, 1, 1, 1, 1, 1, 1, 1, 1, 1, 1, 1, 1, 1, 1, 1, 1, 1, 1, 1, 0, 1, 1, 1, 1, 1, 1, 1, 1, 1, 1, 1, 1, 1, 1, 1, 1, 0, 1, 1, 1, 1, 1, 1, 1, 1, 1, 0, 1, 1, 1, 1, 1, 1, 1, 1, 1, 1, 1, 0, 1, 1, 1, 1, 1, 1, 1, 1, 1, 1, 1, 1, 1, 1, 1, 1, 1, 1, 1, 0, 1, 1, 0, 0, 0, 1, 1, 1, 1, 0, 1, 0, 1, 1, 1, 1, 1, 1, 1, 1, 1, 1, 1, 1, 1, 1, 1, 1, 0, 1, 1, 1, 0, 1, 1, 1, 0, 1, 1, 1, 1, 1, 0, 1, 1, 1, 1, 1, 1, 1, 1, 1, 0, 1, 1, 1, 1, 1, 1, 1, 1, 1, 0, 0, 0, 1, 0, 1, 1, 1, 1, 1, 1, 0, 1, 1, 1, 1, 0, 1, 1, 1, 1, 1, 1, 1, 1, 1, 0, 1, 1, 1, 1, 1, 1, 1, 1, 1, 1, 1, 1, 1, 1, 1, 1, 1, 1, 1, 1, 1, 1, 1, 1, 1, 1, 1, 1, 1, 1, 1, 1, 1, 1, 1, 1, 1, 1, 1, 1, 1, 1, 1, 1, 1, 1, 1, 1, 0, 1, 1, 1, 1, 1, 1, 1, 1, 1, 1, 1, 1, 1, 1, 1, 1, 1, 1, 1, 1, 1, 1, 1, 1, 1, 1, 0, 1, 1, 1, 1, 1, 1, 0, 1, 1, 1, 1, 1, 1, 0, 1, 1, 1, 1, 1, 1, 1, 1, 1, 1, 0, 1, 1, 1, 1, 1, 1, 0, 1, 0, 0, 1, 1, 1, 1, 1, 1, 1, 1, 1, 1, 1, 1, 1, 1, 1, 1, 1, 0, 1, 1, 0, 1, 1, 1, 1, 0, 1, 1, 1, 0, 0, 1, 1, 1, 1, 1, 1, 1, 1, 1, 1, 1, 1, 1, 1, 1, 1, 1, 1, 1, 1, 1, 1, 1, 1, 0, 1, 1, 0, 1, 1, 1, 1, 1, 1, 0, 1, 0, 1, 1, 1, 0, 1, 0, 1, 0, 1, 0, 1, 1, 1, 1, 1, 1, 1, 1, 1, 1, 1, 1, 0, 1, 1, 1, 1, 1, 0, 1, 1, 1, 0, 1, 1, 1, 1, 1, 1, 1, 1, 1, 1, 1, 1, 1, 1, 1, 0, 1, 1, 1, 1, 1, 1, 1, 1, 1, 1, 1, 1, 0, 1, 0, 0, 1, 1, 1, 1, 1, 1, 1, 1, 1, 1, 1, 1, 1, 1, 1, 1, 1, 1, 1, 1, 1, 1, 1, 1, 0, 1, 1, 1, 1, 1, 0, 1, 0, 1, 1, 1, 0, 1, 1, 1, 1, 0, 1, 1, 1, 1, 1, 1, 1, 1, 0, 1, 1, 1, 1, 1, 1, 1, 1, 0, 1, 1, 1, 1, 0, 1, 0, 1, 0, 1, 1, 1, 1, 1, 1, 0, 1, 1, 1, 0, 1, 1, 0, 0, 0, 0, 1, 1, 1, 1, 1, 1, 1, 1, 1, 1, 1, 1, 1, 1, 1, 1, 1, 0, 1, 1, 0, 1, 0, 1, 1, 1, 1, 1, 1, 1, 1, 1, 1, 1, 1, 1, 1, 0, 1, 1, 1, 1, 1, 1, 1, 1, 1, 1, 1, 1, 1, 1, 0, 1, 1, 1, 1, 1, 1, 1, 1, 0, 1, 1, 1, 1, 1, 0, 1, 0, 1, 1, 1, 1, 1, 1, 1, 1, 1, 0, 1, 1, 1, 1, 0, 1, 1, 1, 1, 1, 1, 1, 1, 1, 1, 1, 1, 1, 1, 1, 1, 1, 0, 1, 0, 0, 1, 1, 1, 1, 0, 1, 1, 1, 1, 1, 1, 1, 1, 0, 1, 1, 1, 1, 1, 1, 1, 1, 1, 1, 0, 1, 1, 1, 1, 1, 0, 1, 1, 0, 1, 1, 1, 1, 0, 1, 1, 0, 1, 1, 0, 1, 1, 1, 1, 1, 1, 1, 1, 1, 1, 1, 0, 1, 1, 1, 1, 1, 1, 1, 1, 1, 1, 0, 0, 1, 1, 1, 1, 1, 1, 1, 1, 1, 1, 0, 1, 1, 1, 0, 1, 0, 1, 1, 1, 1, 1, 1, 1, 1, 0, 1, 1, 1, 1, 1, 0, 1, 1, 1, 1, 1, 1, 1, 0, 1, 0, 0, 1, 0, 1, 1, 1, 1, 1, 1, 1, 1, 1, 1, 1, 1, 1, 1, 0, 1, 1, 1, 1, 0, 1, 1, 1, 1, 1, 1, 1, 1, 1, 1, 1, 1, 1, 1, 1, 1, 1, 1, 1, 1, 1, 1, 1, 1, 1, 1, 1, 1, 1, 1, 1, 1, 1, 1, 1, 1, 1, 1, 0, 1, 1, 1, 1, 0, 1, 1, 1, 0, 1, 1, 1, 0, 1, 1, 1, 1, 1, 1, 1, 1, 0, 1, 1, 1, 1, 1, 1, 1, 1, 0, 1, 1, 1, 1, 1, 1, 1, 1, 1, 0, 1, 1, 1, 1, 1, 1, 0, 1, 1, 1, 1, 1, 1, 1, 0, 1, 1, 0, 1, 0, 0, 1, 1, 1, 1, 0, 1, 1, 1, 1, 1, 1, 1, 1, 1, 1, 1, 1, 1, 1, 1, 1, 1, 1, 1, 1, 1, 1, 1, 1, 1, 1, 1, 1, 1, 1, 1, 1, 1, 1, 1, 1, 1, 1, 1, 1, 1, 1, 0, 1, 1, 0, 1, 1, 1, 0, 1, 1, 1, 1, 1, 1, 1, 1, 1, 1, 1, 1, 1, 1, 1, 1, 1, 1, 1, 0, 0, 0, 0, 1, 1, 1, 1, 1, 1, 1, 1, 1, 1, 1, 0, 0, 1, 1, 1, 1, 1, 1, 1, 1, 1, 1, 1, 1, 1, 0, 1, 0, 1, 1, 0, 0, 1, 1, 1, 1, 0, 1, 1, 1, 1, 1, 1, 1, 1, 0, 1, 1, 0, 1, 1, 1, 1, 1, 1, 1, 1, 1, 1, 1, 1, 1, 1, 1, 1, 1, 1, 1, 0, 1, 1, 1, 1, 1, 1, 1, 1, 1, 1, 1, 0, 1, 0, 0, 1, 1, 1, 1, 1, 1, 1, 1, 1, 1, 1, 1, 1, 1, 1, 0, 1, 1, 1, 1, 1, 1, 1, 1, 0, 1, 1, 0, 1, 1, 1, 1, 0, 1, 1, 1, 1, 0, 1, 1, 0, 1, 1, 1, 1, 1, 1, 1, 1, 1, 1, 1, 1, 1, 1, 0, 1, 0, 0, 0, 1, 0, 1, 1, 1, 1, 1, 1, 1, 1, 1, 1, 1, 1, 1, 1, 0, 1, 1, 1, 1, 1, 1, 0, 1, 1, 1, 1, 1, 1, 0, 1, 1, 1, 1, 1, 1, 1, 1, 1, 1, 1, 1, 1, 1, 1, 1, 1, 1, 1, 1, 1, 1, 1, 1, 1, 1, 1, 1, 1, 1, 1, 1, 0, 0, 1, 1, 1, 1, 1, 0, 1, 1, 1, 1, 1, 1, 1, 1, 0, 1, 1, 1, 1, 0, 1, 1, 1, 1, 1, 1, 1, 1, 0, 1, 1, 1, 1, 1, 1, 1, 1, 1, 1, 1, 0, 1, 1, 1, 1, 1, 1, 0, 1, 1, 1, 1, 1, 1, 1, 1, 1, 1, 1, 1, 1, 1, 1, 1, 1, 1, 1, 1, 1, 1, 1, 1, 1, 1, 0, 1, 1, 1, 1, 1, 1, 1, 0, 1, 1, 0, 1, 1, 1, 1, 1, 1, 1, 1, 1, 1, 1, 1, 1, 1, 0, 1, 1, 1, 1, 1, 1, 1, 1, 1, 1, 1, 0, 1, 1, 1, 1, 1, 0, 1, 1, 1, 1, 1, 1, 1, 1, 1, 1, 1, 1, 1, 0, 1, 1, 1, 1, 0, 1, 1, 1, 1, 1, 1, 1, 1, 0, 1, 1, 1, 1, 1, 1, 1, 1, 1, 1, 1, 1, 1, 1, 1, 0, 1, 1, 1, 1, 1, 1, 1, 1, 1, 1, 0, 1, 1, 1, 1, 1, 1, 1, 1, 1, 1, 1, 1, 1, 1, 1, 1, 1, 1, 1, 1, 1, 1, 1, 1, 1, 1, 1, 1, 1, 0, 0, 1, 0, 1, 1, 1, 1, 1, 1, 1, 1, 0, 1, 1, 1, 1, 1, 1, 1, 1, 1, 1, 1, 1, 1, 1, 0, 1, 0, 1, 0, 1, 1, 1, 1, 1, 1, 1, 1, 1, 1, 1, 1, 1, 1, 1, 1, 0, 1, 1, 1, 1, 1, 1, 1, 1, 1, 1, 1, 1, 1, 1, 1, 1, 1, 1, 1, 1, 1, 1, 0, 1, 1, 1, 1, 0, 1, 1, 1, 1, 1, 1, 1, 1, 1, 1, 1, 1, 1, 1, 1, 1, 1, 1, 1, 1, 1, 1, 1, 1, 1, 1, 1, 1, 1, 1, 1, 1, 1, 0, 1, 1, 1, 1, 1, 1, 1, 1, 1, 1, 0, 1, 1, 0, 1, 1, 1, 1, 0, 1, 1, 1, 1, 1, 1, 1, 1, 1, 0, 1, 1, 1, 1, 0, 1, 1, 1, 1, 1, 1, 1, 1, 1, 1, 1, 1, 1, 1, 1, 1, 1, 1, 0, 1, 1, 1, 1, 1, 1, 1, 1, 1, 1, 1, 1, 1, 1, 0, 1, 1, 1, 0, 1, 1, 1, 1, 1, 0, 1, 1, 1, 1, 0, 1, 1, 1, 1, 1, 1, 1, 1, 0, 1, 1, 1, 1, 1, 1, 1, 1, 1, 1, 1, 1, 1, 1, 0, 1, 1, 1, 0, 1, 1, 1, 1, 1, 1, 1, 1, 1, 1, 1, 1, 1, 1, 1, 1, 1, 1, 1, 1, 1, 1, 1, 1, 1, 1, 1, 1, 1, 1, 1, 1, 1, 1, 1, 1, 1, 0, 0, 1, 1, 1, 1, 1, 1, 1, 1, 0, 1, 1, 1, 1, 1, 1, 1, 1, 1, 1, 1, 1, 1, 1, 1, 1, 1, 1, 1, 1, 1, 1, 1, 1, 1, 1, 1, 1, 1, 1, 1, 1, 1, 0, 1, 1, 1, 1, 0, 1, 1, 1, 0, 1, 1, 1, 1, 1, 1, 1, 1, 1, 1, 1, 1, 0, 1, 1, 1, 1, 1, 1, 1, 1, 1, 1, 1, 0, 1, 1, 1, 1, 1, 1, 1, 1, 1, 0, 1, 1, 1, 1, 1, 1, 1, 1, 1, 1, 1, 1, 1, 1, 0, 1, 1, 1, 1, 0, 1, 1, 1, 1, 1, 1, 1, 1, 1, 1, 1, 1, 1, 0, 1, 1, 1, 1, 1, 1, 1, 1, 1, 1, 1, 0, 1, 1, 1, 0, 1, 1, 1, 1, 1, 1, 1, 1, 1, 1, 0, 1, 1, 1, 1, 1, 1, 1, 1, 1, 1, 1, 1, 1, 1, 0, 1, 0, 1, 1, 1, 1, 1, 1, 1, 1, 1, 1, 1, 1, 1, 1, 0, 1, 1, 1, 1, 0, 1, 1, 0, 1, 1, 1, 0, 1, 1, 1, 1, 0, 1, 1, 1, 1, 0, 1, 1, 1, 1, 1, 1, 1, 1, 1, 1, 1, 1, 1, 1, 1, 1, 1, 0, 1, 1, 1, 1, 1, 1, 0, 1, 1, 0, 1, 1, 1, 1, 1, 1, 1, 1, 1, 1, 0, 1, 1, 1, 1, 1, 1, 1, 1, 1, 1, 0, 1, 1, 1, 1, 1, 1, 1, 1, 1, 1, 1, 1, 1, 1, 1, 1, 1, 1, 1, 1, 0, 1, 1, 0, 1, 0, 1, 1, 1, 0, 1, 1, 1, 1, 1, 1, 1, 1, 0, 1, 1, 0, 1, 1, 1, 1, 1, 1, 1, 1, 1, 1, 1, 1, 1, 0, 1, 1, 1, 1, 0, 1, 1, 1, 1, 1, 1, 1, 1, 1, 1, 0, 1, 1, 1, 1, 1, 1, 1, 1, 1, 1, 1, 1, 1, 1, 0, 1, 1, 1, 1, 1, 1, 1, 1, 1, 0, 0, 1, 1, 1, 1, 1, 1, 1, 1, 1, 0, 1, 1, 1, 1, 1, 1, 1, 1, 1, 1, 1, 1, 1, 1, 1, 1, 1, 1, 1, 1, 1, 1, 1, 0, 1, 1, 1, 1, 1, 1, 1, 1, 1, 1, 1, 1, 1, 1, 1, 1, 1, 1, 1, 1, 1, 1, 1, 1, 1, 1, 1, 1, 1, 1, 1, 0, 1, 1, 1, 1, 1, 0, 0, 1, 1, 1, 1, 1, 1, 1, 1, 1, 1, 1, 1, 1, 1, 1, 1, 1, 1, 1, 1, 1, 1, 1, 1, 1, 1, 1, 1, 1, 1, 1, 1, 1, 0, 1, 0, 1, 1, 1, 0, 1, 1, 1, 1, 1, 1, 1, 1, 1, 1, 1, 1, 1, 0, 1, 1, 1, 1, 1, 0, 1, 1, 1, 1, 1, 1, 1, 1, 1, 0, 1, 1, 1, 1, 1, 1, 1, 1, 1, 1, 1, 1, 1, 1, 1, 1, 0, 1, 1, 1, 1, 1, 1, 1, 1, 1, 1, 1, 0, 1, 1, 1, 1, 1, 1, 1, 1, 1, 1, 1, 1, 1, 1, 0, 1, 1, 1, 1, 1, 1, 1, 1, 1, 0, 1, 1, 1, 1, 1, 1, 1, 1, 1, 1, 1, 1, 1, 0, 1, 1, 0, 1, 1, 0, 1, 0, 1, 1, 1, 0, 1, 0, 1, 1, 0, 1, 1, 1, 1, 1, 1, 1, 1, 1, 1, 1, 0, 1, 1, 0, 1, 1, 1, 1, 1, 1, 1, 1, 1, 0, 0, 1, 1, 1, 1, 1, 1, 0, 1, 1, 1, 1, 1, 1, 0, 1, 0, 1, 0, 1, 1, 1, 1, 1, 1, 1, 1, 1, 1, 1, 1, 1, 1, 1, 1, 0, 0, 1, 0, 1, 1, 1, 1, 1, 1, 0, 0, 1, 1, 1, 1, 1, 0, 1, 1, 1, 1, 1, 1, 1, 1, 1, 1, 1, 1, 1, 0, 1, 1, 1, 1, 1, 1, 1, 1, 1, 1, 0, 1, 1, 1, 1, 1, 1, 1, 1, 0, 1, 1, 1, 1, 1, 1, 1, 1, 1, 1, 1, 1, 1, 1, 1, 1, 1, 1, 1, 1, 1, 1, 1, 1, 1, 1, 0, 1, 1, 0, 0, 1, 1, 0, 1, 1, 1, 1, 1, 1, 1, 1, 1, 1, 1, 1, 0, 1, 1, 0, 1, 1, 1, 1, 1, 0, 1, 1, 1, 1, 1, 1, 1, 1, 1, 1, 1, 1, 1, 1, 1, 1, 1, 1, 1, 1, 1, 1, 1, 1, 1, 1, 1, 1, 1, 1, 1, 1, 1, 1, 1, 1, 0, 1, 1, 1, 0, 1, 1, 1, 1, 1, 1, 1, 0, 1, 1, 1, 1, 1, 1, 1, 1, 1, 1, 1, 1, 1, 1, 1, 1, 1, 1, 1, 1, 1, 1, 1, 1, 1, 1, 1, 1, 1, 1, 1, 1, 1, 1, 1, 0, 1, 1, 1, 1, 1, 1, 1, 1, 1, 1, 1, 0, 1, 1, 1, 1, 1, 1, 1, 1, 1, 0, 1, 1, 1, 1, 1, 1, 1, 1, 1, 1, 1, 1, 1, 1, 1, 1, 1, 1, 1, 1, 1, 1, 1, 1, 0, 0, 1, 1, 1, 1, 1, 1, 1, 0, 1, 1, 1, 1, 1, 1, 1, 0, 1, 1, 1, 1, 1, 0, 1, 1, 1, 1, 1, 1, 1, 1, 1, 1, 1, 1, 0, 1, 1, 0, 1, 1, 1, 1, 1, 1, 0, 1, 1, 1, 1, 1, 1, 1, 1, 1, 1, 1, 1, 1, 1, 1, 1, 1, 0, 1, 1, 1, 1, 1, 1, 1, 0, 1, 1, 1, 1, 1, 1, 1, 0, 0, 1, 1, 1, 1, 1, 1, 1, 1, 1, 1, 1, 1, 1, 1, 0, 1, 1, 1, 1, 1, 1, 1, 1, 1, 1, 1, 1, 1, 1, 1, 1, 1, 1, 1, 1, 1, 1, 0, 0, 1, 1, 1, 1, 1, 1, 1, 1, 0, 1, 1, 1, 0, 1, 1, 1, 1, 1, 1, 1, 0, 1, 1, 1, 1, 1, 1, 0, 1, 1, 1, 1, 1, 1, 1, 1, 1, 1, 1, 1, 1, 1, 1, 1, 1, 0, 1, 1, 1, 1, 1, 1, 1, 1, 1, 1, 1, 1, 1, 1, 1, 1, 1, 1, 0, 1, 1, 1, 1, 1, 1, 1, 1, 1, 1, 1, 1, 1, 1, 1, 1, 1, 1, 1, 1, 1, 1, 0, 1, 1, 1, 1, 1, 1, 1, 1, 1, 1, 1, 0, 1, 1, 1, 1, 1, 1, 1, 1, 1, 1, 0, 0, 1, 1, 1, 1, 1, 1, 1, 1, 1, 1, 1, 1, 1, 1, 1, 1, 0, 1, 1, 1, 1, 1, 1, 0, 1, 0, 1, 1, 1, 1, 0, 0, 1, 1, 1, 1, 0, 1, 1, 1, 0, 1, 1, 1, 1, 1, 1, 1, 0, 1, 1, 1, 1, 1, 1, 1, 1, 1, 1, 1, 1, 1, 1, 1, 1, 1, 1, 1, 1, 1, 1, 1, 1, 1, 1, 1, 1, 1, 1, 1, 1, 1, 1, 1, 1, 1, 1, 1, 1, 1, 1, 1, 1, 1, 1, 1, 1, 1, 1, 1, 1, 1, 1, 1, 1, 1, 1, 1, 1, 1, 1, 1, 1, 1, 0, 1, 1, 1, 1, 1, 1, 1, 1, 1, 1, 0, 1, 1, 1, 0, 0, 0, 1, 1, 1, 1, 1, 1, 1, 1, 1, 1, 1, 1, 1, 1, 1, 1, 1, 1, 1, 0, 1, 1, 1, 0, 1, 0, 1, 1, 1, 1, 1, 1, 1, 1, 1, 1, 1, 1, 1, 1, 1, 1, 1, 1, 1, 1, 1, 0, 0, 1, 1, 1, 1, 1, 1, 1, 1, 1, 1, 1, 1, 1, 1, 1, 0, 1, 0, 1, 1, 0, 1, 1, 1, 1, 1, 0, 1, 0, 1, 1, 1, 1, 1, 1, 1, 1, 1, 1, 1, 0, 1, 1, 1, 1, 1, 0, 0, 1, 1, 1, 1, 1, 1, 1, 1, 1, 1, 1, 1, 1, 0, 1, 1, 1, 1, 1, 1, 1, 1, 1, 1, 1, 1, 1, 0, 1, 1, 1, 1, 1, 1, 1, 0, 1, 1, 0, 1, 1, 1, 1, 1, 1, 0, 1, 1, 1, 1, 1, 0, 1, 1, 1, 1, 1, 1, 1, 1, 1, 1, 1, 1, 1, 1, 1, 1, 0, 1, 0, 1, 1, 1, 1, 0, 1, 1, 1, 1, 0, 0, 1, 1, 1, 1, 1, 1, 1, 1, 1, 1, 0, 1, 1, 0, 1, 1, 1, 1, 1, 1, 0, 1, 1, 1, 1, 1, 1, 1, 0, 1, 1, 1, 1, 1, 1, 1, 1, 1, 1, 1, 1, 1, 1, 1, 1, 1, 0, 1, 1, 1, 1, 1, 1, 1, 1, 1, 1, 1, 1, 1, 1, 1, 1, 1, 0, 1, 1, 1, 1, 1, 1, 1, 1, 1, 1, 1, 1, 1, 1, 1, 1, 1, 1, 0, 1, 1, 1, 0, 1, 1, 1, 1, 1, 1, 1, 1, 1, 1, 1, 1, 1, 1, 1, 1, 1, 0, 1, 1, 1, 1, 1, 1, 0, 1, 1, 1, 1, 0, 1, 1, 1, 1, 1, 1, 1, 1, 1, 1, 1, 1, 1, 1, 1, 1, 1, 1, 1, 1, 1, 1, 1, 0, 0, 1, 0, 1, 1, 0, 1, 1, 1, 1, 1, 0, 0, 1, 1, 1, 1, 1, 1, 1, 1, 1, 1, 1, 1, 1, 1, 1, 1, 1, 0, 1, 1, 1, 1, 1, 1, 1, 1, 1, 1, 1, 1, 1, 1, 1, 1, 1, 1, 1, 1, 1, 1, 1, 1, 1, 1, 1, 1, 1, 1, 1, 1, 1, 1, 1, 1, 1, 1, 1, 1, 1, 0, 1, 1, 0, 1, 1, 1, 1, 1, 1, 1, 1, 1, 1, 1, 1, 1, 1, 1, 1, 1, 0, 1, 1, 1, 1, 1, 1, 1, 1, 1, 1, 1, 1, 1, 0, 1, 1, 1, 1, 1, 1, 1, 1, 1, 1, 1, 0, 1, 1, 0, 1, 1, 0, 1, 1, 1, 1, 1, 1, 1, 1, 1, 1, 1, 1, 1, 1, 1, 1, 1, 1, 0, 1, 1, 1, 1, 1, 1, 1, 1, 0, 1, 1, 0, 1, 1, 0, 1, 0, 1, 1, 0, 1, 1, 1, 1, 1, 1, 1, 1, 1, 0, 1, 1, 1, 1, 1, 1, 1, 1, 1, 1, 1, 0, 1, 1, 0, 1, 0, 0, 1, 1, 1, 1, 1, 1, 1, 1, 1, 1, 1, 1, 1, 1, 1, 1, 1, 1, 1, 1, 1, 1, 1, 1, 1, 1, 1, 1, 1, 1, 1, 1, 1, 1, 1, 1, 0, 1, 0, 1, 1, 1, 1, 1, 1, 1, 1, 1, 0, 1, 0, 1, 1, 1, 1, 1, 1, 1, 1, 1, 0, 1, 0, 1, 1, 1, 1, 1, 1, 1, 1, 1, 1, 1, 1, 1, 1, 0, 1, 1, 1, 1, 1, 1, 1, 1, 0, 1, 1, 1, 0, 1, 1, 0, 1, 1, 1, 1, 1, 1, 1, 1, 1, 1, 1, 1, 1, 1, 1, 1, 0, 0, 1, 1, 1, 1, 0, 1, 1, 1, 1, 1, 1, 1, 1, 1, 1, 1, 1, 1, 1, 1, 1, 0, 1, 1, 1, 1, 1, 1, 0, 1, 1, 1, 1, 1, 1, 1, 1, 1, 1, 1, 1, 0, 0, 1, 1, 1, 1, 1, 1, 1, 1, 0, 1, 1, 1, 1, 1, 1, 1, 0, 0, 1, 1, 1, 1, 1, 1, 1, 1, 1, 1, 1, 0, 1, 1, 1, 1, 1, 0, 0, 0, 1, 1, 1, 1, 1, 1, 1, 1, 1, 1, 1, 1, 1, 1, 0, 1, 0, 1, 0, 0, 1, 1, 1, 1, 1, 1, 1, 1, 0, 1, 1, 0, 1, 1, 0, 0, 1, 1, 1, 1, 1, 1, 1, 1, 1, 1, 0, 1, 1, 1, 1, 1, 1, 1, 1, 1, 1, 1, 1, 1, 1, 1, 1, 1, 1, 1, 0, 0, 1, 1, 0, 1, 1, 1, 1, 1, 1, 0, 1, 1, 1, 1, 0, 1, 1, 1, 1, 0, 1, 1, 1, 1, 1, 1, 0, 1, 0, 1, 1, 1, 1, 1, 0, 1, 1, 1, 1, 1, 0, 1, 1, 1, 1, 1, 1, 1, 1, 1, 0, 1, 1, 1, 1, 1, 1, 1, 1, 1, 1, 0, 1, 0, 1, 1, 1, 1, 1, 1, 1, 1, 1, 1, 1, 1, 0, 1, 1, 1, 1, 1, 1, 0, 1, 1, 1, 1, 0, 1, 0, 0, 0, 1, 1, 1, 1, 1, 1, 1, 1, 1, 1, 1, 1, 1, 1, 1, 1, 1, 1, 1, 1, 0, 1, 1, 1, 1, 1, 1, 1, 1, 1, 1, 1, 1, 1, 1, 1, 0, 1, 0, 1, 0, 1, 1, 1, 0, 1, 1, 0, 0, 1, 1, 1, 0, 1, 1, 1, 1, 1, 1, 1, 1, 1, 1, 1, 1, 1, 1, 1, 1, 1, 1, 1, 1, 1, 1, 1, 1, 1, 1, 1, 1, 1, 1, 1, 1, 1, 1, 0, 1, 1, 1, 1, 1, 1, 1, 1, 1, 1, 1, 1, 1, 1, 0, 1, 0, 0, 1, 0, 1, 1, 1, 0, 1, 1, 1, 1, 1, 1, 1, 1, 1, 1, 1, 0, 0, 1, 1, 1, 1, 1, 1, 0, 1, 1, 1, 1, 0, 1, 1, 1, 0, 1, 1, 1, 1, 1, 1, 1, 1, 1, 1, 1, 1, 0, 1, 1, 1, 1, 1, 1, 1, 1, 1, 0, 1, 1, 1, 1, 1, 1, 1, 1, 1, 1, 1, 1, 1, 1, 1, 1, 1, 1, 1, 1, 1, 1, 1, 1, 1, 0, 1, 1, 1, 1, 1, 1, 1, 1, 1, 1, 1, 1, 1, 1, 1, 1, 1, 1, 1, 1, 0, 1, 1, 1, 1, 1, 1, 1, 1, 1, 1, 1, 1, 1, 1, 1, 1, 0, 1, 1, 1, 1, 1, 1, 1, 1, 1, 1, 1, 1, 0, 1, 1, 1, 1, 1, 1, 1, 1, 0, 1, 1, 1, 1, 1, 1, 0, 1, 1, 1, 1, 1, 1, 0, 1, 1, 1, 1, 1, 1, 1, 1, 1, 1, 1, 1, 1, 1, 1, 1, 0, 1, 1, 1, 1, 1, 1, 0, 0, 1, 1, 1, 1, 1, 1, 1, 1, 1, 1, 0, 1, 1, 1, 0, 1, 1, 1, 0, 1, 1, 1, 1, 0, 1, 1, 1, 1, 1, 0, 1, 1, 1, 0, 1, 1, 1, 1, 1, 1, 0, 1, 1, 1, 1, 0, 1, 0, 1, 1, 1, 1, 1, 1, 1, 1, 0, 1, 1, 1, 1, 1, 1, 0, 1, 1, 1, 1, 1, 1, 1, 0, 1, 0, 1, 1, 1, 1, 1, 1, 1, 1, 1, 1, 1, 1, 0, 1, 0, 1, 1, 1, 1, 1, 0, 1, 1, 1, 1, 1, 1, 1, 1, 1, 1, 1, 0, 1, 0, 1, 1, 1, 1, 1, 1, 1, 1, 1, 1, 1, 1, 1, 1, 1, 1, 1, 1, 1, 0, 1, 1, 1, 1, 0, 1, 1, 1, 1, 1, 1, 1, 1, 1, 1, 1, 1, 0, 1, 1, 1, 0, 1, 1, 1, 1, 1, 1, 1, 0, 1, 1, 1, 1, 1, 1, 1, 1, 1, 1, 1, 1, 1, 1, 1, 1, 1, 1, 1, 1, 0, 1, 1, 1, 1, 1, 1, 0, 1, 1, 1, 1, 1, 1, 0, 1, 1, 1, 0, 1, 1, 0, 1, 1, 1, 1, 0, 1, 1, 1, 1, 1, 1, 1, 1, 1, 1, 1, 1, 0, 1, 1, 1, 1, 1, 1, 1, 1, 1, 0, 1, 1, 1, 1, 1, 1, 1, 0, 1, 0, 1, 1, 1, 1, 1, 1, 1, 1, 1, 1, 1, 1, 1, 1, 1, 1, 1, 1, 0, 1, 1, 1, 1, 1, 1, 1, 1, 0, 1, 1, 1, 1, 1, 1, 1, 1, 1, 1, 1, 1, 1, 0, 1, 1, 1, 0, 0, 1, 1, 1, 1, 1, 1, 1, 1, 0, 1, 1, 1, 1, 1, 1, 1, 1, 0, 1, 1, 1, 1, 0, 1, 1, 1, 1, 0, 1, 1, 1, 1, 1, 1, 1, 1, 1, 1, 1, 1, 1, 1, 1, 1, 1, 1, 1, 0, 1, 1, 1, 1, 1, 1, 1, 1, 1, 1, 1, 1, 1, 0, 1, 1, 1, 1, 1, 1, 1, 1, 1, 1, 1, 1, 1, 1, 1, 1, 1, 1, 1, 1, 1, 1, 1, 1, 1, 1, 1, 1, 1, 0, 1, 1, 1, 1, 1, 1, 1, 1, 0, 1, 1, 1, 1, 0, 0, 1, 1, 1, 1, 1, 1, 1, 1, 1, 1, 1, 0, 1, 1, 1, 1, 1, 0, 1, 1, 1, 1, 1, 1, 1, 1, 1, 1, 1, 1, 1, 1, 1, 1, 0, 1, 1, 1, 1, 1, 1, 1, 1, 1, 1, 1, 1, 1, 1, 1, 1, 1, 0, 1, 1, 0, 1, 1, 0, 1, 1, 1, 0, 0, 1, 1, 1, 1, 1, 1, 1, 1, 1, 0, 1, 0, 0, 1, 1, 1, 1, 1, 1, 1, 1, 0, 1, 1, 1, 1, 1, 1, 1, 0, 1, 1, 1, 1, 1, 1, 1, 1, 1, 1, 1, 1, 1, 1, 0, 0, 1, 0, 1, 1, 1, 1, 1, 1, 0, 1, 1, 0, 1, 1, 1, 1, 1, 1, 1, 1, 1, 1, 1, 0, 1, 1, 0, 0, 1, 1, 1, 1, 1, 1, 1, 1, 1, 0, 1, 1, 1, 1, 1, 1, 1, 1, 1, 1, 1, 1, 0, 1, 1, 1, 1, 1, 1, 1, 1, 1, 1]\n"
          ]
        }
      ]
    },
    {
      "cell_type": "markdown",
      "metadata": {
        "id": "wgcJewZTobFk"
      },
      "source": [
        "<img src='https://drive.google.com/uc?export=view&id=1GYj-wj-so8jQ9-VDz1ayehgVh39Jmd4H' width=250px>\r\n",
        "\r\n",
        "## **3.2** Positive/Negative Frequency"
      ]
    },
    {
      "cell_type": "markdown",
      "metadata": {
        "id": "gBpw9KYPHcz5"
      },
      "source": [
        "* Corpus of tweet tokens used for the first method"
      ]
    },
    {
      "cell_type": "code",
      "metadata": {
        "id": "VygUsA2VbNQv"
      },
      "source": [
        "corpus = [[\"i\", \"love\", \"nlp\"],\n",
        "          [\"i\", \"miss\", \"you\"],\n",
        "          [\"i\", \"love\", \"you\"],\n",
        "          [\"you\", \"are\", \"happy\", \"to\", \"learn\"],\n",
        "          [\"i\", \"lost\", \"my\", \"computer\"],\n",
        "          [\"i\", \"am\", \"so\", \"sad\"]]\n",
        "\n",
        "sentiment = [1, 0, 1, 1, 0, 0]"
      ],
      "execution_count": 89,
      "outputs": []
    },
    {
      "cell_type": "markdown",
      "metadata": {
        "id": "nLdGueKbv9o9"
      },
      "source": [
        "\r\n",
        "* Create a `build_freqs` function used to build a dictionnary with the word and sentiment as index and the count of occurence as value\r\n",
        "\r\n",
        "\r\n",
        "<table style=\"width:100%\">\r\n",
        "  <tr>\r\n",
        "    <th>Word</th>\r\n",
        "    <th>Positive</th>\r\n",
        "    <th>Negative</th>\r\n",
        "  </tr>\r\n",
        "  <tr>\r\n",
        "    <td>love</td>\r\n",
        "    <td>dict[(love, 1)]</td>\r\n",
        "    <td>dict[(love, 0)]</td>\r\n",
        "  </tr>\r\n",
        "  <tr>\r\n",
        "    <td>lost</td>\r\n",
        "    <td>dict[(lost, 1)]</td>\r\n",
        "    <td>dict[(lost, 0)]</td>\r\n",
        "  </tr>\r\n",
        "  <tr>\r\n",
        "    <td>happy</td>\r\n",
        "    <td>dict[(happy, 1)]</td>\r\n",
        "    <td>dict[(happy, 0)]</td>\r\n",
        "  </tr>\r\n",
        "</table>\r\n"
      ]
    },
    {
      "cell_type": "code",
      "metadata": {
        "id": "PSSP3EFyp9Nr"
      },
      "source": [
        "def build_freqs(tweet_list, sentiment_list):\n",
        "  freqs = {}\n",
        "  for tweet, sentiment in zip(tweet_list, sentiment_list):\n",
        "    for word in tweet:\n",
        "      pair = (word, sentiment)\n",
        "      if pair in freqs:\n",
        "        freqs[pair] += 1\n",
        "      else:\n",
        "        freqs[pair] = 1\n",
        "  return freqs"
      ],
      "execution_count": 90,
      "outputs": []
    },
    {
      "cell_type": "markdown",
      "metadata": {
        "id": "dpMlVUPPx136"
      },
      "source": [
        "* Build the frequency dictionnary on the corpus by using the function"
      ]
    },
    {
      "cell_type": "code",
      "metadata": {
        "id": "S58DffMwi5vN"
      },
      "source": [
        "freqs = build_freqs(corpus, sentiment)"
      ],
      "execution_count": 91,
      "outputs": []
    },
    {
      "cell_type": "code",
      "metadata": {
        "id": "Pb0BvLORtJql"
      },
      "source": [
        "print(freqs)"
      ],
      "execution_count": 92,
      "outputs": [
        {
          "output_type": "stream",
          "name": "stdout",
          "text": [
            "{('i', 1): 2, ('love', 1): 2, ('nlp', 1): 1, ('i', 0): 3, ('miss', 0): 1, ('you', 0): 1, ('you', 1): 2, ('are', 1): 1, ('happy', 1): 1, ('to', 1): 1, ('learn', 1): 1, ('lost', 0): 1, ('my', 0): 1, ('computer', 0): 1, ('am', 0): 1, ('so', 0): 1, ('sad', 0): 1}\n"
          ]
        }
      ]
    },
    {
      "cell_type": "markdown",
      "metadata": {
        "id": "64pK3pBlx_Hn"
      },
      "source": [
        "* Build the frequency dictionnary on the entire dataset by using the function"
      ]
    },
    {
      "cell_type": "code",
      "metadata": {
        "id": "6vnVv4TOi63Y"
      },
      "source": [
        "freqs_all = build_freqs(X, y)"
      ],
      "execution_count": 93,
      "outputs": []
    },
    {
      "cell_type": "code",
      "metadata": {
        "id": "mvafc_1fsktr"
      },
      "source": [
        "print(\"Frequency of word 'love' in + tweets: {}\".format(freqs_all[(\"love\", 1)]))\n",
        "print(\"Frequency of word 'love' in - tweets: {}\".format(freqs_all[(\"love\", 0)]))"
      ],
      "execution_count": 94,
      "outputs": [
        {
          "output_type": "stream",
          "name": "stdout",
          "text": [
            "Frequency of word 'love' in + tweets: 1358\nFrequency of word 'love' in - tweets: 67\n"
          ]
        }
      ]
    },
    {
      "cell_type": "markdown",
      "metadata": {
        "id": "KosMwShRyUTW"
      },
      "source": [
        "* Create a `tweet_to_freqs` function used to convert tweets to a 2-d array by using the frequency dictionnary"
      ]
    },
    {
      "cell_type": "code",
      "metadata": {
        "id": "6QoyYL6wtTBP"
      },
      "source": [
        "def tweet_to_freq(tweet, freqs):\n",
        "  x = np.zeros((2,))\n",
        "  for word in tweet:\n",
        "    if (word, 1) in freqs:\n",
        "      x[0] += freqs[(word, 1)]\n",
        "    if (word, 0) in freqs:\n",
        "      x[1] += freqs[(word, 0)]\n",
        "  return x"
      ],
      "execution_count": 95,
      "outputs": []
    },
    {
      "cell_type": "markdown",
      "metadata": {
        "id": "jjGynFT_JOKY"
      },
      "source": [
        "* Print the 2-d vector by using the `tweet_to_freqs` function and the *corpus* dictionnary"
      ]
    },
    {
      "cell_type": "code",
      "metadata": {
        "id": "2Nrowt5T0ZQl"
      },
      "source": [
        "print(tweet_to_freq([\"i\", \"love\", \"nlp\"], freqs))"
      ],
      "execution_count": 97,
      "outputs": [
        {
          "output_type": "stream",
          "name": "stdout",
          "text": [
            "[5. 3.]\n"
          ]
        }
      ]
    },
    {
      "cell_type": "markdown",
      "metadata": {
        "id": "o0csoh9UJWgP"
      },
      "source": [
        "* Print the 2-d vector by using the `tweet_to_freqs` function and the *dataset* dictionnary"
      ]
    },
    {
      "cell_type": "code",
      "metadata": {
        "id": "PTmNWLcD2QGn"
      },
      "source": [
        "print(tweet_to_freq([\"i\", \"love\", \"nlp\"], freqs_all))"
      ],
      "execution_count": 98,
      "outputs": [
        {
          "output_type": "stream",
          "name": "stdout",
          "text": [
            "[2528. 1739.]\n"
          ]
        }
      ]
    },
    {
      "cell_type": "markdown",
      "metadata": {
        "id": "WsLNWRrh2XQ9"
      },
      "source": [
        "* Plot word vectors in a chart and see where they locate"
      ]
    },
    {
      "cell_type": "code",
      "metadata": {
        "id": "JL3E5vRrxJrZ"
      },
      "source": [
        "fig, ax = plt.subplots(figsize = (8, 8))\n",
        "\n",
        "word1 = \"happi\"\n",
        "word2 = \"sad\"\n",
        "\n",
        "def word_features(word, freqs):\n",
        "  x = np.zeros((2,))\n",
        "  if (word, 1) in freqs:\n",
        "    x[0] = np.log(freqs[(word, 1)] + 1)\n",
        "  if (word, 0) in freqs:\n",
        "    x[1] = np.log(freqs[(word, 0)] + 1)\n",
        "  return x\n",
        "\n",
        "x_axis = [word_features(word, freqs_all)[0] for word in [word1, word2]]\n",
        "y_axis = [word_features(word, freqs_all)[1] for word in [word1, word2]]\n",
        "\n",
        "ax.scatter(x_axis, y_axis)  \n",
        "\n",
        "plt.xlabel(\"Log Positive count\")\n",
        "plt.ylabel(\"Log Negative count\")\n",
        "\n",
        "ax.plot([0, 9], [0, 9], color = 'red')\n",
        "plt.text(x_axis[0], y_axis[0], word1)\n",
        "plt.text(x_axis[1], y_axis[1], word2)\n",
        "plt.show()"
      ],
      "execution_count": 99,
      "outputs": [
        {
          "output_type": "display_data",
          "data": {
            "text/plain": "<Figure size 576x576 with 1 Axes>",
            "image/svg+xml": "<?xml version=\"1.0\" encoding=\"utf-8\" standalone=\"no\"?>\r\n<!DOCTYPE svg PUBLIC \"-//W3C//DTD SVG 1.1//EN\"\r\n  \"http://www.w3.org/Graphics/SVG/1.1/DTD/svg11.dtd\">\r\n<!-- Created with matplotlib (https://matplotlib.org/) -->\r\n<svg height=\"479.63625pt\" version=\"1.1\" viewBox=\"0 0 487.840625 479.63625\" width=\"487.840625pt\" xmlns=\"http://www.w3.org/2000/svg\" xmlns:xlink=\"http://www.w3.org/1999/xlink\">\r\n <metadata>\r\n  <rdf:RDF xmlns:cc=\"http://creativecommons.org/ns#\" xmlns:dc=\"http://purl.org/dc/elements/1.1/\" xmlns:rdf=\"http://www.w3.org/1999/02/22-rdf-syntax-ns#\">\r\n   <cc:Work>\r\n    <dc:type rdf:resource=\"http://purl.org/dc/dcmitype/StillImage\"/>\r\n    <dc:date>2021-04-24T20:50:28.843934</dc:date>\r\n    <dc:format>image/svg+xml</dc:format>\r\n    <dc:creator>\r\n     <cc:Agent>\r\n      <dc:title>Matplotlib v3.3.4, https://matplotlib.org/</dc:title>\r\n     </cc:Agent>\r\n    </dc:creator>\r\n   </cc:Work>\r\n  </rdf:RDF>\r\n </metadata>\r\n <defs>\r\n  <style type=\"text/css\">*{stroke-linecap:butt;stroke-linejoin:round;}</style>\r\n </defs>\r\n <g id=\"figure_1\">\r\n  <g id=\"patch_1\">\r\n   <path d=\"M 0 479.63625 \r\nL 487.840625 479.63625 \r\nL 487.840625 0 \r\nL 0 0 \r\nz\r\n\" style=\"fill:none;\"/>\r\n  </g>\r\n  <g id=\"axes_1\">\r\n   <g id=\"patch_2\">\r\n    <path d=\"M 34.240625 442.08 \r\nL 480.640625 442.08 \r\nL 480.640625 7.2 \r\nL 34.240625 7.2 \r\nz\r\n\" style=\"fill:#ffffff;\"/>\r\n   </g>\r\n   <g id=\"PathCollection_1\">\r\n    <defs>\r\n     <path d=\"M 0 3 \r\nC 0.795609 3 1.55874 2.683901 2.12132 2.12132 \r\nC 2.683901 1.55874 3 0.795609 3 0 \r\nC 3 -0.795609 2.683901 -1.55874 2.12132 -2.12132 \r\nC 1.55874 -2.683901 0.795609 -3 0 -3 \r\nC -0.795609 -3 -1.55874 -2.683901 -2.12132 -2.12132 \r\nC -2.683901 -1.55874 -3 -0.795609 -3 0 \r\nC -3 0.795609 -2.683901 1.55874 -2.12132 2.12132 \r\nC -1.55874 2.683901 -0.795609 3 0 3 \r\nz\r\n\" id=\"m7c40c7235c\" style=\"stroke:#1f77b4;\"/>\r\n    </defs>\r\n    <g clip-path=\"url(#p1668a474b7)\">\r\n     <use style=\"fill:#1f77b4;stroke:#1f77b4;\" x=\"366.812918\" xlink:href=\"#m7c40c7235c\" y=\"246.28151\"/>\r\n     <use style=\"fill:#1f77b4;stroke:#1f77b4;\" x=\"153.606388\" xlink:href=\"#m7c40c7235c\" y=\"148.62467\"/>\r\n    </g>\r\n   </g>\r\n   <g id=\"matplotlib.axis_1\">\r\n    <g id=\"xtick_1\">\r\n     <g id=\"line2d_1\">\r\n      <defs>\r\n       <path d=\"M 0 0 \r\nL 0 3.5 \r\n\" id=\"maccff2454e\" style=\"stroke:#000000;stroke-width:0.8;\"/>\r\n      </defs>\r\n      <g>\r\n       <use style=\"stroke:#000000;stroke-width:0.8;\" x=\"54.531534\" xlink:href=\"#maccff2454e\" y=\"442.08\"/>\r\n      </g>\r\n     </g>\r\n     <g id=\"text_1\">\r\n      <!-- 0 -->\r\n      <g transform=\"translate(51.350284 456.678437)scale(0.1 -0.1)\">\r\n       <defs>\r\n        <path d=\"M 31.78125 66.40625 \r\nQ 24.171875 66.40625 20.328125 58.90625 \r\nQ 16.5 51.421875 16.5 36.375 \r\nQ 16.5 21.390625 20.328125 13.890625 \r\nQ 24.171875 6.390625 31.78125 6.390625 \r\nQ 39.453125 6.390625 43.28125 13.890625 \r\nQ 47.125 21.390625 47.125 36.375 \r\nQ 47.125 51.421875 43.28125 58.90625 \r\nQ 39.453125 66.40625 31.78125 66.40625 \r\nz\r\nM 31.78125 74.21875 \r\nQ 44.046875 74.21875 50.515625 64.515625 \r\nQ 56.984375 54.828125 56.984375 36.375 \r\nQ 56.984375 17.96875 50.515625 8.265625 \r\nQ 44.046875 -1.421875 31.78125 -1.421875 \r\nQ 19.53125 -1.421875 13.0625 8.265625 \r\nQ 6.59375 17.96875 6.59375 36.375 \r\nQ 6.59375 54.828125 13.0625 64.515625 \r\nQ 19.53125 74.21875 31.78125 74.21875 \r\nz\r\n\" id=\"DejaVuSans-48\"/>\r\n       </defs>\r\n       <use xlink:href=\"#DejaVuSans-48\"/>\r\n      </g>\r\n     </g>\r\n    </g>\r\n    <g id=\"xtick_2\">\r\n     <g id=\"line2d_2\">\r\n      <g>\r\n       <use style=\"stroke:#000000;stroke-width:0.8;\" x=\"144.713352\" xlink:href=\"#maccff2454e\" y=\"442.08\"/>\r\n      </g>\r\n     </g>\r\n     <g id=\"text_2\">\r\n      <!-- 2 -->\r\n      <g transform=\"translate(141.532102 456.678437)scale(0.1 -0.1)\">\r\n       <defs>\r\n        <path d=\"M 19.1875 8.296875 \r\nL 53.609375 8.296875 \r\nL 53.609375 0 \r\nL 7.328125 0 \r\nL 7.328125 8.296875 \r\nQ 12.9375 14.109375 22.625 23.890625 \r\nQ 32.328125 33.6875 34.8125 36.53125 \r\nQ 39.546875 41.84375 41.421875 45.53125 \r\nQ 43.3125 49.21875 43.3125 52.78125 \r\nQ 43.3125 58.59375 39.234375 62.25 \r\nQ 35.15625 65.921875 28.609375 65.921875 \r\nQ 23.96875 65.921875 18.8125 64.3125 \r\nQ 13.671875 62.703125 7.8125 59.421875 \r\nL 7.8125 69.390625 \r\nQ 13.765625 71.78125 18.9375 73 \r\nQ 24.125 74.21875 28.421875 74.21875 \r\nQ 39.75 74.21875 46.484375 68.546875 \r\nQ 53.21875 62.890625 53.21875 53.421875 \r\nQ 53.21875 48.921875 51.53125 44.890625 \r\nQ 49.859375 40.875 45.40625 35.40625 \r\nQ 44.1875 33.984375 37.640625 27.21875 \r\nQ 31.109375 20.453125 19.1875 8.296875 \r\nz\r\n\" id=\"DejaVuSans-50\"/>\r\n       </defs>\r\n       <use xlink:href=\"#DejaVuSans-50\"/>\r\n      </g>\r\n     </g>\r\n    </g>\r\n    <g id=\"xtick_3\">\r\n     <g id=\"line2d_3\">\r\n      <g>\r\n       <use style=\"stroke:#000000;stroke-width:0.8;\" x=\"234.89517\" xlink:href=\"#maccff2454e\" y=\"442.08\"/>\r\n      </g>\r\n     </g>\r\n     <g id=\"text_3\">\r\n      <!-- 4 -->\r\n      <g transform=\"translate(231.71392 456.678437)scale(0.1 -0.1)\">\r\n       <defs>\r\n        <path d=\"M 37.796875 64.3125 \r\nL 12.890625 25.390625 \r\nL 37.796875 25.390625 \r\nz\r\nM 35.203125 72.90625 \r\nL 47.609375 72.90625 \r\nL 47.609375 25.390625 \r\nL 58.015625 25.390625 \r\nL 58.015625 17.1875 \r\nL 47.609375 17.1875 \r\nL 47.609375 0 \r\nL 37.796875 0 \r\nL 37.796875 17.1875 \r\nL 4.890625 17.1875 \r\nL 4.890625 26.703125 \r\nz\r\n\" id=\"DejaVuSans-52\"/>\r\n       </defs>\r\n       <use xlink:href=\"#DejaVuSans-52\"/>\r\n      </g>\r\n     </g>\r\n    </g>\r\n    <g id=\"xtick_4\">\r\n     <g id=\"line2d_4\">\r\n      <g>\r\n       <use style=\"stroke:#000000;stroke-width:0.8;\" x=\"325.076989\" xlink:href=\"#maccff2454e\" y=\"442.08\"/>\r\n      </g>\r\n     </g>\r\n     <g id=\"text_4\">\r\n      <!-- 6 -->\r\n      <g transform=\"translate(321.895739 456.678437)scale(0.1 -0.1)\">\r\n       <defs>\r\n        <path d=\"M 33.015625 40.375 \r\nQ 26.375 40.375 22.484375 35.828125 \r\nQ 18.609375 31.296875 18.609375 23.390625 \r\nQ 18.609375 15.53125 22.484375 10.953125 \r\nQ 26.375 6.390625 33.015625 6.390625 \r\nQ 39.65625 6.390625 43.53125 10.953125 \r\nQ 47.40625 15.53125 47.40625 23.390625 \r\nQ 47.40625 31.296875 43.53125 35.828125 \r\nQ 39.65625 40.375 33.015625 40.375 \r\nz\r\nM 52.59375 71.296875 \r\nL 52.59375 62.3125 \r\nQ 48.875 64.0625 45.09375 64.984375 \r\nQ 41.3125 65.921875 37.59375 65.921875 \r\nQ 27.828125 65.921875 22.671875 59.328125 \r\nQ 17.53125 52.734375 16.796875 39.40625 \r\nQ 19.671875 43.65625 24.015625 45.921875 \r\nQ 28.375 48.1875 33.59375 48.1875 \r\nQ 44.578125 48.1875 50.953125 41.515625 \r\nQ 57.328125 34.859375 57.328125 23.390625 \r\nQ 57.328125 12.15625 50.6875 5.359375 \r\nQ 44.046875 -1.421875 33.015625 -1.421875 \r\nQ 20.359375 -1.421875 13.671875 8.265625 \r\nQ 6.984375 17.96875 6.984375 36.375 \r\nQ 6.984375 53.65625 15.1875 63.9375 \r\nQ 23.390625 74.21875 37.203125 74.21875 \r\nQ 40.921875 74.21875 44.703125 73.484375 \r\nQ 48.484375 72.75 52.59375 71.296875 \r\nz\r\n\" id=\"DejaVuSans-54\"/>\r\n       </defs>\r\n       <use xlink:href=\"#DejaVuSans-54\"/>\r\n      </g>\r\n     </g>\r\n    </g>\r\n    <g id=\"xtick_5\">\r\n     <g id=\"line2d_5\">\r\n      <g>\r\n       <use style=\"stroke:#000000;stroke-width:0.8;\" x=\"415.258807\" xlink:href=\"#maccff2454e\" y=\"442.08\"/>\r\n      </g>\r\n     </g>\r\n     <g id=\"text_5\">\r\n      <!-- 8 -->\r\n      <g transform=\"translate(412.077557 456.678437)scale(0.1 -0.1)\">\r\n       <defs>\r\n        <path d=\"M 31.78125 34.625 \r\nQ 24.75 34.625 20.71875 30.859375 \r\nQ 16.703125 27.09375 16.703125 20.515625 \r\nQ 16.703125 13.921875 20.71875 10.15625 \r\nQ 24.75 6.390625 31.78125 6.390625 \r\nQ 38.8125 6.390625 42.859375 10.171875 \r\nQ 46.921875 13.96875 46.921875 20.515625 \r\nQ 46.921875 27.09375 42.890625 30.859375 \r\nQ 38.875 34.625 31.78125 34.625 \r\nz\r\nM 21.921875 38.8125 \r\nQ 15.578125 40.375 12.03125 44.71875 \r\nQ 8.5 49.078125 8.5 55.328125 \r\nQ 8.5 64.0625 14.71875 69.140625 \r\nQ 20.953125 74.21875 31.78125 74.21875 \r\nQ 42.671875 74.21875 48.875 69.140625 \r\nQ 55.078125 64.0625 55.078125 55.328125 \r\nQ 55.078125 49.078125 51.53125 44.71875 \r\nQ 48 40.375 41.703125 38.8125 \r\nQ 48.828125 37.15625 52.796875 32.3125 \r\nQ 56.78125 27.484375 56.78125 20.515625 \r\nQ 56.78125 9.90625 50.3125 4.234375 \r\nQ 43.84375 -1.421875 31.78125 -1.421875 \r\nQ 19.734375 -1.421875 13.25 4.234375 \r\nQ 6.78125 9.90625 6.78125 20.515625 \r\nQ 6.78125 27.484375 10.78125 32.3125 \r\nQ 14.796875 37.15625 21.921875 38.8125 \r\nz\r\nM 18.3125 54.390625 \r\nQ 18.3125 48.734375 21.84375 45.5625 \r\nQ 25.390625 42.390625 31.78125 42.390625 \r\nQ 38.140625 42.390625 41.71875 45.5625 \r\nQ 45.3125 48.734375 45.3125 54.390625 \r\nQ 45.3125 60.0625 41.71875 63.234375 \r\nQ 38.140625 66.40625 31.78125 66.40625 \r\nQ 25.390625 66.40625 21.84375 63.234375 \r\nQ 18.3125 60.0625 18.3125 54.390625 \r\nz\r\n\" id=\"DejaVuSans-56\"/>\r\n       </defs>\r\n       <use xlink:href=\"#DejaVuSans-56\"/>\r\n      </g>\r\n     </g>\r\n    </g>\r\n    <g id=\"text_6\">\r\n     <!-- Log Positive count -->\r\n     <g transform=\"translate(211.952344 470.356562)scale(0.1 -0.1)\">\r\n      <defs>\r\n       <path d=\"M 9.8125 72.90625 \r\nL 19.671875 72.90625 \r\nL 19.671875 8.296875 \r\nL 55.171875 8.296875 \r\nL 55.171875 0 \r\nL 9.8125 0 \r\nz\r\n\" id=\"DejaVuSans-76\"/>\r\n       <path d=\"M 30.609375 48.390625 \r\nQ 23.390625 48.390625 19.1875 42.75 \r\nQ 14.984375 37.109375 14.984375 27.296875 \r\nQ 14.984375 17.484375 19.15625 11.84375 \r\nQ 23.34375 6.203125 30.609375 6.203125 \r\nQ 37.796875 6.203125 41.984375 11.859375 \r\nQ 46.1875 17.53125 46.1875 27.296875 \r\nQ 46.1875 37.015625 41.984375 42.703125 \r\nQ 37.796875 48.390625 30.609375 48.390625 \r\nz\r\nM 30.609375 56 \r\nQ 42.328125 56 49.015625 48.375 \r\nQ 55.71875 40.765625 55.71875 27.296875 \r\nQ 55.71875 13.875 49.015625 6.21875 \r\nQ 42.328125 -1.421875 30.609375 -1.421875 \r\nQ 18.84375 -1.421875 12.171875 6.21875 \r\nQ 5.515625 13.875 5.515625 27.296875 \r\nQ 5.515625 40.765625 12.171875 48.375 \r\nQ 18.84375 56 30.609375 56 \r\nz\r\n\" id=\"DejaVuSans-111\"/>\r\n       <path d=\"M 45.40625 27.984375 \r\nQ 45.40625 37.75 41.375 43.109375 \r\nQ 37.359375 48.484375 30.078125 48.484375 \r\nQ 22.859375 48.484375 18.828125 43.109375 \r\nQ 14.796875 37.75 14.796875 27.984375 \r\nQ 14.796875 18.265625 18.828125 12.890625 \r\nQ 22.859375 7.515625 30.078125 7.515625 \r\nQ 37.359375 7.515625 41.375 12.890625 \r\nQ 45.40625 18.265625 45.40625 27.984375 \r\nz\r\nM 54.390625 6.78125 \r\nQ 54.390625 -7.171875 48.1875 -13.984375 \r\nQ 42 -20.796875 29.203125 -20.796875 \r\nQ 24.46875 -20.796875 20.265625 -20.09375 \r\nQ 16.0625 -19.390625 12.109375 -17.921875 \r\nL 12.109375 -9.1875 \r\nQ 16.0625 -11.328125 19.921875 -12.34375 \r\nQ 23.78125 -13.375 27.78125 -13.375 \r\nQ 36.625 -13.375 41.015625 -8.765625 \r\nQ 45.40625 -4.15625 45.40625 5.171875 \r\nL 45.40625 9.625 \r\nQ 42.625 4.78125 38.28125 2.390625 \r\nQ 33.9375 0 27.875 0 \r\nQ 17.828125 0 11.671875 7.65625 \r\nQ 5.515625 15.328125 5.515625 27.984375 \r\nQ 5.515625 40.671875 11.671875 48.328125 \r\nQ 17.828125 56 27.875 56 \r\nQ 33.9375 56 38.28125 53.609375 \r\nQ 42.625 51.21875 45.40625 46.390625 \r\nL 45.40625 54.6875 \r\nL 54.390625 54.6875 \r\nz\r\n\" id=\"DejaVuSans-103\"/>\r\n       <path id=\"DejaVuSans-32\"/>\r\n       <path d=\"M 19.671875 64.796875 \r\nL 19.671875 37.40625 \r\nL 32.078125 37.40625 \r\nQ 38.96875 37.40625 42.71875 40.96875 \r\nQ 46.484375 44.53125 46.484375 51.125 \r\nQ 46.484375 57.671875 42.71875 61.234375 \r\nQ 38.96875 64.796875 32.078125 64.796875 \r\nz\r\nM 9.8125 72.90625 \r\nL 32.078125 72.90625 \r\nQ 44.34375 72.90625 50.609375 67.359375 \r\nQ 56.890625 61.8125 56.890625 51.125 \r\nQ 56.890625 40.328125 50.609375 34.8125 \r\nQ 44.34375 29.296875 32.078125 29.296875 \r\nL 19.671875 29.296875 \r\nL 19.671875 0 \r\nL 9.8125 0 \r\nz\r\n\" id=\"DejaVuSans-80\"/>\r\n       <path d=\"M 44.28125 53.078125 \r\nL 44.28125 44.578125 \r\nQ 40.484375 46.53125 36.375 47.5 \r\nQ 32.28125 48.484375 27.875 48.484375 \r\nQ 21.1875 48.484375 17.84375 46.4375 \r\nQ 14.5 44.390625 14.5 40.28125 \r\nQ 14.5 37.15625 16.890625 35.375 \r\nQ 19.28125 33.59375 26.515625 31.984375 \r\nL 29.59375 31.296875 \r\nQ 39.15625 29.25 43.1875 25.515625 \r\nQ 47.21875 21.78125 47.21875 15.09375 \r\nQ 47.21875 7.46875 41.1875 3.015625 \r\nQ 35.15625 -1.421875 24.609375 -1.421875 \r\nQ 20.21875 -1.421875 15.453125 -0.5625 \r\nQ 10.6875 0.296875 5.421875 2 \r\nL 5.421875 11.28125 \r\nQ 10.40625 8.6875 15.234375 7.390625 \r\nQ 20.0625 6.109375 24.8125 6.109375 \r\nQ 31.15625 6.109375 34.5625 8.28125 \r\nQ 37.984375 10.453125 37.984375 14.40625 \r\nQ 37.984375 18.0625 35.515625 20.015625 \r\nQ 33.0625 21.96875 24.703125 23.78125 \r\nL 21.578125 24.515625 \r\nQ 13.234375 26.265625 9.515625 29.90625 \r\nQ 5.8125 33.546875 5.8125 39.890625 \r\nQ 5.8125 47.609375 11.28125 51.796875 \r\nQ 16.75 56 26.8125 56 \r\nQ 31.78125 56 36.171875 55.265625 \r\nQ 40.578125 54.546875 44.28125 53.078125 \r\nz\r\n\" id=\"DejaVuSans-115\"/>\r\n       <path d=\"M 9.421875 54.6875 \r\nL 18.40625 54.6875 \r\nL 18.40625 0 \r\nL 9.421875 0 \r\nz\r\nM 9.421875 75.984375 \r\nL 18.40625 75.984375 \r\nL 18.40625 64.59375 \r\nL 9.421875 64.59375 \r\nz\r\n\" id=\"DejaVuSans-105\"/>\r\n       <path d=\"M 18.3125 70.21875 \r\nL 18.3125 54.6875 \r\nL 36.8125 54.6875 \r\nL 36.8125 47.703125 \r\nL 18.3125 47.703125 \r\nL 18.3125 18.015625 \r\nQ 18.3125 11.328125 20.140625 9.421875 \r\nQ 21.96875 7.515625 27.59375 7.515625 \r\nL 36.8125 7.515625 \r\nL 36.8125 0 \r\nL 27.59375 0 \r\nQ 17.1875 0 13.234375 3.875 \r\nQ 9.28125 7.765625 9.28125 18.015625 \r\nL 9.28125 47.703125 \r\nL 2.6875 47.703125 \r\nL 2.6875 54.6875 \r\nL 9.28125 54.6875 \r\nL 9.28125 70.21875 \r\nz\r\n\" id=\"DejaVuSans-116\"/>\r\n       <path d=\"M 2.984375 54.6875 \r\nL 12.5 54.6875 \r\nL 29.59375 8.796875 \r\nL 46.6875 54.6875 \r\nL 56.203125 54.6875 \r\nL 35.6875 0 \r\nL 23.484375 0 \r\nz\r\n\" id=\"DejaVuSans-118\"/>\r\n       <path d=\"M 56.203125 29.59375 \r\nL 56.203125 25.203125 \r\nL 14.890625 25.203125 \r\nQ 15.484375 15.921875 20.484375 11.0625 \r\nQ 25.484375 6.203125 34.421875 6.203125 \r\nQ 39.59375 6.203125 44.453125 7.46875 \r\nQ 49.3125 8.734375 54.109375 11.28125 \r\nL 54.109375 2.78125 \r\nQ 49.265625 0.734375 44.1875 -0.34375 \r\nQ 39.109375 -1.421875 33.890625 -1.421875 \r\nQ 20.796875 -1.421875 13.15625 6.1875 \r\nQ 5.515625 13.8125 5.515625 26.8125 \r\nQ 5.515625 40.234375 12.765625 48.109375 \r\nQ 20.015625 56 32.328125 56 \r\nQ 43.359375 56 49.78125 48.890625 \r\nQ 56.203125 41.796875 56.203125 29.59375 \r\nz\r\nM 47.21875 32.234375 \r\nQ 47.125 39.59375 43.09375 43.984375 \r\nQ 39.0625 48.390625 32.421875 48.390625 \r\nQ 24.90625 48.390625 20.390625 44.140625 \r\nQ 15.875 39.890625 15.1875 32.171875 \r\nz\r\n\" id=\"DejaVuSans-101\"/>\r\n       <path d=\"M 48.78125 52.59375 \r\nL 48.78125 44.1875 \r\nQ 44.96875 46.296875 41.140625 47.34375 \r\nQ 37.3125 48.390625 33.40625 48.390625 \r\nQ 24.65625 48.390625 19.8125 42.84375 \r\nQ 14.984375 37.3125 14.984375 27.296875 \r\nQ 14.984375 17.28125 19.8125 11.734375 \r\nQ 24.65625 6.203125 33.40625 6.203125 \r\nQ 37.3125 6.203125 41.140625 7.25 \r\nQ 44.96875 8.296875 48.78125 10.40625 \r\nL 48.78125 2.09375 \r\nQ 45.015625 0.34375 40.984375 -0.53125 \r\nQ 36.96875 -1.421875 32.421875 -1.421875 \r\nQ 20.0625 -1.421875 12.78125 6.34375 \r\nQ 5.515625 14.109375 5.515625 27.296875 \r\nQ 5.515625 40.671875 12.859375 48.328125 \r\nQ 20.21875 56 33.015625 56 \r\nQ 37.15625 56 41.109375 55.140625 \r\nQ 45.0625 54.296875 48.78125 52.59375 \r\nz\r\n\" id=\"DejaVuSans-99\"/>\r\n       <path d=\"M 8.5 21.578125 \r\nL 8.5 54.6875 \r\nL 17.484375 54.6875 \r\nL 17.484375 21.921875 \r\nQ 17.484375 14.15625 20.5 10.265625 \r\nQ 23.53125 6.390625 29.59375 6.390625 \r\nQ 36.859375 6.390625 41.078125 11.03125 \r\nQ 45.3125 15.671875 45.3125 23.6875 \r\nL 45.3125 54.6875 \r\nL 54.296875 54.6875 \r\nL 54.296875 0 \r\nL 45.3125 0 \r\nL 45.3125 8.40625 \r\nQ 42.046875 3.421875 37.71875 1 \r\nQ 33.40625 -1.421875 27.6875 -1.421875 \r\nQ 18.265625 -1.421875 13.375 4.4375 \r\nQ 8.5 10.296875 8.5 21.578125 \r\nz\r\nM 31.109375 56 \r\nz\r\n\" id=\"DejaVuSans-117\"/>\r\n       <path d=\"M 54.890625 33.015625 \r\nL 54.890625 0 \r\nL 45.90625 0 \r\nL 45.90625 32.71875 \r\nQ 45.90625 40.484375 42.875 44.328125 \r\nQ 39.84375 48.1875 33.796875 48.1875 \r\nQ 26.515625 48.1875 22.3125 43.546875 \r\nQ 18.109375 38.921875 18.109375 30.90625 \r\nL 18.109375 0 \r\nL 9.078125 0 \r\nL 9.078125 54.6875 \r\nL 18.109375 54.6875 \r\nL 18.109375 46.1875 \r\nQ 21.34375 51.125 25.703125 53.5625 \r\nQ 30.078125 56 35.796875 56 \r\nQ 45.21875 56 50.046875 50.171875 \r\nQ 54.890625 44.34375 54.890625 33.015625 \r\nz\r\n\" id=\"DejaVuSans-110\"/>\r\n      </defs>\r\n      <use xlink:href=\"#DejaVuSans-76\"/>\r\n      <use x=\"53.962891\" xlink:href=\"#DejaVuSans-111\"/>\r\n      <use x=\"115.144531\" xlink:href=\"#DejaVuSans-103\"/>\r\n      <use x=\"178.621094\" xlink:href=\"#DejaVuSans-32\"/>\r\n      <use x=\"210.408203\" xlink:href=\"#DejaVuSans-80\"/>\r\n      <use x=\"267.085938\" xlink:href=\"#DejaVuSans-111\"/>\r\n      <use x=\"328.267578\" xlink:href=\"#DejaVuSans-115\"/>\r\n      <use x=\"380.367188\" xlink:href=\"#DejaVuSans-105\"/>\r\n      <use x=\"408.150391\" xlink:href=\"#DejaVuSans-116\"/>\r\n      <use x=\"447.359375\" xlink:href=\"#DejaVuSans-105\"/>\r\n      <use x=\"475.142578\" xlink:href=\"#DejaVuSans-118\"/>\r\n      <use x=\"534.322266\" xlink:href=\"#DejaVuSans-101\"/>\r\n      <use x=\"595.845703\" xlink:href=\"#DejaVuSans-32\"/>\r\n      <use x=\"627.632812\" xlink:href=\"#DejaVuSans-99\"/>\r\n      <use x=\"682.613281\" xlink:href=\"#DejaVuSans-111\"/>\r\n      <use x=\"743.794922\" xlink:href=\"#DejaVuSans-117\"/>\r\n      <use x=\"807.173828\" xlink:href=\"#DejaVuSans-110\"/>\r\n      <use x=\"870.552734\" xlink:href=\"#DejaVuSans-116\"/>\r\n     </g>\r\n    </g>\r\n   </g>\r\n   <g id=\"matplotlib.axis_2\">\r\n    <g id=\"ytick_1\">\r\n     <g id=\"line2d_6\">\r\n      <defs>\r\n       <path d=\"M 0 0 \r\nL -3.5 0 \r\n\" id=\"m76776d53db\" style=\"stroke:#000000;stroke-width:0.8;\"/>\r\n      </defs>\r\n      <g>\r\n       <use style=\"stroke:#000000;stroke-width:0.8;\" x=\"34.240625\" xlink:href=\"#m76776d53db\" y=\"422.312727\"/>\r\n      </g>\r\n     </g>\r\n     <g id=\"text_7\">\r\n      <!-- 0 -->\r\n      <g transform=\"translate(20.878125 426.111946)scale(0.1 -0.1)\">\r\n       <use xlink:href=\"#DejaVuSans-48\"/>\r\n      </g>\r\n     </g>\r\n    </g>\r\n    <g id=\"ytick_2\">\r\n     <g id=\"line2d_7\">\r\n      <g>\r\n       <use style=\"stroke:#000000;stroke-width:0.8;\" x=\"34.240625\" xlink:href=\"#m76776d53db\" y=\"334.458182\"/>\r\n      </g>\r\n     </g>\r\n     <g id=\"text_8\">\r\n      <!-- 2 -->\r\n      <g transform=\"translate(20.878125 338.257401)scale(0.1 -0.1)\">\r\n       <use xlink:href=\"#DejaVuSans-50\"/>\r\n      </g>\r\n     </g>\r\n    </g>\r\n    <g id=\"ytick_3\">\r\n     <g id=\"line2d_8\">\r\n      <g>\r\n       <use style=\"stroke:#000000;stroke-width:0.8;\" x=\"34.240625\" xlink:href=\"#m76776d53db\" y=\"246.603636\"/>\r\n      </g>\r\n     </g>\r\n     <g id=\"text_9\">\r\n      <!-- 4 -->\r\n      <g transform=\"translate(20.878125 250.402855)scale(0.1 -0.1)\">\r\n       <use xlink:href=\"#DejaVuSans-52\"/>\r\n      </g>\r\n     </g>\r\n    </g>\r\n    <g id=\"ytick_4\">\r\n     <g id=\"line2d_9\">\r\n      <g>\r\n       <use style=\"stroke:#000000;stroke-width:0.8;\" x=\"34.240625\" xlink:href=\"#m76776d53db\" y=\"158.749091\"/>\r\n      </g>\r\n     </g>\r\n     <g id=\"text_10\">\r\n      <!-- 6 -->\r\n      <g transform=\"translate(20.878125 162.54831)scale(0.1 -0.1)\">\r\n       <use xlink:href=\"#DejaVuSans-54\"/>\r\n      </g>\r\n     </g>\r\n    </g>\r\n    <g id=\"ytick_5\">\r\n     <g id=\"line2d_10\">\r\n      <g>\r\n       <use style=\"stroke:#000000;stroke-width:0.8;\" x=\"34.240625\" xlink:href=\"#m76776d53db\" y=\"70.894545\"/>\r\n      </g>\r\n     </g>\r\n     <g id=\"text_11\">\r\n      <!-- 8 -->\r\n      <g transform=\"translate(20.878125 74.693764)scale(0.1 -0.1)\">\r\n       <use xlink:href=\"#DejaVuSans-56\"/>\r\n      </g>\r\n     </g>\r\n    </g>\r\n    <g id=\"text_12\">\r\n     <!-- Log Negative count -->\r\n     <g transform=\"translate(14.798438 273.297031)rotate(-90)scale(0.1 -0.1)\">\r\n      <defs>\r\n       <path d=\"M 9.8125 72.90625 \r\nL 23.09375 72.90625 \r\nL 55.421875 11.921875 \r\nL 55.421875 72.90625 \r\nL 64.984375 72.90625 \r\nL 64.984375 0 \r\nL 51.703125 0 \r\nL 19.390625 60.984375 \r\nL 19.390625 0 \r\nL 9.8125 0 \r\nz\r\n\" id=\"DejaVuSans-78\"/>\r\n       <path d=\"M 34.28125 27.484375 \r\nQ 23.390625 27.484375 19.1875 25 \r\nQ 14.984375 22.515625 14.984375 16.5 \r\nQ 14.984375 11.71875 18.140625 8.90625 \r\nQ 21.296875 6.109375 26.703125 6.109375 \r\nQ 34.1875 6.109375 38.703125 11.40625 \r\nQ 43.21875 16.703125 43.21875 25.484375 \r\nL 43.21875 27.484375 \r\nz\r\nM 52.203125 31.203125 \r\nL 52.203125 0 \r\nL 43.21875 0 \r\nL 43.21875 8.296875 \r\nQ 40.140625 3.328125 35.546875 0.953125 \r\nQ 30.953125 -1.421875 24.3125 -1.421875 \r\nQ 15.921875 -1.421875 10.953125 3.296875 \r\nQ 6 8.015625 6 15.921875 \r\nQ 6 25.140625 12.171875 29.828125 \r\nQ 18.359375 34.515625 30.609375 34.515625 \r\nL 43.21875 34.515625 \r\nL 43.21875 35.40625 \r\nQ 43.21875 41.609375 39.140625 45 \r\nQ 35.0625 48.390625 27.6875 48.390625 \r\nQ 23 48.390625 18.546875 47.265625 \r\nQ 14.109375 46.140625 10.015625 43.890625 \r\nL 10.015625 52.203125 \r\nQ 14.9375 54.109375 19.578125 55.046875 \r\nQ 24.21875 56 28.609375 56 \r\nQ 40.484375 56 46.34375 49.84375 \r\nQ 52.203125 43.703125 52.203125 31.203125 \r\nz\r\n\" id=\"DejaVuSans-97\"/>\r\n      </defs>\r\n      <use xlink:href=\"#DejaVuSans-76\"/>\r\n      <use x=\"53.962891\" xlink:href=\"#DejaVuSans-111\"/>\r\n      <use x=\"115.144531\" xlink:href=\"#DejaVuSans-103\"/>\r\n      <use x=\"178.621094\" xlink:href=\"#DejaVuSans-32\"/>\r\n      <use x=\"210.408203\" xlink:href=\"#DejaVuSans-78\"/>\r\n      <use x=\"285.212891\" xlink:href=\"#DejaVuSans-101\"/>\r\n      <use x=\"346.736328\" xlink:href=\"#DejaVuSans-103\"/>\r\n      <use x=\"410.212891\" xlink:href=\"#DejaVuSans-97\"/>\r\n      <use x=\"471.492188\" xlink:href=\"#DejaVuSans-116\"/>\r\n      <use x=\"510.701172\" xlink:href=\"#DejaVuSans-105\"/>\r\n      <use x=\"538.484375\" xlink:href=\"#DejaVuSans-118\"/>\r\n      <use x=\"597.664062\" xlink:href=\"#DejaVuSans-101\"/>\r\n      <use x=\"659.1875\" xlink:href=\"#DejaVuSans-32\"/>\r\n      <use x=\"690.974609\" xlink:href=\"#DejaVuSans-99\"/>\r\n      <use x=\"745.955078\" xlink:href=\"#DejaVuSans-111\"/>\r\n      <use x=\"807.136719\" xlink:href=\"#DejaVuSans-117\"/>\r\n      <use x=\"870.515625\" xlink:href=\"#DejaVuSans-110\"/>\r\n      <use x=\"933.894531\" xlink:href=\"#DejaVuSans-116\"/>\r\n     </g>\r\n    </g>\r\n   </g>\r\n   <g id=\"line2d_11\">\r\n    <path clip-path=\"url(#p1668a474b7)\" d=\"M 54.531534 422.312727 \r\nL 460.349716 26.967273 \r\n\" style=\"fill:none;stroke:#ff0000;stroke-linecap:square;stroke-width:1.5;\"/>\r\n   </g>\r\n   <g id=\"patch_3\">\r\n    <path d=\"M 34.240625 442.08 \r\nL 34.240625 7.2 \r\n\" style=\"fill:none;stroke:#000000;stroke-linecap:square;stroke-linejoin:miter;stroke-width:0.8;\"/>\r\n   </g>\r\n   <g id=\"patch_4\">\r\n    <path d=\"M 480.640625 442.08 \r\nL 480.640625 7.2 \r\n\" style=\"fill:none;stroke:#000000;stroke-linecap:square;stroke-linejoin:miter;stroke-width:0.8;\"/>\r\n   </g>\r\n   <g id=\"patch_5\">\r\n    <path d=\"M 34.240625 442.08 \r\nL 480.640625 442.08 \r\n\" style=\"fill:none;stroke:#000000;stroke-linecap:square;stroke-linejoin:miter;stroke-width:0.8;\"/>\r\n   </g>\r\n   <g id=\"patch_6\">\r\n    <path d=\"M 34.240625 7.2 \r\nL 480.640625 7.2 \r\n\" style=\"fill:none;stroke:#000000;stroke-linecap:square;stroke-linejoin:miter;stroke-width:0.8;\"/>\r\n   </g>\r\n   <g id=\"text_13\">\r\n    <!-- happi -->\r\n    <g transform=\"translate(366.812918 246.28151)scale(0.1 -0.1)\">\r\n     <defs>\r\n      <path d=\"M 54.890625 33.015625 \r\nL 54.890625 0 \r\nL 45.90625 0 \r\nL 45.90625 32.71875 \r\nQ 45.90625 40.484375 42.875 44.328125 \r\nQ 39.84375 48.1875 33.796875 48.1875 \r\nQ 26.515625 48.1875 22.3125 43.546875 \r\nQ 18.109375 38.921875 18.109375 30.90625 \r\nL 18.109375 0 \r\nL 9.078125 0 \r\nL 9.078125 75.984375 \r\nL 18.109375 75.984375 \r\nL 18.109375 46.1875 \r\nQ 21.34375 51.125 25.703125 53.5625 \r\nQ 30.078125 56 35.796875 56 \r\nQ 45.21875 56 50.046875 50.171875 \r\nQ 54.890625 44.34375 54.890625 33.015625 \r\nz\r\n\" id=\"DejaVuSans-104\"/>\r\n      <path d=\"M 18.109375 8.203125 \r\nL 18.109375 -20.796875 \r\nL 9.078125 -20.796875 \r\nL 9.078125 54.6875 \r\nL 18.109375 54.6875 \r\nL 18.109375 46.390625 \r\nQ 20.953125 51.265625 25.265625 53.625 \r\nQ 29.59375 56 35.59375 56 \r\nQ 45.5625 56 51.78125 48.09375 \r\nQ 58.015625 40.1875 58.015625 27.296875 \r\nQ 58.015625 14.40625 51.78125 6.484375 \r\nQ 45.5625 -1.421875 35.59375 -1.421875 \r\nQ 29.59375 -1.421875 25.265625 0.953125 \r\nQ 20.953125 3.328125 18.109375 8.203125 \r\nz\r\nM 48.6875 27.296875 \r\nQ 48.6875 37.203125 44.609375 42.84375 \r\nQ 40.53125 48.484375 33.40625 48.484375 \r\nQ 26.265625 48.484375 22.1875 42.84375 \r\nQ 18.109375 37.203125 18.109375 27.296875 \r\nQ 18.109375 17.390625 22.1875 11.75 \r\nQ 26.265625 6.109375 33.40625 6.109375 \r\nQ 40.53125 6.109375 44.609375 11.75 \r\nQ 48.6875 17.390625 48.6875 27.296875 \r\nz\r\n\" id=\"DejaVuSans-112\"/>\r\n     </defs>\r\n     <use xlink:href=\"#DejaVuSans-104\"/>\r\n     <use x=\"63.378906\" xlink:href=\"#DejaVuSans-97\"/>\r\n     <use x=\"124.658203\" xlink:href=\"#DejaVuSans-112\"/>\r\n     <use x=\"188.134766\" xlink:href=\"#DejaVuSans-112\"/>\r\n     <use x=\"251.611328\" xlink:href=\"#DejaVuSans-105\"/>\r\n    </g>\r\n   </g>\r\n   <g id=\"text_14\">\r\n    <!-- sad -->\r\n    <g transform=\"translate(153.606388 148.62467)scale(0.1 -0.1)\">\r\n     <defs>\r\n      <path d=\"M 45.40625 46.390625 \r\nL 45.40625 75.984375 \r\nL 54.390625 75.984375 \r\nL 54.390625 0 \r\nL 45.40625 0 \r\nL 45.40625 8.203125 \r\nQ 42.578125 3.328125 38.25 0.953125 \r\nQ 33.9375 -1.421875 27.875 -1.421875 \r\nQ 17.96875 -1.421875 11.734375 6.484375 \r\nQ 5.515625 14.40625 5.515625 27.296875 \r\nQ 5.515625 40.1875 11.734375 48.09375 \r\nQ 17.96875 56 27.875 56 \r\nQ 33.9375 56 38.25 53.625 \r\nQ 42.578125 51.265625 45.40625 46.390625 \r\nz\r\nM 14.796875 27.296875 \r\nQ 14.796875 17.390625 18.875 11.75 \r\nQ 22.953125 6.109375 30.078125 6.109375 \r\nQ 37.203125 6.109375 41.296875 11.75 \r\nQ 45.40625 17.390625 45.40625 27.296875 \r\nQ 45.40625 37.203125 41.296875 42.84375 \r\nQ 37.203125 48.484375 30.078125 48.484375 \r\nQ 22.953125 48.484375 18.875 42.84375 \r\nQ 14.796875 37.203125 14.796875 27.296875 \r\nz\r\n\" id=\"DejaVuSans-100\"/>\r\n     </defs>\r\n     <use xlink:href=\"#DejaVuSans-115\"/>\r\n     <use x=\"52.099609\" xlink:href=\"#DejaVuSans-97\"/>\r\n     <use x=\"113.378906\" xlink:href=\"#DejaVuSans-100\"/>\r\n    </g>\r\n   </g>\r\n  </g>\r\n </g>\r\n <defs>\r\n  <clipPath id=\"p1668a474b7\">\r\n   <rect height=\"434.88\" width=\"446.4\" x=\"34.240625\" y=\"7.2\"/>\r\n  </clipPath>\r\n </defs>\r\n</svg>\r\n",
            "image/png": "[encoded data removed]"
          },
          "metadata": {
            "needs_background": "light"
          }
        }
      ]
    },
    {
      "cell_type": "markdown",
      "metadata": {
        "id": "_a_uGCpQ_nu0"
      },
      "source": [
        "<img src='https://drive.google.com/uc?export=view&id=1GYj-wj-so8jQ9-VDz1ayehgVh39Jmd4H' width=250px>\r\n",
        "\r\n",
        "## **3.3** Bag of Word"
      ]
    },
    {
      "cell_type": "markdown",
      "metadata": {
        "id": "wh-4DbOFJlAn"
      },
      "source": [
        "* Corpus of tweet tokens used for the second method"
      ]
    },
    {
      "cell_type": "code",
      "metadata": {
        "id": "SomLbPUibDa9"
      },
      "source": [
        "corpus = [[\"love\", \"nlp\"],\n",
        "          [\"miss\", \"you\"],\n",
        "          [\"hate\", \"hate\", \"hate\", \"love\"],\n",
        "          [\"happy\", \"love\", \"hate\"],\n",
        "          [\"i\", \"lost\", \"my\", \"computer\"],\n",
        "          [\"i\", \"am\", \"so\", \"sad\"]]"
      ],
      "execution_count": null,
      "outputs": []
    },
    {
      "cell_type": "markdown",
      "metadata": {
        "id": "FEe5w7SPso2e"
      },
      "source": [
        "* Import `CountVectorizer` from the Scikit-learn Library"
      ]
    },
    {
      "cell_type": "code",
      "metadata": {
        "id": "UjjZkgHCpw_m"
      },
      "source": [
        "from sklearn.feature_extraction.text import CountVectorizer"
      ],
      "execution_count": null,
      "outputs": []
    },
    {
      "cell_type": "markdown",
      "metadata": {
        "id": "8a5WqAGSJ0KN"
      },
      "source": [
        "* Create a `fit_cv` function used to build the Bag-of-Words vectorizer with the corpus"
      ]
    },
    {
      "cell_type": "code",
      "metadata": {
        "id": "hEzNadu6pwYh"
      },
      "source": [
        "def fit_cv(tweet_corpus):\r\n",
        "  cv_vect = CountVectorizer(tokenizer=lambda x: x,\r\n",
        "                            preprocessor=lambda x: x)\r\n",
        "  cv_vect.fit(tweet_corpus)\r\n",
        "  return cv_vect"
      ],
      "execution_count": null,
      "outputs": []
    },
    {
      "cell_type": "markdown",
      "metadata": {
        "id": "Z07FwlXUJ7ld"
      },
      "source": [
        "* Use the `fit_cv` function to fit the vectorizer on the corpus"
      ]
    },
    {
      "cell_type": "code",
      "metadata": {
        "id": "xed7_qlKwoX9"
      },
      "source": [
        "cv_vect = fit_cv(corpus)"
      ],
      "execution_count": null,
      "outputs": []
    },
    {
      "cell_type": "markdown",
      "metadata": {
        "id": "h0PJfMk2sthJ"
      },
      "source": [
        "* Get the vectorizer features (matrix columns)"
      ]
    },
    {
      "cell_type": "code",
      "metadata": {
        "id": "SJcalFLxjIEx"
      },
      "source": [
        "ft = cv_vect.get_feature_names()"
      ],
      "execution_count": null,
      "outputs": []
    },
    {
      "cell_type": "code",
      "metadata": {
        "id": "e-nxkR7VfWii"
      },
      "source": [
        "print(\"There are {} features in this corpus\".format(len(ft)))\n",
        "print(ft)"
      ],
      "execution_count": null,
      "outputs": []
    },
    {
      "cell_type": "markdown",
      "metadata": {
        "id": "6IueKWpsswRn"
      },
      "source": [
        "* Convert the corpus to a matrix by using the vectorize"
      ]
    },
    {
      "cell_type": "code",
      "metadata": {
        "id": "MZ-mcZScBdtb"
      },
      "source": [
        "cv_mtx = cv_vect.transform(corpus)"
      ],
      "execution_count": null,
      "outputs": []
    },
    {
      "cell_type": "markdown",
      "metadata": {
        "id": "iSf9F_jgKRnr"
      },
      "source": [
        "* Print the matrix shape"
      ]
    },
    {
      "cell_type": "code",
      "metadata": {
        "id": "eXm86BaJp0yB"
      },
      "source": [
        "print(\"Matrix shape is: {}\".format(cv_mtx.shape))"
      ],
      "execution_count": null,
      "outputs": []
    },
    {
      "cell_type": "markdown",
      "metadata": {
        "id": "uHWE38UMKVOG"
      },
      "source": [
        "* Convert the matrix to an array"
      ]
    },
    {
      "cell_type": "code",
      "metadata": {
        "id": "TBH3Hy60gQB4"
      },
      "source": [
        "cv_mtx.toarray()"
      ],
      "execution_count": null,
      "outputs": []
    },
    {
      "cell_type": "markdown",
      "metadata": {
        "id": "bvnrCpxvKaMR"
      },
      "source": [
        "* Transform a new tweet by using the vectorizer"
      ]
    },
    {
      "cell_type": "code",
      "metadata": {
        "id": "YLVG9xwdwzuN"
      },
      "source": [
        "new_tweet = [[\"lost\", \"lost\", \"miss\", \"miss\"]]\n",
        "cv_vect.transform(new_tweet).toarray()"
      ],
      "execution_count": null,
      "outputs": []
    },
    {
      "cell_type": "code",
      "metadata": {
        "id": "LMuCe5KsxyR_"
      },
      "source": [
        "unknown_tweet = [[\"John\", \"drives\", \"cars\"]]\n",
        "cv_vect.transform(unknown_tweet).toarray()"
      ],
      "execution_count": null,
      "outputs": []
    },
    {
      "cell_type": "markdown",
      "metadata": {
        "id": "0sa_FL6vn79E"
      },
      "source": [
        "<img src='https://drive.google.com/uc?export=view&id=1GYj-wj-so8jQ9-VDz1ayehgVh39Jmd4H' width=250px>\r\n",
        "\r\n",
        "## **3.4** Term Frequency – Inverse Document Frequency (TF-IDF)"
      ]
    },
    {
      "cell_type": "markdown",
      "metadata": {
        "id": "pOZSwJ1hKyAT"
      },
      "source": [
        "* Corpus of tweet tokens used for the third method"
      ]
    },
    {
      "cell_type": "code",
      "metadata": {
        "id": "M7ybyRRPZC-L"
      },
      "source": [
        "corpus = [[\"love\", \"nlp\"],\r\n",
        "          [\"miss\", \"you\"],\r\n",
        "          [\"hate\", \"hate\", \"hate\", \"love\"],\r\n",
        "          [\"happy\", \"love\", \"hate\"],\r\n",
        "          [\"i\", \"lost\", \"my\", \"computer\"],\r\n",
        "          [\"i\", \"am\", \"so\", \"sad\"]]"
      ],
      "execution_count": null,
      "outputs": []
    },
    {
      "cell_type": "markdown",
      "metadata": {
        "id": "NE5zVtjsK6Ta"
      },
      "source": [
        "* Import `TfidfVectorizer` from the Scikit-learn Library"
      ]
    },
    {
      "cell_type": "code",
      "metadata": {
        "id": "HlBvj6pARLH1"
      },
      "source": [
        "from sklearn.feature_extraction.text import TfidfVectorizer"
      ],
      "execution_count": null,
      "outputs": []
    },
    {
      "cell_type": "markdown",
      "metadata": {
        "id": "hQgGfCwEK-mI"
      },
      "source": [
        "* Create a `fit_tfidf` function used to build the TF-IDF vectorizer with the corpus"
      ]
    },
    {
      "cell_type": "code",
      "metadata": {
        "id": "9NUd39ZsRQPI"
      },
      "source": [
        "def fit_tfidf(tweet_corpus):\r\n",
        "  tf_vect = TfidfVectorizer(preprocessor=lambda x: x,\r\n",
        "                            tokenizer=lambda x: x)\r\n",
        "  tf_vect.fit(tweet_corpus)\r\n",
        "  return tf_vect"
      ],
      "execution_count": null,
      "outputs": []
    },
    {
      "cell_type": "markdown",
      "metadata": {
        "id": "Tac2oPSRLErQ"
      },
      "source": [
        "* Use the `fit_cv` function to fit the vectorizer on the corpus, and transform the corpus"
      ]
    },
    {
      "cell_type": "code",
      "metadata": {
        "id": "NjmZhliftA_Q"
      },
      "source": [
        "tf_vect = fit_tfidf(corpus)\r\n",
        "tf_mtx = tf_vect.transform(corpus)"
      ],
      "execution_count": null,
      "outputs": []
    },
    {
      "cell_type": "markdown",
      "metadata": {
        "id": "kt1eOml3LMas"
      },
      "source": [
        "* Get the vectorizer features (matrix columns)"
      ]
    },
    {
      "cell_type": "code",
      "metadata": {
        "id": "zRqHhf3njSEe"
      },
      "source": [
        "ft = tf_vect.get_feature_names()"
      ],
      "execution_count": null,
      "outputs": []
    },
    {
      "cell_type": "code",
      "metadata": {
        "id": "tywqkwWPlYpc"
      },
      "source": [
        "print(\"There are {} features in this corpus\".format(len(ft)))\n",
        "print(ft)"
      ],
      "execution_count": null,
      "outputs": []
    },
    {
      "cell_type": "markdown",
      "metadata": {
        "id": "8BGtKec9LPNg"
      },
      "source": [
        "* Print the matrix shape"
      ]
    },
    {
      "cell_type": "code",
      "metadata": {
        "id": "XtamuqDjlxmE"
      },
      "source": [
        "print(tf_mtx.shape)"
      ],
      "execution_count": null,
      "outputs": []
    },
    {
      "cell_type": "markdown",
      "metadata": {
        "id": "usbtYKPCLTBN"
      },
      "source": [
        "* Convert the matrix to an array"
      ]
    },
    {
      "cell_type": "code",
      "metadata": {
        "id": "fVVbtSxqlxVi"
      },
      "source": [
        "tf_mtx.toarray()"
      ],
      "execution_count": null,
      "outputs": []
    },
    {
      "cell_type": "markdown",
      "metadata": {
        "id": "NxWpupYkLVxl"
      },
      "source": [
        "* Transform a new tweet by using the vectorizer"
      ]
    },
    {
      "cell_type": "code",
      "metadata": {
        "id": "87JJ_go4uFO5"
      },
      "source": [
        "new_tweet = [[\"I\", \"hate\", \"nlp\"]]\n",
        "tf_vect.transform(new_tweet).toarray()"
      ],
      "execution_count": null,
      "outputs": []
    },
    {
      "cell_type": "markdown",
      "metadata": {
        "id": "KAgMDeTwSkog"
      },
      "source": [
        "That's it for this section! \r\n",
        "\r\n",
        "See you in `Section 4` where we finally build our sentiment model!\r\n",
        "\r\n",
        "\r\n",
        "<img src='https://drive.google.com/uc?export=view&id=1-PExlpxdip_2t7wN9Ru8Sn_jTTxj3MlA' width=100px>"
      ]
    },
    {
      "cell_type": "markdown",
      "metadata": {
        "id": "7H4tg1lhoBxR"
      },
      "source": [
        "\n",
        "<img src='https://drive.google.com/uc?export=view&id=1GYj-wj-so8jQ9-VDz1ayehgVh39Jmd4H' width=650px>\n",
        "\n",
        "# `Section 4` Sentiment Model"
      ]
    },
    {
      "cell_type": "markdown",
      "metadata": {
        "id": "MjAoXb4XsxgN"
      },
      "source": [
        "## Helper function\r\n",
        "\r\n",
        "This function will be used to plot the confusion matrix for the different models we will create"
      ]
    },
    {
      "cell_type": "code",
      "metadata": {
        "id": "TBiVy9LSnlVN"
      },
      "source": [
        "import seaborn as sn\n",
        "\n",
        "def plot_confusion(cm):\n",
        "  plt.figure(figsize = (5,5))\n",
        "  sn.heatmap(cm, annot=True, cmap=\"Blues\", fmt='.0f')\n",
        "  plt.xlabel(\"Prediction\")\n",
        "  plt.ylabel(\"True value\")\n",
        "  plt.title(\"Confusion Matrix\")\n",
        "  return sn"
      ],
      "execution_count": null,
      "outputs": []
    },
    {
      "cell_type": "markdown",
      "metadata": {
        "id": "ePstP2McY2Ql"
      },
      "source": [
        "<img src='https://drive.google.com/uc?export=view&id=1GYj-wj-so8jQ9-VDz1ayehgVh39Jmd4H' width=250px>\r\n",
        "\r\n",
        "## **4.1** Train/Test Split"
      ]
    },
    {
      "cell_type": "markdown",
      "metadata": {
        "id": "mfXwu-g4onVk"
      },
      "source": [
        "* Check what X and y looks like"
      ]
    },
    {
      "cell_type": "code",
      "metadata": {
        "id": "YMqL7yh1Dt8t"
      },
      "source": [
        "print(X)\r\n",
        "print(y)"
      ],
      "execution_count": null,
      "outputs": []
    },
    {
      "cell_type": "markdown",
      "metadata": {
        "id": "GnJENLcJooVj"
      },
      "source": [
        "* Import the `train_test_split` function from the Scikit-Learn package"
      ]
    },
    {
      "cell_type": "code",
      "metadata": {
        "id": "vkeEyh9TeTT3"
      },
      "source": [
        "from sklearn.model_selection import train_test_split"
      ],
      "execution_count": null,
      "outputs": []
    },
    {
      "cell_type": "markdown",
      "metadata": {
        "id": "tgDUiv-po5LZ"
      },
      "source": [
        "* Use the `train_test_split` function to split arrays of X and y into training and testing variables"
      ]
    },
    {
      "cell_type": "code",
      "metadata": {
        "id": "XdKNxWTXDvLM"
      },
      "source": [],
      "execution_count": null,
      "outputs": []
    },
    {
      "cell_type": "markdown",
      "metadata": {
        "id": "C4uKnKwkpG_J"
      },
      "source": [
        "* Print the size of these news variables"
      ]
    },
    {
      "cell_type": "code",
      "metadata": {
        "id": "_fUaBFavoBTG"
      },
      "source": [
        "print(\"Size of X_train: {}\".format(len(X_train)))\n",
        "print(\"Size of y_train: {}\".format(len(y_train)))\n",
        "print(\"\\n\")\n",
        "print(\"Size of X_test: {}\".format(len(X_test)))\n",
        "print(\"Size of y_test: {}\".format(len(y_test)))\n",
        "print(\"\\n\")\n",
        "print(\"Train proportion: {:.0%}\".format(len(X_train)/\n",
        "                                        (len(X_train)+len(X_test))))"
      ],
      "execution_count": null,
      "outputs": []
    },
    {
      "cell_type": "markdown",
      "metadata": {
        "id": "SVouoqmepP0N"
      },
      "source": [
        "* Print random tweets, just to verify everything goes as expected"
      ]
    },
    {
      "cell_type": "code",
      "metadata": {
        "id": "T5nWVNZzobfd"
      },
      "source": [
        "id = random.randint(0,len(X_train))\n",
        "print(\"Train tweet: {}\".format(X_train[id]))\n",
        "print(\"Sentiment: {}\".format(y_train[id]))"
      ],
      "execution_count": null,
      "outputs": []
    },
    {
      "cell_type": "markdown",
      "metadata": {
        "id": "0pV5EWbQpIOp"
      },
      "source": [
        "<img src='https://drive.google.com/uc?export=view&id=1GYj-wj-so8jQ9-VDz1ayehgVh39Jmd4H' width=250px>\r\n",
        "\r\n",
        "## **4.2** Logistic Regression"
      ]
    },
    {
      "cell_type": "markdown",
      "metadata": {
        "id": "2vvELqpBA62u"
      },
      "source": [
        "### <img src='https://drive.google.com/uc?export=view&id=1aAdtCrMe6SORoGAGtjOVM0UIxDFH9Thq' width=50px> **4.2.1** Model"
      ]
    },
    {
      "cell_type": "markdown",
      "metadata": {
        "id": "_8DrY2m6L0zq"
      },
      "source": [
        "* Import the `LogisticRegression` model from Scikit-Learn"
      ]
    },
    {
      "cell_type": "code",
      "metadata": {
        "id": "fVCZ2jEcb_Kx"
      },
      "source": [
        "from sklearn.linear_model import LogisticRegression"
      ],
      "execution_count": null,
      "outputs": []
    },
    {
      "cell_type": "markdown",
      "metadata": {
        "id": "R8oqTzbsL5N7"
      },
      "source": [
        "* Create a `fit_lr` function used to fit a Logistic Regression model on X and y *training* data"
      ]
    },
    {
      "cell_type": "code",
      "metadata": {
        "id": "IN8x-HdwcC1K"
      },
      "source": [],
      "execution_count": null,
      "outputs": []
    },
    {
      "cell_type": "markdown",
      "metadata": {
        "id": "KWD8LNbJDHG9"
      },
      "source": [
        "\r\n",
        "### <img src='https://drive.google.com/uc?export=view&id=1aAdtCrMe6SORoGAGtjOVM0UIxDFH9Thq' width=50px>  **4.2.2** Pos/Neg Frequency"
      ]
    },
    {
      "cell_type": "markdown",
      "metadata": {
        "id": "1bqSbvMxMDk8"
      },
      "source": [
        "* Use the `build_freqs` function on training data to create a frequency dictionnary\r\n",
        "* Use the frequency dictionnary together with the `tweet_to_freq` function to convert X_train and X_test data to 2-d vectors"
      ]
    },
    {
      "cell_type": "code",
      "metadata": {
        "id": "hKDhO2RKBafD"
      },
      "source": [],
      "execution_count": null,
      "outputs": []
    },
    {
      "cell_type": "markdown",
      "metadata": {
        "id": "2FgQYsodMl1c"
      },
      "source": [
        "* Fit the Logistic Regression model on training data by using the `fit_lr` function\r\n",
        "* Print the model coefficients (betas and intercept)"
      ]
    },
    {
      "cell_type": "code",
      "metadata": {
        "id": "mgXgI2QcjYyv"
      },
      "source": [],
      "execution_count": null,
      "outputs": []
    },
    {
      "cell_type": "markdown",
      "metadata": {
        "id": "3ZtyVpIDZBRr"
      },
      "source": [
        "### <img src='https://drive.google.com/uc?export=view&id=1aAdtCrMe6SORoGAGtjOVM0UIxDFH9Thq' width=50px> **4.2.3** Count Vector"
      ]
    },
    {
      "cell_type": "markdown",
      "metadata": {
        "id": "-itafPb7M2O-"
      },
      "source": [
        "* Use the `fit_cv` function on training data to build the Bag-of-Words vectorizer\r\n",
        "* Transform X_train and X_test data by using the vectorizer"
      ]
    },
    {
      "cell_type": "code",
      "metadata": {
        "id": "zXba4ZPaYsb5"
      },
      "source": [],
      "execution_count": null,
      "outputs": []
    },
    {
      "cell_type": "markdown",
      "metadata": {
        "id": "dGDgMoYMNGA4"
      },
      "source": [
        "* Fit the Logistic Regression model on training data by using the `fit_lr` function"
      ]
    },
    {
      "cell_type": "code",
      "metadata": {
        "id": "xarmCHAIZMty"
      },
      "source": [],
      "execution_count": null,
      "outputs": []
    },
    {
      "cell_type": "markdown",
      "metadata": {
        "id": "vo7WerftZV4t"
      },
      "source": [
        "### <img src='https://drive.google.com/uc?export=view&id=1aAdtCrMe6SORoGAGtjOVM0UIxDFH9Thq' width=50px> **4.2.4** TF-IDF"
      ]
    },
    {
      "cell_type": "markdown",
      "metadata": {
        "id": "zm27oDZHNMxd"
      },
      "source": [
        "* Use the `fit_cv` function on training data to build the Bag-of-Words vectorizer\r\n",
        "* Transform X_train and X_test data by using the vectorizer"
      ]
    },
    {
      "cell_type": "code",
      "metadata": {
        "id": "y2Ex6PkLZXwC"
      },
      "source": [],
      "execution_count": null,
      "outputs": []
    },
    {
      "cell_type": "markdown",
      "metadata": {
        "id": "NdkMm9TWNVTM"
      },
      "source": [
        "* Fit the Logistic Regression model on training data by using the `fit_lr` function"
      ]
    },
    {
      "cell_type": "code",
      "metadata": {
        "id": "JfXA_WE7ZgCO"
      },
      "source": [],
      "execution_count": null,
      "outputs": []
    },
    {
      "cell_type": "markdown",
      "metadata": {
        "id": "dTZWCw7CuAqy"
      },
      "source": [
        "<img src='https://drive.google.com/uc?export=view&id=1GYj-wj-so8jQ9-VDz1ayehgVh39Jmd4H' width=250px>\r\n",
        "\r\n",
        "## **4.3** Performance Metrics"
      ]
    },
    {
      "cell_type": "markdown",
      "metadata": {
        "id": "GlWsYS6GNYi8"
      },
      "source": [
        "* Import the `accuracy score` and `confusion matrix` from Scikit-Learn"
      ]
    },
    {
      "cell_type": "code",
      "metadata": {
        "id": "Pv_HXA9ttu4I"
      },
      "source": [
        "from sklearn.metrics import accuracy_score\r\n",
        "from sklearn.metrics import confusion_matrix"
      ],
      "execution_count": null,
      "outputs": []
    },
    {
      "cell_type": "markdown",
      "metadata": {
        "id": "L-OBeBb4vf-Y"
      },
      "source": [
        "### <img src='https://drive.google.com/uc?export=view&id=1aAdtCrMe6SORoGAGtjOVM0UIxDFH9Thq' width=50px> **4.3.1** Positive/Negative Frequencies"
      ]
    },
    {
      "cell_type": "markdown",
      "metadata": {
        "id": "pNAY6ENLNgla"
      },
      "source": [
        "* Use the fitted `model_lr_pn` (positive/negative frequencies) to predict X_test\r\n",
        "\r\n"
      ]
    },
    {
      "cell_type": "code",
      "metadata": {
        "id": "WGSRknqlj6fu"
      },
      "source": [],
      "execution_count": null,
      "outputs": []
    },
    {
      "cell_type": "markdown",
      "metadata": {
        "id": "D647C9ORj7Ty"
      },
      "source": [
        "* Print the model accuracy by comparing predictions and real sentiments"
      ]
    },
    {
      "cell_type": "code",
      "metadata": {
        "id": "h4Mw_VHwj6Qp"
      },
      "source": [
        "print(\"LR Model Accuracy: {:.2%}\".format())"
      ],
      "execution_count": null,
      "outputs": []
    },
    {
      "cell_type": "markdown",
      "metadata": {
        "id": "AEtKfgdij-cU"
      },
      "source": [
        "* Plot the confusion matrix by using the `plot_confusion` helper function"
      ]
    },
    {
      "cell_type": "code",
      "metadata": {
        "id": "ZMFVLs_vAO03"
      },
      "source": [],
      "execution_count": null,
      "outputs": []
    },
    {
      "cell_type": "markdown",
      "metadata": {
        "id": "HzTQksefvlxJ"
      },
      "source": [
        "### <img src='https://drive.google.com/uc?export=view&id=1aAdtCrMe6SORoGAGtjOVM0UIxDFH9Thq' width=50px> **4.3.2** Count Vector"
      ]
    },
    {
      "cell_type": "markdown",
      "metadata": {
        "id": "cP_bueksN2cS"
      },
      "source": [
        "* Use the fitted `model_lr_cv` (Bag-of-words) to predict X_test\r\n",
        "\r\n"
      ]
    },
    {
      "cell_type": "code",
      "metadata": {
        "id": "suYa_OYgZPq1"
      },
      "source": [],
      "execution_count": null,
      "outputs": []
    },
    {
      "cell_type": "markdown",
      "metadata": {
        "id": "Hpn1YUFokKXm"
      },
      "source": [
        "* Print the model accuracy by comparing predictions and real sentiments"
      ]
    },
    {
      "cell_type": "code",
      "metadata": {
        "id": "WAOncwPekK1_"
      },
      "source": [
        "print(\"LR Model Accuracy: {:.2%}\".format(accuracy_score(y_test, y_pred_lr_cv)))"
      ],
      "execution_count": null,
      "outputs": []
    },
    {
      "cell_type": "markdown",
      "metadata": {
        "id": "w3_6Fg_zkLVm"
      },
      "source": [
        "* Plot the confusion matrix by using the `plot_confusion` helper function"
      ]
    },
    {
      "cell_type": "code",
      "metadata": {
        "id": "HlaWIWnNkL1O"
      },
      "source": [
        "plot_confusion(confusion_matrix(y_test, y_pred_lr_cv))"
      ],
      "execution_count": null,
      "outputs": []
    },
    {
      "cell_type": "markdown",
      "metadata": {
        "id": "3TxYFxnduFCH"
      },
      "source": [
        "### <img src='https://drive.google.com/uc?export=view&id=1aAdtCrMe6SORoGAGtjOVM0UIxDFH9Thq' width=50px> **4.3.3** TF-IDF"
      ]
    },
    {
      "cell_type": "markdown",
      "metadata": {
        "id": "1iZdLPwcOAk8"
      },
      "source": [
        "* Use the fitted `model_lr_tf` (TF-IDF) to predict X_test\r\n",
        "\r\n"
      ]
    },
    {
      "cell_type": "code",
      "metadata": {
        "id": "o4MmLzcCZvto"
      },
      "source": [
        "y_pred_lr_tf = model_lr_tf.predict(X_test_tf)"
      ],
      "execution_count": null,
      "outputs": []
    },
    {
      "cell_type": "markdown",
      "metadata": {
        "id": "8Hn_RKShkVcm"
      },
      "source": [
        "* Print the model accuracy by comparing predictions and real sentiments"
      ]
    },
    {
      "cell_type": "code",
      "metadata": {
        "id": "GD6mO1eJkV3m"
      },
      "source": [
        "print(\"LR Model Accuracy: {:.2%}\".format(accuracy_score(y_test, y_pred_lr_tf)))"
      ],
      "execution_count": null,
      "outputs": []
    },
    {
      "cell_type": "markdown",
      "metadata": {
        "id": "CPojrJ56kWKL"
      },
      "source": [
        "* Plot the confusion matrix by using the `plot_confusion` helper function"
      ]
    },
    {
      "cell_type": "code",
      "metadata": {
        "id": "kt_FBSmbkW0b"
      },
      "source": [
        "plot_confusion(confusion_matrix(y_test, y_pred_lr_tf))"
      ],
      "execution_count": null,
      "outputs": []
    },
    {
      "cell_type": "markdown",
      "metadata": {
        "id": "WUjQh8vnPld9"
      },
      "source": [
        "## **4.4** Mini-Pipeline\n"
      ]
    },
    {
      "cell_type": "markdown",
      "metadata": {
        "id": "7FRX-suJOIqH"
      },
      "source": [
        "* Final tweet used to check if the model works as well as expected\r\n",
        "* **Note:** don't hesitate to input your own tweet!"
      ]
    },
    {
      "cell_type": "code",
      "metadata": {
        "id": "bpybhropPsSe"
      },
      "source": [
        "your_tweet = \"\"\"RT @AIOutsider: tune in for more amazing NLP content! \r\n",
        "And don't forget to visit https://AIOutsider.com ...\"\"\""
      ],
      "execution_count": null,
      "outputs": []
    },
    {
      "cell_type": "markdown",
      "metadata": {
        "id": "8nmPPbkPOSda"
      },
      "source": [
        "* Create a `predict_tweet` function used to pre-process, transform and predict tweet sentiment"
      ]
    },
    {
      "cell_type": "code",
      "metadata": {
        "id": "Z3LKbEteQOXy"
      },
      "source": [],
      "execution_count": null,
      "outputs": []
    },
    {
      "cell_type": "markdown",
      "metadata": {
        "id": "N9M-pJ6GOaHw"
      },
      "source": [
        "* ... Predict your tweet sentiment by using the `predict_tweet` function!"
      ]
    },
    {
      "cell_type": "code",
      "metadata": {
        "id": "YThD6uAmMFEZ"
      },
      "source": [
        "predict_tweet(your_tweet)"
      ],
      "execution_count": null,
      "outputs": []
    },
    {
      "cell_type": "markdown",
      "metadata": {
        "id": "T5TjajsKv7Ha"
      },
      "source": [
        "# Thank you!"
      ]
    },
    {
      "cell_type": "markdown",
      "metadata": {
        "id": "4X5JPSycSwZR"
      },
      "source": [
        "That's it for this course! I hope you enjoyed it as much as I did! Most importantly, I hope you learned some new things about Text Mining, NLP and Sentiment Analysis.\r\n",
        "\r\n",
        "See you next time!\r\n",
        "\r\n",
        "**AI_Outsider**\r\n",
        "\r\n",
        "Don't forget to visit https://AiOutsider.com for more!\r\n",
        "\r\n",
        "\r\n",
        "<img src='https://drive.google.com/uc?export=view&id=1-PExlpxdip_2t7wN9Ru8Sn_jTTxj3MlA' width=100px>"
      ]
    }
  ]
}